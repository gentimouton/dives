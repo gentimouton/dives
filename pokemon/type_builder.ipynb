{
 "cells": [
  {
   "cell_type": "markdown",
   "metadata": {},
   "source": [
    "## Pokemon types, aka \"super effective\"\n",
    "\n",
    "In Pokemon, `attacks` have 1 of 18 [types](https://pokemondb.net/type),\n",
    "like `fire` or `water`. The `monsters` themselves have single or \n",
    "[dual type](https://pokemondb.net/type/dual), eg `fire` or `fire/bug`.\n",
    "Note that `fire/bug` and `bug/fire` mean the same thing.\n",
    "\n",
    "Some types are stronger or weaker against others. \n",
    "For example, `water` attacks deal 2x damage on `fire` monsters \n",
    "and 1/2 against `water`.\n",
    "For dual-type monsters, attacks apply to each type then multiply.\n",
    "So `water` deals 4x damage to `fire/ground`\n",
    "and 1x (regular) damage to `fire/water`.\n",
    "\n",
    "**Goal**: programatically find the strongest and weakest of the \n",
    "18 + 18*17/2 = 171 single or dual types.\n",
    "\n",
    "Ideas\n",
    "1. Replicate the [cumulative scores](https://pokemondb.net/type/dual).\n",
    "2. type coverage: enumerate all 4-tuples of types that 2x all types\n",
    "3. input pokemon name, find its single/dual type, recommend moveset maximizing coverage, eg ice monster should carry ground attack to counter rock and steel STABers\n"
   ]
  },
  {
   "cell_type": "code",
   "execution_count": 1,
   "metadata": {},
   "outputs": [],
   "source": [
    "data = {\n",
    "#     'normal': {\n",
    "#         'rock': 1/2,\n",
    "#         'ghost': 0,\n",
    "#         'steel': 1/2\n",
    "#     },\n",
    "    'fire': {\n",
    "        'fire':1/2,\n",
    "        'water':1/2,\n",
    "        'grass':2,        \n",
    "    },\n",
    "    'water': {\n",
    "        'fire':2,\n",
    "        'water':1/2,\n",
    "        'grass':1/2,\n",
    "    },\n",
    "    'electric': {\n",
    "        'water':2,\n",
    "        'electric':1/2,\n",
    "        'grass':1/2,\n",
    "    },\n",
    "    'grass': {\n",
    "        'fire':1/2,\n",
    "        'water':2,\n",
    "        'grass':1/2,\n",
    "    }   \n",
    "}\n"
   ]
  },
  {
   "cell_type": "code",
   "execution_count": 2,
   "metadata": {},
   "outputs": [
    {
     "name": "stdout",
     "output_type": "stream",
     "text": [
      "test_build_effectiveness passed\n"
     ]
    }
   ],
   "source": [
    "from collections import defaultdict\n",
    "\n",
    "\n",
    "def test_build_effectiveness(f):\n",
    "    d_in = {\n",
    "        'fire':{'water':1/2}, \n",
    "        'water':{'fire':2},\n",
    "    }\n",
    "    d_out = {\n",
    "        'fire':{'fire':1,'water':2},\n",
    "        'water':{'fire':1/2,'water':1},\n",
    "        ('fire','water'):{'fire':1/2,'water':2}\n",
    "    }\n",
    "    assert dict(f(d_in)) == dict(d_out)\n",
    "    print('test_build_effectiveness passed')\n",
    "    \n",
    "    \n",
    "def build_effectiveness(data):\n",
    "    \"\"\" data = map of atk element -> def element -> effectiveness\n",
    "    \"\"\"\n",
    "    # map each type or dual type to a dict of type effectiveness\n",
    "    resist = defaultdict(dict) # map single/dual type -> atk type -> effectiveness\n",
    "    all_types = data.keys()\n",
    "    \n",
    "    for atk_t in all_types:\n",
    "        for t1 in all_types:\n",
    "            # single type\n",
    "            eff = data[atk_t][t1] if t1 in data[atk_t] else 1        \n",
    "            resist[t1][atk_t] = eff\n",
    "            # dual types\n",
    "            for t2 in all_types:\n",
    "                if t1 >= t2: # t1,t2 is the same as t2,t1. Keep the first alphabetically.\n",
    "                    continue\n",
    "                eff = (\n",
    "                    (data[atk_t][t1] if t1 in data[atk_t] else 1)\n",
    "                    * (data[atk_t][t2] if t2 in data[atk_t] else 1)\n",
    "                )\n",
    "                resist[(t1,t2)][atk_t] = eff\n",
    "    return resist\n",
    "\n",
    "test_build_effectiveness(build_effectiveness)\n",
    "\n",
    "effectives = build_effectiveness(data)\n"
   ]
  },
  {
   "cell_type": "code",
   "execution_count": 3,
   "metadata": {},
   "outputs": [
    {
     "data": {
      "text/plain": [
       "defaultdict(dict,\n",
       "            {'fire': {'fire': 0.5, 'water': 2, 'electric': 1, 'grass': 0.5},\n",
       "             ('fire', 'water'): {'fire': 0.25,\n",
       "              'water': 1.0,\n",
       "              'electric': 2,\n",
       "              'grass': 1.0},\n",
       "             ('fire', 'grass'): {'fire': 1.0,\n",
       "              'water': 1.0,\n",
       "              'electric': 0.5,\n",
       "              'grass': 0.25},\n",
       "             'water': {'fire': 0.5, 'water': 0.5, 'electric': 2, 'grass': 2},\n",
       "             'electric': {'fire': 1, 'water': 1, 'electric': 0.5, 'grass': 1},\n",
       "             ('electric', 'fire'): {'fire': 0.5,\n",
       "              'water': 2,\n",
       "              'electric': 0.5,\n",
       "              'grass': 0.5},\n",
       "             ('electric', 'water'): {'fire': 0.5,\n",
       "              'water': 0.5,\n",
       "              'electric': 1.0,\n",
       "              'grass': 2},\n",
       "             ('electric', 'grass'): {'fire': 2,\n",
       "              'water': 0.5,\n",
       "              'electric': 0.25,\n",
       "              'grass': 0.5},\n",
       "             'grass': {'fire': 2, 'water': 0.5, 'electric': 0.5, 'grass': 0.5},\n",
       "             ('grass', 'water'): {'fire': 1.0,\n",
       "              'water': 0.25,\n",
       "              'electric': 1.0,\n",
       "              'grass': 1.0}})"
      ]
     },
     "execution_count": 3,
     "metadata": {},
     "output_type": "execute_result"
    }
   ],
   "source": [
    "effectives"
   ]
  },
  {
   "cell_type": "code",
   "execution_count": null,
   "metadata": {},
   "outputs": [],
   "source": []
  }
 ],
 "metadata": {
  "kernelspec": {
   "display_name": "Python 3",
   "language": "python",
   "name": "python3"
  },
  "language_info": {
   "codemirror_mode": {
    "name": "ipython",
    "version": 3
   },
   "file_extension": ".py",
   "mimetype": "text/x-python",
   "name": "python",
   "nbconvert_exporter": "python",
   "pygments_lexer": "ipython3",
   "version": "3.7.4"
  }
 },
 "nbformat": 4,
 "nbformat_minor": 2
}
