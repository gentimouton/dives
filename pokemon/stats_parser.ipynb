{
 "cells": [
  {
   "cell_type": "code",
   "execution_count": 1,
   "metadata": {},
   "outputs": [
    {
     "data": {
      "text/plain": [
       "523"
      ]
     },
     "execution_count": 1,
     "metadata": {},
     "output_type": "execute_result"
    }
   ],
   "source": [
    "import os\n",
    "import json\n",
    "from pandas.io.json import json_normalize\n",
    "\n",
    "filename = 'sword_shield_stats,_learnsets,_evolution,_dexentry.txt'\n",
    "filepath = os.path.join('data', 'raw', filename)\n",
    "\n",
    "\n",
    "def parse_lines_into_pk_data(lines):\n",
    "    \"\"\" TODO\n",
    "    \"\"\"\n",
    "    return lines[0]\n",
    "\n",
    "\n",
    "all_pk_data = []\n",
    "with open(filepath) as raw_txt_file:\n",
    "    # reset data\n",
    "    dashes_seen = 0\n",
    "    pk_lines = []\n",
    "    \n",
    "    for line in raw_txt_file:\n",
    "        # structure is \"======\\nname\\n======\\n[data]\"\n",
    "        if line[:6] == '======':\n",
    "            dashes_seen += 1\n",
    "        if dashes_seen >= 3: # dump and reset\n",
    "            # dump\n",
    "            pk_data = parse_lines_into_pk_data(pk_lines)\n",
    "            all_pk_data.append(pk_data)\n",
    "            # reset\n",
    "            dashes_seen = 1\n",
    "            pk_lines = []\n",
    "        pk_lines.append(line.strip())\n",
    "        \n",
    "\n",
    "len(all_pk_data)"
   ]
  },
  {
   "cell_type": "code",
   "execution_count": 2,
   "metadata": {},
   "outputs": [
    {
     "data": {
      "text/plain": [
       "'======'"
      ]
     },
     "execution_count": 2,
     "metadata": {},
     "output_type": "execute_result"
    }
   ],
   "source": [
    "all_pk_data[2]"
   ]
  },
  {
   "cell_type": "code",
   "execution_count": 3,
   "metadata": {},
   "outputs": [
    {
     "data": {
      "text/plain": [
       "'======'"
      ]
     },
     "execution_count": 3,
     "metadata": {},
     "output_type": "execute_result"
    }
   ],
   "source": [
    "s = \"\"\"======\n",
    "001 - Bulbasaur (Stage: 1)\n",
    "======\n",
    "Galar Dex: Foreign\n",
    "Base Stats: 45.49.49.65.65.45 (BST: 318)\n",
    "EV Yield: 0.0.0.1.0.0\n",
    "Abilities: Overgrow (1) | Overgrow (2) | Chlorophyll (H)\n",
    "Type: Grass / Poison\n",
    "Items: None\n",
    "EXP Group: MediumSlow\n",
    "Egg Group: Monster / Grass\n",
    "Hatch Cycles: 20\n",
    "Height: 00.70 m, Weight: 006.9 kg, Color: Green\n",
    "Level Up Moves:\n",
    "- [01] Tackle\n",
    "- [01] Growl\n",
    "- [03] Vine Whip\n",
    "- [06] Growth\n",
    "Egg Moves:\n",
    "- Skull Bash\n",
    "- Petal Dance\n",
    "TMs:\n",
    "- [TM10] Magical Leaf\n",
    "- [TM11] Solar Beam\n",
    "TRs:\n",
    "- [TR00] Swords Dance\n",
    "- [TR01] Body Slam\n",
    "Evolves into Ivysaur-0 @ 16 (LevelUp) [0]\n",
    "\n",
    "There is a plant seed on its back right from the day this Pokémon is born. The seed slowly grows larger.\n",
    "While it is young, it uses the nutrients that are stored in the seed on its back in order to grow.\n",
    "\n",
    "\"\"\"\n",
    "lines = s.split('\\n')\n",
    "parse_lines_into_pk_data(lines)"
   ]
  },
  {
   "cell_type": "code",
   "execution_count": 6,
   "metadata": {},
   "outputs": [
    {
     "data": {
      "text/plain": [
       "{'galar_dex': 'Foreign',\n",
       " 'base_stats': '45.49.49.65.65.45 (BST: 318)',\n",
       " 'ev_yield': '0.0.0.1.0.0',\n",
       " 'type': 'Grass / Poison',\n",
       " 'items': 'None',\n",
       " 'exp_group': 'MediumSlow',\n",
       " 'egg_group': 'Monster / Grass',\n",
       " 'hatch_cycles': '20'}"
      ]
     },
     "execution_count": 6,
     "metadata": {},
     "output_type": "execute_result"
    }
   ],
   "source": [
    "pk_data = {}\n",
    "# map line prefix to dict key\n",
    "prefixes = {\n",
    "    # 001 - Bulbasaur (Stage: 1)\n",
    "    'Galar Dex: ': 'galar_dex',\n",
    "    'Base Stats: ': 'base_stats',\n",
    "    'EV Yield: ': 'ev_yield', # 0.0.0.1.0.0\n",
    "    #'Abilities: ': 'abilities', # Overgrow (1) | Overgrow (2) | Chlorophyll (H)\n",
    "    'Type: ': 'type', #Grass / Poison\n",
    "    # 'Items: ': 'items', # 'None', or 3 lines of 'Item 1 (50%): None'\n",
    "    'EXP Group: ': 'exp_group', # MediumSlow\n",
    "    'Egg Group: ': 'egg_group', # Monster / Grass # TODO: split\n",
    "    'Hatch Cycles: ': 'hatch_cycles', # 20\n",
    "    # Height\n",
    "    # Level Up Moves:\n",
    "    # Egg Moves:\n",
    "    # TMs:\n",
    "    # TRs\n",
    "    # Evolves into (optional)\n",
    "}\n",
    "for line in lines:\n",
    "    for prefix, key in prefixes.items():\n",
    "        nchars = len(prefix)\n",
    "        if len(line) >= nchars and line[:nchars] == prefix:\n",
    "            pk_data[key] = line[nchars:]\n",
    "            break\n",
    "pk_data"
   ]
  }
 ],
 "metadata": {
  "kernelspec": {
   "display_name": "Python 3",
   "language": "python",
   "name": "python3"
  },
  "language_info": {
   "codemirror_mode": {
    "name": "ipython",
    "version": 3
   },
   "file_extension": ".py",
   "mimetype": "text/x-python",
   "name": "python",
   "nbconvert_exporter": "python",
   "pygments_lexer": "ipython3",
   "version": "3.7.4"
  }
 },
 "nbformat": 4,
 "nbformat_minor": 2
}
