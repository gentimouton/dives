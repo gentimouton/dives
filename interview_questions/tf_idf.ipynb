{
 "cells": [
  {
   "cell_type": "code",
   "execution_count": 1,
   "metadata": {},
   "outputs": [],
   "source": [
    "\"\"\" 25 minutes\n",
    "implement a TF-IDF\n",
    "2. # In this test, you need to compute the TF-IDF score for each word in two documents.  \n",
    "Recall from NLP that Term Frequency (tf) gives us the frequency of the word in each document in the corpus.\n",
    "\n",
    "Inverse Data Frequency (idf) is used to calculate the weight of rare words across all documents in the corpus.\n",
    "TF-IDF is the combination of these two, with words that occur rarely in the corpus having a high IDF score.  \n",
    "tfIdf = tf * idf;    TFij = number of frequence of word i in document j;  \n",
    "DFi = frequency of documents containing word i;    N = number of documents.    IDF = log(N/DFi)\n",
    "\n",
    "TF(t) = (Number of times term t appears in a document) / (Total number of terms in the document).\n",
    "IDF(t) = log_e(Total number of documents / Number of documents with term t in it).\n",
    "\n",
    "example input/output:\n",
    "\n",
    "doc1 = ['Do', 'you', 'have', 'a' , 'cat' ,'or', 'dog', 'dog']\n",
    "doc2 = ['Do', 'you', 'have', 'a' , 'car', 'or', 'bike']\n",
    "\n",
    "def tfidf(doc1, doc2):\n",
    "\n",
    "\n",
    "    return [{}, {}]\n",
    "\n",
    "\"\"\"\n",
    "\n",
    "# test cases\n",
    "# tf_idf(dog,doc1) = tf(dog,doc1) * idf(dog,corpus) = 2/8 * log(2/1)\n",
    "# tf_idf(you,doc1) = 1/8 * log(2/2)\n",
    "\n",
    "from collections import defaultdict\n",
    "import math\n",
    "\n",
    "\n",
    "def count_words(doc):\n",
    "    word_counts = defaultdict(int)\n",
    "    for word in doc:\n",
    "        word_counts[word] += 1\n",
    "    return word_counts\n",
    "    \n",
    "def test_count_words(f):\n",
    "    assert f(['a','b']) == {'a':1, 'b':1}\n",
    "    assert f(['a','a']) == {'a':2}\n",
    "\n",
    "test_count_words(count_words)\n",
    "\n",
    "\n"
   ]
  },
  {
   "cell_type": "code",
   "execution_count": 2,
   "metadata": {},
   "outputs": [
    {
     "name": "stdout",
     "output_type": "stream",
     "text": [
      "[{'Do': 0.0, 'you': 0.0, 'have': 0.0, 'a': 0.0, 'cat': 0.08664339756999316, 'or': 0.0, 'dog': 0.17328679513998632}, {'Do': 0.0, 'you': 0.0, 'have': 0.0, 'a': 0.0, 'car': 0.09902102579427789, 'or': 0.0, 'bike': 0.09902102579427789}]\n"
     ]
    }
   ],
   "source": [
    "\n",
    "def tfidf(doc1, doc2):\n",
    "    \"\"\" \"\"\"\n",
    "    # compute count of words in each doc\n",
    "    words1 = count_words(doc1) \n",
    "    words2 = count_words(doc2) \n",
    "    \n",
    "    # compute tf for each doc\n",
    "    n_words1 = sum(words1.values())\n",
    "    tf1 = {w: c * 1.0 / n_words1 for w, c in words1.items()}\n",
    "    n_words2 = sum(words2.values())\n",
    "    tf2 = {w: c *1.0 / n_words2 for w, c in words2.items()}\n",
    "    \n",
    "    # compute idf: log(N/DFi)\n",
    "    df = defaultdict(int)\n",
    "    for w, c in words1.items():\n",
    "        df[w] += 1\n",
    "    for w, c in words2.items():\n",
    "        df[w] += 1\n",
    "    \n",
    "    n_docs = 2\n",
    "    idf = {w: math.log(n_docs * 1.0 / word_df) for w, word_df in df.items() }\n",
    "    \n",
    "    # combine each tf and idf\n",
    "    tfidf1 = {}\n",
    "    for w, tf in tf1.items():\n",
    "        tfidf1[w] = tf * idf[w]\n",
    "    tfidf2 = {}\n",
    "    for w, tf in tf2.items():\n",
    "        tfidf2[w] = tf * idf[w]\n",
    "    \n",
    "    return [tfidf1, tfidf2]\n",
    "        \n",
    "    \n",
    "    \n",
    "doc1 = ['Do', 'you', 'have', 'a' , 'cat' ,'or', 'dog', 'dog']\n",
    "doc2 = ['Do', 'you', 'have', 'a' , 'car', 'or', 'bike']\n",
    "\n",
    "print(tfidf(doc1, doc2))"
   ]
  },
  {
   "cell_type": "code",
   "execution_count": null,
   "metadata": {},
   "outputs": [],
   "source": []
  }
 ],
 "metadata": {
  "kernelspec": {
   "display_name": "Python 3",
   "language": "python",
   "name": "python3"
  },
  "language_info": {
   "codemirror_mode": {
    "name": "ipython",
    "version": 3
   },
   "file_extension": ".py",
   "mimetype": "text/x-python",
   "name": "python",
   "nbconvert_exporter": "python",
   "pygments_lexer": "ipython3",
   "version": "3.7.4"
  }
 },
 "nbformat": 4,
 "nbformat_minor": 2
}
