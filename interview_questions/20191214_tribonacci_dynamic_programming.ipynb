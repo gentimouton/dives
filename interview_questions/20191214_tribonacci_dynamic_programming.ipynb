{
 "cells": [
  {
   "cell_type": "code",
   "execution_count": 1,
   "metadata": {},
   "outputs": [],
   "source": [
    "''' 25 minutes\n",
    "Tribonacci:\n",
    "1. # Recall the Fibonacci sequence, where each number in the sequence is \n",
    "the sum of the two numbers that precede it. So, the sequence goes: 0, 1, 1, 2, 3, 5, 8, 13, 21, 34. \n",
    "Write a function to return the value of the \"Tribonacci Sequence\" which is a modification of the\n",
    "Fibonacci sequence but using a window of the THREE prior numbers given the index as an input. \n",
    "Tribonacci goes 0, 1, 1, 2, 4, 7, 13, 24, ...\n",
    "\n",
    "example input/output:\n",
    "\n",
    "def tri(n):\n",
    "\n",
    "\n",
    "    return number\n",
    "'''\n",
    "\n",
    "def tri_rec(a, b, c, n):\n",
    "    if n == 0:\n",
    "        return c\n",
    "    else:\n",
    "        return tri_rec(b, c, a+b+c, n-1)\n",
    "\n",
    "    \n",
    "def tri(n):\n",
    "    \"\"\"\n",
    "    \n",
    "    \"\"\"\n",
    "    if n == 1:\n",
    "        return 0\n",
    "    elif n == 2:\n",
    "        return 1\n",
    "    elif n == 3:\n",
    "        return 1\n",
    "    else:\n",
    "        return tri_rec(0, 1, 1, n-3)\n",
    "    \n",
    "    \n",
    "def test_tri(f):\n",
    "    assert f(1) == 0\n",
    "    assert f(2) == 1\n",
    "    assert f(3) == 1\n",
    "    assert f(4) == 2\n",
    "    assert f(5) == 4\n",
    "    assert f(6) == 7\n",
    "    \n",
    "test_tri(tri)\n"
   ]
  },
  {
   "cell_type": "code",
   "execution_count": 2,
   "metadata": {},
   "outputs": [
    {
     "name": "stdout",
     "output_type": "stream",
     "text": [
      "[1, 0, 1, 1, 2, 4, 7]\n"
     ]
    }
   ],
   "source": [
    "# dynamic programming version\n",
    "\n",
    "def tri_dp(n):\n",
    "    \"\"\" \n",
    "    n must be >0\n",
    "    \"\"\"\n",
    "    arr = [0, 1, 1]\n",
    "    for i in range(n-3):\n",
    "        s = arr[i] + arr[i+1] + arr[i+2]\n",
    "        arr.append(s)\n",
    "    return arr[n-1]\n",
    "    \n",
    "print([tri_dp(i) for i in range(7)])\n",
    "test_tri(tri_dp)\n"
   ]
  },
  {
   "cell_type": "code",
   "execution_count": null,
   "metadata": {},
   "outputs": [],
   "source": []
  },
  {
   "cell_type": "code",
   "execution_count": null,
   "metadata": {},
   "outputs": [],
   "source": []
  }
 ],
 "metadata": {
  "kernelspec": {
   "display_name": "Python 3",
   "language": "python",
   "name": "python3"
  },
  "language_info": {
   "codemirror_mode": {
    "name": "ipython",
    "version": 3
   },
   "file_extension": ".py",
   "mimetype": "text/x-python",
   "name": "python",
   "nbconvert_exporter": "python",
   "pygments_lexer": "ipython3",
   "version": "3.7.4"
  }
 },
 "nbformat": 4,
 "nbformat_minor": 2
}
