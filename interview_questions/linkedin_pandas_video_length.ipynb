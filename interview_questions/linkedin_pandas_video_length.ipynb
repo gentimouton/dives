{
 "cells": [
  {
   "cell_type": "code",
   "execution_count": 1,
   "metadata": {},
   "outputs": [
    {
     "data": {
      "text/html": [
       "<div>\n",
       "<style scoped>\n",
       "    .dataframe tbody tr th:only-of-type {\n",
       "        vertical-align: middle;\n",
       "    }\n",
       "\n",
       "    .dataframe tbody tr th {\n",
       "        vertical-align: top;\n",
       "    }\n",
       "\n",
       "    .dataframe thead th {\n",
       "        text-align: right;\n",
       "    }\n",
       "</style>\n",
       "<table border=\"1\" class=\"dataframe\">\n",
       "  <thead>\n",
       "    <tr style=\"text-align: right;\">\n",
       "      <th></th>\n",
       "      <th>uid</th>\n",
       "      <th>dt</th>\n",
       "      <th>vlen</th>\n",
       "    </tr>\n",
       "  </thead>\n",
       "  <tbody>\n",
       "    <tr>\n",
       "      <td>0</td>\n",
       "      <td>1</td>\n",
       "      <td>2010-01-01</td>\n",
       "      <td>100</td>\n",
       "    </tr>\n",
       "    <tr>\n",
       "      <td>1</td>\n",
       "      <td>1</td>\n",
       "      <td>2010-01-02</td>\n",
       "      <td>60</td>\n",
       "    </tr>\n",
       "    <tr>\n",
       "      <td>2</td>\n",
       "      <td>1</td>\n",
       "      <td>2010-01-03</td>\n",
       "      <td>150</td>\n",
       "    </tr>\n",
       "    <tr>\n",
       "      <td>3</td>\n",
       "      <td>2</td>\n",
       "      <td>2010-01-02</td>\n",
       "      <td>120</td>\n",
       "    </tr>\n",
       "    <tr>\n",
       "      <td>4</td>\n",
       "      <td>3</td>\n",
       "      <td>2010-01-01</td>\n",
       "      <td>70</td>\n",
       "    </tr>\n",
       "  </tbody>\n",
       "</table>\n",
       "</div>"
      ],
      "text/plain": [
       "   uid          dt  vlen\n",
       "0    1  2010-01-01   100\n",
       "1    1  2010-01-02    60\n",
       "2    1  2010-01-03   150\n",
       "3    2  2010-01-02   120\n",
       "4    3  2010-01-01    70"
      ]
     },
     "execution_count": 1,
     "metadata": {},
     "output_type": "execute_result"
    }
   ],
   "source": [
    "# each day, users watch 1 video of given length\n",
    "# test hypothesis: \"users watch shorter videos on day 1\" \n",
    "\n",
    "import pandas as pd\n",
    "import numpy as np\n",
    "from io import StringIO\n",
    "import matplotlib.pyplot as plt \n",
    "import seaborn as sns\n",
    "sns.set() # now plt refers to sns.plt, not pyplot\n",
    "\n",
    "s = \"\"\"\n",
    "uid,dt,vlen\n",
    "1,2010-01-01,100\n",
    "1,2010-01-02,60\n",
    "1,2010-01-03,150\n",
    "2,2010-01-02,120\n",
    "3,2010-01-01,70\n",
    "3,2010-01-04,90\n",
    "4,2010-01-01,80\n",
    "4,2010-01-03,70\n",
    "4,2010-01-06,110\n",
    "\"\"\"\n",
    "\n",
    "df = pd.read_csv(StringIO(s))\n",
    "df.head()"
   ]
  },
  {
   "cell_type": "code",
   "execution_count": 2,
   "metadata": {},
   "outputs": [
    {
     "data": {
      "text/html": [
       "<div>\n",
       "<style scoped>\n",
       "    .dataframe tbody tr th:only-of-type {\n",
       "        vertical-align: middle;\n",
       "    }\n",
       "\n",
       "    .dataframe tbody tr th {\n",
       "        vertical-align: top;\n",
       "    }\n",
       "\n",
       "    .dataframe thead th {\n",
       "        text-align: right;\n",
       "    }\n",
       "</style>\n",
       "<table border=\"1\" class=\"dataframe\">\n",
       "  <thead>\n",
       "    <tr style=\"text-align: right;\">\n",
       "      <th></th>\n",
       "      <th>nvids</th>\n",
       "      <th>len1</th>\n",
       "      <th>len2</th>\n",
       "    </tr>\n",
       "    <tr>\n",
       "      <th>uid</th>\n",
       "      <th></th>\n",
       "      <th></th>\n",
       "      <th></th>\n",
       "    </tr>\n",
       "  </thead>\n",
       "  <tbody>\n",
       "    <tr>\n",
       "      <td>1</td>\n",
       "      <td>3</td>\n",
       "      <td>100</td>\n",
       "      <td>105.0</td>\n",
       "    </tr>\n",
       "    <tr>\n",
       "      <td>3</td>\n",
       "      <td>2</td>\n",
       "      <td>70</td>\n",
       "      <td>90.0</td>\n",
       "    </tr>\n",
       "    <tr>\n",
       "      <td>4</td>\n",
       "      <td>3</td>\n",
       "      <td>80</td>\n",
       "      <td>90.0</td>\n",
       "    </tr>\n",
       "  </tbody>\n",
       "</table>\n",
       "</div>"
      ],
      "text/plain": [
       "     nvids  len1   len2\n",
       "uid                    \n",
       "1        3   100  105.0\n",
       "3        2    70   90.0\n",
       "4        3    80   90.0"
      ]
     },
     "execution_count": 2,
     "metadata": {},
     "output_type": "execute_result"
    }
   ],
   "source": [
    "# find 1st vid length\n",
    "def slice_avg(s, start, end):\n",
    "    \"\"\" compute avg of a slice of s \"\"\"\n",
    "    if end <= start or end > len(s): # slice is bigger than series\n",
    "        return np.nan\n",
    "    else:\n",
    "        return s.iloc[start:end].mean()\n",
    "    \n",
    "def test_slice_avg(f):\n",
    "    assert f(pd.Series([1,2,3]),1,3) == 2.5\n",
    "    assert f(pd.Series([1,2,3]),1,2) == 2\n",
    "    assert f(pd.Series([1,2,3]),1,1) is np.nan\n",
    "    assert f(pd.Series([1,2,3]),2,1) is np.nan\n",
    "    \n",
    "test_slice_avg(slice_avg)\n",
    "\n",
    "user_df = (\n",
    "    df\n",
    "    .sort_values(by='dt')\n",
    "    .groupby('uid')\n",
    "    .agg(\n",
    "        {\n",
    "            'vlen': [\n",
    "                'count',\n",
    "                lambda x: slice_avg(x,0,1), \n",
    "                lambda x: slice_avg(x,1,len(x))\n",
    "            ]\n",
    "        }\n",
    "    )\n",
    ")\n",
    "user_df.columns = ['nvids','len1','len2']\n",
    "user_df = user_df.query('nvids >= 2') # compare apples to apples: keep only users with 2+ videos\n",
    "user_df"
   ]
  },
  {
   "cell_type": "code",
   "execution_count": 3,
   "metadata": {},
   "outputs": [
    {
     "data": {
      "image/png": "[encoded data removed]",
      "text/plain": [
       "<Figure size 432x288 with 1 Axes>"
      ]
     },
     "metadata": {
      "needs_background": "light"
     },
     "output_type": "display_data"
    }
   ],
   "source": [
    "low = user_df[['len1','len2']].values.min()\n",
    "hi = user_df[['len1','len2']].values.max()\n",
    "bins = np.linspace(low,hi,10)\n",
    "\n",
    "sns.distplot(user_df['len1'], bins=bins, label=\"first video\")\n",
    "sns.distplot(user_df['len2'], bins=bins, label=\"later videos\")\n",
    "plt.legend();\n"
   ]
  },
  {
   "cell_type": "code",
   "execution_count": null,
   "metadata": {},
   "outputs": [],
   "source": []
  }
 ],
 "metadata": {
  "kernelspec": {
   "display_name": "Python 3",
   "language": "python",
   "name": "python3"
  },
  "language_info": {
   "codemirror_mode": {
    "name": "ipython",
    "version": 3
   },
   "file_extension": ".py",
   "mimetype": "text/x-python",
   "name": "python",
   "nbconvert_exporter": "python",
   "pygments_lexer": "ipython3",
   "version": "3.7.4"
  }
 },
 "nbformat": 4,
 "nbformat_minor": 2
}
