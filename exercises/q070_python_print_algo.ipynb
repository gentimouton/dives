{
 "cells": [
  {
   "cell_type": "markdown",
   "metadata": {},
   "source": [
    "\n",
    "# Question 70 - Stepping through nested while loops in Python\n",
    "\n",
    "Given the following Python function, write out what the output would be at each stage:\n",
    "\n",
    "```\n",
    "n = 1\n",
    "while n < 3:\n",
    "    m = n + 1\n",
    "    while m < 4:\n",
    "        m += 1\n",
    "        print('output:')\n",
    "        print(m)\n",
    "    n+= 1\n",
    "```\n"
   ]
  },
  {
   "cell_type": "markdown",
   "metadata": {},
   "source": [
    "The output will be:\n",
    "\n",
    "```\n",
    "output:\n",
    "3\n",
    "output\n",
    "4\n",
    "output\n",
    "4\n",
    "```"
   ]
  },
  {
   "cell_type": "code",
   "execution_count": 1,
   "metadata": {},
   "outputs": [
    {
     "name": "stdout",
     "output_type": "stream",
     "text": [
      "output:\n",
      "3\n",
      "output:\n",
      "4\n",
      "output:\n",
      "4\n"
     ]
    }
   ],
   "source": [
    "n = 1\n",
    "while n < 3:\n",
    "    m = n + 1\n",
    "    while m < 4:\n",
    "        m += 1\n",
    "        print('output:')\n",
    "        print(m)\n",
    "    n+= 1\n",
    "    "
   ]
  },
  {
   "cell_type": "code",
   "execution_count": null,
   "metadata": {},
   "outputs": [],
   "source": []
  }
 ],
 "metadata": {
  "kernelspec": {
   "display_name": "Python 3",
   "language": "python",
   "name": "python3"
  },
  "language_info": {
   "codemirror_mode": {
    "name": "ipython",
    "version": 3
   },
   "file_extension": ".py",
   "mimetype": "text/x-python",
   "name": "python",
   "nbconvert_exporter": "python",
   "pygments_lexer": "ipython3",
   "version": "3.6.5"
  }
 },
 "nbformat": 4,
 "nbformat_minor": 2
}
