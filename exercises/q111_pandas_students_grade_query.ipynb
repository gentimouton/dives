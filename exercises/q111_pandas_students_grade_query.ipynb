{
 "cells": [
  {
   "cell_type": "markdown",
   "metadata": {},
   "source": [
    "# Question 111 - Filtering student information with Pandas, revisited\n",
    "Data Analysis Python Pandas Data Manipulation Filter Multiple Conditions\n",
    "\n",
    "Suppose you have a dataframe, df, with the following records:\n",
    "```\n",
    "Age \tFavorite Color \tGrade \tName\n",
    "20 \tblue \t88 \tWillard Morris\n",
    "19 \tblue \t95 \tAl Jennings\n",
    "22 \tyellow \t92 \tOmar Mullins\n",
    "21 \tgreen \t70 \tSpencer McDaniel\n",
    "```\n",
    "The dataframe is showing information about students. Write code using Python Pandas to select the rows where the students' favorite color is green or yellow and their grade is between 85-95 (inclusive)."
   ]
  },
  {
   "cell_type": "code",
   "execution_count": 1,
   "metadata": {},
   "outputs": [
    {
     "data": {
      "text/html": [
       "<div>\n",
       "<style scoped>\n",
       "    .dataframe tbody tr th:only-of-type {\n",
       "        vertical-align: middle;\n",
       "    }\n",
       "\n",
       "    .dataframe tbody tr th {\n",
       "        vertical-align: top;\n",
       "    }\n",
       "\n",
       "    .dataframe thead th {\n",
       "        text-align: right;\n",
       "    }\n",
       "</style>\n",
       "<table border=\"1\" class=\"dataframe\">\n",
       "  <thead>\n",
       "    <tr style=\"text-align: right;\">\n",
       "      <th></th>\n",
       "      <th>age</th>\n",
       "      <th>color</th>\n",
       "      <th>grade</th>\n",
       "      <th>name</th>\n",
       "    </tr>\n",
       "  </thead>\n",
       "  <tbody>\n",
       "    <tr>\n",
       "      <td>2</td>\n",
       "      <td>22</td>\n",
       "      <td>green</td>\n",
       "      <td>92</td>\n",
       "      <td>omar</td>\n",
       "    </tr>\n",
       "  </tbody>\n",
       "</table>\n",
       "</div>"
      ],
      "text/plain": [
       "   age  color  grade  name\n",
       "2   22  green     92  omar"
      ]
     },
     "execution_count": 1,
     "metadata": {},
     "output_type": "execute_result"
    }
   ],
   "source": [
    "import pandas as pd\n",
    "df = pd.DataFrame({'age':[20,19,22,21],\n",
    "                  'color':['blue','blue','green','yellow'],\n",
    "                  'grade':[88,95,92,70],\n",
    "                  'name':['will','al','omar','spencer']})\n",
    "df.query(\"(grade>=85) & (grade<=95) & (color in ('green','yellow'))\")"
   ]
  }
 ],
 "metadata": {
  "kernelspec": {
   "display_name": "Python 3",
   "language": "python",
   "name": "python3"
  },
  "language_info": {
   "codemirror_mode": {
    "name": "ipython",
    "version": 3
   },
   "file_extension": ".py",
   "mimetype": "text/x-python",
   "name": "python",
   "nbconvert_exporter": "python",
   "pygments_lexer": "ipython3",
   "version": "3.7.4"
  }
 },
 "nbformat": 4,
 "nbformat_minor": 2
}
