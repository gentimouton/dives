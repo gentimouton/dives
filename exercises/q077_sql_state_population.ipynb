{
 "cells": [
  {
   "cell_type": "markdown",
   "metadata": {},
   "source": [
    "\n",
    "# Question 77 - State populations\n",
    "\n",
    "Suppose you come across a table containing 3 fields:\n",
    "\n",
    "    country name (country_name)\n",
    "    state name (state_name)\n",
    "    total population (total_population) #total population for a given state\n",
    "\n",
    "Using this information, write a function in SQL that returns the following:\n",
    "\n",
    "    state_name | total_population | percent_of_country_population\n",
    "\n",
    "Note the last field, percent_of_country_population, can be calculated by dividing\n",
    "each individual state's population by the total population of its associated country in the table.\n"
   ]
  },
  {
   "cell_type": "markdown",
   "metadata": {},
   "source": [
    "```sql\n",
    "select\n",
    "  state_name,\n",
    "  total_population,\n",
    "  ratio_to_report(total_population) over(partition by country) as percent_of_country_population\n",
    "from table\n",
    "```"
   ]
  },
  {
   "cell_type": "code",
   "execution_count": null,
   "metadata": {},
   "outputs": [],
   "source": []
  }
 ],
 "metadata": {
  "kernelspec": {
   "display_name": "Python 3",
   "language": "python",
   "name": "python3"
  },
  "language_info": {
   "codemirror_mode": {
    "name": "ipython",
    "version": 3
   },
   "file_extension": ".py",
   "mimetype": "text/x-python",
   "name": "python",
   "nbconvert_exporter": "python",
   "pygments_lexer": "ipython3",
   "version": "3.6.5"
  }
 },
 "nbformat": 4,
 "nbformat_minor": 2
}
