{
 "cells": [
  {
   "cell_type": "markdown",
   "metadata": {},
   "source": [
    "# Question 62 - Subarray sums\n",
    "\n",
    "Suppose you're given an array of integers, and a number x. Write a function to find the smallest subarray with a sum greater than the given value. Given the array, the array's length n, and the number x your function should return:\n",
    "\n",
    "- The length of the smallest subarray that has a sum greater than x\n",
    "- The actual subarray that has a sum greater than x\n",
    "\n",
    "For example, given the following:\n",
    "```\n",
    "array = [5,6,2,3,8]\n",
    "x = 12\n",
    "```\n",
    "Your output should be:\n",
    "```\n",
    "array length: 2\n",
    "array: [8,6] //note that [8, 5] would also be an acceptable answer, as it contains a length of 2 as well\n",
    "```\n",
    "\n",
    "If the output is not possible, then you can return the length of the array + 1 (indicating that an additional element would be needed to satisfy the requirements). Solution will be written in python. "
   ]
  },
  {
   "cell_type": "code",
   "execution_count": 2,
   "metadata": {},
   "outputs": [],
   "source": [
    "def test_subarray_sum(f):\n",
    "    assert f([5,6,2,3,8], 12) in ( [6,8], [8,6], [5,8],[8,5])\n",
    "    assert f([1,2], 4) == [1,2]\n",
    "    assert f([],1) == []\n",
    "    assert f([5,2,7,3,6],9999) == [5,2,7,3,6]\n",
    "\n",
    "def subarray_sum(arr, x):\n",
    "    \"\"\" Return smallest subarray (fewest elements) with sum>x\n",
    "    If no subarray sum can be > x, return whole array.\n",
    "    Recursive algo:\n",
    "    pop first element e,\n",
    "    if e > x, return [e]\n",
    "    otherwise, return shortest subarray returned by \n",
    "    1) [e]+subarray_sum(popped arr, x-e)  # e is part of solution\n",
    "    and 2) subarray_sum(popped arr,x)  # e is not part of solution\n",
    "    \"\"\"\n",
    "    if arr == []:\n",
    "        return []\n",
    "    \n",
    "    e = arr[0]\n",
    "    if e > x:\n",
    "        return [e]\n",
    "    else:\n",
    "        a = [e] + subarray_sum(arr[1:], x-e) # e is part of solution\n",
    "        b = subarray_sum(arr[1:], x) # e is not part of solution\n",
    "        if len(b) < len(a) and sum(b) > x:\n",
    "            return b\n",
    "        else:\n",
    "            return a # also return the whole array if impossible\n",
    "\n",
    "test_subarray_sum(subarray_sum)\n"
   ]
  },
  {
   "cell_type": "code",
   "execution_count": null,
   "metadata": {},
   "outputs": [],
   "source": []
  },
  {
   "cell_type": "code",
   "execution_count": null,
   "metadata": {},
   "outputs": [],
   "source": []
  },
  {
   "cell_type": "code",
   "execution_count": null,
   "metadata": {},
   "outputs": [],
   "source": []
  }
 ],
 "metadata": {
  "kernelspec": {
   "display_name": "Python 3",
   "language": "python",
   "name": "python3"
  },
  "language_info": {
   "codemirror_mode": {
    "name": "ipython",
    "version": 3
   },
   "file_extension": ".py",
   "mimetype": "text/x-python",
   "name": "python",
   "nbconvert_exporter": "python",
   "pygments_lexer": "ipython3",
   "version": "3.6.5"
  }
 },
 "nbformat": 4,
 "nbformat_minor": 2
}
