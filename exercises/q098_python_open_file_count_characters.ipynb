{
 "cells": [
  {
   "cell_type": "markdown",
   "metadata": {},
   "source": [
    "# Question 98 - Counting numbers, letters, and other things from a text file\n",
    "Python Reading Files\n",
    "\n",
    "Write a python function that can take in a text file and return the number of characters in the file that are alphabetic, numeric, or other non space characters. The input to the function will be the string location of the text file (assume that this location string will pull up the text file).\n",
    "\n",
    "For a hint, see https://docs.python.org/2/library/stdtypes.html."
   ]
  },
  {
   "cell_type": "code",
   "execution_count": 1,
   "metadata": {},
   "outputs": [
    {
     "name": "stdout",
     "output_type": "stream",
     "text": [
      "[573533, 124482, 146382]\n"
     ]
    }
   ],
   "source": [
    "# count alphabetic, numeric, other non-space characters\n",
    "filename = \"q079_data.csv\"\n",
    "\n",
    "def count_line(line):\n",
    "    # takes a string, \n",
    "    # returns a 3-tuple counting alpha, num, and other chars in the string\n",
    "    a, n, o = 0,0,0\n",
    "    for c in line:\n",
    "        if c.isalpha():\n",
    "            a+=1\n",
    "        elif c.isdigit():\n",
    "            n+=1\n",
    "        elif not c.isspace():\n",
    "            o+=1\n",
    "    return a,n,o\n",
    "\n",
    "def sum_tuples(tuples_list):\n",
    "    # given list of 3-tuples, return the sum of each column as a 3-tuple\n",
    "    return [sum(column) for column in zip(*tuples_list)]\n",
    "    \n",
    "\n",
    "with open(filename, 'r') as f:\n",
    "    counts = sum_tuples(\n",
    "        [count_line(line.rstrip('\\n')) for line in f]\n",
    "    )\n",
    "    print(counts)"
   ]
  },
  {
   "cell_type": "code",
   "execution_count": null,
   "metadata": {},
   "outputs": [],
   "source": []
  },
  {
   "cell_type": "code",
   "execution_count": null,
   "metadata": {},
   "outputs": [],
   "source": []
  }
 ],
 "metadata": {
  "kernelspec": {
   "display_name": "Python 3",
   "language": "python",
   "name": "python3"
  },
  "language_info": {
   "codemirror_mode": {
    "name": "ipython",
    "version": 3
   },
   "file_extension": ".py",
   "mimetype": "text/x-python",
   "name": "python",
   "nbconvert_exporter": "python",
   "pygments_lexer": "ipython3",
   "version": "3.6.5"
  }
 },
 "nbformat": 4,
 "nbformat_minor": 2
}
