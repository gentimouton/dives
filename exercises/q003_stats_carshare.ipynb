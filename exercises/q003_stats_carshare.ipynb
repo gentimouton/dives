{
 "cells": [
  {
   "cell_type": "markdown",
   "metadata": {},
   "source": [
    "# Question 3 - The carshare dilemma\n",
    "We have selected a group of people to take a survey. \n",
    "35% of the group like Uber, 20% like both Lyft and Uber, \n",
    "and 25% like neither Lyft nor Uber.\n",
    "Given this information, what percentage of the sample likes Lyft? \n",
    "\n"
   ]
  },
  {
   "cell_type": "markdown",
   "metadata": {},
   "source": [
    "This table crosstabs the proportion of respondents who like/dislike Lyft/Uber.\n",
    "\n",
    "| | likes uber | hates uber |\n",
    "| --- | --- | --- | \n",
    "| likes lyft | a | b | \n",
    "| hates lyft | c | d | \n",
    "\n",
    "Facts given to us:\n",
    "- a+c = 35\n",
    "- a = 20\n",
    "- d = 25\n",
    "- a+b+c+d = 100\n",
    "\n",
    "Therefore b = 100-35-25 = 40. \n",
    "\n",
    "60% of respondents like Lyft."
   ]
  },
  {
   "cell_type": "code",
   "execution_count": null,
   "metadata": {},
   "outputs": [],
   "source": []
  }
 ],
 "metadata": {
  "kernelspec": {
   "display_name": "Python 3",
   "language": "python",
   "name": "python3"
  },
  "language_info": {
   "codemirror_mode": {
    "name": "ipython",
    "version": 3
   },
   "file_extension": ".py",
   "mimetype": "text/x-python",
   "name": "python",
   "nbconvert_exporter": "python",
   "pygments_lexer": "ipython3",
   "version": "3.6.5"
  }
 },
 "nbformat": 4,
 "nbformat_minor": 2
}
