{
 "cells": [
  {
   "cell_type": "markdown",
   "metadata": {},
   "source": [
    "# Question 124 - Monthly revenue growth in SQL for Online channel\n",
    "SQL Database Querying Lag Function Window Function\n",
    "\n",
    "Given the table below, called 'orders', write a SQL query to show the monthly revenue growth for the online channel. To calculate the monthly revenue growth, you can apply the following logic:\n",
    "\n",
    "revenue growth = (current month's revenue-prior month's revenue)/prior month's revenue.\n",
    "```\n",
    "order_id \tchannel \tdate \tmonth \trevenue\n",
    "1 \tonline \t2018-09-01 \t09 \t100\n",
    "2 \tonline \t2018-09-03 \t09 \t125\n",
    "3 \tin_store \t2018-10-11 \t10 \t200\n",
    "4 \tin_store \t2018-08-21 \t08 \t80\n",
    "5 \tonline \t2018-08-13 \t08 \t200\n",
    "```"
   ]
  },
  {
   "cell_type": "markdown",
   "metadata": {},
   "source": [
    "```sql\n",
    "select\n",
    "  date_trunc('month',date) as dt,\n",
    "  sum(revenue) as rev,\n",
    "  sum(revenue) ::float / lag(sum(revenue)) over(order by dt) as rev_mom\n",
    "from orders o\n",
    "where channel = 'online'\n",
    "group by 1\n",
    "order by 1\n",
    "```"
   ]
  },
  {
   "cell_type": "code",
   "execution_count": null,
   "metadata": {},
   "outputs": [],
   "source": []
  }
 ],
 "metadata": {
  "kernelspec": {
   "display_name": "Python 3",
   "language": "python",
   "name": "python3"
  },
  "language_info": {
   "codemirror_mode": {
    "name": "ipython",
    "version": 3
   },
   "file_extension": ".py",
   "mimetype": "text/x-python",
   "name": "python",
   "nbconvert_exporter": "python",
   "pygments_lexer": "ipython3",
   "version": "3.7.4"
  }
 },
 "nbformat": 4,
 "nbformat_minor": 2
}
