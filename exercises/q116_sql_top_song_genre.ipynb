{
 "cells": [
  {
   "cell_type": "markdown",
   "metadata": {},
   "source": [
    "# Question 116 - Popular genre (a SQL question)\n",
    "SQL Database Querying Window Function\n",
    "\n",
    "Below is table for a popular music streaming application:\n",
    "```\n",
    "Table 1: user_song_log\n",
    "Column Name \tData Type \tDescription\n",
    "user_id \tid \tid of the streaming user\n",
    "timestamp \tinteger \ttimestamp of when the user started listening to the song, epoch seconds\n",
    "song_id \tinteger \tid of the song\n",
    "artist_id \tinteger \tid of the artist\n",
    "\n",
    "Table 2: song_info\n",
    "Column Name \tData Type \tDescription\n",
    "song_id \tinteger \tid of the song\n",
    "artist_id \tinteger \tid of the artist\n",
    "song_length \tinteger \tlength of song in seconds\n",
    "song_genre \tstring \tgenre of song\n",
    "```\n",
    "\n",
    "Can you write a SQL query to get the top genre by percent of total minutes listened across all users? Your query should return the top song_genre and the percent of total listen time."
   ]
  },
  {
   "cell_type": "markdown",
   "metadata": {},
   "source": [
    "```sql\n",
    "select\n",
    "    song_genre,\n",
    "    sum(song_length)/60 as minutes_listened,\n",
    "    ratio_to_report(sum(song_length)) over() as pct_total_listen_time,\n",
    "    rank() over (order by minutes_listened desc) as genre_rank\n",
    "from user_song_log u\n",
    "join song_info i\n",
    "  on i.song_id = u.song_id\n",
    "group by 1\n",
    "order by 2 desc\n",
    "limit 1\n",
    "\n",
    "```"
   ]
  },
  {
   "cell_type": "code",
   "execution_count": null,
   "metadata": {},
   "outputs": [],
   "source": []
  }
 ],
 "metadata": {
  "kernelspec": {
   "display_name": "Python 3",
   "language": "python",
   "name": "python3"
  },
  "language_info": {
   "codemirror_mode": {
    "name": "ipython",
    "version": 3
   },
   "file_extension": ".py",
   "mimetype": "text/x-python",
   "name": "python",
   "nbconvert_exporter": "python",
   "pygments_lexer": "ipython3",
   "version": "3.7.4"
  }
 },
 "nbformat": 4,
 "nbformat_minor": 2
}
