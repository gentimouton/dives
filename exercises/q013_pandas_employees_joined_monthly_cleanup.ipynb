{
 "cells": [
  {
   "cell_type": "code",
   "execution_count": 1,
   "metadata": {},
   "outputs": [
    {
     "data": {
      "text/plain": [
       "<matplotlib.axes._subplots.AxesSubplot at 0x167766eb5c0>"
      ]
     },
     "execution_count": 1,
     "metadata": {},
     "output_type": "execute_result"
    },
    {
     "data": {
      "image/png": "[encoded data removed]",
      "text/plain": [
       "<Figure size 432x288 with 1 Axes>"
      ]
     },
     "metadata": {},
     "output_type": "display_data"
    }
   ],
   "source": [
    "# Question 13 - Cleaning and analyzing employee data\n",
    "\n",
    "# Below is a snippet from a table that contains information about employees that work at Company XYZ:\n",
    "\n",
    "# employee_name \temployee_id \tdate_joined \tage \tyrs_of_experience\n",
    "# Andy \t123456 \t2015-02-15 \t45 \t24\n",
    "# Beth \t789456 \tNaN \t36 \t15\n",
    "# Cindy \t654123 \t2017-05-16 \t34 \t14\n",
    "# Dale \t963852 \t2018-01-15 \t25 \t4\n",
    "\n",
    "# Company XYZ recently migrated database systems causing \n",
    "# 1) some of the date_joined records to be NULL.\n",
    "# You're told by an analyst in human resources NULL records for\n",
    "# the date_joined field indicates the employees joined prior to 2010.\n",
    "# 2) You also find out there are multiple employees with the same name \n",
    "# 3) as well as duplicate records for some employees.\n",
    "\n",
    "# Question:\n",
    "# Can you write code using Python and the Pandas library that \n",
    "# finds the number of employees that joined each month?\n",
    "# You can group all of the NULL values as having joined on Dec 1, 2009. \n",
    "\n",
    "import pandas as pd\n",
    "import matplotlib.pyplot as plt\n",
    "%matplotlib inline\n",
    "\n",
    "# mock up data\n",
    "s = \"\"\"name,id,date_joined,age,years_exp\n",
    "andy,123456,2010-02-15,45,24\n",
    "andy,987654,2010-04-08,18,0\n",
    "beth,789456,NaN,36,15\n",
    "cindy,654123,2010-01-16,34,14\n",
    "cindy,654123,2010-03-16,34,14\n",
    "cindy,147258,2010-03-16,66,22\n",
    "dale,963852,2010-01-15,25,4\n",
    "\"\"\"\n",
    "df = pd.read_csv(pd.compat.StringIO(s), parse_dates=['date_joined'])\n",
    "df = df.fillna(pd.to_datetime('2009-12-01'))\n",
    "df['month_joined'] = df['date_joined'].values.astype('datetime64[M]') # https://stackoverflow.com/a/45304665\n",
    "(\n",
    "    df\n",
    "    .groupby(['id']).agg({'month_joined':min})\n",
    "    .reset_index()\n",
    "    .groupby('month_joined').agg({'id':'nunique'})\n",
    "    .plot()\n",
    ")"
   ]
  }
 ],
 "metadata": {
  "kernelspec": {
   "display_name": "Python 3",
   "language": "python",
   "name": "python3"
  },
  "language_info": {
   "codemirror_mode": {
    "name": "ipython",
    "version": 3
   },
   "file_extension": ".py",
   "mimetype": "text/x-python",
   "name": "python",
   "nbconvert_exporter": "python",
   "pygments_lexer": "ipython3",
   "version": "3.6.5"
  }
 },
 "nbformat": 4,
 "nbformat_minor": 2
}
