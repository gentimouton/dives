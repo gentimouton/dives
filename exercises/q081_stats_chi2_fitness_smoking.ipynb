{
 "cells": [
  {
   "cell_type": "markdown",
   "metadata": {},
   "source": [
    "# Question 81 - Relationship between fitness and smoking\n",
    "\n",
    "Given the data table below, determine if there is a relationship between fitness level and smoking habits:\n",
    "\n",
    "\n",
    "| |Low fitness level|Medium-low fitness level|Medium-high fitness level|High fitness level|\n",
    "|---|---|---|---|---|\n",
    "|Never smoked |113 |113 |110 |159|\n",
    "|Former smokers |119 |135 |172 |190|\n",
    "|1 to 9 cigarettes daily |77 |91 |86 |65|\n",
    "|>=10 cigarettes daily |181 |152 |124 |73|\n",
    "\n",
    "\n",
    "You don't have to fully solve for the number here (that would be pretty time-intensive for an interview setting), but lay out the steps you would take to solve such a problem. "
   ]
  },
  {
   "cell_type": "code",
   "execution_count": 1,
   "metadata": {},
   "outputs": [
    {
     "name": "stdout",
     "output_type": "stream",
     "text": [
      "Power_divergenceResult(statistic=138.44925392777628, pvalue=8.162353884563314e-30)\n"
     ]
    }
   ],
   "source": [
    "import numpy as np\n",
    "from scipy import stats\n",
    "\n",
    "never = np.array([113,113,110,159])\n",
    "heavy = np.array([181,152,124,73])\n",
    "print(stats.chisquare(never,heavy))\n",
    "\n"
   ]
  },
  {
   "cell_type": "code",
   "execution_count": 2,
   "metadata": {},
   "outputs": [
    {
     "name": "stdout",
     "output_type": "stream",
     "text": [
      "495 530\n"
     ]
    },
    {
     "data": {
      "text/plain": [
       "Power_divergenceResult(statistic=145.76384763984126, pvalue=2.16021509214327e-31)"
      ]
     },
     "execution_count": 2,
     "metadata": {},
     "output_type": "execute_result"
    }
   ],
   "source": [
    "# do we need to correct for different N?\n",
    "# answer: seems like no\n",
    "print(sum(never), sum(heavy))\n",
    "heavy_adj = heavy/sum(heavy)*sum(never)\n",
    "stats.chisquare(never,heavy_adj)"
   ]
  },
  {
   "cell_type": "code",
   "execution_count": 3,
   "metadata": {},
   "outputs": [
    {
     "data": {
      "text/plain": [
       "(87.27274636300587,\n",
       " 5.7306646048374425e-15,\n",
       " 9,\n",
       " array([[123.75      , 124.00255102, 124.25510204, 122.99234694],\n",
       "        [154.        , 154.31428571, 154.62857143, 153.05714286],\n",
       "        [ 79.75      ,  79.9127551 ,  80.0755102 ,  79.26173469],\n",
       "        [132.5       , 132.77040816, 133.04081633, 131.68877551]]))"
      ]
     },
     "execution_count": 3,
     "metadata": {},
     "output_type": "execute_result"
    }
   ],
   "source": [
    "# include all columns at once\n",
    "former = np.array([119,135,172,190])\n",
    "casual = np.array([77,91,86,65])\n",
    "data = np.array([never,former,casual,heavy])\n",
    "stats.chi2_contingency(data)"
   ]
  },
  {
   "cell_type": "code",
   "execution_count": 4,
   "metadata": {},
   "outputs": [
    {
     "data": {
      "text/plain": [
       "Power_divergenceResult(statistic=127.84268026941363, pvalue=1.2150208548643848e-29)"
      ]
     },
     "execution_count": 4,
     "metadata": {},
     "output_type": "execute_result"
    }
   ],
   "source": [
    "# how much precision would we lose if we binned the 4x4 table into 2x2?\n",
    "# answer: not much\n",
    "\n",
    "nosmoke_low = 113+119+113+135\n",
    "smokes_low = 77+181+91+152\n",
    "nosmoke_hi = 110+172+159+190\n",
    "smokes_hi = 86+65+124+73\n",
    "\n",
    "# chi-square test: are smokers exercising as much as non-smokers?\n",
    "expected_fitness = [nosmoke_low, nosmoke_hi]\n",
    "observed_fitness = [smokes_low, smokes_hi]\n",
    "stats.chisquare(observed_fitness, expected_fitness)\n"
   ]
  },
  {
   "cell_type": "code",
   "execution_count": null,
   "metadata": {},
   "outputs": [],
   "source": []
  },
  {
   "cell_type": "code",
   "execution_count": null,
   "metadata": {},
   "outputs": [],
   "source": []
  }
 ],
 "metadata": {
  "kernelspec": {
   "display_name": "Python 3",
   "language": "python",
   "name": "python3"
  },
  "language_info": {
   "codemirror_mode": {
    "name": "ipython",
    "version": 3
   },
   "file_extension": ".py",
   "mimetype": "text/x-python",
   "name": "python",
   "nbconvert_exporter": "python",
   "pygments_lexer": "ipython3",
   "version": "3.6.5"
  }
 },
 "nbformat": 4,
 "nbformat_minor": 2
}
