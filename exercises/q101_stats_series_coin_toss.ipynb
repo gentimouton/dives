{
 "cells": [
  {
   "cell_type": "markdown",
   "metadata": {},
   "source": [
    "# Question 101 - Pricing a coin flip\n",
    "Statistics Probability Theory\n",
    "\n",
    "```\n",
    "Suppose a casino has created a new game, determined via coin toss. \n",
    "If the coin is tails, the individual is paid $1, \n",
    "and if the coin is heads it's tossed again. \n",
    "\n",
    "On the 2nd toss (assuming heads on first toss), \n",
    "the individual will be paid $2 if tails, \n",
    "otherwise if it's heads we continue, doubling each time to $4, $8, $16 \n",
    "etc for each tails. \n",
    "\n",
    "What price should the casino charge to play this game, assuming you only want to break even?\n",
    "```"
   ]
  },
  {
   "cell_type": "markdown",
   "metadata": {},
   "source": [
    "Expected payout, playing the game N times: \n",
    "\n",
    "```\n",
    "p = 1 * 1/2 + 2 * 1/4 + 4 * 1/8 + .... + 2^(N-1) * 1/2^N \n",
    "  = sum(2^i * 1/2^(i+1)) = 1/2 * sum(2^i / 2^i) = N/2\n",
    "```\n",
    "\n",
    "The casino should charge 50 cents per coin toss."
   ]
  },
  {
   "cell_type": "code",
   "execution_count": null,
   "metadata": {},
   "outputs": [],
   "source": []
  }
 ],
 "metadata": {
  "kernelspec": {
   "display_name": "Python 3",
   "language": "python",
   "name": "python3"
  },
  "language_info": {
   "codemirror_mode": {
    "name": "ipython",
    "version": 3
   },
   "file_extension": ".py",
   "mimetype": "text/x-python",
   "name": "python",
   "nbconvert_exporter": "python",
   "pygments_lexer": "ipython3",
   "version": "3.6.5"
  }
 },
 "nbformat": 4,
 "nbformat_minor": 2
}
