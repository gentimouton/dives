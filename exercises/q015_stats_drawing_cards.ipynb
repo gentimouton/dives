{
 "cells": [
  {
   "cell_type": "markdown",
   "metadata": {},
   "source": [
    "# Question 15 - Drawing cards from a standard deck\n",
    "\n",
    "Suppose we have a standard (52 card) deck of cards. \n",
    "Each card has an equal chance of being one of the four \"suits\" \n",
    "(e.g. clubs, spades, diamonds, and hearts).\n",
    "\n",
    "Question: If you draw 3 cards from the deck, one a time, \n",
    "what is the probability that you draw a club, a heart, and a diamond in that order?"
   ]
  },
  {
   "cell_type": "markdown",
   "metadata": {},
   "source": [
    "chance of drawing a club first = 13/52\n",
    "chance of drawing a heart second = 13/51\n",
    "chance of drawing a diamond third = 13/50\n",
    "\n",
    "total chance is 13/52 * 13/51 * 13/50 = .017"
   ]
  },
  {
   "cell_type": "code",
   "execution_count": null,
   "metadata": {},
   "outputs": [],
   "source": []
  }
 ],
 "metadata": {
  "kernelspec": {
   "display_name": "Python 3",
   "language": "python",
   "name": "python3"
  },
  "language_info": {
   "codemirror_mode": {
    "name": "ipython",
    "version": 3
   },
   "file_extension": ".py",
   "mimetype": "text/x-python",
   "name": "python",
   "nbconvert_exporter": "python",
   "pygments_lexer": "ipython3",
   "version": "3.6.5"
  }
 },
 "nbformat": 4,
 "nbformat_minor": 2
}
