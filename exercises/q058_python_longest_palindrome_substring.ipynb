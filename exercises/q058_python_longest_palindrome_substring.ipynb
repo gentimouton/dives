{
 "cells": [
  {
   "cell_type": "markdown",
   "metadata": {},
   "source": [
    "# Question 58 - Longest palindrome substring\n",
    "\n",
    "A palindrome is \"a word, phrase, or sequence that reads the same backward as forward.\" Below are some example palindromes:\n",
    "```\n",
    "    madam\n",
    "    racecar\n",
    "    tat \n",
    "```\n",
    "Can you write a python function that takes in a string and outputs the longest palindrome? If the string itself is a palindrome, the function would output the original string."
   ]
  },
  {
   "cell_type": "code",
   "execution_count": 1,
   "metadata": {},
   "outputs": [],
   "source": [
    "\n",
    "def test_is_palindrome(f):\n",
    "    assert f('madam') == True # basic\n",
    "    assert f('ma dam') == True # ignore whitespace\n",
    "    assert f('ab cdef') == False # counter example\n",
    "    assert f('') == True # edge case\n",
    "\n",
    "def is_palindrome(s):\n",
    "    s = s.replace(\" \", \"\") # remove whitespaces\n",
    "    n = len(s)\n",
    "    if n == 0:\n",
    "        return True\n",
    "    differing_chars = sum([s[i] != s[n-i-1] for i in range(n//2)])\n",
    "    return differing_chars == 0\n",
    "\n",
    "test_is_palindrome(is_palindrome)\n"
   ]
  },
  {
   "cell_type": "code",
   "execution_count": 2,
   "metadata": {},
   "outputs": [
    {
     "data": {
      "text/plain": [
       "'madam'"
      ]
     },
     "execution_count": 2,
     "metadata": {},
     "output_type": "execute_result"
    }
   ],
   "source": [
    "\n",
    "def test_longest_palindrome_substr(lps_func):\n",
    "    assert lps_func('hello madam irma') == 'madam' # find substr\n",
    "    assert lps_func('hello ma dam') == 'madam' # ignore spaces\n",
    "    assert lps_func('aba a ba') == 'abaaba' # longest palindrome is made of 2 smaller ones\n",
    "    assert lps_func('madam the racecar') == 'racecar' # find longest one, not first one\n",
    "    assert lps_func('hi welcome') == 'h' # default to first character if no substring of 2+ chars is a palindrome\n",
    "    assert lps_func('tat') == 'tat' # whole string is longest palindrome\n",
    "    assert lps_func('') == '' # empty string\n",
    "    \n",
    "    \n",
    "def longest_palindrome_substr(s):\n",
    "    \"\"\" find longest palindrome substring \"\"\"\n",
    "    s = s.replace(' ','') # ignore whitespaces\n",
    "    if s == '':\n",
    "        return ''\n",
    "    longest_pal = s[0] # convention: return first char if no substr of len 2+ is palindrome\n",
    "    \n",
    "    # for each substring,\n",
    "    for i in range(len(s)):\n",
    "        for j in range(i,len(s)):\n",
    "            ss = s[i:j+1]\n",
    "            # if it is a palindrome, and longest so far, store it.\n",
    "            if is_palindrome(ss) and len(ss) > len(longest_pal):\n",
    "                longest_pal = ss\n",
    "                \n",
    "    return longest_pal\n",
    "\n",
    "test_longest_palindrome_substr(longest_palindrome_substr)\n",
    "\n",
    "longest_palindrome_substr('hello madam irma')"
   ]
  },
  {
   "cell_type": "code",
   "execution_count": null,
   "metadata": {},
   "outputs": [],
   "source": []
  }
 ],
 "metadata": {
  "kernelspec": {
   "display_name": "Python 3",
   "language": "python",
   "name": "python3"
  },
  "language_info": {
   "codemirror_mode": {
    "name": "ipython",
    "version": 3
   },
   "file_extension": ".py",
   "mimetype": "text/x-python",
   "name": "python",
   "nbconvert_exporter": "python",
   "pygments_lexer": "ipython3",
   "version": "3.6.5"
  }
 },
 "nbformat": 4,
 "nbformat_minor": 2
}
