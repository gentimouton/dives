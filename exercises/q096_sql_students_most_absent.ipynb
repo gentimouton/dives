{
 "cells": [
  {
   "cell_type": "markdown",
   "metadata": {},
   "source": [
    "# Question 96 - Tallying up absent students using SQL\n",
    "SQL Database Querying\n",
    "\n",
    "Given the following table schemas, pull a list of students with the most absences in descending order. You can filter out students who don't have any absences. Limit the date range to: 2019-01-01 -> 2019-06-30.\n",
    "\n",
    "```\n",
    "Table 1: student_attendance_log\n",
    "Column Name \tData Type \tDescription\n",
    "date \tstring \tdate of log per student_id, format is 'yyyy-mm-dd'\n",
    "student_id \tinteger \tid of the student\n",
    "attendance_status \tstring \tPossible values are ['present', 'tardy', 'absent']\n",
    "\n",
    "Table 2: student_demographic\n",
    "Column Name \tData Type \tDescription\n",
    "student_id \tinteger \tid of the student\n",
    "grade_level \tinteger \twill be a value between 0-12, which corresponds\n",
    "date_of_birth \tstring \tStudent birth date, format is 'yyyy-mm-dd'\n",
    "```\n",
    "\n",
    "Solution for premium users will be written using SQL."
   ]
  },
  {
   "cell_type": "markdown",
   "metadata": {},
   "source": [
    "```sql\n",
    "select\n",
    "    student_id,\n",
    "    count(distinct case when attendance_status = 'absent' then date else null end) as days_absent\n",
    "from student_attendance_log\n",
    "group by 1\n",
    "order by 2 desc\n",
    "```"
   ]
  },
  {
   "cell_type": "code",
   "execution_count": null,
   "metadata": {},
   "outputs": [],
   "source": []
  }
 ],
 "metadata": {
  "kernelspec": {
   "display_name": "Python 3",
   "language": "python",
   "name": "python3"
  },
  "language_info": {
   "codemirror_mode": {
    "name": "ipython",
    "version": 3
   },
   "file_extension": ".py",
   "mimetype": "text/x-python",
   "name": "python",
   "nbconvert_exporter": "python",
   "pygments_lexer": "ipython3",
   "version": "3.6.5"
  }
 },
 "nbformat": 4,
 "nbformat_minor": 2
}
