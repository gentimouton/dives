{
 "cells": [
  {
   "cell_type": "code",
   "execution_count": 1,
   "metadata": {},
   "outputs": [
    {
     "name": "stdout",
     "output_type": "stream",
     "text": [
      "2\n"
     ]
    }
   ],
   "source": [
    "# Question 12 - Finding the value closest to 0\n",
    "# You are given a list of Q 1D points, return the value in Q that is the closest to value j.\n",
    "# Example:\n",
    "# Q = [1, -1, -5, 2, 4, -2, 1]\n",
    "# j = 3\n",
    "# The answer in this case 2.\n",
    "\n",
    "\n",
    "q = [1, -1, -5, 2, 4, -2, 1]\n",
    "j = 3\n",
    "\n",
    "t = min(\n",
    "    zip(\n",
    "        q,\n",
    "        map(lambda x: abs(x-j), q)  # compute distance\n",
    "    ),\n",
    "    key=lambda tup: tup[1]  # find tuple with smallest second element\n",
    ")[0]\n",
    "print(t)\n"
   ]
  },
  {
   "cell_type": "code",
   "execution_count": null,
   "metadata": {},
   "outputs": [],
   "source": []
  }
 ],
 "metadata": {
  "kernelspec": {
   "display_name": "Python 3",
   "language": "python",
   "name": "python3"
  },
  "language_info": {
   "codemirror_mode": {
    "name": "ipython",
    "version": 3
   },
   "file_extension": ".py",
   "mimetype": "text/x-python",
   "name": "python",
   "nbconvert_exporter": "python",
   "pygments_lexer": "ipython3",
   "version": "3.6.5"
  }
 },
 "nbformat": 4,
 "nbformat_minor": 2
}
