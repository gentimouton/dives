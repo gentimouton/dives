{
 "cells": [
  {
   "cell_type": "code",
   "execution_count": 6,
   "metadata": {},
   "outputs": [],
   "source": [
    "import pandas as pd\n",
    "\n",
    "# shopify rollup dataset. \n",
    "# Goal: plot % of daily active (rev>$0) accounts that are fraudulent.\n",
    "# store status flow: open>fraud>closed or open>closed.\n",
    "\n",
    "# mock up data\n",
    "s = \"\"\"store_id,date,status,revenue\n",
    "1,2019-01-01,open,123\n",
    "1,2019-01-02,fraud,15\n",
    "1,2019-01-03,fraud,0\n",
    "2,2019-01-01,open,100\n",
    "2,2019-01-02,open,234\n",
    "2,2019-01-03,open,0\n",
    "3,2019-01-01,fraud,12\n",
    "3,2019-01-02,closed,0\n",
    "3,2019-01-03,closed,0\n",
    "4,2019-01-03,open,50\"\"\"\n",
    "df = pd.read_csv(pd.compat.StringIO(s))\n"
   ]
  },
  {
   "cell_type": "code",
   "execution_count": 10,
   "metadata": {},
   "outputs": [
    {
     "data": {
      "text/html": [
       "<div>\n",
       "<style scoped>\n",
       "    .dataframe tbody tr th:only-of-type {\n",
       "        vertical-align: middle;\n",
       "    }\n",
       "\n",
       "    .dataframe tbody tr th {\n",
       "        vertical-align: top;\n",
       "    }\n",
       "\n",
       "    .dataframe thead th {\n",
       "        text-align: right;\n",
       "    }\n",
       "</style>\n",
       "<table border=\"1\" class=\"dataframe\">\n",
       "  <thead>\n",
       "    <tr style=\"text-align: right;\">\n",
       "      <th></th>\n",
       "      <th></th>\n",
       "      <th>stores</th>\n",
       "    </tr>\n",
       "    <tr>\n",
       "      <th>date</th>\n",
       "      <th>status</th>\n",
       "      <th></th>\n",
       "    </tr>\n",
       "  </thead>\n",
       "  <tbody>\n",
       "    <tr>\n",
       "      <th>2019-01-01</th>\n",
       "      <th>fraud</th>\n",
       "      <td>0.333333</td>\n",
       "    </tr>\n",
       "    <tr>\n",
       "      <th>2019-01-02</th>\n",
       "      <th>fraud</th>\n",
       "      <td>0.500000</td>\n",
       "    </tr>\n",
       "    <tr>\n",
       "      <th>2019-01-03</th>\n",
       "      <th>fraud</th>\n",
       "      <td>0.000000</td>\n",
       "    </tr>\n",
       "  </tbody>\n",
       "</table>\n",
       "</div>"
      ],
      "text/plain": [
       "                     stores\n",
       "date       status          \n",
       "2019-01-01 fraud   0.333333\n",
       "2019-01-02 fraud   0.500000\n",
       "2019-01-03 fraud   0.000000"
      ]
     },
     "execution_count": 10,
     "metadata": {},
     "output_type": "execute_result"
    }
   ],
   "source": [
    "\n",
    "# option 1\n",
    "(\n",
    "    df[df[\"revenue\"]>0]\n",
    "    .groupby([\"date\",\"status\"])\n",
    "    .agg({\"store_id\":\"count\"})\n",
    "    .rename(columns={'store_id': 'stores'})\n",
    "    .unstack(fill_value=0).stack() # https://stackoverflow.com/a/49128246\n",
    "    .groupby(level=0)\n",
    "    .apply(lambda x: x/float(x.sum())) # this may be slow\n",
    "#     .reset_index()\n",
    "    .query(\"status == 'fraud'\")\n",
    ")\n"
   ]
  },
  {
   "cell_type": "code",
   "execution_count": 8,
   "metadata": {},
   "outputs": [
    {
     "data": {
      "text/html": [
       "<div>\n",
       "<style scoped>\n",
       "    .dataframe tbody tr th:only-of-type {\n",
       "        vertical-align: middle;\n",
       "    }\n",
       "\n",
       "    .dataframe tbody tr th {\n",
       "        vertical-align: top;\n",
       "    }\n",
       "\n",
       "    .dataframe thead th {\n",
       "        text-align: right;\n",
       "    }\n",
       "</style>\n",
       "<table border=\"1\" class=\"dataframe\">\n",
       "  <thead>\n",
       "    <tr style=\"text-align: right;\">\n",
       "      <th></th>\n",
       "      <th></th>\n",
       "      <th>stores</th>\n",
       "    </tr>\n",
       "    <tr>\n",
       "      <th>date</th>\n",
       "      <th>status</th>\n",
       "      <th></th>\n",
       "    </tr>\n",
       "  </thead>\n",
       "  <tbody>\n",
       "    <tr>\n",
       "      <th>2019-01-01</th>\n",
       "      <th>fraud</th>\n",
       "      <td>0.333333</td>\n",
       "    </tr>\n",
       "    <tr>\n",
       "      <th>2019-01-02</th>\n",
       "      <th>fraud</th>\n",
       "      <td>0.500000</td>\n",
       "    </tr>\n",
       "    <tr>\n",
       "      <th>2019-01-03</th>\n",
       "      <th>fraud</th>\n",
       "      <td>0.000000</td>\n",
       "    </tr>\n",
       "  </tbody>\n",
       "</table>\n",
       "</div>"
      ],
      "text/plain": [
       "                     stores\n",
       "date       status          \n",
       "2019-01-01 fraud   0.333333\n",
       "2019-01-02 fraud   0.500000\n",
       "2019-01-03 fraud   0.000000"
      ]
     },
     "execution_count": 8,
     "metadata": {},
     "output_type": "execute_result"
    }
   ],
   "source": [
    "# option 2, scales better\n",
    "daily_by_status = (\n",
    "    df[df[\"revenue\"]>0]\n",
    "    .groupby([\"date\",\"status\"])\n",
    "    .agg({\"store_id\":\"count\"})\n",
    "    .rename(columns={'store_id': 'stores'})\n",
    "    .unstack(fill_value=0).stack() # https://stackoverflow.com/a/49128246\n",
    ")\n",
    "\n",
    "daily_total = (\n",
    "    df[df[\"revenue\"]>0]\n",
    "    .groupby(['date'])\n",
    "    .agg({'store_id':'count'})\n",
    "    .rename(columns={'store_id': 'stores'})\n",
    ")\n",
    "\n",
    "daily_by_status.div(daily_total, level='date').query(\"status == 'fraud'\")\n"
   ]
  },
  {
   "cell_type": "code",
   "execution_count": null,
   "metadata": {},
   "outputs": [],
   "source": []
  }
 ],
 "metadata": {
  "kernelspec": {
   "display_name": "Python 3",
   "language": "python",
   "name": "python3"
  },
  "language_info": {
   "codemirror_mode": {
    "name": "ipython",
    "version": 3
   },
   "file_extension": ".py",
   "mimetype": "text/x-python",
   "name": "python",
   "nbconvert_exporter": "python",
   "pygments_lexer": "ipython3",
   "version": "3.6.5"
  }
 },
 "nbformat": 4,
 "nbformat_minor": 2
}
