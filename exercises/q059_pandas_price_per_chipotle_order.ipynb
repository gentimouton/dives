{
 "cells": [
  {
   "cell_type": "markdown",
   "metadata": {},
   "source": [
    "# Question 59 - Chipotle item analysis\n",
    "\n",
    "You are given a data set of Chipotle orders. You're asked to figure out the average order price and the average price per item ordered. Can you describe how you would do this using Python Pandas? The solution will be Python code which walks through the logic and calculation."
   ]
  },
  {
   "cell_type": "code",
   "execution_count": 1,
   "metadata": {},
   "outputs": [
    {
     "name": "stdout",
     "output_type": "stream",
     "text": [
      "avg order price: 16.00\n",
      "avg price per item: 12.00\n"
     ]
    }
   ],
   "source": [
    "import pandas as pd\n",
    "import numpy as np\n",
    "\n",
    "df = pd.DataFrame({\n",
    "    'order':[1,2,3,3],\n",
    "    'item':['a','b','a','b'],\n",
    "    'usd':[10,16,10,12]\n",
    "})\n",
    "\n",
    "# avg price per order should be 10+16+22=16\n",
    "print('avg order price: {0:.2f}'.format(df.groupby('order').agg({'usd':np.sum})['usd'].mean()))\n",
    "# avg price per item should be 10+14=12\n",
    "print('avg price per item: {0:.2f}'.format(df.groupby('item').agg({'usd':np.mean})['usd'].mean()))"
   ]
  },
  {
   "cell_type": "code",
   "execution_count": null,
   "metadata": {},
   "outputs": [],
   "source": []
  }
 ],
 "metadata": {
  "kernelspec": {
   "display_name": "Python 3",
   "language": "python",
   "name": "python3"
  },
  "language_info": {
   "codemirror_mode": {
    "name": "ipython",
    "version": 3
   },
   "file_extension": ".py",
   "mimetype": "text/x-python",
   "name": "python",
   "nbconvert_exporter": "python",
   "pygments_lexer": "ipython3",
   "version": "3.6.5"
  }
 },
 "nbformat": 4,
 "nbformat_minor": 2
}
