{
 "cells": [
  {
   "cell_type": "markdown",
   "metadata": {},
   "source": [
    "# Question 51 - Counting capital letters\n",
    "\n",
    "Using Python, write code that will read a file and return the number of capital letters. Once you have your initial piece of code, see if you can condense into a one-liner."
   ]
  },
  {
   "cell_type": "code",
   "execution_count": 1,
   "metadata": {},
   "outputs": [
    {
     "name": "stdout",
     "output_type": "stream",
     "text": [
      "10 caps in file tmp_q51.txt\n"
     ]
    }
   ],
   "source": [
    "\n",
    "def setup(filename, lines=5, caps_per_line=2):\n",
    "    # create file\n",
    "    f = open(filename, \"w+\")\n",
    "    [f.write('Abcde Fghi '+str(i)) for i in range(5)]\n",
    "    f.close()\n",
    "\n",
    "def teardown(filename):\n",
    "    # delete file\n",
    "    import os\n",
    "    try:\n",
    "        os.remove(filename)\n",
    "    except OSError as e:\n",
    "        pass\n",
    "\n",
    "filename = \"tmp_q51.txt\"\n",
    "setup(filename,5,2)\n",
    "print(\n",
    "    '{} caps in file {}'.format(\n",
    "        sum([char.isupper() for line in open(filename,'r').readlines() for char in line]),\n",
    "        filename\n",
    "    )\n",
    ")\n",
    "teardown(filename)"
   ]
  },
  {
   "cell_type": "code",
   "execution_count": null,
   "metadata": {},
   "outputs": [],
   "source": []
  }
 ],
 "metadata": {
  "kernelspec": {
   "display_name": "Python 3",
   "language": "python",
   "name": "python3"
  },
  "language_info": {
   "codemirror_mode": {
    "name": "ipython",
    "version": 3
   },
   "file_extension": ".py",
   "mimetype": "text/x-python",
   "name": "python",
   "nbconvert_exporter": "python",
   "pygments_lexer": "ipython3",
   "version": "3.6.5"
  }
 },
 "nbformat": 4,
 "nbformat_minor": 2
}
