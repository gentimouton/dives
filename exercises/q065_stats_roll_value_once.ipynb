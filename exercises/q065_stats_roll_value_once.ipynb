{
 "cells": [
  {
   "cell_type": "markdown",
   "metadata": {},
   "source": [
    "# Question 65 - Rolling 10 times\n",
    "\n",
    "Suppose a fair six-sided die is rolled 10 times. What is the probability that a 2 is rolled at least once? You may not need to explicitly solve this type of problem in an interview, but be prepared to share how you would structure an approach to a problem like this, using probability theory."
   ]
  },
  {
   "cell_type": "markdown",
   "metadata": {},
   "source": [
    "p(at least one 2 in 10 rolls) = 1 - p(no 2 in 10 rolls) = 1 - p(no 2 in 1 roll) ^ 10 = 1- (5/6)^10 = .84"
   ]
  },
  {
   "cell_type": "code",
   "execution_count": 1,
   "metadata": {},
   "outputs": [
    {
     "data": {
      "text/plain": [
       "0.8333734999999999"
      ]
     },
     "execution_count": 1,
     "metadata": {},
     "output_type": "execute_result"
    }
   ],
   "source": [
    "import numpy as np\n",
    "\n",
    "\n",
    "def simulate(n_sims, seed=1):\n",
    "    np.random.seed(seed)\n",
    "    results = []\n",
    "    for i in range(n_sims):\n",
    "        n_rolls = 10\n",
    "        rolls = np.random.randint(1,6+1,n_rolls)\n",
    "        pct = (rolls != 2).sum() / n_rolls\n",
    "        results.append(pct)\n",
    "    return np.mean(results)\n",
    "\n",
    "simulate(10**6) # not sure why that's not closer to .838"
   ]
  },
  {
   "cell_type": "code",
   "execution_count": 2,
   "metadata": {},
   "outputs": [
    {
     "data": {
      "text/plain": [
       "0.8384944171101543"
      ]
     },
     "execution_count": 2,
     "metadata": {},
     "output_type": "execute_result"
    }
   ],
   "source": [
    "1-(5/6)**10"
   ]
  },
  {
   "cell_type": "code",
   "execution_count": null,
   "metadata": {},
   "outputs": [],
   "source": []
  }
 ],
 "metadata": {
  "kernelspec": {
   "display_name": "Python 3",
   "language": "python",
   "name": "python3"
  },
  "language_info": {
   "codemirror_mode": {
    "name": "ipython",
    "version": 3
   },
   "file_extension": ".py",
   "mimetype": "text/x-python",
   "name": "python",
   "nbconvert_exporter": "python",
   "pygments_lexer": "ipython3",
   "version": "3.6.5"
  }
 },
 "nbformat": 4,
 "nbformat_minor": 2
}
