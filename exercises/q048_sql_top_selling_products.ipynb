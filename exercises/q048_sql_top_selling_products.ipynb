{
 "cells": [
  {
   "cell_type": "markdown",
   "metadata": {},
   "source": [
    "# Question 48 - Top selling products\n",
    "\n",
    "You’re an analyst for an e-commerce store. You’re trying to identify the top selling products in Q4 2017 by region. You have 2 tables that you can query.\n",
    "\n",
    "Table: all_products\n",
    "\n",
    "|Column Name |Data Type |Description|\n",
    "|---|---|---|\n",
    "|product_id |integer |id of the product|\n",
    "|product_name |string |name of the product|\n",
    "|sku |integer |universal stockkeeping unit number|\n",
    "|distributor_id |integer |unique id for distributor|\n",
    "\n",
    "Table: orders\n",
    "\n",
    "|Column Name |Data Type |Description|\n",
    "|---|---|---|\n",
    "|date |string |format is \"YYYY-MM-DD\"|\n",
    "|user_id |integer |user id of purchaser|\n",
    "|order_id |integer |unique order number|\n",
    "|product_id |integer |id of product|\n",
    "|no_units |integer |number of units sold in the order|\n",
    "|price |integer |price per item|\n",
    "|shipping_id |integer |id of shipping information|\n",
    "|region |string |region of shipping id|\n",
    "\n",
    "Write a SQL query to find the top 5 selling products by region. Include both the distributor id as well as the name of the product in your results."
   ]
  },
  {
   "cell_type": "markdown",
   "metadata": {},
   "source": [
    "```sql\n",
    "with product_region_sales as (\n",
    "select \n",
    "  region,\n",
    "  product_id,\n",
    "  sum(price) as revenue,\n",
    "  rank() over(partition by region order by sum(price) desc) as region_sales_rank\n",
    "from orders o\n",
    "where date >= '2017-10-01'\n",
    "  and date < '2018-01-01'\n",
    "group by 1,2\n",
    ")\n",
    "\n",
    "select\n",
    "    region,\n",
    "    region_sales_rank\n",
    "    product_id,\n",
    "    distributor_id,\n",
    "    product_name,\n",
    "    revenue,\n",
    "from product_region_sales s\n",
    "join all_products p\n",
    "  on p.product_id = o.product_id\n",
    "where region_sales_rank <= 5\n",
    "order by 1,2\n",
    "```"
   ]
  },
  {
   "cell_type": "code",
   "execution_count": null,
   "metadata": {},
   "outputs": [],
   "source": []
  }
 ],
 "metadata": {
  "kernelspec": {
   "display_name": "Python 3",
   "language": "python",
   "name": "python3"
  },
  "language_info": {
   "codemirror_mode": {
    "name": "ipython",
    "version": 3
   },
   "file_extension": ".py",
   "mimetype": "text/x-python",
   "name": "python",
   "nbconvert_exporter": "python",
   "pygments_lexer": "ipython3",
   "version": "3.6.5"
  }
 },
 "nbformat": 4,
 "nbformat_minor": 2
}
