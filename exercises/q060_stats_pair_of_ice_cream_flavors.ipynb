{
 "cells": [
  {
   "cell_type": "markdown",
   "metadata": {},
   "source": [
    "# Question 60 - Choosing two ice creams\n",
    "\n",
    "Suppose you enter an ice cream store. They sell two types of ice cream: soft serve and frozen yogurt. Additionally, there are 10 flavors of soft serve and 13 flavors of frozen yogurt. You're really hungry, so you decide you can order and eat two ice creams before they melt, but are facing some decision fatigue given the amount of choices. How many ways are there to choose exactly two ice creams from the store? Figuring this out should help quantify that decision fatigue. "
   ]
  },
  {
   "cell_type": "code",
   "execution_count": 2,
   "metadata": {},
   "outputs": [
    {
     "name": "stdout",
     "output_type": "stream",
     "text": [
      "there are 529 ordered pairs\n",
      "there are 276 unordered pairs\n"
     ]
    }
   ],
   "source": [
    "# there are 23 \"twin\" pairs, \n",
    "# if order matters, there are also 23*22 non-twin pairs, total 529.\n",
    "# elif order does not matter, there are also 23*22/2 non-twin pairs, total 276.\n",
    "\n",
    "\n",
    "ic_flavors = list(map(lambda x:'s'+str(x), range(10))) + list(map(lambda x:'f'+str(x), range(13)))\n",
    "\n",
    "\n",
    "from collections import defaultdict\n",
    "import numpy as np\n",
    "\n",
    "ordered_pairs_counts = defaultdict(int)\n",
    "unordered_pairs_counts = defaultdict(int)\n",
    "iterations = 10**5\n",
    "for i in range(iterations):\n",
    "    icf1 = np.random.choice(ic_flavors)\n",
    "    icf2 = np.random.choice(ic_flavors)\n",
    "    ordered_pairs_counts[icf1+'-'+icf2] += 1\n",
    "    key = icf1+'-'+icf2 if icf1<icf2 else icf2+'-'+icf1\n",
    "    unordered_pairs_counts[key] += 1\n",
    "\n",
    "print('there are {} ordered pairs'.format(len(ordered_pairs_counts)))\n",
    "print('there are {} unordered pairs'.format(len(unordered_pairs_counts)))"
   ]
  },
  {
   "cell_type": "code",
   "execution_count": null,
   "metadata": {},
   "outputs": [],
   "source": []
  },
  {
   "cell_type": "code",
   "execution_count": null,
   "metadata": {},
   "outputs": [],
   "source": []
  }
 ],
 "metadata": {
  "kernelspec": {
   "display_name": "Python 3",
   "language": "python",
   "name": "python3"
  },
  "language_info": {
   "codemirror_mode": {
    "name": "ipython",
    "version": 3
   },
   "file_extension": ".py",
   "mimetype": "text/x-python",
   "name": "python",
   "nbconvert_exporter": "python",
   "pygments_lexer": "ipython3",
   "version": "3.6.5"
  }
 },
 "nbformat": 4,
 "nbformat_minor": 2
}
