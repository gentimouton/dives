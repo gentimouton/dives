{
 "cells": [
  {
   "cell_type": "markdown",
   "metadata": {},
   "source": [
    "# Question 63 - Baby names\n",
    "\n",
    "Suppose you are given a dataset of Baby names. Using the dataset, you're tasked with figuring out the top boy and girl names in 2009.\n",
    "Can you describe how you would do this using Python Pandas? The solution will be Python code which walks through the logic and calculation."
   ]
  },
  {
   "cell_type": "code",
   "execution_count": 1,
   "metadata": {},
   "outputs": [
    {
     "name": "stdout",
     "output_type": "stream",
     "text": [
      "the most common girl name is Sam, with 789 occurrences\n",
      "the most common boy name is Lee, with 874 occurrences\n"
     ]
    }
   ],
   "source": [
    "import pandas as pd\n",
    "\n",
    "df = pd.DataFrame({\n",
    "    'name':['Joe','Sam','Sam','Lee','Lee'], \n",
    "    'gender':['M','M','F','F','M'],\n",
    "    'n':[123,456,789,231,874]\n",
    "})\n",
    "\n",
    "def get_top_name(df, gender):\n",
    "    \"\"\" given df of name counts with columns name, gender M/F, and n, \n",
    "    and a gender in 'M' or 'F', \n",
    "    return the most common name for that gender\n",
    "    \"\"\"\n",
    "    name, n = (\n",
    "        df\n",
    "        .query('gender==\"{}\"'.format(gender))\n",
    "        .groupby(['name'])\n",
    "        .agg({'n':max})\n",
    "        .sort_values(by='n',ascending=False)\n",
    "        .reset_index()\n",
    "        .iloc[0]\n",
    "    )\n",
    "    return name, n\n",
    "\n",
    "\n",
    "print('the most common girl name is {}, with {} occurrences'.format(*get_top_name(df,'F')))\n",
    "print('the most common boy name is {}, with {} occurrences'.format(*get_top_name(df,'M')))\n"
   ]
  },
  {
   "cell_type": "code",
   "execution_count": null,
   "metadata": {},
   "outputs": [],
   "source": []
  },
  {
   "cell_type": "code",
   "execution_count": null,
   "metadata": {},
   "outputs": [],
   "source": []
  },
  {
   "cell_type": "code",
   "execution_count": null,
   "metadata": {},
   "outputs": [],
   "source": []
  }
 ],
 "metadata": {
  "kernelspec": {
   "display_name": "Python 3",
   "language": "python",
   "name": "python3"
  },
  "language_info": {
   "codemirror_mode": {
    "name": "ipython",
    "version": 3
   },
   "file_extension": ".py",
   "mimetype": "text/x-python",
   "name": "python",
   "nbconvert_exporter": "python",
   "pygments_lexer": "ipython3",
   "version": "3.6.5"
  }
 },
 "nbformat": 4,
 "nbformat_minor": 2
}
