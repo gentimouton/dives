{
 "cells": [
  {
   "cell_type": "markdown",
   "metadata": {},
   "source": [
    "# Question 74 - Temperature conversion\n",
    "\n",
    "Write a Python function to convert temperatures from fahrenheit to celsius. More specifically, your function should be able to read an a list of unspecified length and print out the celsius temperature for each item.\n",
    "\n",
    "The formula to convert from fahrenheit to celsius is: (fahrenheit temperature - 32)*5 /9 "
   ]
  },
  {
   "cell_type": "code",
   "execution_count": 2,
   "metadata": {},
   "outputs": [
    {
     "data": {
      "text/plain": [
       "[21.11111111111111, 37.77777777777778, -17.77777777777778]"
      ]
     },
     "execution_count": 2,
     "metadata": {},
     "output_type": "execute_result"
    }
   ],
   "source": [
    "def fahrenheit_to_celsius(fahr_temps):\n",
    "    return list(map(lambda f_temp: (f_temp-32)*5/9, fahr_temps))\n",
    "\n",
    "fahrenheit_to_celsius([70,100,0])"
   ]
  },
  {
   "cell_type": "code",
   "execution_count": null,
   "metadata": {},
   "outputs": [],
   "source": []
  }
 ],
 "metadata": {
  "kernelspec": {
   "display_name": "Python 3",
   "language": "python",
   "name": "python3"
  },
  "language_info": {
   "codemirror_mode": {
    "name": "ipython",
    "version": 3
   },
   "file_extension": ".py",
   "mimetype": "text/x-python",
   "name": "python",
   "nbconvert_exporter": "python",
   "pygments_lexer": "ipython3",
   "version": "3.6.5"
  }
 },
 "nbformat": 4,
 "nbformat_minor": 2
}
