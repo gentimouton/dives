{
 "cells": [
  {
   "cell_type": "markdown",
   "metadata": {},
   "source": [
    "# Question 31 - Life expectancy\n",
    "\n",
    "Suppose you're analyzing a population of 100,000 people, and you're trying to understand life expectancy. Within this population of 100,000 people, 75% can expect to live to the age of 70, while 45% can expect to live to age 80. Given that a person is 70, what is the probability that they live to the age 80?"
   ]
  },
  {
   "cell_type": "markdown",
   "metadata": {},
   "source": [
    "We are looking for p(80|70).\n",
    "We know:\n",
    "- p(70) = .75\n",
    "- p(80) = .45\n",
    "- p(70|80) = 1\n",
    "\n",
    "Bayes rule: p(80|70) = p(80) * p(70|80) / p(70) = .45 / .75 = .6\n",
    "\n",
    "The chance they live to 80 given they've lived to 70 is 60%."
   ]
  },
  {
   "cell_type": "code",
   "execution_count": null,
   "metadata": {},
   "outputs": [],
   "source": []
  }
 ],
 "metadata": {
  "kernelspec": {
   "display_name": "Python 3",
   "language": "python",
   "name": "python3"
  },
  "language_info": {
   "codemirror_mode": {
    "name": "ipython",
    "version": 3
   },
   "file_extension": ".py",
   "mimetype": "text/x-python",
   "name": "python",
   "nbconvert_exporter": "python",
   "pygments_lexer": "ipython3",
   "version": "3.6.5"
  }
 },
 "nbformat": 4,
 "nbformat_minor": 2
}
