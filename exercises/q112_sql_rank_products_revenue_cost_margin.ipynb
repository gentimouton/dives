{
 "cells": [
  {
   "cell_type": "markdown",
   "metadata": {},
   "source": [
    "# Question 112 - eCommerce Margins\n",
    "SQL Database Querying Rank Function Window Function\n",
    "\n",
    "Suppose you're an analyst for an e-commerce store. You’re trying to identify the top selling items (by revenue) that have the highest margins. Using the tables below, can you write a SQL query that pulls the distributor, product_id, total revenue, total cost, total net margin, and number of units sold. Then, can you create additional columns that rank total net margin, total revenue, and total cost from greatest to least?\n",
    "\n",
    "```\n",
    "Table: allProducts\n",
    "Column Name \tData Type \tDescription\n",
    "product_id \tinteger \tid of the product\n",
    "product_name \tstring \tname of the product\n",
    "sku \tinteger \tuniversal stockkeeping unit number\n",
    "distributor_id \tinteger \tunique id for distributor\n",
    "\n",
    "Table: orders\n",
    "Column Name \tData Type \tDescription\n",
    "date \tstring \tformat is \"YYYY-MM-DD\"\n",
    "user_id \tinteger \tuser id of purchaser\n",
    "order_id \tinteger \tunique order number\n",
    "product_id \tinteger \tid of product\n",
    "no_units \tinteger \tnumber of units sold in the order\n",
    "sell_price \tinteger \tthe price the item is sold at\n",
    "buy_price \tinteger \tthe price to procure the item\n",
    "shipping_id \tinteger \tid of shipping information\n",
    "region \tstring \tregion of shipping id\n",
    "```"
   ]
  },
  {
   "cell_type": "markdown",
   "metadata": {},
   "source": [
    "```sql\n",
    "with product_perf as (\n",
    "select\n",
    "    p.distributor_id,\n",
    "    p.product_id,\n",
    "    sum(sell_price) as revenue,\n",
    "    sum(buy_price) as cost,\n",
    "    sum(sell_price - buy_price) as margin,\n",
    "    sum(no_units) as units_sold -- or is this sku * no_units?\n",
    "from orders o\n",
    "join allProducts p\n",
    "  on p.product_id = o.product_id\n",
    "group by 1,2\n",
    ")\n",
    "\n",
    "select\n",
    "    *,\n",
    "    row_number() over(order by revenue desc) as revenue_rank,\n",
    "    row_number() over(order by cost desc) as cost_rank,\n",
    "    row_number() over(order by margin desc) as margin_rank\n",
    "from product_perf \n",
    "```"
   ]
  },
  {
   "cell_type": "code",
   "execution_count": null,
   "metadata": {},
   "outputs": [],
   "source": []
  }
 ],
 "metadata": {
  "kernelspec": {
   "display_name": "Python 3",
   "language": "python",
   "name": "python3"
  },
  "language_info": {
   "codemirror_mode": {
    "name": "ipython",
    "version": 3
   },
   "file_extension": ".py",
   "mimetype": "text/x-python",
   "name": "python",
   "nbconvert_exporter": "python",
   "pygments_lexer": "ipython3",
   "version": "3.7.4"
  }
 },
 "nbformat": 4,
 "nbformat_minor": 2
}
