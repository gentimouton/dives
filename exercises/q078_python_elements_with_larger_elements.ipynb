{
 "cells": [
  {
   "cell_type": "markdown",
   "metadata": {},
   "source": [
    "# Question 78 - Largest elements in an array\n",
    "\n",
    "Given an array with k distinct elements, write a function to return all elements that have at least two elements greater than themselves in the same array:\n",
    "\n",
    "For example, given the following array:\n",
    "array = [2,3,9,7,6]\n",
    "\n",
    "Your function should return:\n",
    "[2,3,6]\n"
   ]
  },
  {
   "cell_type": "code",
   "execution_count": 2,
   "metadata": {},
   "outputs": [],
   "source": [
    "\n",
    "def test_find_elems_with_2_larger_elems(f):\n",
    "    assert f([2,3,9,7,6]) == [2,3,6]\n",
    "    \n",
    "def find_elems_with_2_larger_elems(arr):\n",
    "    result = []\n",
    "    for i in arr:\n",
    "        n_elems_greater = sum([j > i for j in arr])\n",
    "        if n_elems_greater >= 2:\n",
    "            result.append(i)\n",
    "    return result\n",
    "\n",
    "test_find_elems_with_2_larger_elems(find_elems_with_2_larger_elems)"
   ]
  },
  {
   "cell_type": "code",
   "execution_count": null,
   "metadata": {},
   "outputs": [],
   "source": []
  }
 ],
 "metadata": {
  "kernelspec": {
   "display_name": "Python 3",
   "language": "python",
   "name": "python3"
  },
  "language_info": {
   "codemirror_mode": {
    "name": "ipython",
    "version": 3
   },
   "file_extension": ".py",
   "mimetype": "text/x-python",
   "name": "python",
   "nbconvert_exporter": "python",
   "pygments_lexer": "ipython3",
   "version": "3.6.5"
  }
 },
 "nbformat": 4,
 "nbformat_minor": 2
}
