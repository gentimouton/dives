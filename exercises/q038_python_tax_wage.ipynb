{
 "cells": [
  {
   "cell_type": "markdown",
   "metadata": {},
   "source": [
    "# Question 38 - Calculating earnings with Python\n",
    "\n",
    "Suppose an individual is taxed 30% if earnings for a given week are > = \\$2,000. \n",
    "If earnings land < \\$2,000 for the week, the individual is taxed at a lower rate of 15%.\n",
    "\n",
    "Write a function using Python to calculate both the pre-tax and post-tax earnings for a given individual, with the ability to feed in the hourly wage and the weekly hours as inputs.\n",
    "\n",
    "For example, if an individual earns \\$55/hour and works for 40 hours, the function should return:\n",
    "- Pre-tax earnings were 55*40 = \\$2,200 for the week.\n",
    "- Post-tax earnings were \\$2,200*.7 (since we fall in higher tax bracket here) = \\$1,540 for the week\n"
   ]
  },
  {
   "cell_type": "code",
   "execution_count": 1,
   "metadata": {},
   "outputs": [],
   "source": [
    "def compute_pre_post_tax_earnings(hourly_wage, hours_worked):\n",
    "    pre = hourly_wage * hours_worked\n",
    "    if pre >= 2000:\n",
    "        post = pre * 0.7\n",
    "    else:\n",
    "        post = pre * 0.85\n",
    "    return pre, post\n",
    "\n",
    "def test_compute_pre_post_tax_earnings(f):\n",
    "    assert f(55,40) == (2200, 1540)\n",
    "    assert f(0,0) == (0,0)\n",
    "    \n",
    "test_compute_pre_post_tax_earnings(compute_pre_post_tax_earnings)"
   ]
  },
  {
   "cell_type": "code",
   "execution_count": null,
   "metadata": {},
   "outputs": [],
   "source": []
  }
 ],
 "metadata": {
  "kernelspec": {
   "display_name": "Python 3",
   "language": "python",
   "name": "python3"
  },
  "language_info": {
   "codemirror_mode": {
    "name": "ipython",
    "version": 3
   },
   "file_extension": ".py",
   "mimetype": "text/x-python",
   "name": "python",
   "nbconvert_exporter": "python",
   "pygments_lexer": "ipython3",
   "version": "3.6.5"
  }
 },
 "nbformat": 4,
 "nbformat_minor": 2
}
