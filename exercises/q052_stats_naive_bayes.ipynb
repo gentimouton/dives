{
 "cells": [
  {
   "cell_type": "markdown",
   "metadata": {},
   "source": [
    "# Question 52 - Naive Bayes\n",
    "\n",
    "What is Naive Bayes' theorem, and why is it considered 'naive'? Why is it often used in practical applications rather than trying to implement an algorithm based on Bayes' Theorem (non-naive)?"
   ]
  },
  {
   "cell_type": "markdown",
   "metadata": {},
   "source": [
    "Bayes theorem: `p(a|b) * p(b) = p(b|a) * p(a)`\n",
    "\n",
    "Naive Bayes algorithm computes p(label|feature) \n",
    "from the train set's p(label), p(feature), and p(feature|label).\n",
    "\n",
    "It's naive because it assumes the features are independent.\n",
    "\n",
    "Practically, features sometimes independent, so NB makes sense. \n",
    "When they are not, we can run PCA beforehand to reduce the number of features, and make them (more) independent.\n",
    "\n",
    "NB is also easy to understand, and therefore easy debug."
   ]
  },
  {
   "cell_type": "code",
   "execution_count": null,
   "metadata": {},
   "outputs": [],
   "source": []
  }
 ],
 "metadata": {
  "kernelspec": {
   "display_name": "Python 3",
   "language": "python",
   "name": "python3"
  },
  "language_info": {
   "codemirror_mode": {
    "name": "ipython",
    "version": 3
   },
   "file_extension": ".py",
   "mimetype": "text/x-python",
   "name": "python",
   "nbconvert_exporter": "python",
   "pygments_lexer": "ipython3",
   "version": "3.6.5"
  }
 },
 "nbformat": 4,
 "nbformat_minor": 2
}
