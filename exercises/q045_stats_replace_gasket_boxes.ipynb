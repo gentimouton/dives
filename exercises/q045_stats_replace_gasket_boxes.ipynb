{
 "cells": [
  {
   "cell_type": "markdown",
   "metadata": {},
   "source": [
    "# Question 45 - Defective gaskets\n",
    "\n",
    "Suppose you're working in a parts manufacturing plant, \n",
    "and you're running quality analysis on the gasket production line. \n",
    "Gaskets produced by your company will be defective 1% of the time,\n",
    "and are distributed in packs of 20.\n",
    "\n",
    "Your company has a policy where if 1 or more of the 20 gaskets in a \n",
    "given pack is defective, they will replace the entire package. \n",
    "What proportion of packages does the company need to replace?\n",
    "\n",
    "If you're struggling with where to start here, consider that this\n",
    "is a binomial probability problem. "
   ]
  },
  {
   "cell_type": "markdown",
   "metadata": {},
   "source": [
    "Solution: \n",
    "\n",
    "Chance that a pack is 20/20 good: .99^20 = .82\n",
    "\n",
    "So the company will need to replace 18% of packs."
   ]
  },
  {
   "cell_type": "code",
   "execution_count": null,
   "metadata": {},
   "outputs": [],
   "source": []
  }
 ],
 "metadata": {
  "kernelspec": {
   "display_name": "Python 3",
   "language": "python",
   "name": "python3"
  },
  "language_info": {
   "codemirror_mode": {
    "name": "ipython",
    "version": 3
   },
   "file_extension": ".py",
   "mimetype": "text/x-python",
   "name": "python",
   "nbconvert_exporter": "python",
   "pygments_lexer": "ipython3",
   "version": "3.6.5"
  }
 },
 "nbformat": 4,
 "nbformat_minor": 2
}
