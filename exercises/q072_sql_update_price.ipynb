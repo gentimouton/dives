{
 "cells": [
  {
   "cell_type": "markdown",
   "metadata": {},
   "source": [
    "# Question 72 - Shoe prices\n",
    "\n",
    "Suppose you are given a SQL table containing the brands of shoes (field name: brand) as well as the shoe price (field name: price). The database is called shoe_info. You are tasked with updating the prices in this database for a few brands of shoes. Specifically, you have been asked to update all Nike shoe prices to \\$100, and all Adidas shoe prices to \\$85. Using SQL, write a query to perform this action. "
   ]
  },
  {
   "cell_type": "markdown",
   "metadata": {},
   "source": [
    "```sql\n",
    "\n",
    "update shoe_info\n",
    "set price = 100\n",
    "where lower(brand) = 'nike'\n",
    ";\n",
    "\n",
    "update shoe_info\n",
    "set price = 85\n",
    "where lower(brand) = 'adidas'\n",
    ";\n",
    "\n",
    "```"
   ]
  },
  {
   "cell_type": "code",
   "execution_count": null,
   "metadata": {},
   "outputs": [],
   "source": []
  }
 ],
 "metadata": {
  "kernelspec": {
   "display_name": "Python 3",
   "language": "python",
   "name": "python3"
  },
  "language_info": {
   "codemirror_mode": {
    "name": "ipython",
    "version": 3
   },
   "file_extension": ".py",
   "mimetype": "text/x-python",
   "name": "python",
   "nbconvert_exporter": "python",
   "pygments_lexer": "ipython3",
   "version": "3.6.5"
  }
 },
 "nbformat": 4,
 "nbformat_minor": 2
}
