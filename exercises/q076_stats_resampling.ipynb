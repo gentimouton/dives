{
 "cells": [
  {
   "cell_type": "markdown",
   "metadata": {},
   "source": [
    "# Question 76 - Resampling\n",
    "\n",
    "Can you explain what resampling is? Can you name 2 seperate resampling methods and explain the pros and cons?\n",
    "\n",
    "Bonus: Can you tell me about a time where you had to use a resampling technique?\n"
   ]
  },
  {
   "cell_type": "markdown",
   "metadata": {},
   "source": [
    "Resampling consists of building a new sample from an existing one.\n",
    "\n",
    "*Oversampling* (with replacement) consists of making a sample bigger than the original one.\n",
    "It's useful when trying to make a balanced dataset from an imbalanced one (eg fraud detection).\n",
    "It's dangerous when the minority class is really small and not representative (high model bias).\n",
    "\n",
    "*Sampling without replacement* is used in permutation test, to assess power when analyzing experiments.\n",
    "The new samples (A' and B') are the same size as the original A and B.\n",
    "Doing these new samples many times (eg 1000) gives confidence intervals on the difference between two groups."
   ]
  },
  {
   "cell_type": "code",
   "execution_count": null,
   "metadata": {},
   "outputs": [],
   "source": []
  }
 ],
 "metadata": {
  "kernelspec": {
   "display_name": "Python 3",
   "language": "python",
   "name": "python3"
  },
  "language_info": {
   "codemirror_mode": {
    "name": "ipython",
    "version": 3
   },
   "file_extension": ".py",
   "mimetype": "text/x-python",
   "name": "python",
   "nbconvert_exporter": "python",
   "pygments_lexer": "ipython3",
   "version": "3.6.5"
  }
 },
 "nbformat": 4,
 "nbformat_minor": 2
}
