{
 "cells": [
  {
   "cell_type": "markdown",
   "metadata": {},
   "source": [
    "# Question 89 - Confidence intervals for a dataset\n",
    "\n",
    "Given the following [data set](https://docs.google.com/spreadsheets/d/1HQmIjqmr0GYMHCswM-zRPM-R0P_2ck4orn1iBXdoOcA/edit#gid=0) which contains the close price for a given stock, can you plot confidence intervals for the data set? The output should be a plot with the stock price and confidence intervals shown on the same plot. "
   ]
  },
  {
   "cell_type": "code",
   "execution_count": 1,
   "metadata": {},
   "outputs": [
    {
     "data": {
      "text/html": [
       "<div>\n",
       "<style scoped>\n",
       "    .dataframe tbody tr th:only-of-type {\n",
       "        vertical-align: middle;\n",
       "    }\n",
       "\n",
       "    .dataframe tbody tr th {\n",
       "        vertical-align: top;\n",
       "    }\n",
       "\n",
       "    .dataframe thead th {\n",
       "        text-align: right;\n",
       "    }\n",
       "</style>\n",
       "<table border=\"1\" class=\"dataframe\">\n",
       "  <thead>\n",
       "    <tr style=\"text-align: right;\">\n",
       "      <th></th>\n",
       "      <th>Date</th>\n",
       "      <th>Close</th>\n",
       "    </tr>\n",
       "  </thead>\n",
       "  <tbody>\n",
       "    <tr>\n",
       "      <th>0</th>\n",
       "      <td>1/2/2018</td>\n",
       "      <td>1065.00</td>\n",
       "    </tr>\n",
       "    <tr>\n",
       "      <th>1</th>\n",
       "      <td>1/3/2018</td>\n",
       "      <td>1082.48</td>\n",
       "    </tr>\n",
       "    <tr>\n",
       "      <th>2</th>\n",
       "      <td>1/4/2018</td>\n",
       "      <td>1086.40</td>\n",
       "    </tr>\n",
       "    <tr>\n",
       "      <th>3</th>\n",
       "      <td>1/5/2018</td>\n",
       "      <td>1102.23</td>\n",
       "    </tr>\n",
       "    <tr>\n",
       "      <th>4</th>\n",
       "      <td>1/8/2018</td>\n",
       "      <td>1106.94</td>\n",
       "    </tr>\n",
       "  </tbody>\n",
       "</table>\n",
       "</div>"
      ],
      "text/plain": [
       "       Date    Close\n",
       "0  1/2/2018  1065.00\n",
       "1  1/3/2018  1082.48\n",
       "2  1/4/2018  1086.40\n",
       "3  1/5/2018  1102.23\n",
       "4  1/8/2018  1106.94"
      ]
     },
     "execution_count": 1,
     "metadata": {},
     "output_type": "execute_result"
    }
   ],
   "source": [
    "import pandas as pd\n",
    "import matplotlib.pyplot as plt\n",
    "import numpy as np\n",
    "import scipy.stats as spstats\n",
    "\n",
    "df = pd.read_csv('q089_data.csv', parse_dates=True)\n",
    "df.head()"
   ]
  },
  {
   "cell_type": "code",
   "execution_count": 2,
   "metadata": {},
   "outputs": [
    {
     "data": {
      "image/png": "[encoded data removed]",
      "text/plain": [
       "<Figure size 432x288 with 1 Axes>"
      ]
     },
     "metadata": {},
     "output_type": "display_data"
    }
   ],
   "source": [
    "# cleanup\n",
    "df['Date'] = pd.to_datetime(df['Date'], infer_datetime_format=True)\n",
    "df['yyyymm'] = df['Date'].map(lambda x: 100*x.year + x.month) # https://stackoverflow.com/a/25146337\n",
    "df['month'] = df['Date'].values.astype('datetime64[M]')\n",
    "\n",
    "# plot\n",
    "def plot_time_series(df, dt_colname, value_colname):    \n",
    "    df = df.set_index(dt_colname)\n",
    "    df[value_colname].plot()\n",
    "\n",
    "plot_time_series(df, 'Date', 'Close')"
   ]
  },
  {
   "cell_type": "code",
   "execution_count": 3,
   "metadata": {},
   "outputs": [
    {
     "name": "stdout",
     "output_type": "stream",
     "text": [
      "mean=1125.963523809523, sd=65.36527116599986, se=4.5106322408730355, n=210\n",
      "error bar radius: 7.452362886164888\n"
     ]
    }
   ],
   "source": [
    "def compute_summary(df, value_colname, alpha=.95):\n",
    "    # for more options, see https://stackoverflow.com/questions/15033511/compute-a-confidence-interval-from-sample-data\n",
    "    sd = df['Close'].std()\n",
    "    n = len(df)\n",
    "    mu = df['Close'].mean()\n",
    "    se = sd/np.sqrt(n)\n",
    "    tvalue = spstats.t.ppf(alpha, n-1)\n",
    "    conf_radius = tvalue * se\n",
    "    return mu, sd, se, n, tvalue, conf_radius\n",
    "\n",
    "mu, sd, se, n, tvalue, conf_radius = compute_summary(df, 'Close')\n",
    "print(f\"mean={mu}, sd={sd}, se={se}, n={n}\")\n",
    "print(f\"error bar radius: {conf_radius}\")"
   ]
  },
  {
   "cell_type": "code",
   "execution_count": 4,
   "metadata": {},
   "outputs": [
    {
     "data": {
      "text/plain": [
       "<BarContainer object of 1 artists>"
      ]
     },
     "execution_count": 4,
     "metadata": {},
     "output_type": "execute_result"
    },
    {
     "data": {
      "image/png": "[encoded data removed]",
      "text/plain": [
       "<Figure size 432x288 with 1 Axes>"
      ]
     },
     "metadata": {},
     "output_type": "display_data"
    }
   ],
   "source": [
    "axes = plt.gca()\n",
    "axes.set_ylim([mu-2*conf_radius,mu+2*conf_radius])\n",
    "plt.bar(1, mu, yerr=conf_radius)"
   ]
  },
  {
   "cell_type": "markdown",
   "metadata": {},
   "source": [
    "# plot conf interval for monthly agg"
   ]
  },
  {
   "cell_type": "code",
   "execution_count": 5,
   "metadata": {},
   "outputs": [
    {
     "data": {
      "text/html": [
       "<div>\n",
       "<style scoped>\n",
       "    .dataframe tbody tr th:only-of-type {\n",
       "        vertical-align: middle;\n",
       "    }\n",
       "\n",
       "    .dataframe tbody tr th {\n",
       "        vertical-align: top;\n",
       "    }\n",
       "\n",
       "    .dataframe thead th {\n",
       "        text-align: right;\n",
       "    }\n",
       "</style>\n",
       "<table border=\"1\" class=\"dataframe\">\n",
       "  <thead>\n",
       "    <tr style=\"text-align: right;\">\n",
       "      <th></th>\n",
       "      <th>mean</th>\n",
       "      <th>std</th>\n",
       "      <th>count</th>\n",
       "      <th>sem</th>\n",
       "    </tr>\n",
       "    <tr>\n",
       "      <th>month</th>\n",
       "      <th></th>\n",
       "      <th></th>\n",
       "      <th></th>\n",
       "      <th></th>\n",
       "    </tr>\n",
       "  </thead>\n",
       "  <tbody>\n",
       "    <tr>\n",
       "      <th>2018-01-01</th>\n",
       "      <td>1130.770476</td>\n",
       "      <td>34.460669</td>\n",
       "      <td>21</td>\n",
       "      <td>7.519934</td>\n",
       "    </tr>\n",
       "    <tr>\n",
       "      <th>2018-02-01</th>\n",
       "      <td>1088.206842</td>\n",
       "      <td>40.450562</td>\n",
       "      <td>19</td>\n",
       "      <td>9.279995</td>\n",
       "    </tr>\n",
       "    <tr>\n",
       "      <th>2018-03-01</th>\n",
       "      <td>1091.490476</td>\n",
       "      <td>49.961829</td>\n",
       "      <td>21</td>\n",
       "      <td>10.902565</td>\n",
       "    </tr>\n",
       "    <tr>\n",
       "      <th>2018-04-01</th>\n",
       "      <td>1035.696190</td>\n",
       "      <td>24.316976</td>\n",
       "      <td>21</td>\n",
       "      <td>5.306399</td>\n",
       "    </tr>\n",
       "    <tr>\n",
       "      <th>2018-05-01</th>\n",
       "      <td>1069.275909</td>\n",
       "      <td>21.620003</td>\n",
       "      <td>22</td>\n",
       "      <td>4.609400</td>\n",
       "    </tr>\n",
       "    <tr>\n",
       "      <th>2018-06-01</th>\n",
       "      <td>1137.626667</td>\n",
       "      <td>19.952855</td>\n",
       "      <td>21</td>\n",
       "      <td>4.354070</td>\n",
       "    </tr>\n",
       "    <tr>\n",
       "      <th>2018-07-01</th>\n",
       "      <td>1187.590476</td>\n",
       "      <td>45.577861</td>\n",
       "      <td>21</td>\n",
       "      <td>9.945905</td>\n",
       "    </tr>\n",
       "    <tr>\n",
       "      <th>2018-08-01</th>\n",
       "      <td>1225.671739</td>\n",
       "      <td>15.984635</td>\n",
       "      <td>23</td>\n",
       "      <td>3.333027</td>\n",
       "    </tr>\n",
       "    <tr>\n",
       "      <th>2018-09-01</th>\n",
       "      <td>1175.808947</td>\n",
       "      <td>12.074479</td>\n",
       "      <td>19</td>\n",
       "      <td>2.770075</td>\n",
       "    </tr>\n",
       "    <tr>\n",
       "      <th>2018-10-01</th>\n",
       "      <td>1112.493636</td>\n",
       "      <td>50.543414</td>\n",
       "      <td>22</td>\n",
       "      <td>10.775892</td>\n",
       "    </tr>\n",
       "  </tbody>\n",
       "</table>\n",
       "</div>"
      ],
      "text/plain": [
       "                   mean        std  count        sem\n",
       "month                                               \n",
       "2018-01-01  1130.770476  34.460669     21   7.519934\n",
       "2018-02-01  1088.206842  40.450562     19   9.279995\n",
       "2018-03-01  1091.490476  49.961829     21  10.902565\n",
       "2018-04-01  1035.696190  24.316976     21   5.306399\n",
       "2018-05-01  1069.275909  21.620003     22   4.609400\n",
       "2018-06-01  1137.626667  19.952855     21   4.354070\n",
       "2018-07-01  1187.590476  45.577861     21   9.945905\n",
       "2018-08-01  1225.671739  15.984635     23   3.333027\n",
       "2018-09-01  1175.808947  12.074479     19   2.770075\n",
       "2018-10-01  1112.493636  50.543414     22  10.775892"
      ]
     },
     "execution_count": 5,
     "metadata": {},
     "output_type": "execute_result"
    }
   ],
   "source": [
    "ddf = df.groupby('month').agg({'Close': [np.mean, np.std, \"count\", spstats.sem]})\n",
    "ddf.columns = ddf.columns.droplevel(0)\n",
    "# ddf.reset_index(inplace=True)\n",
    "ddf"
   ]
  },
  {
   "cell_type": "code",
   "execution_count": 6,
   "metadata": {},
   "outputs": [
    {
     "data": {
      "text/plain": [
       "<matplotlib.axes._subplots.AxesSubplot at 0x27f02c01eb8>"
      ]
     },
     "execution_count": 6,
     "metadata": {},
     "output_type": "execute_result"
    },
    {
     "data": {
      "image/png": "[encoded data removed]",
      "text/plain": [
       "<Figure size 432x288 with 1 Axes>"
      ]
     },
     "metadata": {},
     "output_type": "display_data"
    }
   ],
   "source": [
    "# compute low/hi CI for the monthly agg\n",
    "alpha = .95\n",
    "ddf['conf_radius'] = ddf['sem'] + spstats.t.ppf(alpha, ddf['count']-1)\n",
    "ddf['cost_high'] = ddf['mean'] + ddf['conf_radius']\n",
    "ddf['cost_low'] = ddf['mean'] - ddf['conf_radius']\n",
    "\n",
    "ddf[['cost_high','cost_low']].plot()"
   ]
  },
  {
   "cell_type": "code",
   "execution_count": null,
   "metadata": {},
   "outputs": [],
   "source": []
  }
 ],
 "metadata": {
  "kernelspec": {
   "display_name": "Python 3",
   "language": "python",
   "name": "python3"
  },
  "language_info": {
   "codemirror_mode": {
    "name": "ipython",
    "version": 3
   },
   "file_extension": ".py",
   "mimetype": "text/x-python",
   "name": "python",
   "nbconvert_exporter": "python",
   "pygments_lexer": "ipython3",
   "version": "3.6.5"
  }
 },
 "nbformat": 4,
 "nbformat_minor": 2
}
