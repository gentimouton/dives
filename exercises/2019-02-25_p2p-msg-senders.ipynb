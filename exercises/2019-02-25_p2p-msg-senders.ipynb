{
 "cells": [
  {
   "cell_type": "code",
   "execution_count": 28,
   "metadata": {},
   "outputs": [
    {
     "data": {
      "text/plain": [
       "0    '123456'\n",
       "1    '7890ab'\n",
       "Name: sender, dtype: object"
      ]
     },
     "execution_count": 28,
     "metadata": {},
     "output_type": "execute_result"
    }
   ],
   "source": [
    "# Below is a table schema for a P2P messaging application. \n",
    "# The table contains send/receive message data for the application's users, and has the following schema:\n",
    "# time_stamp (epoch seconds), sender_id (# id of the message sender), receiver_id (# id of the message receiver)\n",
    "# Question: What fraction of active users communicated with at least 2 unique people on 2019-02-26 GMT? \n",
    "\n",
    "import pandas as pd\n",
    "import datetime\n",
    "# mock up data: expect this to return 123456 and 7890ab\n",
    "s = \"\"\"ts,sender,receiver\n",
    "1540071583,'123456','7890ab'\n",
    "1551156983,'7890ab','123456'\n",
    "1551156988,'123456','abcdef'\n",
    "1551156998,'123456','abcdef'\n",
    "1551157098,'123456','7890ab'\n",
    "1551157983,'7890ab','123456'\n",
    "1551157999,'7890ab','abcdef'\n",
    "1551157999,'abcdef','123456'\n",
    "\"\"\"\n",
    "df = pd.read_csv(pd.compat.StringIO(s))\n",
    "\n",
    "df['ts'] = pd.to_datetime(df['ts'], unit='s')\n",
    "df = df[df['ts']>=pd.Timestamp(2019, 2, 26)]\n",
    "agg = df.groupby('sender').agg({'receiver':'nunique'}).reset_index()\n",
    "agg[agg['receiver']>=2]['sender']\n"
   ]
  },
  {
   "cell_type": "code",
   "execution_count": null,
   "metadata": {},
   "outputs": [],
   "source": []
  }
 ],
 "metadata": {
  "kernelspec": {
   "display_name": "Python 3",
   "language": "python",
   "name": "python3"
  },
  "language_info": {
   "codemirror_mode": {
    "name": "ipython",
    "version": 3
   },
   "file_extension": ".py",
   "mimetype": "text/x-python",
   "name": "python",
   "nbconvert_exporter": "python",
   "pygments_lexer": "ipython3",
   "version": "3.6.5"
  }
 },
 "nbformat": 4,
 "nbformat_minor": 2
}
