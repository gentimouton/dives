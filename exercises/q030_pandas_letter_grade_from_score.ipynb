{
 "cells": [
  {
   "cell_type": "markdown",
   "metadata": {},
   "source": [
    "# Question 30 - Assigning grades\n",
    "\n",
    "You are given a dataframe (df) of students, and you need to assign grades to each student. The table schema is as follows:\n",
    "\n",
    "|Column name |Data type |Example value |Description|\n",
    "|---|---|---|---|\n",
    "|student_name |string |Cindy Chu |Name of student|\n",
    "|student_id |integer |1837204 |Unique id for each student|\n",
    "|class |string |Biology |Name of class|\n",
    "|final_grade_pct |integer |80 |final grade for class represented in percent|\n",
    "\n",
    "\n",
    "You need to assign the following letter grades based on final_grade_pct in a new column named \"final_grade_letter\":\n",
    "\n",
    "    >90 - A\n",
    "    81-90 - B\n",
    "    71-80 - C\n",
    "    <70 - D \n",
    "\n",
    "Write a function using Python to loop through the table and assign the appropriate letter grades to each student, adding a new column to the existing dataframe, df."
   ]
  },
  {
   "cell_type": "code",
   "execution_count": 1,
   "metadata": {},
   "outputs": [
    {
     "data": {
      "text/html": [
       "<div>\n",
       "<style scoped>\n",
       "    .dataframe tbody tr th:only-of-type {\n",
       "        vertical-align: middle;\n",
       "    }\n",
       "\n",
       "    .dataframe tbody tr th {\n",
       "        vertical-align: top;\n",
       "    }\n",
       "\n",
       "    .dataframe thead th {\n",
       "        text-align: right;\n",
       "    }\n",
       "</style>\n",
       "<table border=\"1\" class=\"dataframe\">\n",
       "  <thead>\n",
       "    <tr style=\"text-align: right;\">\n",
       "      <th></th>\n",
       "      <th>student_name</th>\n",
       "      <th>student_id</th>\n",
       "      <th>class</th>\n",
       "      <th>g</th>\n",
       "      <th>g1</th>\n",
       "      <th>g2</th>\n",
       "      <th>g3</th>\n",
       "    </tr>\n",
       "  </thead>\n",
       "  <tbody>\n",
       "    <tr>\n",
       "      <th>0</th>\n",
       "      <td>Alice</td>\n",
       "      <td>123</td>\n",
       "      <td>Bio</td>\n",
       "      <td>91</td>\n",
       "      <td>a</td>\n",
       "      <td>a</td>\n",
       "      <td>a</td>\n",
       "    </tr>\n",
       "    <tr>\n",
       "      <th>1</th>\n",
       "      <td>Bob</td>\n",
       "      <td>456</td>\n",
       "      <td>CS</td>\n",
       "      <td>65</td>\n",
       "      <td>c</td>\n",
       "      <td>c</td>\n",
       "      <td>c</td>\n",
       "    </tr>\n",
       "  </tbody>\n",
       "</table>\n",
       "</div>"
      ],
      "text/plain": [
       "  student_name  student_id class   g g1 g2 g3\n",
       "0        Alice         123   Bio  91  a  a  a\n",
       "1          Bob         456    CS  65  c  c  c"
      ]
     },
     "execution_count": 1,
     "metadata": {},
     "output_type": "execute_result"
    }
   ],
   "source": [
    "import pandas as pd\n",
    "import numpy as np \n",
    "\n",
    "df = pd.DataFrame({\n",
    "    'student_name':['Alice','Bob'],\n",
    "    'student_id': [123,456],\n",
    "    'class': ['Bio','CS'],\n",
    "    'g': [91,65]\n",
    "    })\n",
    "\n",
    "# option 1 \n",
    "def to_letter(g):\n",
    "    if g >= 91:\n",
    "        return 'a'\n",
    "    elif 81 <= g < 90:\n",
    "        return 'b'\n",
    "    else:\n",
    "        return 'c'\n",
    "df['g1'] = df['g'].apply(to_letter)\n",
    "# option 2\n",
    "df['g2'] = df['g'].apply(lambda x: 'a' if x>=91 else('b' if 80<=x<=90 else 'c'))\n",
    "# option 3\n",
    "conditions = [(df['g']>=91), (df['g']<=90) &(df['g']>=81), (df['g']<=80)]\n",
    "labels = ['a','b','c']\n",
    "df['g3'] = np.select(conditions, labels)\n",
    "df"
   ]
  },
  {
   "cell_type": "code",
   "execution_count": null,
   "metadata": {},
   "outputs": [],
   "source": []
  }
 ],
 "metadata": {
  "kernelspec": {
   "display_name": "Python 3",
   "language": "python",
   "name": "python3"
  },
  "language_info": {
   "codemirror_mode": {
    "name": "ipython",
    "version": 3
   },
   "file_extension": ".py",
   "mimetype": "text/x-python",
   "name": "python",
   "nbconvert_exporter": "python",
   "pygments_lexer": "ipython3",
   "version": "3.6.5"
  }
 },
 "nbformat": 4,
 "nbformat_minor": 2
}
