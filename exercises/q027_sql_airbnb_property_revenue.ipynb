{
 "cells": [
  {
   "cell_type": "markdown",
   "metadata": {},
   "source": [
    "# Question 27 - Property revenue across cities\n",
    "\n",
    "Suppose you work for Airbnb as an analyst. \n",
    "A team has come to you asking which cities make the highest revenue\n",
    "for the company in 2017. Can you write a SQL query to answer the question?\n",
    "\n",
    "You have one table with property location information and another \n",
    "with stay information. The schema each table is shown below:\n",
    "\n",
    "Table: property_location_info\n",
    "\n",
    "|Column Name |Data Type |Description|\n",
    "|---|---|---|\n",
    "|property_id |integer |ID of the property location|\n",
    "|country |string |country code of the property location|\n",
    "|city_name |string |name of city (note there can be multiple cities with the same name)|\n",
    "|subregion_name |string |provience, state, or subregion name|\n",
    "|address |string |address of property location|\n",
    "\n",
    "Table: stays_info\n",
    "\n",
    "|Column Name |Data Type |Description|\n",
    "|---|---|---|\n",
    "|guest_id |integer |ID of guest|\n",
    "|property_id |integer |ID of the property location|\n",
    "|host_id |integer |ID of the host manging the property|\n",
    "|revenue |integer |cost of stay for guest in USD|\n",
    "|date_start |string |start day of stay, format is \"YYYY-mm-dd\"|\n",
    "|date_end |string |end day of stay, format is \"YYYY-mm-dd\"|\n",
    "|stay_length |integer |number of days for the stay|\n",
    "|airbnb_revenue |integer |revenue that Airbnb collected on stay|\n"
   ]
  },
  {
   "cell_type": "markdown",
   "metadata": {},
   "source": [
    "```sql\n",
    "\n",
    "with property_revenue as (\n",
    "    select \n",
    "        property_id, \n",
    "        sum(airbnb_revenue) as property_rev\n",
    "    from stays_info\n",
    "    where date_start >= '2017-01-01'\n",
    "      and date_start < '2018-01-01'\n",
    "    group by 1\n",
    ")\n",
    "\n",
    "select\n",
    "    city_name,\n",
    "    subregion_name, -- to dedupe cities with the same names\n",
    "    sum(property_rev) as city_rev\n",
    "from property_revenue r\n",
    "join property_location_info p\n",
    "    on p.property_id = r.property_id\n",
    "group by 1,2\n",
    "order by 3 desc\n",
    "```"
   ]
  },
  {
   "cell_type": "code",
   "execution_count": null,
   "metadata": {},
   "outputs": [],
   "source": []
  }
 ],
 "metadata": {
  "kernelspec": {
   "display_name": "Python 3",
   "language": "python",
   "name": "python3"
  },
  "language_info": {
   "codemirror_mode": {
    "name": "ipython",
    "version": 3
   },
   "file_extension": ".py",
   "mimetype": "text/x-python",
   "name": "python",
   "nbconvert_exporter": "python",
   "pygments_lexer": "ipython3",
   "version": "3.6.5"
  }
 },
 "nbformat": 4,
 "nbformat_minor": 2
}
