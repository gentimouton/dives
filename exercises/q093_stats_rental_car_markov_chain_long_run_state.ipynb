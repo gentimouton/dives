{
 "cells": [
  {
   "cell_type": "markdown",
   "metadata": {},
   "source": [
    "# Question 93 - Rental Car Locations\n",
    "\n",
    "Suppose you're working for a car rental company, looking to model potential location distribution of their cars at major airports. The company operates in LA, SF, and San Jose. Customers regularly pickup a car in one of these 3 cities and drop it off in another. The company is looking to compute how likely it is that a given car will end up in a given city. You can model this as a Markov chain (where each time step corresponds to a new customer taking the car). The transition probabilities of the company's car allocation by city is as follows:\n",
    "\n",
    "```\n",
    " SF | LA | San Jose\n",
    "\n",
    " 0.6  0.1  0.3 | SF\n",
    "\n",
    " 0.2  0.8  0.3 | LA\n",
    "\n",
    " 0.2  0.1  0.4 | San Jose\n",
    "```\n",
    "\n",
    "As shown, the probability a car stays in SF is 0.6, the probability it moves from SF to LA is 0.2, SF to San Jose is 0.2, etc.\n",
    "\n",
    "Using the information above, determine the probability a car will start in SF but move to LA right after."
   ]
  },
  {
   "cell_type": "code",
   "execution_count": 1,
   "metadata": {},
   "outputs": [
    {
     "name": "stdout",
     "output_type": "stream",
     "text": [
      "probability of starting in SF and going to LA right after is 0.2\n"
     ]
    }
   ],
   "source": [
    "# the answer is given in the question: 0.2\n",
    "\n",
    "import numpy as np\n",
    "\n",
    "transitions = np.array([\n",
    "    [.6,.1,.3],\n",
    "    [.2,.8,.3],\n",
    "    [.2,.1,.4]\n",
    "])\n",
    "start = np.array([1,0,0])\n",
    "\n",
    "p = transitions.dot(start)[1]\n",
    "print(f'probability of starting in SF and going to LA right after is {p}') "
   ]
  },
  {
   "cell_type": "markdown",
   "metadata": {},
   "source": [
    "**Alternative question: what is the long-run state?**\n",
    "\n",
    "We have 4 equations with 3 unknowns.\n",
    "```\n",
    "a = .6a + .1b + .3c\n",
    "b = .2a + .8b + .3c\n",
    "c = .2a + .1b + .4c\n",
    "a + b + c = 1\n",
    "```\n",
    "\n",
    "Solving this:\n",
    "1. equation 4: `a = 1 - b - c`\n",
    "\n",
    "2. replace `a` into equation 1: \n",
    "\n",
    "```\n",
    "1 - b - c = .6 - .6b - .6c + .1b + .3c, \n",
    ".4 = .5b + .7c, \n",
    "b = 4/5 - 7/5 c\n",
    "\n",
    "a = 1 - 4/5 + 7/5 c - c = 1/5 + 2/5 c\n",
    "```\n",
    "\n",
    "3. obtain `c` by replacing `a` and `b` into equation 2: \n",
    "\n",
    "```\n",
    "4/5 - 7/5 c = 1/5*1/5 + 1/5*2/5c + 4/5*4/5 - 4/5*7/5c + .3c\n",
    "4/5 - 1/25 - 16/25 = (7/5 + 2/25 - 28/25 + 3/10)c\n",
    "3/25 = (90/250 + 75/250)c = 33/50 c\n",
    "c = 3*2/33 = 2/11\n",
    "\n",
    "b = 4/5 - 7/5*2/11 = 44/55 - 14/55 = 30/55 = 6/11\n",
    "a = 1 - 6/11 - 2/11 = 3/11\n",
    "```\n",
    "\n",
    "4. Verification: transitions x stable_state = stable_state\n",
    "\n",
    "```\n",
    "        3   /11\n",
    "        6\n",
    "        2\n",
    "\n",
    "6 1 3   30\n",
    "2 8 3   60\n",
    "2 1 4   20 /10/11\n",
    "    /10\n",
    "```\n",
    "\n",
    "4. Conclusion: In the long run, 30% of cars end up in SF, 60% in LA, and 20% in SJ. \n",
    "Recommendation: If demand is equal in LA, SF, and SJ, we will need to drive back some cars from SJ and/or SF to LA."
   ]
  },
  {
   "cell_type": "code",
   "execution_count": 3,
   "metadata": {},
   "outputs": [],
   "source": [
    "# some links\n",
    "# https://math.stackexchange.com/q/2487893\n",
    "# http://www.math.harvard.edu/~knill/teaching/math19b_2011/handouts/lecture33.pdf"
   ]
  },
  {
   "cell_type": "code",
   "execution_count": null,
   "metadata": {},
   "outputs": [],
   "source": []
  }
 ],
 "metadata": {
  "kernelspec": {
   "display_name": "Python 3",
   "language": "python",
   "name": "python3"
  },
  "language_info": {
   "codemirror_mode": {
    "name": "ipython",
    "version": 3
   },
   "file_extension": ".py",
   "mimetype": "text/x-python",
   "name": "python",
   "nbconvert_exporter": "python",
   "pygments_lexer": "ipython3",
   "version": "3.7.4"
  }
 },
 "nbformat": 4,
 "nbformat_minor": 2
}
