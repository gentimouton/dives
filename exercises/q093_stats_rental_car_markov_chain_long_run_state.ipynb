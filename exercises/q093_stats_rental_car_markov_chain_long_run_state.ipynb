{
 "cells": [
  {
   "cell_type": "markdown",
   "metadata": {},
   "source": [
    "# Question 93 - Rental Car Locations\n",
    "\n",
    "Suppose you're working for a car rental company, looking to model potential location distribution of their cars at major airports. The company operates in LA, SF, and San Jose. Customers regularly pickup a car in one of these 3 cities and drop it off in another. The company is looking to compute how likely it is that a given car will end up in a given city. You can model this as a Markov chain (where each time step corresponds to a new customer taking the car). The transition probabilities of the company's car allocation by city is as follows:\n",
    "\n",
    "```\n",
    " SF | LA | San Jose\n",
    "\n",
    " 0.6  0.1  0.3 | SF\n",
    "\n",
    " 0.2  0.8  0.3 | LA\n",
    "\n",
    " 0.2  0.1  0.4 | San Jose\n",
    "```\n",
    "\n",
    "As shown, the probability a car stays in SF is 0.6, the probability it moves from SF to LA is 0.2, SF to San Jose is 0.2, etc.\n",
    "\n",
    "Using the information above, determine the probability a car will start in SF but move to LA right after."
   ]
  },
  {
   "cell_type": "code",
   "execution_count": 1,
   "metadata": {},
   "outputs": [
    {
     "name": "stdout",
     "output_type": "stream",
     "text": [
      "probability of starting in SF and going to LA right after is 0.2\n"
     ]
    }
   ],
   "source": [
    "# the answer is given in the question: 0.2\n",
    "\n",
    "import numpy as np\n",
    "\n",
    "transitions = np.array([\n",
    "    [.6,.1,.3],\n",
    "    [.2,.8,.3],\n",
    "    [.2,.1,.4]\n",
    "])\n",
    "start = np.array([1,0,0])\n",
    "\n",
    "p = transitions.dot(start)[1]\n",
    "print(f'probability of starting in SF and going to LA right after is {p}') "
   ]
  },
  {
   "cell_type": "markdown",
   "metadata": {},
   "source": [
    "**Alternative question: what is the long-run state?**\n",
    "\n",
    "We have 4 equations with 3 unknowns.\n",
    "```\n",
    "a = .6a + .2b + .2c\n",
    "b = .1a + .8b + .1c\n",
    "c = .3a + .3b + .4c\n",
    "a + b + c = 1\n",
    "```\n",
    "\n",
    "Solving this:\n",
    "1. equation 4: `a = 1 - b - c`\n",
    "2. replace `a` into equation 1: \n",
    "```\n",
    "1 - b - c = .6 - .6b - .6c + .2b + .2c, \n",
    ".4 = .6b + .6c, \n",
    "b = 2/3 - c (we can already see b+c=2/3, thus a = 1/3)\n",
    "```\n",
    "3. obtain `c` by replacing `a` and `b` into equation 2: \n",
    "```\n",
    "2/3 - c = .1 - .1b - .1c + .8b + .1c, \n",
    "2/3 - c = .1 - .2/3 + .1c - .1c + 1.6/3 - .8c + .1c = -.7c + 1.7/3\n",
    ".3c = 2/3 - 1.7/3 = .3/3 = .1\n",
    "c = 1/3\n",
    "```\n",
    "4. Conclusion: a = b = c = 1/3. **Wherever a car starts, it has equal chance to end in the long term in SF, LA, or SJ.**"
   ]
  },
  {
   "cell_type": "code",
   "execution_count": 2,
   "metadata": {},
   "outputs": [],
   "source": [
    "# some links\n",
    "# https://math.stackexchange.com/q/2487893\n",
    "# http://www.math.harvard.edu/~knill/teaching/math19b_2011/handouts/lecture33.pdf"
   ]
  },
  {
   "cell_type": "code",
   "execution_count": null,
   "metadata": {},
   "outputs": [],
   "source": []
  }
 ],
 "metadata": {
  "kernelspec": {
   "display_name": "Python 3",
   "language": "python",
   "name": "python3"
  },
  "language_info": {
   "codemirror_mode": {
    "name": "ipython",
    "version": 3
   },
   "file_extension": ".py",
   "mimetype": "text/x-python",
   "name": "python",
   "nbconvert_exporter": "python",
   "pygments_lexer": "ipython3",
   "version": "3.6.5"
  }
 },
 "nbformat": 4,
 "nbformat_minor": 2
}
