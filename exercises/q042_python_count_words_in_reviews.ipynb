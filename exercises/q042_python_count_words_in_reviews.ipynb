{
 "cells": [
  {
   "cell_type": "markdown",
   "metadata": {},
   "source": [
    "# Question 42 - Sentiment analysis for app reviews\n",
    "\n",
    "You are given an array containing reviews for a popular iOS app below:\n",
    "\n",
    "```\n",
    "reviews = [\n",
    "    \"app is good, but forced updates are too frequent\", \n",
    "    \"love this app, use it daily to log calories\", \n",
    "    \"free version of this app has way too many ads\", \n",
    "    \"app doesn't load, 0/10\"\n",
    "    ]\n",
    "```\n",
    "\n",
    "Your task is to determine sentiment from the review above. \n",
    "To do this you first decide to write code to find the count of individual \n",
    "words across all the reviews -- write this code using Python. "
   ]
  },
  {
   "cell_type": "code",
   "execution_count": 1,
   "metadata": {},
   "outputs": [
    {
     "name": "stdout",
     "output_type": "stream",
     "text": [
      "defaultdict(<class 'int'>, {'app': 4, 'is': 1, 'good': 1, 'but': 1, 'forced': 1, 'updates': 1, 'are': 1, 'too': 2, 'frequent': 1, 'love': 1, 'this': 2, 'use': 1, 'it': 1, 'daily': 1, 'to': 1, 'log': 1, 'calories': 1, 'free': 1, 'version': 1, 'of': 1, 'has': 1, 'way': 1, 'many': 1, 'ads': 1, 'doesn': 1, 't': 1, 'load': 1, '0': 1, '10': 1})\n"
     ]
    }
   ],
   "source": [
    "from collections import defaultdict\n",
    "import re \n",
    "\n",
    "def test_count_word(f):\n",
    "    assert f([]) == {}\n",
    "    documents = [\"a b c\", \"a b\"]\n",
    "    expected = {'a': 2, 'b': 2, 'c': 1}\n",
    "    assert f(documents) == expected\n",
    "\n",
    "def count_words(documents):\n",
    "    \"\"\" return a dictionary mapping each word to its count.\n",
    "    \"\"\"\n",
    "    word_counts = defaultdict(int) # map each word to its count\n",
    "    for document in documents:\n",
    "        for word in re.split('\\W+', document):\n",
    "            word_counts[word.lower()] += 1\n",
    "    return word_counts\n",
    "\n",
    "test_count_word(count_words)\n",
    "\n",
    "reviews = [\n",
    "    \"app is good, but forced updates are too frequent\", \n",
    "    \"love this app, use it daily to log calories\", \n",
    "    \"free version of this app has way too many ads\", \n",
    "    \"app doesn't load, 0/10\"\n",
    "    ]\n",
    "\n",
    "print(count_words(reviews))"
   ]
  },
  {
   "cell_type": "code",
   "execution_count": null,
   "metadata": {},
   "outputs": [],
   "source": []
  },
  {
   "cell_type": "code",
   "execution_count": null,
   "metadata": {},
   "outputs": [],
   "source": []
  }
 ],
 "metadata": {
  "kernelspec": {
   "display_name": "Python 3",
   "language": "python",
   "name": "python3"
  },
  "language_info": {
   "codemirror_mode": {
    "name": "ipython",
    "version": 3
   },
   "file_extension": ".py",
   "mimetype": "text/x-python",
   "name": "python",
   "nbconvert_exporter": "python",
   "pygments_lexer": "ipython3",
   "version": "3.6.5"
  }
 },
 "nbformat": 4,
 "nbformat_minor": 2
}
