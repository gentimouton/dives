{
 "cells": [
  {
   "cell_type": "markdown",
   "metadata": {},
   "source": [
    "# Question 80 - Days to first sale\n",
    "\n",
    "You’re working as a analyst for a sales organization and you’re asked to figure out how long it takes for a sales representative to make their first sale. You’re also given the following tables:\n",
    "\n",
    "```\n",
    "Table 1: sales_rep_info\n",
    "column \tdescription\n",
    "sales_rep_id \tunique sales rep identifier\n",
    "date_hired \thire date of employee, format 'YYYY-MM-DD'\n",
    "product_focus_area \ttypes of products the rep sells\n",
    "tenure \ttotal yrs of sales experience\n",
    "level \temployee level at the company\n",
    "\n",
    "Table 2: all_sales\n",
    "column \tdescription\n",
    "date \tclose date of sale, format 'YYYY-MM-DD'\n",
    "purchase_order_number \tunique identier for the sale\n",
    "buyer_id \tthe unique identifer for buyer\n",
    "sales_rep_id \tunique sales rep identifier of the\n",
    "order_price_usd \ttotal sales price in USD\n",
    "date_sale_initiated \tdate the purchase order was initiated, format 'YYYY-MM-DD'\n",
    "```\n",
    "\n",
    "Can you write a SQL query that shows how long it takes for a sales representative to make their first sale? "
   ]
  },
  {
   "cell_type": "markdown",
   "metadata": {},
   "source": [
    "```sql\n",
    "\n",
    "with first_sales as (\n",
    "select\n",
    "    sales_rep_id,\n",
    "    min(date_sale_initiated) as date_first_sale\n",
    "from all_sales\n",
    "group by 1\n",
    ")\n",
    "\n",
    "select\n",
    "    sales_rep_id,\n",
    "    datediff('day', date_hired, date_first_sale) as days_to_first_sale\n",
    "from first_sales s\n",
    "join sales_rep_info i\n",
    "    on s.sales_rep_id = s.sales_rep_id\n",
    "\n",
    "```"
   ]
  },
  {
   "cell_type": "code",
   "execution_count": null,
   "metadata": {},
   "outputs": [],
   "source": []
  }
 ],
 "metadata": {
  "kernelspec": {
   "display_name": "Python 3",
   "language": "python",
   "name": "python3"
  },
  "language_info": {
   "codemirror_mode": {
    "name": "ipython",
    "version": 3
   },
   "file_extension": ".py",
   "mimetype": "text/x-python",
   "name": "python",
   "nbconvert_exporter": "python",
   "pygments_lexer": "ipython3",
   "version": "3.6.5"
  }
 },
 "nbformat": 4,
 "nbformat_minor": 2
}
