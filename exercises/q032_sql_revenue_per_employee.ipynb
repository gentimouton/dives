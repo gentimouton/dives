{
 "cells": [
  {
   "cell_type": "markdown",
   "metadata": {},
   "source": [
    "# Question 32 - Revenue per employee\n",
    "\n",
    "You're analyzing revenue for Company XYZ and want to understand what the revenue per employee was in 2017. You have the following tables:\n",
    "\n",
    "Table: employees\n",
    "\n",
    "|Column Name |Data Type |Description|\n",
    "|---|---|---|\n",
    "|employeeid |integer |id of the employee|\n",
    "|product_area |string |product area that employee works in|\n",
    "|compensation |integer |yearly salary for employee|\n",
    "\n",
    "Table: revenue\n",
    "\n",
    "|Column Name |Data Type |Description|\n",
    "|---|---|---|\n",
    "|date |string |format is \"YYYY-MM-DD|\n",
    "|product_area |string |product area that employee works in|\n",
    "|revenue |integer |revenue made on the given date in USD|\n",
    "\n",
    "Can you write a query to calculate revenue per employee by product area? "
   ]
  },
  {
   "cell_type": "markdown",
   "metadata": {},
   "source": [
    "```sql\n",
    "-- assume that an employee can work in multiple product areas\n",
    "-- and that there is at most one record for each (employee, product_area) pair in employees\n",
    "with rev_per_employee_prodarea as (\n",
    "    select \n",
    "        e.employee_id, \n",
    "        r.product_area, \n",
    "        sum(revenue) as rev\n",
    "    from employees e \n",
    "    join revenue r\n",
    "        on r.product_area = e.product_area\n",
    "    group by 1,2\n",
    ")\n",
    "\n",
    "select \n",
    "    product_area,\n",
    "    sum(rev) ::float / count(distinct employee_id) as rev_per_employee\n",
    "from rev_per_employee_prodarea\n",
    "group by 1\n",
    "order by 2 desc\n",
    "```"
   ]
  },
  {
   "cell_type": "code",
   "execution_count": null,
   "metadata": {},
   "outputs": [],
   "source": []
  }
 ],
 "metadata": {
  "kernelspec": {
   "display_name": "Python 3",
   "language": "python",
   "name": "python3"
  },
  "language_info": {
   "codemirror_mode": {
    "name": "ipython",
    "version": 3
   },
   "file_extension": ".py",
   "mimetype": "text/x-python",
   "name": "python",
   "nbconvert_exporter": "python",
   "pygments_lexer": "ipython3",
   "version": "3.6.5"
  }
 },
 "nbformat": 4,
 "nbformat_minor": 2
}
