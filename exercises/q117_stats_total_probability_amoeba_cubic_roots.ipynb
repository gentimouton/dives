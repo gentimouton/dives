{
 "cells": [
  {
   "cell_type": "markdown",
   "metadata": {},
   "source": [
    "# Question 117 - Amoeba Population\n",
    "Statistics Probability Theory Law of Total Probability\n",
    "\n",
    "A population of amoebas starts with 1. After a single period, assume the amoeba can divide into 1, 2, 3, or 0 (it can die) with equal probability. What is the probability that the entire population dies out eventually?\n",
    "\n",
    "For help, you can read up on [law of total probability](https://en.wikipedia.org/wiki/Law_of_total_probability)."
   ]
  },
  {
   "cell_type": "markdown",
   "metadata": {},
   "source": [
    "## Answer\n",
    "\n",
    "The probability can be defined recursively.\n",
    "Let `p` be the probability that the whole population dies out, given it started at 1 amoeba.\n",
    "- `p1` is the chance this one amoeba \"divides\" into 1 then dies: `1/4 * p`.\n",
    "- `p2` is the chance it divides into 2 then the 2 amoebas die: `1/4 * p^2` (2 amoebas have to independently die).\n",
    "- `p3` is the chance it divides into 3 then the 3 die: `1/4 * p^3`.\n",
    "- `p0` is the chance it dies in the first epoch: `1/4`.\n",
    "\n",
    "Applying the law of total probability: `p = p1 + p2 + p3 + p0 = p/4 + p^2 /4 + p^3 /4 + 1/4`\n",
    "\n",
    "Which means: `p^3 + p^2 - 3p + 1 = 0`\n",
    "\n",
    "Factorizing this:\n",
    "```\n",
    "(p-1) (p^2 + 2p -1) = 0\n",
    "Delta = 4 - 4*(-1) = 8\n",
    "Roots are -2/2 +/- sqrt(8)/2 = -1 +/- sqrt(2)\n",
    "\n",
    "The 3 roots are:\n",
    "1\n",
    "-1 + sqrt(2) = .414\n",
    "-1 - sqrt(2) = -2.414\n",
    "```\n",
    "\n",
    "Conclusion: the probability the population eventually dies out is 41%.\n",
    "\n",
    "\n",
    "For other ways to approach the problem, see [stackoverflow](https://math.stackexchange.com/a/1895355) and [quora](https://www.quora.com/Bobo-the-amoeba-has-a-25-25-and-50-chance-of-producing-0-1-or-2-offspring-respectively-Each-of-Bobos-descendants-also-have-the-same-probabilities-What-is-the-probability-that-Bobos-lineage-dies-out)"
   ]
  },
  {
   "cell_type": "code",
   "execution_count": null,
   "metadata": {},
   "outputs": [],
   "source": []
  }
 ],
 "metadata": {
  "kernelspec": {
   "display_name": "Python 3",
   "language": "python",
   "name": "python3"
  },
  "language_info": {
   "codemirror_mode": {
    "name": "ipython",
    "version": 3
   },
   "file_extension": ".py",
   "mimetype": "text/x-python",
   "name": "python",
   "nbconvert_exporter": "python",
   "pygments_lexer": "ipython3",
   "version": "3.7.4"
  }
 },
 "nbformat": 4,
 "nbformat_minor": 2
}
