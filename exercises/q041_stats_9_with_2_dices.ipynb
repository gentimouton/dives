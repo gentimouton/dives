{
 "cells": [
  {
   "cell_type": "markdown",
   "metadata": {},
   "source": [
    "# Question 41 - Rolling dice to win...again\n",
    "\n",
    "Suppose you are playing a game where there are two fair six-sided dice, and every time you roll the dice and they add up to 9, you win \\$50. However, to roll the dice costs \\$20 to play. Is this a game you're willing to play?\n",
    "\n",
    "You should be able to attach an expected value to each dice roll using probability theory here."
   ]
  },
  {
   "cell_type": "markdown",
   "metadata": {},
   "source": [
    "Chance of 9 with 2d6: 4 out of 36. (63,54,45,36)\n",
    "\n",
    "E(payout) = 4/36 * 50 - 32/36 * 20 = -12 < 0 so not willing to play."
   ]
  },
  {
   "cell_type": "code",
   "execution_count": null,
   "metadata": {},
   "outputs": [],
   "source": []
  }
 ],
 "metadata": {
  "kernelspec": {
   "display_name": "Python 3",
   "language": "python",
   "name": "python3"
  },
  "language_info": {
   "codemirror_mode": {
    "name": "ipython",
    "version": 3
   },
   "file_extension": ".py",
   "mimetype": "text/x-python",
   "name": "python",
   "nbconvert_exporter": "python",
   "pygments_lexer": "ipython3",
   "version": "3.6.5"
  }
 },
 "nbformat": 4,
 "nbformat_minor": 2
}
