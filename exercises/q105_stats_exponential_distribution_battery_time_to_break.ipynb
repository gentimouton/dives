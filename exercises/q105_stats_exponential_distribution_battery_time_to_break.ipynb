{
 "cells": [
  {
   "cell_type": "markdown",
   "metadata": {},
   "source": [
    "# Question 105 - Car battery - Exponential distribution question\n",
    "Statistics Exponential Distribution\n",
    "\n",
    "A given car has a number of miles it can run before its battery is depleted, where the number of miles are exponentially distributed with an average of 10,000 miles to depletion.\n",
    "\n",
    "If a given individual needs to make a trip that's 3,000 miles, what is the probability that she/he will be able to complete the trip without having to replace the battery? You can assume the car battery is new for this problem.\n",
    "\n",
    "For some reading material on exponential distributions, you can visit this [link](https://www.probabilitycourse.com/chapter4/4_2_2_exponential.php)."
   ]
  },
  {
   "cell_type": "code",
   "execution_count": 1,
   "metadata": {},
   "outputs": [
    {
     "name": "stdout",
     "output_type": "stream",
     "text": [
      "chance to fail at 3000 miles is 0.26\n"
     ]
    }
   ],
   "source": [
    "from math import exp\n",
    "\n",
    "mu = 10000 # avg miles to depletion\n",
    "d = 3000 # distance in miles we wonder about\n",
    "\n",
    "L = 1/mu # Exponential distribution has parameter L = 1/mu\n",
    "chance = 1-exp(-L*d) # exp dist CDF is 1-exp(-Lx)\n",
    "print(f'chance to fail at {d} miles is {chance:.2f}')"
   ]
  },
  {
   "cell_type": "code",
   "execution_count": null,
   "metadata": {},
   "outputs": [],
   "source": []
  }
 ],
 "metadata": {
  "kernelspec": {
   "display_name": "Python 3",
   "language": "python",
   "name": "python3"
  },
  "language_info": {
   "codemirror_mode": {
    "name": "ipython",
    "version": 3
   },
   "file_extension": ".py",
   "mimetype": "text/x-python",
   "name": "python",
   "nbconvert_exporter": "python",
   "pygments_lexer": "ipython3",
   "version": "3.6.5"
  }
 },
 "nbformat": 4,
 "nbformat_minor": 2
}
