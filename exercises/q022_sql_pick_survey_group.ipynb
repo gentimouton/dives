{
 "cells": [
  {
   "cell_type": "markdown",
   "metadata": {},
   "source": [
    "# Question 22 - Picking a survey group\n",
    "\n",
    "You work for a large hardware company \n",
    "(one that manufactures watches, computers, and phones) \n",
    "and you're trying to understand user sentiment towards \n",
    "the company's brand and the products. You decide to send\n",
    "out a survey to a random set of users across different products.\n",
    "\n",
    "Can you create a query that samples across the different \n",
    "product offerings? The output of your query should be user_id \n",
    "and group (e.g. the sampling group the user belongs to).\n",
    "\n",
    "You have a table with all users and their registered devices. \n",
    "The schema of the table is below:\n",
    "\n",
    "Table: user_devices\n",
    "\n",
    "|Column Name |Data Type |Description|\n",
    "|---|---|---|\n",
    "|user_id |integer |id of the user|\n",
    "|devices |array of strings |lists the devices (watch, computer, phone)|\n",
    "|device_ids |array of integers |id of the devices used by the user|\n",
    "|user_create_time |integer |epoch time of the user's account|\n",
    "|total_spend |integer |lifetime spend of a user|\n",
    "|country |string |user country|"
   ]
  },
  {
   "cell_type": "markdown",
   "metadata": {},
   "source": [
    "Solution: assuming 100 users per group, \n",
    "and each group is a unique combination of devices used \n",
    "(eg watch, watch+computer, watch+computer+phone, ...)\n",
    "\n",
    "```sql\n",
    "-- flatten array of devices\n",
    "with user_device_pairs as (\n",
    "    SELECT \n",
    "        user_id, \n",
    "        flattened_devices as device\n",
    "    FROM user_devices ud\n",
    "    CROSS JOIN UNNEST(ud.devices) AS flattened_devices\n",
    "    group by 1,2\n",
    "    order by 1,2 -- guarantees consistent ordering of devices in the next CTE\n",
    ")\n",
    "\n",
    "-- create \"group\" as the concatenation of devices used by each user\n",
    ", users as (\n",
    "    select\n",
    "        user_id,\n",
    "        string_agg(device, ',') as grp -- use listagg in redshift\n",
    "    from user_device_pairs\n",
    "    group by 1\n",
    ")\n",
    "\n",
    "-- sample N users per group\n",
    "select \n",
    "    user_id, \n",
    "    grp\n",
    "from ( \n",
    "select\n",
    "    user_id,\n",
    "    grp,\n",
    "    rank() over(partition by grp order by random()) as r\n",
    "from users \n",
    ") a\n",
    "where r <= 100 -- number of users to sampel per group\n",
    "```"
   ]
  },
  {
   "cell_type": "markdown",
   "metadata": {},
   "source": [
    "Note that I'm unsure of this solution, as I don't have a Postgres or BigQuery instance handy.\n",
    "For Redshift and MySQL, which don't support arrays and/or `UNNEST`, see this link:\n",
    "https://www.holistics.io/blog/splitting-array-string-into-rows-in-amazon-redshift-or-mysql/\n",
    "\n",
    "For `WITH ORDINALITY` examples, see https://stackoverflow.com/a/8767450\n",
    "\n",
    "For BigQuery UNNEST, see this link https://cloud.google.com/bigquery/docs/reference/standard-sql/arrays#flattening-arrays"
   ]
  },
  {
   "cell_type": "code",
   "execution_count": null,
   "metadata": {},
   "outputs": [],
   "source": []
  }
 ],
 "metadata": {
  "kernelspec": {
   "display_name": "Python 3",
   "language": "python",
   "name": "python3"
  },
  "language_info": {
   "codemirror_mode": {
    "name": "ipython",
    "version": 3
   },
   "file_extension": ".py",
   "mimetype": "text/x-python",
   "name": "python",
   "nbconvert_exporter": "python",
   "pygments_lexer": "ipython3",
   "version": "3.6.5"
  }
 },
 "nbformat": 4,
 "nbformat_minor": 2
}
