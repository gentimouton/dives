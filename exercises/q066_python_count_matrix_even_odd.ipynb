{
 "cells": [
  {
   "cell_type": "markdown",
   "metadata": {},
   "source": [
    "# Question 66 - Matrix frequencies\n",
    "\n",
    "Given a matrix of order m*n then the task is to find the frequency of even and odd numbers in matrix.\n",
    "\n",
    "For example, given the following inputs:\n",
    "```\n",
    "m = 2, n = 3\n",
    "[[ 9, 11, 3 ],\n",
    "[ 4, 12, 2 ]]\n",
    "```\n",
    "\n",
    "Your function should return the following output:\n",
    "```\n",
    "Frequency of odd #: 3\n",
    "Frequency of even #: 3 \n",
    "```"
   ]
  },
  {
   "cell_type": "code",
   "execution_count": 4,
   "metadata": {},
   "outputs": [
    {
     "name": "stdout",
     "output_type": "stream",
     "text": [
      "Matrix has 3 odd and 3 even numbers\n"
     ]
    }
   ],
   "source": [
    "matrix = [\n",
    "    [9,11,3],\n",
    "    [4,12,2]\n",
    "]\n",
    "m = 2\n",
    "n = 3\n",
    "\n",
    "print('Matrix has {} odd and {} even numbers'.format(\n",
    "    sum(n%2 for row in matrix for n in row),\n",
    "    sum((n+1)%2 for row in matrix for n in row),\n",
    "))"
   ]
  },
  {
   "cell_type": "code",
   "execution_count": null,
   "metadata": {},
   "outputs": [],
   "source": []
  }
 ],
 "metadata": {
  "kernelspec": {
   "display_name": "Python 3",
   "language": "python",
   "name": "python3"
  },
  "language_info": {
   "codemirror_mode": {
    "name": "ipython",
    "version": 3
   },
   "file_extension": ".py",
   "mimetype": "text/x-python",
   "name": "python",
   "nbconvert_exporter": "python",
   "pygments_lexer": "ipython3",
   "version": "3.6.5"
  }
 },
 "nbformat": 4,
 "nbformat_minor": 2
}
