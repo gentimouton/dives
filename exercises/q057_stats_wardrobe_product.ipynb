{
 "cells": [
  {
   "cell_type": "markdown",
   "metadata": {},
   "source": [
    "# Question 57 - Probability of selecting a wardrobe\n",
    "\n",
    "Suppose Charlie has 3 pairs of shoes, 4 different coats, and 2 different pants to wear in his wardrobe. Of those items, Charlie has exactly one pair of white shoes, exactly one black coat, and exactly one pair of khaki pants.\n",
    "\n",
    "If Charlie selects each item of his wardrobe at random, what is the probability that he will wear the white shoes, black coat, and khaki pants? Hint: think of the rule of product here "
   ]
  },
  {
   "cell_type": "code",
   "execution_count": 1,
   "metadata": {},
   "outputs": [
    {
     "data": {
      "text/plain": [
       "(41494, 1000000, 0.041494)"
      ]
     },
     "execution_count": 1,
     "metadata": {},
     "output_type": "execute_result"
    }
   ],
   "source": [
    "# 1/3 * 1/4 * 1/2 = 1/24 = 4.2% chance to wear these 3 items together\n",
    "\n",
    "import random\n",
    "\n",
    "def run_sim(iterations):\n",
    "    shoes = ['green','red','white']\n",
    "    coats = ['blue','black','red','yellow']\n",
    "    pants = ['khaki','black']\n",
    "\n",
    "    successes = 0\n",
    "    for i in range(iterations):    \n",
    "        shoe = random.choice(shoes)\n",
    "        coat = random.choice(coats)\n",
    "        pant = random.choice(pants)\n",
    "        successes += (shoe == 'white' and coat == 'black' and pant == 'khaki')\n",
    "    \n",
    "    return successes, iterations, successes/iterations\n",
    "\n",
    "run_sim(10**6)"
   ]
  },
  {
   "cell_type": "code",
   "execution_count": null,
   "metadata": {},
   "outputs": [],
   "source": []
  }
 ],
 "metadata": {
  "kernelspec": {
   "display_name": "Python 3",
   "language": "python",
   "name": "python3"
  },
  "language_info": {
   "codemirror_mode": {
    "name": "ipython",
    "version": 3
   },
   "file_extension": ".py",
   "mimetype": "text/x-python",
   "name": "python",
   "nbconvert_exporter": "python",
   "pygments_lexer": "ipython3",
   "version": "3.6.5"
  }
 },
 "nbformat": 4,
 "nbformat_minor": 2
}
