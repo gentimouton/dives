{
 "cells": [
  {
   "cell_type": "code",
   "execution_count": 1,
   "metadata": {},
   "outputs": [],
   "source": [
    "import pandas as pd\n",
    "import numpy as np\n",
    "from scipy.stats import ttest_ind\n",
    "\n",
    "def generate_2_normal_groups(cfg1, cfg2, seed=1):\n",
    "    \"\"\" Return 2 groups, each has a normal distribution, centered on its mean and sd.\n",
    "    configs cfg1 and cfg2 are tuples: (name,mean,sd,n)\n",
    "    \"\"\"\n",
    "    np.random.seed(seed)\n",
    "    name1, mean1, sd1, n1 = cfg1\n",
    "    name2, mean2, sd2, n2 = cfg2\n",
    "#     df1 = pd.DataFrame({'group': name1, 'revenue': np.random.normal(mean1, sd1, n1)})\n",
    "#     df2 = pd.DataFrame({'group': name2, 'revenue': np.random.normal(mean2, sd2, n2)})\n",
    "#     return df1, df2\n",
    "    return np.random.normal(mean1, sd1, n1), np.random.normal(mean2, sd2, n2)\n"
   ]
  },
  {
   "cell_type": "code",
   "execution_count": 2,
   "metadata": {},
   "outputs": [
    {
     "data": {
      "text/plain": [
       "Ttest_indResult(statistic=-2.2620139704259503, pvalue=0.024782819014639936)"
      ]
     },
     "execution_count": 2,
     "metadata": {},
     "output_type": "execute_result"
    }
   ],
   "source": [
    "# t-test\n",
    "cfg1 = ('a',100,20,100)\n",
    "cfg2 = ('b',104,20,100)\n",
    "arr1, arr2 = generate_2_normal_groups(cfg1, cfg2)\n",
    "ttest_ind(arr1, arr2)"
   ]
  },
  {
   "cell_type": "code",
   "execution_count": 3,
   "metadata": {},
   "outputs": [
    {
     "data": {
      "text/plain": [
       "0.0224"
      ]
     },
     "execution_count": 3,
     "metadata": {},
     "output_type": "execute_result"
    }
   ],
   "source": [
    "# bootstrap\n",
    "def bootstrap_dirty(arr1, arr2, iterations=100, seed=1):\n",
    "    \"\"\" run a dirty version of bootstrap: \n",
    "    compute p, the proportion of bootstrap iterations where mean(arr1)>mean(arr2),\n",
    "    return min(p, 1-p)\n",
    "    \"\"\"\n",
    "    np.random.seed(seed)\n",
    "    diffs = []\n",
    "    for _ in range(iterations):\n",
    "        bs1 = np.random.choice(arr1,len(arr1),replace=True)\n",
    "        bs2 = np.random.choice(arr2,len(arr2),replace=True)\n",
    "        diffs.append(bs1.mean() > bs2.mean())\n",
    "    p = sum(diffs) / len(diffs) \n",
    "    return min(p,1-p) * 2 # times 2 because 2-sided\n",
    "\n",
    "bootstrap_dirty(arr1, arr2, 10**4)"
   ]
  },
  {
   "cell_type": "code",
   "execution_count": null,
   "metadata": {},
   "outputs": [],
   "source": []
  }
 ],
 "metadata": {
  "kernelspec": {
   "display_name": "Python 3",
   "language": "python",
   "name": "python3"
  },
  "language_info": {
   "codemirror_mode": {
    "name": "ipython",
    "version": 3
   },
   "file_extension": ".py",
   "mimetype": "text/x-python",
   "name": "python",
   "nbconvert_exporter": "python",
   "pygments_lexer": "ipython3",
   "version": "3.6.5"
  }
 },
 "nbformat": 4,
 "nbformat_minor": 2
}
