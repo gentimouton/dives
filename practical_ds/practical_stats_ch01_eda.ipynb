{
 "cells": [
  {
   "cell_type": "markdown",
   "metadata": {},
   "source": [
    "# Chapter 1: EDA\n",
    "\n",
    "- estimates of location: mean, p-trimmed mean, median\n",
    "- estimates of variability\n",
    "- exploring the distribution\n",
    "- exploring binary and categorical data\n",
    "- correlation and scatter plot\n",
    "- exploring 2 or more variables"
   ]
  },
  {
   "cell_type": "code",
   "execution_count": 1,
   "metadata": {},
   "outputs": [
    {
     "data": {
      "text/html": [
       "<div>\n",
       "<style scoped>\n",
       "    .dataframe tbody tr th:only-of-type {\n",
       "        vertical-align: middle;\n",
       "    }\n",
       "\n",
       "    .dataframe tbody tr th {\n",
       "        vertical-align: top;\n",
       "    }\n",
       "\n",
       "    .dataframe thead th {\n",
       "        text-align: right;\n",
       "    }\n",
       "</style>\n",
       "<table border=\"1\" class=\"dataframe\">\n",
       "  <thead>\n",
       "    <tr style=\"text-align: right;\">\n",
       "      <th></th>\n",
       "      <th>total_bill</th>\n",
       "      <th>tip</th>\n",
       "      <th>sex</th>\n",
       "      <th>smoker</th>\n",
       "      <th>day</th>\n",
       "      <th>time</th>\n",
       "      <th>size</th>\n",
       "    </tr>\n",
       "  </thead>\n",
       "  <tbody>\n",
       "    <tr>\n",
       "      <th>0</th>\n",
       "      <td>16.99</td>\n",
       "      <td>1.01</td>\n",
       "      <td>Female</td>\n",
       "      <td>No</td>\n",
       "      <td>Sun</td>\n",
       "      <td>Dinner</td>\n",
       "      <td>2</td>\n",
       "    </tr>\n",
       "    <tr>\n",
       "      <th>1</th>\n",
       "      <td>10.34</td>\n",
       "      <td>1.66</td>\n",
       "      <td>Male</td>\n",
       "      <td>No</td>\n",
       "      <td>Sun</td>\n",
       "      <td>Dinner</td>\n",
       "      <td>3</td>\n",
       "    </tr>\n",
       "    <tr>\n",
       "      <th>2</th>\n",
       "      <td>21.01</td>\n",
       "      <td>3.50</td>\n",
       "      <td>Male</td>\n",
       "      <td>No</td>\n",
       "      <td>Sun</td>\n",
       "      <td>Dinner</td>\n",
       "      <td>3</td>\n",
       "    </tr>\n",
       "    <tr>\n",
       "      <th>3</th>\n",
       "      <td>23.68</td>\n",
       "      <td>3.31</td>\n",
       "      <td>Male</td>\n",
       "      <td>No</td>\n",
       "      <td>Sun</td>\n",
       "      <td>Dinner</td>\n",
       "      <td>2</td>\n",
       "    </tr>\n",
       "    <tr>\n",
       "      <th>4</th>\n",
       "      <td>24.59</td>\n",
       "      <td>3.61</td>\n",
       "      <td>Female</td>\n",
       "      <td>No</td>\n",
       "      <td>Sun</td>\n",
       "      <td>Dinner</td>\n",
       "      <td>4</td>\n",
       "    </tr>\n",
       "  </tbody>\n",
       "</table>\n",
       "</div>"
      ],
      "text/plain": [
       "   total_bill   tip     sex smoker  day    time  size\n",
       "0       16.99  1.01  Female     No  Sun  Dinner     2\n",
       "1       10.34  1.66    Male     No  Sun  Dinner     3\n",
       "2       21.01  3.50    Male     No  Sun  Dinner     3\n",
       "3       23.68  3.31    Male     No  Sun  Dinner     2\n",
       "4       24.59  3.61  Female     No  Sun  Dinner     4"
      ]
     },
     "execution_count": 1,
     "metadata": {},
     "output_type": "execute_result"
    }
   ],
   "source": [
    "import seaborn as sns\n",
    "import matplotlib.pyplot as plt\n",
    "import numpy as np\n",
    "import pandas as pd\n",
    "\n",
    "tips = sns.load_dataset(\"tips\")\n",
    "tips.head()"
   ]
  },
  {
   "cell_type": "code",
   "execution_count": 2,
   "metadata": {},
   "outputs": [
    {
     "name": "stdout",
     "output_type": "stream",
     "text": [
      "mean 3.00\n",
      "trimmed_mean 2.83\n",
      "weighted_mean 2.80\n",
      "median 2.92\n"
     ]
    }
   ],
   "source": [
    "# estimates of location: where is the data typically located\n",
    "# is the estimator robust vs sensitive to outliers?\n",
    "\n",
    "# mean is sum by count\n",
    "mean = tips['tip'].sum() / tips['tip'].count()\n",
    "# trimmed mean is the mean, ignoring the lowest and highest p percentiles\n",
    "p = .10\n",
    "n = len(tips['tip'])\n",
    "from_index = int(n*p)\n",
    "to_index = int(n*(1-p))\n",
    "trimmed_mean = tips['tip'].sort_values().iloc[from_index:to_index].mean()\n",
    "# weighted mean: weigh by inverse of party size \n",
    "weighted_mean = sum(tips['tip'] / tips['size']) / sum(1/tips['size'])\n",
    "# median is 50th percentile value\n",
    "median = tips['tip'].sort_values().iloc[n//2]\n",
    "\n",
    "print(f'mean {mean:.2f}')\n",
    "print(f'trimmed_mean {trimmed_mean:.2f}')\n",
    "print(f'weighted_mean {weighted_mean:.2f}')\n",
    "print(f'median {median:.2f}')\n"
   ]
  },
  {
   "cell_type": "code",
   "execution_count": 3,
   "metadata": {},
   "outputs": [
    {
     "name": "stdout",
     "output_type": "stream",
     "text": [
      "mean_abs_dev 1.033\n",
      "std_dev 1.381\n",
      "unbiased_std_dev 1.384\n",
      "median_abs_dev 0.900\n",
      "interquartile_range 1.562\n"
     ]
    }
   ],
   "source": [
    "# estimates of variability (aka dispersion)\n",
    "# is the data mostly all together, or widely spread?\n",
    "# \"At the heart of statistics lies variability: \n",
    "# measuring it, reducing it, distinguishing random from real variability, \n",
    "# identifying the various sources of real variability, \n",
    "# and making decisions in the presence of it.\"\n",
    "\n",
    "# mean absolute deviation: mean of L1 distance from mean\n",
    "mean_abs_dev = np.mean(\n",
    "    np.abs(\n",
    "        tips['tip'] - tips['tip'].mean()\n",
    "    )\n",
    ")\n",
    "\n",
    "# standard deviation: sqrt of mean of L2 distance from mean\n",
    "std_dev = np.sqrt(\n",
    "    np.mean(\n",
    "        np.square(\n",
    "            tips['tip'] - tips['tip'].mean()\n",
    "        )\n",
    "    )\n",
    ")\n",
    "\n",
    "# taking mean is biased - dividing by n-1 is unbiased\n",
    "# n-1, and not n is the degrees of freedom for SD, \n",
    "# since SD computation involves the mean\n",
    "n = len(tips['tip'])\n",
    "unbiased_std_dev = np.sqrt(std_dev**2 * n / (n-1))\n",
    "\n",
    "# median abs dev: median of L1 distance from median\n",
    "# robust against outliers, unlike SD\n",
    "median_abs_dev = np.median(\n",
    "    np.abs(\n",
    "        tips['tip'] - np.median(tips['tip'])\n",
    "    )\n",
    ")\n",
    "\n",
    "# interquarile range: difference between p25 and p75\n",
    "low, high = np.percentile(tips['tip'], [25, 75])\n",
    "interquartile_range = high - low\n",
    "\n",
    "print(f'mean_abs_dev {mean_abs_dev:.3f}')\n",
    "print(f'std_dev {std_dev:.3f}')\n",
    "print(f'unbiased_std_dev {unbiased_std_dev:.3f}')\n",
    "print(f'median_abs_dev {median_abs_dev:.3f}')\n",
    "print(f'interquartile_range {interquartile_range:.3f}')\n",
    "\n",
    "# mathematically: stdev > mean_abs_dev > median_abs_dev"
   ]
  },
  {
   "cell_type": "code",
   "execution_count": 4,
   "metadata": {},
   "outputs": [
    {
     "name": "stdout",
     "output_type": "stream",
     "text": [
      "****description****\n",
      " count    244.000000\n",
      "mean       2.998279\n",
      "std        1.383638\n",
      "min        1.000000\n",
      "25%        2.000000\n",
      "50%        2.900000\n",
      "75%        3.562500\n",
      "max       10.000000\n",
      "Name: tip, dtype: float64\n"
     ]
    }
   ],
   "source": [
    "# exploring distribution of the data\n",
    "# boxplot, frequency table, histogram, density plot\n",
    "\n",
    "# describe\n",
    "print('****description****\\n', tips['tip'].describe())\n"
   ]
  },
  {
   "cell_type": "code",
   "execution_count": 5,
   "metadata": {},
   "outputs": [
    {
     "data": {
      "text/plain": [
       "<matplotlib.axes._subplots.AxesSubplot at 0x19d44122888>"
      ]
     },
     "execution_count": 5,
     "metadata": {},
     "output_type": "execute_result"
    },
    {
     "data": {
      "image/png": "[encoded data removed]",
      "text/plain": [
       "<Figure size 432x288 with 1 Axes>"
      ]
     },
     "metadata": {
      "needs_background": "light"
     },
     "output_type": "display_data"
    }
   ],
   "source": [
    "# boxplot \n",
    "#tips.boxplot('tip', by='size')\n",
    "# fig, axs = plt.subplots(ncols=3)\n",
    "sns.boxplot(x='size', y='tip', data=tips)\n"
   ]
  },
  {
   "cell_type": "code",
   "execution_count": 6,
   "metadata": {},
   "outputs": [
    {
     "data": {
      "text/plain": [
       "<matplotlib.axes._subplots.AxesSubplot at 0x19d447f6ec8>"
      ]
     },
     "execution_count": 6,
     "metadata": {},
     "output_type": "execute_result"
    },
    {
     "data": {
      "image/png": "[encoded data removed]",
      "text/plain": [
       "<Figure size 432x288 with 1 Axes>"
      ]
     },
     "metadata": {
      "needs_background": "light"
     },
     "output_type": "display_data"
    }
   ],
   "source": [
    "# histogram and density plot\n",
    "sns.distplot(tips['tip'])\n"
   ]
  },
  {
   "cell_type": "code",
   "execution_count": 7,
   "metadata": {},
   "outputs": [
    {
     "data": {
      "text/plain": [
       "<matplotlib.axes._subplots.AxesSubplot at 0x19d447870c8>"
      ]
     },
     "execution_count": 7,
     "metadata": {},
     "output_type": "execute_result"
    },
    {
     "data": {
      "image/png": "[encoded data removed]",
      "text/plain": [
       "<Figure size 432x288 with 1 Axes>"
      ]
     },
     "metadata": {
      "needs_background": "light"
     },
     "output_type": "display_data"
    }
   ],
   "source": [
    "# bin then histogram of bins\n",
    "tips['tip_bin'] = pd.cut(tips['tip'], 10)\n",
    "binned_counts = tips.groupby('tip_bin').agg({'tip':'count'}).reset_index()\n",
    "sns.barplot(x='tip_bin',y='tip', data=binned_counts)"
   ]
  },
  {
   "cell_type": "code",
   "execution_count": null,
   "metadata": {},
   "outputs": [],
   "source": []
  }
 ],
 "metadata": {
  "kernelspec": {
   "display_name": "Python 3",
   "language": "python",
   "name": "python3"
  },
  "language_info": {
   "codemirror_mode": {
    "name": "ipython",
    "version": 3
   },
   "file_extension": ".py",
   "mimetype": "text/x-python",
   "name": "python",
   "nbconvert_exporter": "python",
   "pygments_lexer": "ipython3",
   "version": "3.7.4"
  }
 },
 "nbformat": 4,
 "nbformat_minor": 2
}
