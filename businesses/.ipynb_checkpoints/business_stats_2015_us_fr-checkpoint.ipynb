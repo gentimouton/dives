{
 "cells": [
  {
   "cell_type": "markdown",
   "metadata": {},
   "source": [
    "## FAQ\n",
    "\n",
    "\n",
    "**How did you find the data?**\n",
    "- US: I started on [data.gov](data.gov), which pointed me to [census.gov](https://factfinder.census.gov/faces/nav/jsf/pages/download_center.xhtml). There I fetched dataset `SE1500CSA01`.\n",
    "- FR: [ESANE](https://www.insee.fr/fr/statistiques/3136821?sommaire=3136881). See also [this](https://www.economie.gouv.fr/cedef/chiffres-cles-des-pme).\n",
    "\n"
   ]
  },
  {
   "cell_type": "code",
   "execution_count": 64,
   "metadata": {},
   "outputs": [
    {
     "data": {
      "text/html": [
       "<div>\n",
       "<style scoped>\n",
       "    .dataframe tbody tr th:only-of-type {\n",
       "        vertical-align: middle;\n",
       "    }\n",
       "\n",
       "    .dataframe tbody tr th {\n",
       "        vertical-align: top;\n",
       "    }\n",
       "\n",
       "    .dataframe thead th {\n",
       "        text-align: right;\n",
       "    }\n",
       "</style>\n",
       "<table border=\"1\" class=\"dataframe\">\n",
       "  <thead>\n",
       "    <tr style=\"text-align: right;\">\n",
       "      <th></th>\n",
       "      <th>sector</th>\n",
       "      <th>FIRMPDEMP</th>\n",
       "      <th>RCPPDEMP</th>\n",
       "      <th>EMP</th>\n",
       "      <th>PAYANN</th>\n",
       "      <th>FIRMPDEMP_SE</th>\n",
       "    </tr>\n",
       "  </thead>\n",
       "  <tbody>\n",
       "    <tr>\n",
       "      <th>0</th>\n",
       "      <td>Total</td>\n",
       "      <td>5531169</td>\n",
       "      <td>33597636520</td>\n",
       "      <td>118402027</td>\n",
       "      <td>5930504233</td>\n",
       "      <td>0.0</td>\n",
       "    </tr>\n",
       "    <tr>\n",
       "      <th>126</th>\n",
       "      <td>Agriculture</td>\n",
       "      <td>27151</td>\n",
       "      <td>W</td>\n",
       "      <td>255210</td>\n",
       "      <td>8371737</td>\n",
       "      <td>124894.6</td>\n",
       "    </tr>\n",
       "    <tr>\n",
       "      <th>252</th>\n",
       "      <td>Mining</td>\n",
       "      <td>22941</td>\n",
       "      <td>W</td>\n",
       "      <td>709916</td>\n",
       "      <td>58738077</td>\n",
       "      <td>71117.1</td>\n",
       "    </tr>\n",
       "    <tr>\n",
       "      <th>378</th>\n",
       "      <td>Utilities</td>\n",
       "      <td>5881</td>\n",
       "      <td>W</td>\n",
       "      <td>624749</td>\n",
       "      <td>62701213</td>\n",
       "      <td>28228.8</td>\n",
       "    </tr>\n",
       "    <tr>\n",
       "      <th>504</th>\n",
       "      <td>Construction</td>\n",
       "      <td>652561</td>\n",
       "      <td>W</td>\n",
       "      <td>5775921</td>\n",
       "      <td>325861229</td>\n",
       "      <td>326280.5</td>\n",
       "    </tr>\n",
       "  </tbody>\n",
       "</table>\n",
       "</div>"
      ],
      "text/plain": [
       "           sector  FIRMPDEMP     RCPPDEMP        EMP      PAYANN  FIRMPDEMP_SE\n",
       "0           Total    5531169  33597636520  118402027  5930504233           0.0\n",
       "126   Agriculture      27151            W     255210     8371737      124894.6\n",
       "252        Mining      22941            W     709916    58738077       71117.1\n",
       "378     Utilities       5881            W     624749    62701213       28228.8\n",
       "504  Construction     652561            W    5775921   325861229      326280.5"
      ]
     },
     "execution_count": 64,
     "metadata": {},
     "output_type": "execute_result"
    }
   ],
   "source": [
    "import pandas as pd\n",
    "import numpy as np\n",
    "import matplotlib.pyplot as plt\n",
    "import re \n",
    "\n",
    "def prep_us_data():\n",
    "    # read\n",
    "    df = pd.read_csv('data/ASE_2015_00CSA01_with_ann.csv')\n",
    "    # filter rows\n",
    "    crit = ( \n",
    "        (df['SEX.id']==1) \n",
    "        & (df['ETH_GROUP.id']==1) \n",
    "        & (df['RACE_GROUP.id']==0)\n",
    "        & (df['VET_GROUP.id']==1)\n",
    "\n",
    "    )\n",
    "    df = df[crit]\n",
    "    # add columns\n",
    "    df['FIRMPDEMP_SE'] = df['FIRMPDEMP'] * df['FIRMPDEMP_S']\n",
    "    df['sector'] = df['NAICS.display-label'].map(lambda x: re.split('\\W',x)[0])\n",
    "    # filter columns\n",
    "    cols = [\n",
    "        'sector', 'FIRMPDEMP', 'RCPPDEMP','EMP', 'PAYANN',\n",
    "        'FIRMPDEMP_SE'\n",
    "        #,'RCPPDEMP_S','EMP_S', 'PAYANN_S'\n",
    "    ]\n",
    "    df = df[cols]\n",
    "    return df\n",
    "\n",
    "df = prep_us_data()\n",
    "df.head()"
   ]
  },
  {
   "cell_type": "code",
   "execution_count": 78,
   "metadata": {},
   "outputs": [
    {
     "data": {
      "image/png": "[encoded data removed]",
      "text/plain": [
       "<Figure size 432x288 with 1 Axes>"
      ]
     },
     "metadata": {},
     "output_type": "display_data"
    }
   ],
   "source": [
    "# plot \n",
    "def plot(df):\n",
    "    x = range(len(df))\n",
    "    y = df['FIRMPDEMP']\n",
    "    yer = df['FIRMPDEMP_SE']\n",
    "    plt.grid(True, linestyle='dotted')\n",
    "    plt.bar(x, y, yerr=yer, capsize=3)\n",
    "    plt.xticks(rotation=90)\n",
    "    plt.xticks(range(len(df)), df['sector'])\n",
    "    plt.ylabel('Paying Firms')\n",
    "    # https://stackoverflow.com/a/44645072\n",
    "    # https://python-graph-gallery.com/8-add-confidence-interval-on-barplot/\n",
    "\n",
    "plot(df)"
   ]
  }
 ],
 "metadata": {
  "kernelspec": {
   "display_name": "Python 3",
   "language": "python",
   "name": "python3"
  },
  "language_info": {
   "codemirror_mode": {
    "name": "ipython",
    "version": 3
   },
   "file_extension": ".py",
   "mimetype": "text/x-python",
   "name": "python",
   "nbconvert_exporter": "python",
   "pygments_lexer": "ipython3",
   "version": "3.6.5"
  }
 },
 "nbformat": 4,
 "nbformat_minor": 2
}
