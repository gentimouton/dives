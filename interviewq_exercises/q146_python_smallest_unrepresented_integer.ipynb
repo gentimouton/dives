{
 "cells": [
  {
   "cell_type": "markdown",
   "metadata": {},
   "source": [
    "# Smallest, unrepresented integer\n",
    "Python Data Structures Arrays\n",
    "\n",
    "Given a sorted (increasing order) array of positive numbers, can you find the smallest positive integer that cannot be represented as a sum of elements from the array?\n",
    "```\n",
    "Input:  arr[] = [1, 3, 6, 10, 11, 15]\n",
    "Output: 2\n",
    "\n",
    "Input:  arr[] = [1, 1, 1, 1]\n",
    "Output: 5\n",
    "\n",
    "Input:  arr[] = [1, 1, 3, 4]\n",
    "Output: 10\n",
    "```\n",
    "Solution will be written in Python."
   ]
  },
  {
   "cell_type": "code",
   "execution_count": 1,
   "metadata": {},
   "outputs": [
    {
     "name": "stdout",
     "output_type": "stream",
     "text": [
      "test_find_smallest_unrepr_int passed\n"
     ]
    }
   ],
   "source": [
    "def test_find_smallest_unrepr_int(f):\n",
    "    assert f([1,3,6,10,11,15]) == 2\n",
    "    assert f([1,1,1,1]) == 5\n",
    "    assert f([1,1,3,4]) == 10\n",
    "    assert f([1,1,2]) == 5\n",
    "    assert f([1,2,4]) == 8\n",
    "    print('test_find_smallest_unrepr_int passed')\n",
    "    \n",
    "\n",
    "def find_smallest_unrepr_int(arr):\n",
    "    \"\"\" arr: sorted array of positive integers, may have dupes \n",
    "    O(n) recursive, but could probably do without recursion.\n",
    "    \"\"\"\n",
    "    if len(arr) == 1:\n",
    "        return arr[0]+1\n",
    "    \n",
    "    smallest_unrepr_int = find_smallest_unrepr_int(arr[:-1])\n",
    "    if arr[-1] > smallest_unrepr_int: # found the hole\n",
    "        return smallest_unrepr_int\n",
    "    else:\n",
    "        return arr[-1] + smallest_unrepr_int\n",
    "    \n",
    "    \n",
    "test_find_smallest_unrepr_int(find_smallest_unrepr_int)"
   ]
  }
 ],
 "metadata": {
  "kernelspec": {
   "display_name": "Python 3",
   "language": "python",
   "name": "python3"
  },
  "language_info": {
   "codemirror_mode": {
    "name": "ipython",
    "version": 3
   },
   "file_extension": ".py",
   "mimetype": "text/x-python",
   "name": "python",
   "nbconvert_exporter": "python",
   "pygments_lexer": "ipython3",
   "version": "3.7.4"
  }
 },
 "nbformat": 4,
 "nbformat_minor": 2
}
