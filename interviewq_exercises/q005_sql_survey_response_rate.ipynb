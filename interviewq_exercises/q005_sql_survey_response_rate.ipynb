{
 "cells": [
  {
   "cell_type": "code",
   "execution_count": 1,
   "metadata": {},
   "outputs": [
    {
     "data": {
      "text/html": [
       "<div>\n",
       "<style scoped>\n",
       "    .dataframe tbody tr th:only-of-type {\n",
       "        vertical-align: middle;\n",
       "    }\n",
       "\n",
       "    .dataframe tbody tr th {\n",
       "        vertical-align: top;\n",
       "    }\n",
       "\n",
       "    .dataframe thead th {\n",
       "        text-align: right;\n",
       "    }\n",
       "</style>\n",
       "<table border=\"1\" class=\"dataframe\">\n",
       "  <thead>\n",
       "    <tr style=\"text-align: right;\">\n",
       "      <th></th>\n",
       "      <th>eid</th>\n",
       "      <th>action</th>\n",
       "      <th>qid</th>\n",
       "    </tr>\n",
       "  </thead>\n",
       "  <tbody>\n",
       "    <tr>\n",
       "      <th>0</th>\n",
       "      <td>1</td>\n",
       "      <td>view</td>\n",
       "      <td>1</td>\n",
       "    </tr>\n",
       "    <tr>\n",
       "      <th>1</th>\n",
       "      <td>1</td>\n",
       "      <td>answer</td>\n",
       "      <td>1</td>\n",
       "    </tr>\n",
       "    <tr>\n",
       "      <th>2</th>\n",
       "      <td>1</td>\n",
       "      <td>view</td>\n",
       "      <td>2</td>\n",
       "    </tr>\n",
       "    <tr>\n",
       "      <th>3</th>\n",
       "      <td>1</td>\n",
       "      <td>skip</td>\n",
       "      <td>2</td>\n",
       "    </tr>\n",
       "    <tr>\n",
       "      <th>4</th>\n",
       "      <td>2</td>\n",
       "      <td>view</td>\n",
       "      <td>1</td>\n",
       "    </tr>\n",
       "  </tbody>\n",
       "</table>\n",
       "</div>"
      ],
      "text/plain": [
       "   eid  action  qid\n",
       "0    1    view    1\n",
       "1    1  answer    1\n",
       "2    1    view    2\n",
       "3    1    skip    2\n",
       "4    2    view    1"
      ]
     },
     "execution_count": 1,
     "metadata": {},
     "output_type": "execute_result"
    }
   ],
   "source": [
    "# Employee survey results\n",
    "\n",
    "# You're consulting for a company, and you've sent out a survey that asks successive qustions randomly. \n",
    "# The survey logs data into a table called survey_logging. The schema of the table is:\n",
    "# Column Name \tData Type \tDescription\n",
    "# employee_id \tinteger \temployee id of the survey respondant\n",
    "# action \tstring \tWill be one of the following values, 'view', 'answer', 'skip'\n",
    "# question_id \tinteger \tID of the question asked\n",
    "# answer_id \tinteger \tID of the answer asked\n",
    "# timestamp \tinteger \ttime stamp of the action made by respondant\n",
    "\n",
    "# Question: Using SQL, find which question has the highest response rate.\n",
    "\"\"\"\n",
    "select\n",
    "  question_id,\n",
    "  count(distinct case when action='answer' then employee_id else null end)\n",
    "    ::float / count(distinct employee_id) as response_rate\n",
    "from survey_logging s\n",
    "group by 1\n",
    "order by 2 desc\n",
    "limit 1\n",
    "\"\"\"\n",
    "\n",
    "import pandas as pd\n",
    "\n",
    "\n",
    "# mock up data\n",
    "s = \"\"\"eid,action,qid\n",
    "1,view,1\n",
    "1,answer,1\n",
    "1,view,2\n",
    "1,skip,2\n",
    "2,view,1\n",
    "2,answer,1\n",
    "2,view,2\n",
    "2,answer,2\n",
    "3,view,1\n",
    "3,skip,1\n",
    "3,view,2\n",
    "3,answer,2\n",
    "4,view,1\n",
    "4,skip,1\n",
    "4,view,2\n",
    "4,answer,2\n",
    "\"\"\"\n",
    "df = pd.read_csv(pd.compat.StringIO(s))\n",
    "df.head()"
   ]
  },
  {
   "cell_type": "code",
   "execution_count": 2,
   "metadata": {},
   "outputs": [
    {
     "data": {
      "text/plain": [
       "qid              2.00\n",
       "response_rate    0.75\n",
       "Name: 1, dtype: float64"
      ]
     },
     "execution_count": 2,
     "metadata": {},
     "output_type": "execute_result"
    }
   ],
   "source": [
    "(\n",
    "    df[df['action']=='answer']\n",
    "    .groupby('qid').agg({'eid':'nunique'})\n",
    "    .div(\n",
    "        df.groupby('qid').agg({'eid':'nunique'}),\n",
    "        level='qid'\n",
    "    )\n",
    "    .reset_index()\n",
    "    .rename(columns={'eid':'response_rate'})\n",
    "    .sort_values('response_rate',ascending=False)\n",
    "    .iloc[0] # first row\n",
    ")"
   ]
  }
 ],
 "metadata": {
  "kernelspec": {
   "display_name": "Python 3",
   "language": "python",
   "name": "python3"
  },
  "language_info": {
   "codemirror_mode": {
    "name": "ipython",
    "version": 3
   },
   "file_extension": ".py",
   "mimetype": "text/x-python",
   "name": "python",
   "nbconvert_exporter": "python",
   "pygments_lexer": "ipython3",
   "version": "3.6.5"
  }
 },
 "nbformat": 4,
 "nbformat_minor": 2
}
