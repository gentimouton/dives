{
 "cells": [
  {
   "cell_type": "markdown",
   "metadata": {},
   "source": [
    "# Question 118 - Print common characters using Python\n",
    "Python String Manipulation\n",
    "\n",
    "Given two strings, write code to print overlapping letters in alphabetical order.\n",
    "\n",
    "For example:\n",
    "```\n",
    "#Given the following strings:\n",
    "str1 = 'card'\n",
    "str2 = 'shark'\n",
    "\n",
    "#Your overlapping letters would be 'a' (1x) and 'r' (1x), \n",
    "#and they just happen to be in alphabetical order already, \n",
    "#so your code would return:\n",
    "'ar'\n",
    "```\n",
    "\n",
    "If there is no overlap between the two strings, you can print 'no overlap'.\n",
    "\n",
    "Solution will be written in Python for premium users."
   ]
  },
  {
   "cell_type": "code",
   "execution_count": 1,
   "metadata": {},
   "outputs": [],
   "source": [
    "from collections import defaultdict\n",
    "\n",
    "def find_overlap(s1, s2):\n",
    "    \"\"\" \n",
    "    store count of characters in 2 dicts\n",
    "    then return the items that show up in both dicts\n",
    "    \"\"\"\n",
    "    d1 = defaultdict(int)\n",
    "    d2 = defaultdict(int)\n",
    "    for c in s1:\n",
    "        d1[c] += 1\n",
    "    for c in s2:\n",
    "        d2[c] += 1\n",
    "    \n",
    "    overlap = []\n",
    "    for c, v1 in d1.items():\n",
    "        v2 = d2[c]\n",
    "        if v2 > 0:\n",
    "            overlap += [c] * min(v1,v2) # add the character as many times as needed\n",
    "    \n",
    "    overlap.sort()\n",
    "    \n",
    "    return ''.join(overlap)\n",
    "\n",
    "def test_find_overlap(f):\n",
    "    assert f('card','shark') == 'ar'\n",
    "    assert f('abc','cbb') == 'bc'\n",
    "    assert f('','') == ''\n",
    "    assert f('','abc') == ''\n",
    "    assert f('cbaz','dzdd') == 'z'\n",
    "    assert f('aaa','aaab') == 'aaa'\n",
    "\n",
    "    \n",
    "test_find_overlap(find_overlap)"
   ]
  },
  {
   "cell_type": "code",
   "execution_count": null,
   "metadata": {},
   "outputs": [],
   "source": []
  }
 ],
 "metadata": {
  "kernelspec": {
   "display_name": "Python 3",
   "language": "python",
   "name": "python3"
  },
  "language_info": {
   "codemirror_mode": {
    "name": "ipython",
    "version": 3
   },
   "file_extension": ".py",
   "mimetype": "text/x-python",
   "name": "python",
   "nbconvert_exporter": "python",
   "pygments_lexer": "ipython3",
   "version": "3.7.4"
  }
 },
 "nbformat": 4,
 "nbformat_minor": 2
}
