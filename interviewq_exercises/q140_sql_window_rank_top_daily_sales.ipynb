{
 "cells": [
  {
   "cell_type": "markdown",
   "metadata": {},
   "source": [
    "# Top Earners\n",
    "SQL Database Querying Rank Function Window Function External Dataset\n",
    "\n",
    "You are given the following dataset of daily sales from a company's sales team. You can assume the table is called DailySales. Given this, write a SQL query to return the top sales person on each given day.\n",
    "```\n",
    "Column Name \tColumn Type \tShort description\n",
    "Date \tstring \tDate of sales summary\n",
    "Name \tstring \tName of sales person.\n",
    "Num_Sales \tint \tTotal number of sales\n",
    "```"
   ]
  },
  {
   "cell_type": "markdown",
   "metadata": {},
   "source": [
    "```sql\n",
    "select distinct \n",
    "    date, \n",
    "    first_value(name) over(partition by date order by num_sales desc) as top_name, \n",
    "    first_value(num_sales) over(partition by date order by num_sales desc) as top_sales    \n",
    "from daily_sales\n",
    "order by 1 \n",
    "```"
   ]
  },
  {
   "cell_type": "code",
   "execution_count": null,
   "metadata": {},
   "outputs": [],
   "source": []
  }
 ],
 "metadata": {
  "kernelspec": {
   "display_name": "Python 3",
   "language": "python",
   "name": "python3"
  },
  "language_info": {
   "codemirror_mode": {
    "name": "ipython",
    "version": 3
   },
   "file_extension": ".py",
   "mimetype": "text/x-python",
   "name": "python",
   "nbconvert_exporter": "python",
   "pygments_lexer": "ipython3",
   "version": "3.7.4"
  }
 },
 "nbformat": 4,
 "nbformat_minor": 2
}
