{
 "cells": [
  {
   "cell_type": "markdown",
   "metadata": {},
   "source": [
    "# Question 26 - Is red independent from an ace? (another card problem)\n",
    "\n",
    "Is drawing a red card and drawing an ace independent? \n",
    "You can read more about a standard card deck here. \n",
    "Hint: Drawing an ace (event A) and drawing a red card (event B)\n",
    "are two separate events -- think of a way to prove (using probability theory) \n",
    "that knowing whether event A occurred impacts the probability of event B occuring. "
   ]
  },
  {
   "cell_type": "markdown",
   "metadata": {},
   "source": [
    "We draw a card. Let event A be \"the card is an Ace\" and R \"the card is Red\". \n",
    "\n",
    "A and R are independent iff p(A) = p(A | R).\n",
    "- p(A) = 4/52 = 1/13\n",
    "- p(A|R) = 2/26 = 1/13\n",
    "\n",
    "Therefore drawing a red and drawing an Ace are independent events."
   ]
  },
  {
   "cell_type": "code",
   "execution_count": null,
   "metadata": {},
   "outputs": [],
   "source": []
  }
 ],
 "metadata": {
  "kernelspec": {
   "display_name": "Python 3",
   "language": "python",
   "name": "python3"
  },
  "language_info": {
   "codemirror_mode": {
    "name": "ipython",
    "version": 3
   },
   "file_extension": ".py",
   "mimetype": "text/x-python",
   "name": "python",
   "nbconvert_exporter": "python",
   "pygments_lexer": "ipython3",
   "version": "3.6.5"
  }
 },
 "nbformat": 4,
 "nbformat_minor": 2
}
