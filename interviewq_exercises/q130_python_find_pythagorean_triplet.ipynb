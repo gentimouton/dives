{
 "cells": [
  {
   "cell_type": "markdown",
   "metadata": {},
   "source": [
    "# Pythagorean Triplet\n",
    "Python Data Structures Arrays\n",
    "\n",
    "Given an array of integers, can you write a function that returns \"True\" if there is a triplet (a, b, c) within the array that satisfies a^2 + b^2 = c^2?\n",
    "\n",
    "For example:\n",
    "```\n",
    "Input: arr[] = [3, 1, 4, 6, 5]\n",
    "Output: True\n",
    "#There is a Pythagorean triplet (3, 4, 5) that exists in the input array.\n",
    "\n",
    "Input: arr[] = {10, 4, 6, 12, 5}\n",
    "Output: False\n",
    "#There is no Pythagorean triplet that exists in the input array.\n",
    "```\n"
   ]
  },
  {
   "cell_type": "code",
   "execution_count": 1,
   "metadata": {},
   "outputs": [],
   "source": [
    "def test_find_pythagorean_triangle(f):\n",
    "    assert f([3,4,5]) == [3,4,5] # basic check\n",
    "    assert f([3,1,4,6,5]) == [3,4,5] # test sort\n",
    "    assert f([10,4,6,12,5]) == [] # test non existence\n",
    "    assert f([3,4]) == [] # not enough integers\n",
    "    assert f([5,10,12,13]) == [5,12,13] # a,b,c are not adjacent\n",
    "    assert f([8,10,15,16,17]) == [8,15,17] # test non-adjacent\n",
    "    \n",
    "    \n",
    "def find_pythagorean_triangle(arr):\n",
    "    arr.sort()\n",
    "    n = len(arr)\n",
    "    for i in range(0,n-2): # pick first int\n",
    "        for j in range(i+1,n-1): # pick second int\n",
    "            for k in range(i+2,n): # pick 3rd int\n",
    "                a, b, c = arr[i], arr[j], arr[k]\n",
    "                if a**2 + b**2 == c**2:\n",
    "                    return [a, b, c]\n",
    "    return []\n",
    "\n",
    "test_find_pythagorean_triangle(find_pythagorean_triangle)"
   ]
  },
  {
   "cell_type": "code",
   "execution_count": null,
   "metadata": {},
   "outputs": [],
   "source": []
  },
  {
   "cell_type": "code",
   "execution_count": null,
   "metadata": {},
   "outputs": [],
   "source": []
  },
  {
   "cell_type": "code",
   "execution_count": null,
   "metadata": {},
   "outputs": [],
   "source": []
  }
 ],
 "metadata": {
  "kernelspec": {
   "display_name": "Python 3",
   "language": "python",
   "name": "python3"
  },
  "language_info": {
   "codemirror_mode": {
    "name": "ipython",
    "version": 3
   },
   "file_extension": ".py",
   "mimetype": "text/x-python",
   "name": "python",
   "nbconvert_exporter": "python",
   "pygments_lexer": "ipython3",
   "version": "3.7.4"
  }
 },
 "nbformat": 4,
 "nbformat_minor": 2
}
