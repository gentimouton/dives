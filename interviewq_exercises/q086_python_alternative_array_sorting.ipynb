{
 "cells": [
  {
   "cell_type": "markdown",
   "metadata": {},
   "source": [
    "# Question 86 - Alternative array sorting\n",
    "\n",
    "Given an array of integers, print the array in alternating min/max order. The first element should be the first maximum, second element should be the first minimum, third element should be second maximum, etc.\n",
    "\n",
    "For example, given the following array:\n",
    "\n",
    "arr[] = [10, 2, 11, 3, 7, 4, 1]\n",
    "\n",
    "Your function should return:\n",
    "\n",
    "11, 1, 10, 2, 7, 3, 4"
   ]
  },
  {
   "cell_type": "code",
   "execution_count": 1,
   "metadata": {},
   "outputs": [],
   "source": [
    "# step 1: implement sorting\n",
    "\n",
    "def merge_sort(arr):\n",
    "    \"\"\" merge sort a list, not in place \n",
    "    merge_sort([2,1,3]) -> [1,2,3]\n",
    "    \"\"\"\n",
    "    n = len(arr)\n",
    "    if n <= 1:\n",
    "        return arr\n",
    "    \n",
    "    # recurse\n",
    "    i = n//2\n",
    "    left = merge_sort(arr[:i])\n",
    "    right = merge_sort(arr[i:])\n",
    "    \n",
    "    # merge left and right\n",
    "    li, ri = 0, 0\n",
    "    res = [] # fill this by iterating concurrently over left and right\n",
    "    while li < len(left) and ri < len(right):\n",
    "        if left[li] < right[ri]:\n",
    "            res.append(left[li])\n",
    "            li += 1\n",
    "        else:\n",
    "            res.append(right[ri])\n",
    "            ri += 1\n",
    "    # add any remaining element in left or right (there's at least one)\n",
    "    while li < len(left):\n",
    "        res.append(left[li])\n",
    "        li += 1\n",
    "    while ri < len(right):\n",
    "        res.append(right[ri])\n",
    "        ri += 1\n",
    "    \n",
    "    return res\n",
    "\n",
    "    \n",
    "def test_sort(f):\n",
    "    assert f([1,4,3,2]) == [1,2,3,4]\n",
    "    assert f([1,2,3,4]) == [1,2,3,4]\n",
    "    assert f([5,1,3,2,4]) == [1,2,3,4,5]\n",
    "    assert f([]) == []\n",
    "    assert f([1]) == [1]\n",
    "        \n",
    "test_sort(merge_sort)"
   ]
  },
  {
   "cell_type": "code",
   "execution_count": 2,
   "metadata": {},
   "outputs": [],
   "source": [
    "# step 2: given array or list, output min/max/2nd min/2nd max\n",
    "\n",
    "def iterate_alternate(arr):\n",
    "    \"\"\" given array [a,b,...,y,z] output [z,a,y,b,...] \"\"\"\n",
    "    res = []\n",
    "    n = len(arr)\n",
    "    \n",
    "    # iterate\n",
    "    i = 0\n",
    "    from_back = True\n",
    "    while i < n//2:\n",
    "        if from_back:\n",
    "            res.append(arr[-(i+1)])\n",
    "        else:\n",
    "            res.append(arr[i])\n",
    "            i += 1\n",
    "        from_back = not from_back\n",
    "    \n",
    "    # add middle element if needed\n",
    "    if n % 2 == 1:\n",
    "        res.append(arr[n//2])\n",
    "        \n",
    "    return res\n",
    "\n",
    "def test_iterate_alternate(f):\n",
    "    assert f([1,2,3]) == [3,1,2]\n",
    "    assert f([]) == []\n",
    "    assert f([1]) == [1]\n",
    "\n",
    "test_iterate_alternate(iterate_alternate)"
   ]
  },
  {
   "cell_type": "code",
   "execution_count": 3,
   "metadata": {},
   "outputs": [
    {
     "data": {
      "text/plain": [
       "[11, 1, 10, 2, 7, 3, 4]"
      ]
     },
     "execution_count": 3,
     "metadata": {},
     "output_type": "execute_result"
    }
   ],
   "source": [
    "\n",
    "def alt_sort(arr):\n",
    "    # sort, then iterate both ways\n",
    "    sorted_arr = merge_sort(arr)\n",
    "    result = iterate_alternate(sorted_arr)\n",
    "    return result\n",
    "\n",
    "def test_alt_sort(f):\n",
    "    assert alt_sort([10, 2, 11, 3, 7, 4, 1]) == [11, 1, 10, 2, 7, 3, 4]\n",
    "    assert alt_sort([1,2,3]) == [3,1,2]\n",
    "    assert alt_sort([]) == []\n",
    "\n",
    "alt_sort([10, 2, 11, 3, 7, 4, 1])\n"
   ]
  },
  {
   "cell_type": "code",
   "execution_count": null,
   "metadata": {},
   "outputs": [],
   "source": []
  }
 ],
 "metadata": {
  "kernelspec": {
   "display_name": "Python 3",
   "language": "python",
   "name": "python3"
  },
  "language_info": {
   "codemirror_mode": {
    "name": "ipython",
    "version": 3
   },
   "file_extension": ".py",
   "mimetype": "text/x-python",
   "name": "python",
   "nbconvert_exporter": "python",
   "pygments_lexer": "ipython3",
   "version": "3.6.5"
  }
 },
 "nbformat": 4,
 "nbformat_minor": 2
}
