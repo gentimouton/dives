{
 "cells": [
  {
   "cell_type": "markdown",
   "metadata": {},
   "source": [
    "# Probability of passing through interview stages\n",
    "\n",
    "Question: Given the information below, \n",
    "if you had a good first interview, \n",
    "what is the probability you will receive a second interview?\n",
    "- 50% of all people who received a first interview received a second interview\n",
    "- 95% of people that received a second interview had a good first interview\n",
    "- 75% of people that did not receive a second interview had a good first interview\n"
   ]
  },
  {
   "cell_type": "markdown",
   "metadata": {},
   "source": [
    "\n",
    "# graphically \n",
    "\n",
    "![Bayes diagram](q007_interview_bayes.png \"bayes\")\n",
    "\n",
    "From this graph, it's easy to see that good interviews are 15+19=34. \n",
    "The number of second interviews among those is 19.\n",
    "So 19/34.\n",
    "\n"
   ]
  },
  {
   "cell_type": "markdown",
   "metadata": {},
   "source": [
    "\n",
    "# with bayes\n",
    "\n",
    "We are looking for p(2|g), given:\n",
    "- p(2|1) = 1/2 = p(2)\n",
    "- p(g|2) = 19/20 = p(g).p(2|g)/p(2)\n",
    "- p(g|not 2) = 3/4 = p(g).(1-p(g|2))/(1-p(2))\n",
    "\n",
    "Assuming everyone goes to first interview, p(2) = p(2|1) = 1/2, \n",
    "so we have system of 2 equations with 2 unknowns:\n",
    "- p(g).p(2|g) = 19/40\n",
    "- p(g).(1-p(2|g)) = 3/8\n",
    "\n",
    "Transforming this gives p(2|g) = 19/34\n"
   ]
  },
  {
   "cell_type": "code",
   "execution_count": null,
   "metadata": {},
   "outputs": [],
   "source": []
  }
 ],
 "metadata": {
  "kernelspec": {
   "display_name": "Python 3",
   "language": "python",
   "name": "python3"
  },
  "language_info": {
   "codemirror_mode": {
    "name": "ipython",
    "version": 3
   },
   "file_extension": ".py",
   "mimetype": "text/x-python",
   "name": "python",
   "nbconvert_exporter": "python",
   "pygments_lexer": "ipython3",
   "version": "3.6.5"
  }
 },
 "nbformat": 4,
 "nbformat_minor": 2
}
