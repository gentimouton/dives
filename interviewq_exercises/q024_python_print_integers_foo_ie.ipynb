{
 "cells": [
  {
   "cell_type": "markdown",
   "metadata": {},
   "source": [
    "# Question 24 - Oh foo-ie!\n",
    "\n",
    "Write a function that takes in an integer n, \n",
    "and prints out integers from 1 to n inclusive. \n",
    "- If %3 == 0 then print \"foo\" in place of the integer, \n",
    "- if %5 == 0 then print \"ie\" in place of the integer, \n",
    "- and if both conditions are true then print \"foo-ie\" in place of the integer."
   ]
  },
  {
   "cell_type": "code",
   "execution_count": 2,
   "metadata": {},
   "outputs": [
    {
     "data": {
      "text/plain": [
       "[1,\n",
       " 2,\n",
       " 'foo',\n",
       " 4,\n",
       " 'ie',\n",
       " 'foo',\n",
       " 7,\n",
       " 8,\n",
       " 'foo',\n",
       " 'ie',\n",
       " 11,\n",
       " 'foo',\n",
       " 13,\n",
       " 14,\n",
       " 'foo-ie',\n",
       " 16,\n",
       " 17,\n",
       " 'foo',\n",
       " 19,\n",
       " 'ie']"
      ]
     },
     "execution_count": 2,
     "metadata": {},
     "output_type": "execute_result"
    }
   ],
   "source": [
    "def print_foo_ie(n):\n",
    "    return list(\n",
    "        map(\n",
    "            lambda i: (\n",
    "                'foo-ie' if i%3 == 0 and i%5 == 0\n",
    "                else (\n",
    "                    'foo' if i%3 == 0 \n",
    "                    else (\n",
    "                        'ie' if i%5 == 0\n",
    "                        else i\n",
    "                    )\n",
    "                )\n",
    "            ),\n",
    "            range(1,n+1)\n",
    "        )\n",
    "    )\n",
    "\n",
    "print_foo_ie(20)"
   ]
  },
  {
   "cell_type": "code",
   "execution_count": null,
   "metadata": {},
   "outputs": [],
   "source": []
  }
 ],
 "metadata": {
  "kernelspec": {
   "display_name": "Python 3",
   "language": "python",
   "name": "python3"
  },
  "language_info": {
   "codemirror_mode": {
    "name": "ipython",
    "version": 3
   },
   "file_extension": ".py",
   "mimetype": "text/x-python",
   "name": "python",
   "nbconvert_exporter": "python",
   "pygments_lexer": "ipython3",
   "version": "3.6.5"
  }
 },
 "nbformat": 4,
 "nbformat_minor": 2
}
