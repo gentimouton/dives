{
 "cells": [
  {
   "cell_type": "markdown",
   "metadata": {},
   "source": [
    "# Biased coin toss\n",
    "Python Statistics Simulation Probability Theory\n",
    "\n",
    "Suppose you want to generate a sample of heads and tails from a fair coin. However, you only have a biased coin available (meaning the probability of coming up with heads is different than 1/2).\n",
    "\n",
    "Write a simulation in python that will use your biased coin to generate a sample of heads/tails as if it were coming from a fair coin."
   ]
  },
  {
   "cell_type": "code",
   "execution_count": 1,
   "metadata": {},
   "outputs": [],
   "source": [
    "# assumption: the coin's chance of heads is fixed at h != 1/2\n",
    "# then chance of rolling head then tail p(HT) = h(1-h) = p(TH)\n",
    "# so if we rolled only HT or TH, we'd get either with chance of 1/2\n",
    "# hence solution: roll 2 coins. If outcome in (HH, TT), then reroll.\n",
    "# the chance of HT = chance of TH = 1/2. So if HT, output 1; if TH, output 0.\n",
    "\n",
    "import random\n",
    "\n",
    "random.seed(123)\n",
    "\n",
    "def toss(p=.7):\n",
    "    \"\"\" return 1 with probability p, 0 otherwise \"\"\"\n",
    "    r = random.random() \n",
    "    return 1 if r <= p else 0\n",
    "\n",
    "def test_toss(f):\n",
    "    iterations = 10**6\n",
    "    p = .75\n",
    "    a = [toss(p) for _ in range(iterations)]\n",
    "    mean = sum(a) / len(a)\n",
    "    assert abs(p - mean) < .01\n",
    "\n",
    "test_toss(toss)"
   ]
  },
  {
   "cell_type": "code",
   "execution_count": 2,
   "metadata": {},
   "outputs": [],
   "source": [
    "def fair_toss(toss_func):\n",
    "    while True:\n",
    "        roll = toss_func(), toss_func()\n",
    "        if roll == (1,0):\n",
    "            return 1\n",
    "        if roll == (0,1):\n",
    "            return 0\n",
    "        # otherwise keep rolling\n",
    "\n",
    "def test_fair_toss(f):\n",
    "    iterations = 10**6\n",
    "    a = [f(toss) for _ in range(iterations)]\n",
    "    mean = sum(a) / len(a)\n",
    "    assert abs(mean - 0.5) < .01\n",
    "\n",
    "test_fair_toss(fair_toss)\n"
   ]
  },
  {
   "cell_type": "code",
   "execution_count": null,
   "metadata": {},
   "outputs": [],
   "source": []
  }
 ],
 "metadata": {
  "kernelspec": {
   "display_name": "Python 3",
   "language": "python",
   "name": "python3"
  },
  "language_info": {
   "codemirror_mode": {
    "name": "ipython",
    "version": 3
   },
   "file_extension": ".py",
   "mimetype": "text/x-python",
   "name": "python",
   "nbconvert_exporter": "python",
   "pygments_lexer": "ipython3",
   "version": "3.7.4"
  }
 },
 "nbformat": 4,
 "nbformat_minor": 2
}
