{
 "cells": [
  {
   "cell_type": "markdown",
   "metadata": {},
   "source": [
    "# Question 35 - Filtering student information with Pandas\n",
    "\n",
    "Suppose you have a dataframe, df, with the following records:\n",
    "\n",
    "|Age |Favorite Color |Grade |Name|\n",
    "|---|---|---|\n",
    "|20 |blue |88 |Willard Morris|\n",
    "|19 |blue |95 |Al Jennings|\n",
    "|22 |green |92 |Omar Mullins|\n",
    "|21 |yellow |70 |Spencer McDaniel|\n",
    "\n",
    "The dataframe is showing information about a group of students. Write code using Python Pandas to select the rows where the students' favorite color is blue or yellow and their grade is above 90. "
   ]
  },
  {
   "cell_type": "code",
   "execution_count": 1,
   "metadata": {},
   "outputs": [
    {
     "data": {
      "text/html": [
       "<div>\n",
       "<style scoped>\n",
       "    .dataframe tbody tr th:only-of-type {\n",
       "        vertical-align: middle;\n",
       "    }\n",
       "\n",
       "    .dataframe tbody tr th {\n",
       "        vertical-align: top;\n",
       "    }\n",
       "\n",
       "    .dataframe thead th {\n",
       "        text-align: right;\n",
       "    }\n",
       "</style>\n",
       "<table border=\"1\" class=\"dataframe\">\n",
       "  <thead>\n",
       "    <tr style=\"text-align: right;\">\n",
       "      <th></th>\n",
       "      <th>age</th>\n",
       "      <th>color</th>\n",
       "      <th>grade</th>\n",
       "      <th>name</th>\n",
       "    </tr>\n",
       "  </thead>\n",
       "  <tbody>\n",
       "    <tr>\n",
       "      <th>1</th>\n",
       "      <td>19</td>\n",
       "      <td>blue</td>\n",
       "      <td>95</td>\n",
       "      <td>al</td>\n",
       "    </tr>\n",
       "  </tbody>\n",
       "</table>\n",
       "</div>"
      ],
      "text/plain": [
       "   age color  grade name\n",
       "1   19  blue     95   al"
      ]
     },
     "execution_count": 1,
     "metadata": {},
     "output_type": "execute_result"
    }
   ],
   "source": [
    "import pandas as pd\n",
    "df = pd.DataFrame({'age':[20,19,22,21],\n",
    "                  'color':['blue','blue','green','yellow'],\n",
    "                  'grade':[88,95,92,70],\n",
    "                  'name':['will','al','omar','spencer']})\n",
    "df.query(\"grade>90 & color in ('blue','yellow')\")"
   ]
  },
  {
   "cell_type": "code",
   "execution_count": null,
   "metadata": {},
   "outputs": [],
   "source": []
  }
 ],
 "metadata": {
  "kernelspec": {
   "display_name": "Python 3",
   "language": "python",
   "name": "python3"
  },
  "language_info": {
   "codemirror_mode": {
    "name": "ipython",
    "version": 3
   },
   "file_extension": ".py",
   "mimetype": "text/x-python",
   "name": "python",
   "nbconvert_exporter": "python",
   "pygments_lexer": "ipython3",
   "version": "3.6.5"
  }
 },
 "nbformat": 4,
 "nbformat_minor": 2
}
