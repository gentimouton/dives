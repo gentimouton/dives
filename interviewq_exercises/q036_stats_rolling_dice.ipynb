{
 "cells": [
  {
   "cell_type": "markdown",
   "metadata": {},
   "source": [
    "# Question 36 - Rolling to win!\n",
    "\n",
    "Suppose you are playing a game with a fair die (e.g. no bias for any one side), and your expected payout based on the # you roll is shown the table below. If you have to pay $1 to play, is it worth the cost to play?\n",
    "\n",
    "|Roll|Payout|\n",
    "|---|---|\n",
    "|6|4|\n",
    "|5|2|\n",
    "|4|1|\n",
    "|3|0|\n",
    "|2|0|\n",
    "|1|0|\n"
   ]
  },
  {
   "cell_type": "markdown",
   "metadata": {},
   "source": [
    "4/6+2/6+1/6 = 7/6 > 1\n",
    "\n",
    "It's worth paying $1 to play."
   ]
  }
 ],
 "metadata": {
  "kernelspec": {
   "display_name": "Python 3",
   "language": "python",
   "name": "python3"
  },
  "language_info": {
   "codemirror_mode": {
    "name": "ipython",
    "version": 3
   },
   "file_extension": ".py",
   "mimetype": "text/x-python",
   "name": "python",
   "nbconvert_exporter": "python",
   "pygments_lexer": "ipython3",
   "version": "3.6.5"
  }
 },
 "nbformat": 4,
 "nbformat_minor": 2
}
