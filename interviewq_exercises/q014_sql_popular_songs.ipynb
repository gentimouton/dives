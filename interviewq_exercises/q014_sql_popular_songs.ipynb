{
 "cells": [
  {
   "cell_type": "markdown",
   "metadata": {},
   "source": [
    "# Question 14 - Popular songs (a SQL question)\n",
    "\n",
    "Below are two table schemas for a popular music streaming application:\n",
    "```\n",
    "Table 1: user_song_log\n",
    "Column Name \tData Type \tDescription\n",
    "user_id \tid \tid of the streaming user\n",
    "timestamp \tinteger \ttimestamp of when the user started listening to the song, epoch seconds\n",
    "song_id \tinteger \tid of the song\n",
    "artist_id \tinteger \tid of the artist\n",
    "\n",
    "Table 2: song_info\n",
    "Column Name \tData Type \tDescription\n",
    "song_id \tinteger \tid of the song\n",
    "artist_id \tinteger \tid of the artist\n",
    "song_length \tinteger \tlength of song in seconds\n",
    "```\n",
    "\n",
    "Question:\n",
    "\n",
    "Can you write a SQL query to estimate the average number of hours a user spends listening to music daily? "
   ]
  },
  {
   "cell_type": "markdown",
   "metadata": {},
   "source": [
    "```sql\n",
    "-- keep only days when users listen to at least 1 song,\n",
    "-- ie compute listening time per listening day, not per calendar day\n",
    "with time_listened as (\n",
    "select\n",
    "    user_id,\n",
    "    date_trunc('day',timestamp) as dt,\n",
    "    sum(song_length) as seconds_listened\n",
    "from user_song_log u\n",
    "join song_info s\n",
    "    on s.song_id = u.song_id\n",
    "group by 1,2\n",
    ")\n",
    "\n",
    "select\n",
    "    avg(seconds_listened)::float/60/60 as avg_daily_hours_listened\n",
    "from time_listened\n",
    "\n",
    "```\n"
   ]
  },
  {
   "cell_type": "code",
   "execution_count": null,
   "metadata": {},
   "outputs": [],
   "source": []
  }
 ],
 "metadata": {
  "kernelspec": {
   "display_name": "Python 3",
   "language": "python",
   "name": "python3"
  },
  "language_info": {
   "codemirror_mode": {
    "name": "ipython",
    "version": 3
   },
   "file_extension": ".py",
   "mimetype": "text/x-python",
   "name": "python",
   "nbconvert_exporter": "python",
   "pygments_lexer": "ipython3",
   "version": "3.6.5"
  }
 },
 "nbformat": 4,
 "nbformat_minor": 2
}
