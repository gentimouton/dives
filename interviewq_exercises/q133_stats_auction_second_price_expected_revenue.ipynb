{
 "cells": [
  {
   "cell_type": "markdown",
   "metadata": {},
   "source": [
    "# Second price (Vickrey) auction\n",
    "Statistics Vickrey Auction Bayesian-Nash Equilibrium\n",
    "\n",
    "Suppose you're running a second-price auction. In this auction, the highest bidder will win, but will pay the auctioneer (you) the value of the second-highest bid. Assuming there are two bidders bidding on one item, and the bidder knows his own valuation but sees the valuation of the rival as uncertain and distributed uniformly in the unit interval, calculate the expected revenue when the reserve price is 1/2.\n",
    "\n",
    "\n",
    "**Answer**: with reserved price of `r=1/2`, \n",
    "the expected revenue `R` is `1/3 + r^2 - 4/3 r^3` which is 5/12. \n",
    "See [solution](https://math.stackexchange.com/a/847315)"
   ]
  },
  {
   "cell_type": "code",
   "execution_count": null,
   "metadata": {},
   "outputs": [],
   "source": []
  }
 ],
 "metadata": {
  "kernelspec": {
   "display_name": "Python 3",
   "language": "python",
   "name": "python3"
  },
  "language_info": {
   "codemirror_mode": {
    "name": "ipython",
    "version": 3
   },
   "file_extension": ".py",
   "mimetype": "text/x-python",
   "name": "python",
   "nbconvert_exporter": "python",
   "pygments_lexer": "ipython3",
   "version": "3.7.4"
  }
 },
 "nbformat": 4,
 "nbformat_minor": 2
}
