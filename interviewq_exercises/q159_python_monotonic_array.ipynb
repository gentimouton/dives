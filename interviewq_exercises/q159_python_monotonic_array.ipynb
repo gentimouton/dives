{
 "cells": [
  {
   "cell_type": "markdown",
   "metadata": {},
   "source": [
    "# Monotonic array\n",
    "Python Data Structures Arrays\n",
    "\n",
    "Can you check if a given array containing n integers is monotonic? Your function should return \"true\" if it is monotonic and \"false\" if it's not.\n",
    "\n",
    "```\n",
    "An array is monotonic if it is either monotone increasing or monotone decreasing. \n",
    "An array A is monotone increasing if for all i <= j, A[i] <= A[j]. \n",
    "An array A is monotone decreasing if for all i <= j, A[i] >= A[j].\n",
    "```\n",
    "\n",
    "For example:\n",
    "```\n",
    "Input : [6, 5, 4, 4]\n",
    "Output : true\n",
    "\n",
    "Input : [5, 5, 5, 4]\n",
    "Output : true\n",
    "\n",
    "Input : [5, 15, 20, 10]\n",
    "Output : false\n",
    "```\n",
    "\n",
    "Solution will be written in Python for premium users."
   ]
  },
  {
   "cell_type": "code",
   "execution_count": 1,
   "metadata": {},
   "outputs": [
    {
     "name": "stdout",
     "output_type": "stream",
     "text": [
      "tests passed\n"
     ]
    }
   ],
   "source": [
    "def test_is_monotonic(f):\n",
    "    assert f([6,5,4,4]) == True\n",
    "    assert f([5,5,5,4]) == True\n",
    "    assert f([5,15,20,10]) == False\n",
    "    assert f([1,1,1]) == True\n",
    "    print('tests passed')\n",
    "    \n",
    "def is_monotonic(arr):\n",
    "    if len(arr) <= 1:\n",
    "        return True\n",
    "    \n",
    "    order = 'unknown' # can be 'asc', 'desc'\n",
    "    i = 0\n",
    "    while i < len(arr)-1:\n",
    "        if arr[i] < arr[i+1]:\n",
    "            if order == 'desc':\n",
    "                return False\n",
    "            else:\n",
    "                order = 'asc'\n",
    "        if arr[i] > arr[i+1]:\n",
    "            if order == 'asc':\n",
    "                return False\n",
    "            else:\n",
    "                order = 'desc'\n",
    "        i += 1\n",
    "    \n",
    "    return True\n",
    "\n",
    "test_is_monotonic(is_monotonic)"
   ]
  },
  {
   "cell_type": "code",
   "execution_count": null,
   "metadata": {},
   "outputs": [],
   "source": []
  }
 ],
 "metadata": {
  "kernelspec": {
   "display_name": "Python 3",
   "language": "python",
   "name": "python3"
  },
  "language_info": {
   "codemirror_mode": {
    "name": "ipython",
    "version": 3
   },
   "file_extension": ".py",
   "mimetype": "text/x-python",
   "name": "python",
   "nbconvert_exporter": "python",
   "pygments_lexer": "ipython3",
   "version": "3.7.4"
  }
 },
 "nbformat": 4,
 "nbformat_minor": 2
}
