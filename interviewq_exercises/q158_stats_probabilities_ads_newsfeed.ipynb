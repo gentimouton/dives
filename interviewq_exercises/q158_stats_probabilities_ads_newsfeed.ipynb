{
 "cells": [
  {
   "cell_type": "markdown",
   "metadata": {},
   "source": [
    "# Ads in a newsfeed\n",
    "Statistics Probability Theory Binomial Distribution\n",
    "\n",
    "Suppose you're working for a social media company that has a feature similar to Facebook's newsfeed. The company has two options for serving ads within their newsfeed:\n",
    "```\n",
    "   A. Out of every 25 stories, one will be an ad\n",
    "   B. Every story has a 4% chance of being an ad\n",
    "```\n",
    "For each option, what is the expected number of ads shown in 100 news stories? If we go with the second option, what is the chance a user will be shown only a single ad in 100 stories? What about no ads at all? "
   ]
  },
  {
   "cell_type": "markdown",
   "metadata": {},
   "source": [
    "Option A:\n",
    "- expect 4 ads per 100 stories\n",
    "- 0% chance to see zero ad in 100 stories\n",
    "- 0% chance to be shown a single ad in 100 stories\n",
    "\n",
    "Option B:\n",
    "- expect 4 ads per 100 stories\n",
    "- (1 - 0.04)^100 = 1.7% chance to see zero ad in 100 stories\n",
    "- (.04 * .96^99) * 100 = 7.0% chance to be shown a single ad in 100 stories"
   ]
  }
 ],
 "metadata": {
  "kernelspec": {
   "display_name": "Python 3",
   "language": "python",
   "name": "python3"
  },
  "language_info": {
   "codemirror_mode": {
    "name": "ipython",
    "version": 3
   },
   "file_extension": ".py",
   "mimetype": "text/x-python",
   "name": "python",
   "nbconvert_exporter": "python",
   "pygments_lexer": "ipython3",
   "version": "3.7.4"
  }
 },
 "nbformat": 4,
 "nbformat_minor": 2
}
