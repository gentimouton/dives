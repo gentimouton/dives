{
 "cells": [
  {
   "cell_type": "markdown",
   "metadata": {},
   "source": [
    "# Question 90 - Spiral matrix\n",
    "\n",
    "Given a matrix with m x n dimensions, print its elements in spiral form. For example, given:\n",
    "\n",
    "```\n",
    "a = [ [10, 2, 11],\n",
    "[1, 3, 4],\n",
    "[8, 7, 9] ]\n",
    "```       \n",
    "\n",
    "Your function should return:\n",
    "\n",
    "10, 2, 11, 4, 9, 7, 8, 1, 3\n",
    "\n",
    "Solution will be written in Python for premium users. "
   ]
  },
  {
   "cell_type": "code",
   "execution_count": 1,
   "metadata": {},
   "outputs": [],
   "source": [
    "def test_iterate_spiral_matrix(f):\n",
    "    assert f([[1,2],[4,3]]) == [1,2,3,4]\n",
    "    assert f([[1],[2],[3]]) == [1,2,3]\n",
    "    assert f([[1],[2],[3]]) == [1,2,3]\n",
    "    a = [ \n",
    "        [10, 2, 11], \n",
    "        [1, 3, 4], \n",
    "        [8, 7, 9] \n",
    "    ]\n",
    "    assert f(a) == [10,2,11,4,9,7,8,1,3]\n",
    "    a = [[1,2,3],[6,5,4]]\n",
    "    assert f(a) == [1,2,3,4,5,6]\n",
    "    \n",
    "\n",
    "def iterate_spiral_matrix(a):\n",
    "    \"\"\" Iterate through matrix in a spiral way.\n",
    "    Example: go through 1, then 2, etc\n",
    "    1111\n",
    "    4552\n",
    "    3332\n",
    "    \"\"\"\n",
    "    n_rows = len(a) \n",
    "    n_cols = len(a[0])\n",
    "  \n",
    "    from_col = 0 # when iterating over a row, index to start at\n",
    "    to_col = n_cols # when iterating over a row, index to end at\n",
    "    from_row = 0 # when iterating over a column, index to start at\n",
    "    to_row = n_rows # when iterating over a column, index to end at\n",
    "    \n",
    "    results = []\n",
    "    \n",
    "    while from_col < to_col and from_row < to_row:\n",
    "        \n",
    "        # iterate over top row\n",
    "        for i in range(from_col, to_col):\n",
    "            results.append(a[from_row][i])\n",
    "        from_row += 1\n",
    "        \n",
    "        # iterate over left col\n",
    "        for i in range(from_row, to_row):\n",
    "            results.append(a[i][to_col-1])\n",
    "        to_col -= 1\n",
    "        \n",
    "        # iterate over bottom row, if any remains\n",
    "        if from_row < to_row:\n",
    "            for i in range(to_col-1, from_col-1, -1):\n",
    "                results.append(a[to_row-1][i])\n",
    "            to_row -= 1\n",
    "\n",
    "        # iterate over left column, if any remains\n",
    "        if from_col < to_col:\n",
    "            for i in range(to_row-1, from_row-1, -1):\n",
    "                results.append(a[i][from_col])\n",
    "            from_col += 1\n",
    "        \n",
    "    return results\n",
    "\n",
    "test_iterate_spiral_matrix(iterate_spiral_matrix)"
   ]
  },
  {
   "cell_type": "code",
   "execution_count": null,
   "metadata": {},
   "outputs": [],
   "source": []
  }
 ],
 "metadata": {
  "kernelspec": {
   "display_name": "Python 3",
   "language": "python",
   "name": "python3"
  },
  "language_info": {
   "codemirror_mode": {
    "name": "ipython",
    "version": 3
   },
   "file_extension": ".py",
   "mimetype": "text/x-python",
   "name": "python",
   "nbconvert_exporter": "python",
   "pygments_lexer": "ipython3",
   "version": "3.6.5"
  }
 },
 "nbformat": 4,
 "nbformat_minor": 2
}
