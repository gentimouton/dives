{
 "cells": [
  {
   "cell_type": "markdown",
   "metadata": {},
   "source": [
    "# Question 10 - Calculating student attendance using SQL\n",
    "\n",
    "Given the following table schemas, \n",
    "how would you figure out the overall attendance rate for each grade on 2018-03-12? \n",
    "\n",
    "```\n",
    "Table 1: student_attendance_log\n",
    "Column Name \tData Type \tDescription\n",
    "date \tstring \tdate of log per student_id, format is 'yyyy-mm-dd'\n",
    "student_id \tinteger \tid of the student\n",
    "attendance_status \tstring \tPossible values are ['present', 'tardy', 'absent']\n",
    "```\n",
    "\n",
    "```\n",
    "Table 2: student_demographic\n",
    "Column Name \tData Type \tDescription\n",
    "student_id \tinteger \tid of the student\n",
    "grade_level \tinteger \twill be a value between 0-12, which corresponds\n",
    "date_of_birth \tstring \tStudent birth date, format is 'yyyy-mm-dd'\n",
    "```\n",
    "\n",
    "```\n",
    "select\n",
    "    grade_level,\n",
    "    count(distinct \n",
    "        case when attendance_status in ('present', 'tardy') \n",
    "            then a.student_id else null end\n",
    "        ) ::float \n",
    "        / count(distinct a.student_id) \n",
    "        as attendance_rate\n",
    "from student_attendance_log a\n",
    "join student_demographic d\n",
    "    on d.student_id = a.student_id\n",
    "where date = '2018-03-12'\n",
    "group by 1\n",
    "```"
   ]
  },
  {
   "cell_type": "code",
   "execution_count": null,
   "metadata": {},
   "outputs": [],
   "source": []
  }
 ],
 "metadata": {
  "kernelspec": {
   "display_name": "Python 3",
   "language": "python",
   "name": "python3"
  },
  "language_info": {
   "codemirror_mode": {
    "name": "ipython",
    "version": 3
   },
   "file_extension": ".py",
   "mimetype": "text/x-python",
   "name": "python",
   "nbconvert_exporter": "python",
   "pygments_lexer": "ipython3",
   "version": "3.6.5"
  }
 },
 "nbformat": 4,
 "nbformat_minor": 2
}
