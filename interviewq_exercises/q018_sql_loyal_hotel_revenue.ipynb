{
 "cells": [
  {
   "cell_type": "markdown",
   "metadata": {},
   "source": [
    "# Question 18 - A hotel chain's loyal customers\n",
    "\n",
    "You are an analyst for a major US hotel chain which has locations all over the US. \n",
    "Your marketing team is planning a promotion focused around loyal customers, \n",
    "and they are trying to forecast how much revenue the promotion will bring in. \n",
    "However, they need help from you to understand how much revenue comes \n",
    "from \"loyal\" customer to plug into their model.\n",
    "\n",
    "A \"loyal\" customer is defined as (1) having a memebership with your company's \n",
    "point system, (2) having >2 stays at each hotel the customer visited, \n",
    "(3) having stayed at 3 different locations throughout the US.\n",
    "\n",
    "You have a table showing all transactions made in 2017. The schema of the table is below:\n",
    "```\n",
    "Table: customer_transactions\n",
    "Column Name \tData Type \tDescription\n",
    "customer_id \tid \tid of the customer\n",
    "hotel_id \tinteger \tunique id for hotel\n",
    "transaction_id \tinteger \tid of the given transaction\n",
    "first_night \tstring \tfirst night of the stay, column format is \"YYYY-mm-dd\"\n",
    "number_of_nights \tinteger \t# of nights teh customer stayed in hotel\n",
    "total_spend \tinteger \ttotal spend for transaction, in USD\n",
    "is_memeber \tboolean \tindicates if the customer is a member of our points system\n",
    "```\n",
    "Can you write a query that calculates percent of revenue loyal customers brought in 2017?"
   ]
  },
  {
   "cell_type": "markdown",
   "metadata": {},
   "source": [
    "```sql\n",
    "with member_stays_per_hotel as (\n",
    "select\n",
    "    customer_id,\n",
    "    hotel_id,\n",
    "    count(*) as stays\n",
    "from customer_transactions t\n",
    "where is_member -- rule (1)\n",
    "group by 1,2\n",
    ")\n",
    "\n",
    ", loyal_customers as (\n",
    "select\n",
    "    customer_id\n",
    "from member_stays_per_hotel s\n",
    "group by 1\n",
    "having min(case when stays <= 2 then 0 else 1 end) = 1 -- rule (2)\n",
    "    and count(distinct hotel_id) >= 3 -- rule (3)\n",
    ")\n",
    "\n",
    "select\n",
    "    sum(case when cc.customer_id is not null then total_spend else 0 end)\n",
    "        ::float / sum(total_spend) as pct_revenue_from_loyal\n",
    "from customer_transactions t\n",
    "left join loyal_customers cc\n",
    "   on cc.customer_id = t.customer_id\n",
    " \n",
    "```"
   ]
  },
  {
   "cell_type": "code",
   "execution_count": null,
   "metadata": {},
   "outputs": [],
   "source": []
  }
 ],
 "metadata": {
  "kernelspec": {
   "display_name": "Python 3",
   "language": "python",
   "name": "python3"
  },
  "language_info": {
   "codemirror_mode": {
    "name": "ipython",
    "version": 3
   },
   "file_extension": ".py",
   "mimetype": "text/x-python",
   "name": "python",
   "nbconvert_exporter": "python",
   "pygments_lexer": "ipython3",
   "version": "3.6.5"
  }
 },
 "nbformat": 4,
 "nbformat_minor": 2
}
