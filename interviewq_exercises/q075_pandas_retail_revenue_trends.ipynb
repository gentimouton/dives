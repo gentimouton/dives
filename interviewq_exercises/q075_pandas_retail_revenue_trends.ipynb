{
 "cells": [
  {
   "cell_type": "markdown",
   "metadata": {},
   "source": [
    "# Question 75 - Retail revenue trends\n",
    "\n",
    "Given the table below, called 'orders', write code to show the average revenue by month by channel. The format of the result should look like the following:\n",
    "\n",
    "```\n",
    "Month | Channel | Avg. Revenue\n",
    "\n",
    "Table: orders\n",
    "\torder_id \tchannel \tdate \tmonth \trevenue\n",
    "0 \t1 \tOnline \t2018-09-01 \t09 \t100\n",
    "1 \t2 \tOnline \t2018-09-03 \t09 \t125\n",
    "2 \t3 \tIn_store \t2018-10-11 \t10 \t200\n",
    "3 \t4 \tIn_store \t2018-08-21 \t08 \t80\n",
    "4 \t5 \tOnline \t2018-08-13 \t08 \t200\n",
    "5 \t6 \tOnline \t2018-10-29 \t10 \t100\n",
    "```"
   ]
  },
  {
   "cell_type": "code",
   "execution_count": 4,
   "metadata": {},
   "outputs": [
    {
     "data": {
      "text/html": [
       "<div>\n",
       "<style scoped>\n",
       "    .dataframe tbody tr th:only-of-type {\n",
       "        vertical-align: middle;\n",
       "    }\n",
       "\n",
       "    .dataframe tbody tr th {\n",
       "        vertical-align: top;\n",
       "    }\n",
       "\n",
       "    .dataframe thead th {\n",
       "        text-align: right;\n",
       "    }\n",
       "</style>\n",
       "<table border=\"1\" class=\"dataframe\">\n",
       "  <thead>\n",
       "    <tr style=\"text-align: right;\">\n",
       "      <th></th>\n",
       "      <th></th>\n",
       "      <th>revenue</th>\n",
       "    </tr>\n",
       "    <tr>\n",
       "      <th>month</th>\n",
       "      <th>channel</th>\n",
       "      <th></th>\n",
       "    </tr>\n",
       "  </thead>\n",
       "  <tbody>\n",
       "    <tr>\n",
       "      <th rowspan=\"2\" valign=\"top\">08</th>\n",
       "      <th>in_store</th>\n",
       "      <td>80</td>\n",
       "    </tr>\n",
       "    <tr>\n",
       "      <th>online</th>\n",
       "      <td>200</td>\n",
       "    </tr>\n",
       "    <tr>\n",
       "      <th>09</th>\n",
       "      <th>online</th>\n",
       "      <td>225</td>\n",
       "    </tr>\n",
       "    <tr>\n",
       "      <th rowspan=\"2\" valign=\"top\">10</th>\n",
       "      <th>in_store</th>\n",
       "      <td>200</td>\n",
       "    </tr>\n",
       "    <tr>\n",
       "      <th>online</th>\n",
       "      <td>100</td>\n",
       "    </tr>\n",
       "  </tbody>\n",
       "</table>\n",
       "</div>"
      ],
      "text/plain": [
       "                revenue\n",
       "month channel          \n",
       "08    in_store       80\n",
       "      online        200\n",
       "09    online        225\n",
       "10    in_store      200\n",
       "      online        100"
      ]
     },
     "execution_count": 4,
     "metadata": {},
     "output_type": "execute_result"
    }
   ],
   "source": [
    "import pandas as pd\n",
    "\n",
    "df = pd.DataFrame({\n",
    "    'order_id':[1,2,3,4,5,6], \n",
    "    'channel':['online','online','in_store','in_store','online','online'],\n",
    "    'date':['2018-09-01','2018-09-03','2018-10-11','2018-08-21','2018-08-13','2018-10-29'],\n",
    "    'revenue':[100,125,200,80,200,100]\n",
    "})\n",
    "\n",
    "df['month'] = df['date'].str.split('-').str[1]\n",
    "df.groupby(['month','channel']).agg({'revenue':sum})"
   ]
  },
  {
   "cell_type": "code",
   "execution_count": null,
   "metadata": {},
   "outputs": [],
   "source": []
  }
 ],
 "metadata": {
  "kernelspec": {
   "display_name": "Python 3",
   "language": "python",
   "name": "python3"
  },
  "language_info": {
   "codemirror_mode": {
    "name": "ipython",
    "version": 3
   },
   "file_extension": ".py",
   "mimetype": "text/x-python",
   "name": "python",
   "nbconvert_exporter": "python",
   "pygments_lexer": "ipython3",
   "version": "3.6.5"
  }
 },
 "nbformat": 4,
 "nbformat_minor": 2
}
