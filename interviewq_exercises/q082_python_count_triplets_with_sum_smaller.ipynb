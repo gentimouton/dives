{
 "cells": [
  {
   "cell_type": "markdown",
   "metadata": {},
   "source": [
    "# Question 82 - Count of triplets\n",
    "\n",
    "Given an array of unique integers and a sum value, can you use python to find the number of triplets with a sum smaller than the given value?\n",
    "\n",
    "Example:\n",
    "- Array of integers = {5, 1, 3, 4, 7}\n",
    "- Value = 12\n",
    "- Solution: 4 (e.g. the output of your code)\n",
    "- Explanation: There are 4 triplets that have a sum less than 12: (1, 3, 4), (1, 3, 5), (1, 3, 7), and (1, 4, 5) "
   ]
  },
  {
   "cell_type": "code",
   "execution_count": 1,
   "metadata": {},
   "outputs": [],
   "source": [
    "def test_count_triplets_with_sum_smaller(f):\n",
    "    assert f([5,1,3,4,7], 12) == 4\n",
    "    assert f([1,1,1], 4) == 1\n",
    "    assert f([1,1,1], 2) == 0\n",
    "    assert f([1,1,1,1], 4) == 4\n",
    "\n",
    "def count_triplets_with_sum_smaller(myarr, myval):\n",
    "    \"\"\" \n",
    "    recursively count the number of possible 3-tuples \n",
    "    with sum smaller than val\n",
    "    \"\"\"\n",
    "    def recurs_count_ntuples_with_sum_smaller(arr, val, n):\n",
    "        # n can be 3,2,1,0\n",
    "        # successive calls have lower and lower n\n",
    "        # print(arr, val, n) # debug\n",
    "        if len(arr) >= n: # enough elements to build the n-tuple\n",
    "            e = arr[0]\n",
    "            count_excluding_e = recurs_count_ntuples_with_sum_smaller(arr[1:], val, n)\n",
    "            if n == 1:\n",
    "                return (e < val) + count_excluding_e\n",
    "            else: # n>=2\n",
    "                count_including_e = recurs_count_ntuples_with_sum_smaller(arr[1:], val-e, n-1)\n",
    "                return count_including_e + count_excluding_e\n",
    "        else:\n",
    "            return 0\n",
    "        \n",
    "    # call the recursive subfunc\n",
    "    return recurs_count_ntuples_with_sum_smaller(myarr, myval, 3)\n",
    "    \n",
    "test_count_triplets_with_sum_smaller( count_triplets_with_sum_smaller )\n",
    "# count_triplets_with_sum_smaller([5,1,3,4,7], 12)"
   ]
  },
  {
   "cell_type": "code",
   "execution_count": null,
   "metadata": {},
   "outputs": [],
   "source": []
  },
  {
   "cell_type": "code",
   "execution_count": null,
   "metadata": {},
   "outputs": [],
   "source": []
  }
 ],
 "metadata": {
  "kernelspec": {
   "display_name": "Python 3",
   "language": "python",
   "name": "python3"
  },
  "language_info": {
   "codemirror_mode": {
    "name": "ipython",
    "version": 3
   },
   "file_extension": ".py",
   "mimetype": "text/x-python",
   "name": "python",
   "nbconvert_exporter": "python",
   "pygments_lexer": "ipython3",
   "version": "3.6.5"
  }
 },
 "nbformat": 4,
 "nbformat_minor": 2
}
