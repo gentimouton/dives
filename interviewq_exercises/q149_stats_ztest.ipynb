{
 "cells": [
  {
   "cell_type": "markdown",
   "metadata": {},
   "source": [
    "# Testing impact of exercise on memory\n",
    "Statistics Z-test\n",
    "\n",
    "Suppose a study shows that exercising before studying can improve your memory. Suppose a researcher tests this hypothesis with a sample of 40 students, giving them a memory test after they've completed a moderately intense cardiovascular workout. Under normal circumstances (e.g. no exercise prior), the mean score was 55 while the standard deviation was 10. The mean score for the group after exercising was 61 while the standard deviation was 10.\n",
    "\n",
    "Given the following information, perform a Z-test to determine whether to accept or reject our null hypothesis, that exercising prior to the memory test does not improve memory.\n"
   ]
  },
  {
   "cell_type": "code",
   "execution_count": 1,
   "metadata": {},
   "outputs": [
    {
     "name": "stdout",
     "output_type": "stream",
     "text": [
      "0.007290358091535638\n"
     ]
    }
   ],
   "source": [
    "import numpy as np\n",
    "from scipy.stats import norm\n",
    "\n",
    "n = 40\n",
    "mean_control = 55\n",
    "sd_control = 10\n",
    "mean_treat = 61\n",
    "sd_treat = 10\n",
    "\n",
    "pooled_se = np.sqrt(sd_control**2 / n + sd_treat**2 / n) # debatable what the true DF is here\n",
    "z = (mean_control - mean_treat) / pooled_se\n",
    "pval = 2 * norm.sf(abs(z)) # 2-tailed\n",
    "\n",
    "print(pval) # reject null. Conclude there is an effect."
   ]
  },
  {
   "cell_type": "code",
   "execution_count": null,
   "metadata": {},
   "outputs": [],
   "source": []
  }
 ],
 "metadata": {
  "kernelspec": {
   "display_name": "Python 3",
   "language": "python",
   "name": "python3"
  },
  "language_info": {
   "codemirror_mode": {
    "name": "ipython",
    "version": 3
   },
   "file_extension": ".py",
   "mimetype": "text/x-python",
   "name": "python",
   "nbconvert_exporter": "python",
   "pygments_lexer": "ipython3",
   "version": "3.7.4"
  }
 },
 "nbformat": 4,
 "nbformat_minor": 2
}
