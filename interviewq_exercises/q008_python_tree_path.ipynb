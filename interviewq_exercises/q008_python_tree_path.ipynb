{
 "cells": [
  {
   "cell_type": "code",
   "execution_count": 1,
   "metadata": {},
   "outputs": [],
   "source": [
    "\n",
    "\"\"\"\n",
    "Question: For a given binary tree, write a function to return all root-to-leaf paths.\n",
    "We'll use the tree below to walk through how your code should work.\n",
    "\"A\" is the root, and \"D\" would be considered the leaf in the path A -> B -> D.\n",
    "The expectation for your function is to return all root to leaf combinations.\n",
    "The output of your code, given the tree below, would be:\n",
    "[\"A -> B -> D\", \"A -> C\"]\n",
    "\"\"\"\n",
    "from collections import namedtuple\n",
    "\n",
    "# define a tree node. Get via Node.val, Node.left, etc\n",
    "Node = namedtuple('Node', ['val', 'left', 'right'])\n",
    "\n",
    "\n",
    "def get_paths(tree):\n",
    "    \"\"\" return all paths from root to leaves, concatenating node values \"\"\"\n",
    "    def f(s, n):\n",
    "        if not n:  # empty leaf\n",
    "            return []\n",
    "        elif not n.left and not n.right:  # value leaf\n",
    "            return [s + n.val]\n",
    "        else:\n",
    "            return f(s + n.val, n.left) + f(s + n.val, n.right)\n",
    "    return f('', tree)\n",
    "\n",
    "\n",
    "def test_get_paths():\n",
    "    # tree:\n",
    "    #   a\n",
    "    # b   c\n",
    "    # d\n",
    "    tree = Node(\n",
    "        'a',\n",
    "        Node(\n",
    "            'b',\n",
    "            Node('d', None, None),\n",
    "            None\n",
    "        ),\n",
    "        Node('c', None, None)\n",
    "    )\n",
    "    assert get_paths(tree) == ['abd', 'ac']\n",
    "\n",
    "\n",
    "test_get_paths()\n"
   ]
  },
  {
   "cell_type": "code",
   "execution_count": null,
   "metadata": {},
   "outputs": [],
   "source": []
  }
 ],
 "metadata": {
  "kernelspec": {
   "display_name": "Python 3",
   "language": "python",
   "name": "python3"
  },
  "language_info": {
   "codemirror_mode": {
    "name": "ipython",
    "version": 3
   },
   "file_extension": ".py",
   "mimetype": "text/x-python",
   "name": "python",
   "nbconvert_exporter": "python",
   "pygments_lexer": "ipython3",
   "version": "3.6.5"
  }
 },
 "nbformat": 4,
 "nbformat_minor": 2
}
