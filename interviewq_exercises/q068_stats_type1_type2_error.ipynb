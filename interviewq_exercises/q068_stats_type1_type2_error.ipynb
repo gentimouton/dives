{
 "cells": [
  {
   "cell_type": "markdown",
   "metadata": {},
   "source": [
    "# Question 68 - Type I vs Type II error\n",
    "\n",
    "In statistical hypothesis testing, explain the difference between Type I and Type II error. You should be able to provide an example on the fly here."
   ]
  },
  {
   "cell_type": "markdown",
   "metadata": {},
   "source": [
    "Type 1 error, aplha, is the chance of rejecting a null hypothesis although it's true.\n",
    "Type 2 error, beta, is the chance of not rejecting a null hypothesis although it should be.\n",
    "\n",
    "Type 1 error example:\n",
    "- Hypothesis: Wearing pants (vs shorts) reduces allergies.\n",
    "- Common sense suggests there probably isn't any impact.\n",
    "- The null hypothesis is that there is no difference.\n",
    "- alpha is the chance we do see a difference.\n",
    "\n",
    "Type 2 error example:\n",
    "- Hypothesis: taking an allergy medicine (vs nothing) reduces allergies.\n",
    "- The null hypothesis is there is no difference.\n",
    "- beta is the chance we don't see any difference."
   ]
  },
  {
   "cell_type": "code",
   "execution_count": null,
   "metadata": {},
   "outputs": [],
   "source": []
  }
 ],
 "metadata": {
  "kernelspec": {
   "display_name": "Python 3",
   "language": "python",
   "name": "python3"
  },
  "language_info": {
   "codemirror_mode": {
    "name": "ipython",
    "version": 3
   },
   "file_extension": ".py",
   "mimetype": "text/x-python",
   "name": "python",
   "nbconvert_exporter": "python",
   "pygments_lexer": "ipython3",
   "version": "3.6.5"
  }
 },
 "nbformat": 4,
 "nbformat_minor": 2
}
