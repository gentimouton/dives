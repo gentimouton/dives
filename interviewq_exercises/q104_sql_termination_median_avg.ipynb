{
 "cells": [
  {
   "cell_type": "markdown",
   "metadata": {},
   "source": [
    "# Question 104 - Termination survey data\n",
    "SQL Database Querying Percentiles External Dataset\n",
    "\n",
    "Given this table [here](https://drive.google.com/file/d/1f_mVrLYG5quI38L1tA2MQwmyppCJd2Fb/view), \n",
    "can you write a SQL query to pull the average and median time by position between:\n",
    "```\n",
    "    \"Role Start Date\" and \"DETE Start Date\"\n",
    "    \"Role Start Date\" and \"Cease Date\"\n",
    "```\n",
    "For this exercise, you can replace the spaces with underscores for the field names and you can name the table 'TerminationSurvey'. Lastly, if there's a \"Not Started\" in any of the date data, you can exclude it. "
   ]
  },
  {
   "cell_type": "markdown",
   "metadata": {},
   "source": [
    "```\n",
    "select\n",
    "  avg(datediff('day', role_start_date, dete_start_date)::float) as avg_date_diff_rs_ds,\n",
    "  avg(datediff('day', role_start_date, cease_date)::float) as avg_date_diff_rs_cd,\n",
    "  median(datediff('day', role_start_date, dete_start_date)::float) as med_date_diff_rs_ds,\n",
    "  median(datediff('day', role_start_date, cease_date)::float) as med_date_diff_rs_cd\n",
    "from table t\n",
    "where role_start_date != 'Not Stated' \n",
    "  and dete_start_date != 'Not Stated'\n",
    "  and cease_date != 'Not Stated'\n",
    "```"
   ]
  },
  {
   "cell_type": "code",
   "execution_count": null,
   "metadata": {},
   "outputs": [],
   "source": []
  }
 ],
 "metadata": {
  "kernelspec": {
   "display_name": "Python 3",
   "language": "python",
   "name": "python3"
  },
  "language_info": {
   "codemirror_mode": {
    "name": "ipython",
    "version": 3
   },
   "file_extension": ".py",
   "mimetype": "text/x-python",
   "name": "python",
   "nbconvert_exporter": "python",
   "pygments_lexer": "ipython3",
   "version": "3.6.5"
  }
 },
 "nbformat": 4,
 "nbformat_minor": 2
}
