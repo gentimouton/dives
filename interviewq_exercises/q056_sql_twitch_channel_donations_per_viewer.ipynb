{
 "cells": [
  {
   "cell_type": "markdown",
   "metadata": {},
   "source": [
    "# Question 56 - Twitch content creators\n",
    "\n",
    "Suppose you are working for a company like Twitch.tv. Twitch.tv is a live streaming platform, where content creators (e.g. the people creating content on the live streams) can receive donations from viewers for producing content they support.\n",
    "\n",
    "Your company is trying to launch a new product that will benefit content creators who get a large amount of donations per streaming session.\n",
    "\n",
    "Can you write a SQL query to find the top 10 content creators in 2018 that have had the highest average donations per viewer?\n",
    "\n",
    "You are given the following tables:\n",
    "```\n",
    "Table: all_donations\n",
    "Column Name \tData Type \tDescription\n",
    "creator_id \tinteger \tunique id of content creator\n",
    "viewer_id \tinteger \tunique id of viewer\n",
    "session_id \tinteger \tunique session id of stream\n",
    "date \tstring \tformat is \"YYYY-MM-DD\"\n",
    "donation_amount \tinteger \tamount donated in USD\n",
    "\n",
    "Table: sessions_info\n",
    "Column Name \tData Type \tDescription\n",
    "creator_id \tinteger \tunique id of content creator\n",
    "session_id \tinteger \tunique id of viewer\n",
    "date \tstring \tformat is \"YYYY-MM-DD\", date of session\n",
    "length \tinteger \tlength of session\n",
    "\n",
    "Table: session_viewers\n",
    "Column Name \tData Type \tDescription\n",
    "creator_id \tinteger \tunique id of content creator\n",
    "viewer_id \tinteger \tunique id of viewer\n",
    "date \tstring \tformat is \"YYYY-MM-DD\"\n",
    "session_id \tinteger \tunique session id of stream\n",
    "mins_viewed \tinteger \ttotal number of the viewer watched the stream\n",
    "```"
   ]
  },
  {
   "cell_type": "markdown",
   "metadata": {},
   "source": [
    "```sql\n",
    "with channel_donations as (\n",
    "select\n",
    "  creator_id,\n",
    "  count(distinct viewer_id) as donators,\n",
    "  sum(donation_amount) as donated_usd\n",
    "from donations d\n",
    "where date >= '2018-01-01'\n",
    "  and date < '2019-01-01'\n",
    "group by 1\n",
    ")\n",
    "\n",
    ", channel_viewcount as (\n",
    "select\n",
    "  creator_id,\n",
    "  count(distinct viewer_id) as viewers\n",
    "from session_viewers \n",
    "where date >= '2018-01-01'\n",
    "  and date < '2019-01-01'\n",
    "group by 1\n",
    ")\n",
    "\n",
    "select\n",
    "  v.creator_id,\n",
    "  coalesce(d.donated_usd,0) ::float / v.viewers as avg_donation_usd_per_viewer,\n",
    "  coalesce(d.donated_usd,0) ::float / d.donators as avg_donation_usd_per_donator,\n",
    "from channel_viewcount v\n",
    "left join channel_donations d\n",
    "  on v.creator_id = d.creator_id\n",
    "group by 1\n",
    "order by 2 desc\n",
    "limit 10\n",
    "\n",
    "```"
   ]
  },
  {
   "cell_type": "code",
   "execution_count": null,
   "metadata": {},
   "outputs": [],
   "source": []
  }
 ],
 "metadata": {
  "kernelspec": {
   "display_name": "Python 3",
   "language": "python",
   "name": "python3"
  },
  "language_info": {
   "codemirror_mode": {
    "name": "ipython",
    "version": 3
   },
   "file_extension": ".py",
   "mimetype": "text/x-python",
   "name": "python",
   "nbconvert_exporter": "python",
   "pygments_lexer": "ipython3",
   "version": "3.6.5"
  }
 },
 "nbformat": 4,
 "nbformat_minor": 2
}
