{
 "cells": [
  {
   "cell_type": "markdown",
   "metadata": {},
   "source": [
    "# Question 61 - Ranking vendors by spend\n",
    "\n",
    "Suppose you have a table called 'vendor_spend' containing vendor spend data, as shown below:\n",
    "\n",
    "```\n",
    "vendor_spend:\n",
    "\tvendor_id \tname \tcontract_sign_date \ttotal_spend\n",
    "0 \t1 \tvendor_schmendor \t2018-09-01 \t34324\n",
    "1 \t2 \tparts_r_us \t2018-09-03 \t23455\n",
    "2 \t3 \tvendor_king \t2018-10-11 \t77654\n",
    "3 \t4 \tvendor_diagram \t2018-08-21 \t23334\n",
    "4 \t5 \tvenny \t2018-08-13 \t94843\n",
    "5 \t6 \tvendtriloquist \t2018-10-29 \t23444\n",
    "```\n",
    "\n",
    "Using SQL, write a query to show the top 50% of vendors as denoted by total spend. You should return both the name and spend for this group."
   ]
  },
  {
   "cell_type": "markdown",
   "metadata": {},
   "source": [
    "```sql\n",
    "with all_vendors as (\n",
    "select\n",
    "  vendor_id,\n",
    "  min(name) as vendor_name,\n",
    "  sum(total_spend) as total_spend\n",
    "  rank() over(order by sum(total_spend) desc) as vendor_rank,\n",
    "  count() over() as vendor_count\n",
    "from vendor_spend\n",
    "group by 1\n",
    ")\n",
    "\n",
    "select\n",
    "  vendor_id, \n",
    "  vendor_name, \n",
    "  total_spend,\n",
    "  vendor_rank\n",
    "from all_vendors \n",
    "where vendor_rank <= vendor_count/2\n",
    "order by 3 desc\n",
    "```"
   ]
  },
  {
   "cell_type": "code",
   "execution_count": null,
   "metadata": {},
   "outputs": [],
   "source": []
  }
 ],
 "metadata": {
  "kernelspec": {
   "display_name": "Python 3",
   "language": "python",
   "name": "python3"
  },
  "language_info": {
   "codemirror_mode": {
    "name": "ipython",
    "version": 3
   },
   "file_extension": ".py",
   "mimetype": "text/x-python",
   "name": "python",
   "nbconvert_exporter": "python",
   "pygments_lexer": "ipython3",
   "version": "3.6.5"
  }
 },
 "nbformat": 4,
 "nbformat_minor": 2
}
