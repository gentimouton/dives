{
 "cells": [
  {
   "cell_type": "markdown",
   "metadata": {},
   "source": [
    "# PCA, Inertia, and Silhouette plots\n",
    "Data Analysis Python Pandas Data Manipulation Data Visualization PCA Plot Inertia Plot Silhouette Plot External Dataset\n",
    "\n",
    "Suppose you have the following \n",
    "[dataset](https://docs.google.com/spreadsheets/d/1DrvkAWnO1psWkFN1YVt891sHe4yHl4ljNPUVlCsI95M/edit#gid=2039795889)\n",
    "which contains (1st tab) a list of items purchased by a given user, (2nd tab) a mapping which maps the item_id to the item name and price, (3rd tab) a matrix that formats data from sheet 1 into a matrix with users in rows and the number of each item_id purchased in columns.\n",
    "\n",
    "With this data, we want to see if we can cluster types of groceries that are typically purchased together. Before we cluster, however, we need to see if we can simplify the data a bit so it's easier to work with / can be generalized with less variables.\n",
    "\n",
    "Knowing this, can you create the following charts for each analysis:\n",
    "\n",
    "- PCA analysis: Line chart that with variance on the y-axis and number of variables on the x-axis. This will help us figure out if we can collapse the dataset into less variables.\n",
    "- Inertia analysis: Line chart with sum of squared error on y-axis and number of clusters on the x-axis. This metric allows us to understand how dense the clusters would be depending on the number of clusters selected.\n",
    "- Silhouette analysis: Line chart with silhouette coefficient on the y-axis and the number of clusters on the x-axis. The silhouette coefficient measures the intra-cluster distance. This will help us understand how closely the clusters are to each other.\n",
    "\n",
    "Using this information, can you provide a recommendation for the number of clusters we should use?\n",
    "\n",
    "Note: The purpose of doing this exercise is to explore ways of analyzing data that could be generalized by a group (think clustering). This dataset will be used in a couple of future questions that continue to explore clustering data."
   ]
  },
  {
   "cell_type": "code",
   "execution_count": 1,
   "metadata": {},
   "outputs": [
    {
     "name": "stdout",
     "output_type": "stream",
     "text": [
      "(24885, 48)\n"
     ]
    },
    {
     "data": {
      "text/html": [
       "<div>\n",
       "<style scoped>\n",
       "    .dataframe tbody tr th:only-of-type {\n",
       "        vertical-align: middle;\n",
       "    }\n",
       "\n",
       "    .dataframe tbody tr th {\n",
       "        vertical-align: top;\n",
       "    }\n",
       "\n",
       "    .dataframe thead th {\n",
       "        text-align: right;\n",
       "    }\n",
       "</style>\n",
       "<table border=\"1\" class=\"dataframe\">\n",
       "  <thead>\n",
       "    <tr style=\"text-align: right;\">\n",
       "      <th></th>\n",
       "      <th>item01</th>\n",
       "      <th>item02</th>\n",
       "      <th>item03</th>\n",
       "      <th>item04</th>\n",
       "      <th>item05</th>\n",
       "      <th>item06</th>\n",
       "      <th>item07</th>\n",
       "      <th>item08</th>\n",
       "      <th>item09</th>\n",
       "      <th>item10</th>\n",
       "      <th>...</th>\n",
       "      <th>item39</th>\n",
       "      <th>item40</th>\n",
       "      <th>item41</th>\n",
       "      <th>item42</th>\n",
       "      <th>item43</th>\n",
       "      <th>item44</th>\n",
       "      <th>item45</th>\n",
       "      <th>item46</th>\n",
       "      <th>item47</th>\n",
       "      <th>item48</th>\n",
       "    </tr>\n",
       "    <tr>\n",
       "      <th>user_id</th>\n",
       "      <th></th>\n",
       "      <th></th>\n",
       "      <th></th>\n",
       "      <th></th>\n",
       "      <th></th>\n",
       "      <th></th>\n",
       "      <th></th>\n",
       "      <th></th>\n",
       "      <th></th>\n",
       "      <th></th>\n",
       "      <th></th>\n",
       "      <th></th>\n",
       "      <th></th>\n",
       "      <th></th>\n",
       "      <th></th>\n",
       "      <th></th>\n",
       "      <th></th>\n",
       "      <th></th>\n",
       "      <th></th>\n",
       "      <th></th>\n",
       "      <th></th>\n",
       "    </tr>\n",
       "  </thead>\n",
       "  <tbody>\n",
       "    <tr>\n",
       "      <td>47</td>\n",
       "      <td>0</td>\n",
       "      <td>1</td>\n",
       "      <td>1</td>\n",
       "      <td>1</td>\n",
       "      <td>0</td>\n",
       "      <td>0</td>\n",
       "      <td>0</td>\n",
       "      <td>0</td>\n",
       "      <td>0</td>\n",
       "      <td>0</td>\n",
       "      <td>...</td>\n",
       "      <td>0</td>\n",
       "      <td>0</td>\n",
       "      <td>0</td>\n",
       "      <td>0</td>\n",
       "      <td>0</td>\n",
       "      <td>1</td>\n",
       "      <td>1</td>\n",
       "      <td>1</td>\n",
       "      <td>0</td>\n",
       "      <td>0</td>\n",
       "    </tr>\n",
       "    <tr>\n",
       "      <td>68</td>\n",
       "      <td>0</td>\n",
       "      <td>0</td>\n",
       "      <td>0</td>\n",
       "      <td>0</td>\n",
       "      <td>0</td>\n",
       "      <td>1</td>\n",
       "      <td>0</td>\n",
       "      <td>0</td>\n",
       "      <td>0</td>\n",
       "      <td>1</td>\n",
       "      <td>...</td>\n",
       "      <td>1</td>\n",
       "      <td>0</td>\n",
       "      <td>0</td>\n",
       "      <td>1</td>\n",
       "      <td>0</td>\n",
       "      <td>0</td>\n",
       "      <td>0</td>\n",
       "      <td>0</td>\n",
       "      <td>0</td>\n",
       "      <td>0</td>\n",
       "    </tr>\n",
       "    <tr>\n",
       "      <td>113</td>\n",
       "      <td>0</td>\n",
       "      <td>0</td>\n",
       "      <td>1</td>\n",
       "      <td>0</td>\n",
       "      <td>0</td>\n",
       "      <td>0</td>\n",
       "      <td>0</td>\n",
       "      <td>0</td>\n",
       "      <td>1</td>\n",
       "      <td>0</td>\n",
       "      <td>...</td>\n",
       "      <td>0</td>\n",
       "      <td>0</td>\n",
       "      <td>0</td>\n",
       "      <td>0</td>\n",
       "      <td>1</td>\n",
       "      <td>0</td>\n",
       "      <td>0</td>\n",
       "      <td>1</td>\n",
       "      <td>0</td>\n",
       "      <td>0</td>\n",
       "    </tr>\n",
       "    <tr>\n",
       "      <td>123</td>\n",
       "      <td>0</td>\n",
       "      <td>0</td>\n",
       "      <td>0</td>\n",
       "      <td>1</td>\n",
       "      <td>0</td>\n",
       "      <td>0</td>\n",
       "      <td>0</td>\n",
       "      <td>0</td>\n",
       "      <td>0</td>\n",
       "      <td>1</td>\n",
       "      <td>...</td>\n",
       "      <td>0</td>\n",
       "      <td>0</td>\n",
       "      <td>0</td>\n",
       "      <td>0</td>\n",
       "      <td>0</td>\n",
       "      <td>0</td>\n",
       "      <td>0</td>\n",
       "      <td>0</td>\n",
       "      <td>0</td>\n",
       "      <td>0</td>\n",
       "    </tr>\n",
       "    <tr>\n",
       "      <td>223</td>\n",
       "      <td>1</td>\n",
       "      <td>1</td>\n",
       "      <td>0</td>\n",
       "      <td>0</td>\n",
       "      <td>0</td>\n",
       "      <td>1</td>\n",
       "      <td>0</td>\n",
       "      <td>0</td>\n",
       "      <td>0</td>\n",
       "      <td>0</td>\n",
       "      <td>...</td>\n",
       "      <td>0</td>\n",
       "      <td>0</td>\n",
       "      <td>1</td>\n",
       "      <td>0</td>\n",
       "      <td>0</td>\n",
       "      <td>0</td>\n",
       "      <td>1</td>\n",
       "      <td>0</td>\n",
       "      <td>0</td>\n",
       "      <td>0</td>\n",
       "    </tr>\n",
       "  </tbody>\n",
       "</table>\n",
       "<p>5 rows × 48 columns</p>\n",
       "</div>"
      ],
      "text/plain": [
       "         item01  item02  item03  item04  item05  item06  item07  item08  \\\n",
       "user_id                                                                   \n",
       "47            0       1       1       1       0       0       0       0   \n",
       "68            0       0       0       0       0       1       0       0   \n",
       "113           0       0       1       0       0       0       0       0   \n",
       "123           0       0       0       1       0       0       0       0   \n",
       "223           1       1       0       0       0       1       0       0   \n",
       "\n",
       "         item09  item10  ...  item39  item40  item41  item42  item43  item44  \\\n",
       "user_id                  ...                                                   \n",
       "47            0       0  ...       0       0       0       0       0       1   \n",
       "68            0       1  ...       1       0       0       1       0       0   \n",
       "113           1       0  ...       0       0       0       0       1       0   \n",
       "123           0       1  ...       0       0       0       0       0       0   \n",
       "223           0       0  ...       0       0       1       0       0       0   \n",
       "\n",
       "         item45  item46  item47  item48  \n",
       "user_id                                  \n",
       "47            1       1       0       0  \n",
       "68            0       0       0       0  \n",
       "113           0       1       0       0  \n",
       "123           0       0       0       0  \n",
       "223           1       0       0       0  \n",
       "\n",
       "[5 rows x 48 columns]"
      ]
     },
     "execution_count": 1,
     "metadata": {},
     "output_type": "execute_result"
    }
   ],
   "source": [
    "import pandas as pd\n",
    "import numpy as np\n",
    "import matplotlib.pyplot as plt\n",
    "import seaborn as sns\n",
    "sns.set()\n",
    "\n",
    "filename = 'q143_output.csv'\n",
    "df = pd.read_csv(filename)\n",
    "df.set_index('user_id', inplace=True)\n",
    "print(df.shape)\n",
    "df.head()"
   ]
  },
  {
   "cell_type": "code",
   "execution_count": 2,
   "metadata": {},
   "outputs": [
    {
     "name": "stderr",
     "output_type": "stream",
     "text": [
      "C:\\Users\\tho\\Anaconda3\\lib\\site-packages\\ipykernel_launcher.py:26: ClusterWarning: scipy.cluster: The symmetric non-negative hollow observation matrix looks suspiciously like an uncondensed distance matrix\n"
     ]
    },
    {
     "data": {
      "image/png": "[encoded data removed]",
      "text/plain": [
       "<Figure size 864x432 with 1 Axes>"
      ]
     },
     "metadata": {
      "needs_background": "light"
     },
     "output_type": "display_data"
    }
   ],
   "source": [
    "import scipy.cluster.hierarchy as hc\n",
    "import scipy.spatial.distance as dist\n",
    "import sklearn.metrics.pairwise as pw\n",
    "\n",
    "# simple intro/example at https://www.analyticsvidhya.com/blog/2019/05/beginners-guide-hierarchical-clustering/\n",
    "\n",
    "\n",
    "def build_sim_matrix(df):\n",
    "    labels = list(df.index)\n",
    "    sim = pw.cosine_similarity(df)\n",
    "    np.fill_diagonal(sim, np.nan)\n",
    "    return sim, labels\n",
    "    \n",
    "    \n",
    "def build_linkage(sim, method='single'):\n",
    "    \"\"\"\n",
    "    method can single, centroid, median, complete, etc\n",
    "    see docs for scipy.cluster.hierarchy.linkage\n",
    "    \n",
    "    recipe from https://gist.github.com/tommct/c3ffca76251aba2351da7e3b1183bf5a\n",
    "    \"\"\"\n",
    "    distances = 1 - sim # so that 0 is close and 1 is far.\n",
    "    np.fill_diagonal(distances, 0)\n",
    "    distances = np.clip(distances, 0, 1)\n",
    "    dists = dist.squareform(dist.pdist(distances, 'sqeuclidean'))\n",
    "    links = hc.linkage(dists, method=method)\n",
    "    return links\n",
    "\n",
    "\n",
    "def plot_dendrogram(linkage, labels):\n",
    "    \"\"\"\n",
    "    plot dendrogram given the linkage matrix \n",
    "    returned by scipy.cluster.hierarchy.linkage\n",
    "    \"\"\"\n",
    "    fig, ax = plt.subplots(figsize=(12, 6))\n",
    "    dd = hc.dendrogram(linkage, labels=labels, ax=ax)\n",
    "    ax.tick_params(axis='x', which='major', labelsize=10)\n",
    "\n",
    "    \n",
    "similarity_matrix, labels = build_sim_matrix(df.T)\n",
    "links = build_linkage(similarity_matrix)\n",
    "plot_dendrogram(links, labels)\n"
   ]
  },
  {
   "cell_type": "code",
   "execution_count": 3,
   "metadata": {},
   "outputs": [
    {
     "data": {
      "text/plain": [
       "array([2, 2, 2, 1, 1, 2, 1, 2, 2, 2, 1, 1, 2, 2, 1, 2, 2, 2, 1, 2, 2, 2,\n",
       "       2, 1, 2, 2, 2, 2, 1, 1, 1, 2, 1, 2, 1, 2, 2, 2, 2, 2, 2, 2, 2, 2,\n",
       "       2, 2, 2, 2], dtype=int32)"
      ]
     },
     "execution_count": 3,
     "metadata": {},
     "output_type": "execute_result"
    }
   ],
   "source": [
    "def get_cluster_labels(links, n_clusters):\n",
    "    \"\"\" \n",
    "    links: linkage matrix, size n by 4\n",
    "    n_clusters: integer >= 2\n",
    "    returns integer array of size n, indicating cluster for this point\n",
    "    \"\"\"\n",
    "    low, high = links[-n_clusters,2], links[-n_clusters+1,2]\n",
    "    threshold = (low + high)/2\n",
    "    return hc.fcluster(links, threshold, criterion='distance')\n",
    "\n",
    "clusters = get_cluster_labels(links, 2)\n",
    "clusters"
   ]
  },
  {
   "cell_type": "markdown",
   "metadata": {},
   "source": [
    "# Silhouette: 2 or 3 clusters (but they're not great at all)\n",
    "\n",
    "Silhouette analysis: \n",
    "Line chart with silhouette coefficient on the y-axis \n",
    "and the number of clusters on the x-axis. \n",
    "The silhouette coefficient measures the intra-cluster distance. \n",
    "This will help us understand how closely the clusters are to each other."
   ]
  },
  {
   "cell_type": "code",
   "execution_count": 4,
   "metadata": {},
   "outputs": [
    {
     "data": {
      "text/plain": [
       "[-0.06604288749013812,\n",
       " 0.004700358685469552,\n",
       " 0.005407201113605824,\n",
       " -0.06604288749013812,\n",
       " -0.06248665436764588,\n",
       " -0.06137475698932565,\n",
       " -0.06777742769949958,\n",
       " -0.06944327304971913,\n",
       " -0.07191538316711053,\n",
       " -0.07162521483445279]"
      ]
     },
     "execution_count": 4,
     "metadata": {},
     "output_type": "execute_result"
    },
    {
     "data": {
      "image/png": "[encoded data removed]",
      "text/plain": [
       "<Figure size 432x288 with 1 Axes>"
      ]
     },
     "metadata": {
      "needs_background": "light"
     },
     "output_type": "display_data"
    }
   ],
   "source": [
    "from sklearn import metrics\n",
    "from sklearn.metrics import pairwise_distances\n",
    "\n",
    "def generate_hierarchical_clusters_plot_silhouette_score(df, links):\n",
    "    \"\"\"\n",
    "    The best value is 1 and the worst value is -1. \n",
    "    Values near 0 indicate overlapping clusters. \n",
    "    Negative values generally indicate that a sample has been assigned to the wrong cluster, \n",
    "    as a different cluster is more similar.\n",
    "    \"\"\"\n",
    "    possible_n_clusters = list(range(1,df.shape[0]))\n",
    "    scores = [\n",
    "        metrics.silhouette_score(\n",
    "            df, \n",
    "            get_cluster_labels(links, n_clusters), \n",
    "            metric='euclidean'\n",
    "        )\n",
    "        for n_clusters in possible_n_clusters\n",
    "    ]\n",
    "\n",
    "    fig = plt.plot(\n",
    "        possible_n_clusters,\n",
    "        scores\n",
    "    )\n",
    "#     plt.yscale('log')\n",
    "    plt.xlabel('number of clusters')\n",
    "    plt.ylabel('silhouette score')\n",
    "    \n",
    "    return scores\n",
    "\n",
    "    \n",
    "silhouette_scores = generate_hierarchical_clusters_plot_silhouette_score(df.T, links)\n",
    "silhouette_scores[:10]"
   ]
  },
  {
   "cell_type": "markdown",
   "metadata": {},
   "source": [
    "# Inertia analysis\n",
    "Inertia analysis: Line chart with sum of squared error on y-axis and number of clusters on the x-axis. This metric allows us to understand how dense the clusters would be depending on the number of clusters selected.\n"
   ]
  },
  {
   "cell_type": "code",
   "execution_count": null,
   "metadata": {},
   "outputs": [],
   "source": []
  },
  {
   "cell_type": "markdown",
   "metadata": {},
   "source": [
    "# PCA: 4 or 5 components"
   ]
  },
  {
   "cell_type": "code",
   "execution_count": 5,
   "metadata": {},
   "outputs": [
    {
     "name": "stdout",
     "output_type": "stream",
     "text": [
      "[0.1486854  0.04044879 0.03715107 0.03636788 0.03236198 0.02745954\n",
      " 0.02657785 0.02460473 0.02314124 0.02098734]\n"
     ]
    }
   ],
   "source": [
    "from sklearn.decomposition import PCA\n",
    "\n",
    "def build_pca(df):\n",
    "    pca = PCA() # as many components as there are features\n",
    "    pca.fit(df)\n",
    "    return pca\n",
    "\n",
    "pca = build_pca(df)\n",
    "print(pca.explained_variance_ratio_[:10])"
   ]
  },
  {
   "cell_type": "code",
   "execution_count": 6,
   "metadata": {},
   "outputs": [
    {
     "data": {
      "image/png": "[encoded data removed]",
      "text/plain": [
       "<Figure size 432x288 with 1 Axes>"
      ]
     },
     "metadata": {
      "needs_background": "light"
     },
     "output_type": "display_data"
    }
   ],
   "source": [
    "def scree_plot(pca, threshold=.1):\n",
    "    \"\"\"\n",
    "    Plot a scree plot of given PCA.\n",
    "    Add vertical lines when variance drops relatively by more than threshold (10% by default)\n",
    "    Add text indicating number of components BEFORE the big drop happens,\n",
    "    which is the number of clusters we'd want.\n",
    "    https://stats.stackexchange.com/a/17206\n",
    "    \"\"\"\n",
    "    evr = pca.explained_variance_ratio_\n",
    "    fig = plt.plot(np.arange(1,len(evr)+1), evr)\n",
    "    plt.yscale('log')\n",
    "    plt.xlabel('component rank')\n",
    "    plt.ylabel('% variance explained by component')\n",
    "    \n",
    "    # plot vlines when explained variance drops > passed threshold\n",
    "    drop_indices = []\n",
    "    for i in range(len(evr)-1):\n",
    "        drop = (evr[i] - evr[i+1]) / evr[i]\n",
    "        if drop >= threshold:\n",
    "            drop_indices.append(i+2)\n",
    "    plt.vlines(drop_indices,evr[-1],evr[0],color='r')\n",
    "    [plt.text(i+0.5, evr[-1], i-1) for i in drop_indices]\n",
    "    \n",
    "    \n",
    "scree_plot(pca)"
   ]
  },
  {
   "cell_type": "code",
   "execution_count": null,
   "metadata": {},
   "outputs": [],
   "source": []
  }
 ],
 "metadata": {
  "kernelspec": {
   "display_name": "Python 3",
   "language": "python",
   "name": "python3"
  },
  "language_info": {
   "codemirror_mode": {
    "name": "ipython",
    "version": 3
   },
   "file_extension": ".py",
   "mimetype": "text/x-python",
   "name": "python",
   "nbconvert_exporter": "python",
   "pygments_lexer": "ipython3",
   "version": "3.7.4"
  }
 },
 "nbformat": 4,
 "nbformat_minor": 2
}
