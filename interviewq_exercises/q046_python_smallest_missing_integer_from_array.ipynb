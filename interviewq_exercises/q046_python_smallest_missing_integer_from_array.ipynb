{
 "cells": [
  {
   "cell_type": "markdown",
   "metadata": {},
   "source": [
    "# Question 46 - Smallest missing number in array\n",
    "\n",
    "Write a function that outputs the smallest missing number in a sorted array of n unique integers. The integers in the array range from 0 to m-1, where m > n.\n",
    "The function should be called SmallestMissingNumber and the 3 inputs are: the array, the \"start value\" of the array (e.g. 0), and the length of the array - 1, or \"end value\".\n",
    "\n",
    "Examples:\n",
    "Input: [0, 1, 3, 4, 8, 9], n = 5, m = 10\n",
    "Output: 2\n",
    "\n",
    "Input: [4, 7, 9, 11], n = 4, m = 12\n",
    "Output: 0\n",
    "\n",
    "Solution will be written using Python. "
   ]
  },
  {
   "cell_type": "code",
   "execution_count": 1,
   "metadata": {},
   "outputs": [],
   "source": [
    "def smallest_missing_number_naive(arr):\n",
    "    i = 0\n",
    "    while i < len(arr):\n",
    "        if arr[i] > i:\n",
    "            return i\n",
    "        i += 1\n",
    "    return None\n",
    "\n",
    "def test_smallest_missing_number(f):\n",
    "    assert f([0,1,3,4,8,9]) == 2\n",
    "    assert f([4,7,9,11]) == 0\n",
    "    assert f([1]) == 0\n",
    "    assert f([0,1,2]) == None\n",
    "    \n",
    "test_smallest_missing_number(smallest_missing_number_naive)"
   ]
  },
  {
   "cell_type": "code",
   "execution_count": 2,
   "metadata": {},
   "outputs": [],
   "source": [
    "def smallest_missing_number_binary_search(arr):\n",
    "    start_i = 0\n",
    "    end_i = len(arr)-1\n",
    "    while end_i >= start_i:\n",
    "        # subarray has a single element\n",
    "        if start_i == end_i:\n",
    "            if arr[start_i] == start_i:\n",
    "                break\n",
    "            else:\n",
    "                return start_i\n",
    "            \n",
    "        mid_i = (start_i + end_i) // 2\n",
    "        if arr[mid_i] > mid_i:\n",
    "            end_i = mid_i\n",
    "        else:\n",
    "            start_i = mid_i+1\n",
    "        \n",
    "    return None\n",
    "\n",
    "test_smallest_missing_number(smallest_missing_number_binary_search)"
   ]
  },
  {
   "cell_type": "code",
   "execution_count": null,
   "metadata": {},
   "outputs": [],
   "source": []
  }
 ],
 "metadata": {
  "kernelspec": {
   "display_name": "Python 3",
   "language": "python",
   "name": "python3"
  },
  "language_info": {
   "codemirror_mode": {
    "name": "ipython",
    "version": 3
   },
   "file_extension": ".py",
   "mimetype": "text/x-python",
   "name": "python",
   "nbconvert_exporter": "python",
   "pygments_lexer": "ipython3",
   "version": "3.6.5"
  }
 },
 "nbformat": 4,
 "nbformat_minor": 2
}
