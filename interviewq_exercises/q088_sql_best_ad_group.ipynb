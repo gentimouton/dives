{
 "cells": [
  {
   "cell_type": "markdown",
   "metadata": {},
   "source": [
    "# Question 88 - Best ad group, a SQL version\n",
    "\n",
    "Given the following [data set](https://docs.google.com/spreadsheets/d/1YxZzzOsVasqj-AvPp2g6Fr3RKQyIQDXUDyYvEfZjtgo/edit#gid=0), can you write a query that returns the top 3 performing ad groups each day? Performance is defined as the ratio between revenue and spend (e.g. revenue / spend), the higher the ratio the better peformance. The output of the query will be the date and array of the ad groups. "
   ]
  },
  {
   "cell_type": "markdown",
   "metadata": {},
   "source": [
    "Columns: date\tshown\tclicked\tconverted\ttotal_spend\tad\n",
    "\n",
    "```sql\n",
    "select\n",
    "    ad_group,\n",
    "    sum(converted)::float / sum(shown) as conversion,\n",
    "    ( sum(revenue) - sum(total_spend) ) ::float / sum(shown) as benefit_per_impresion\n",
    "from table t\n",
    "group by 1\n",
    "order by 2 desc\n",
    "```"
   ]
  },
  {
   "cell_type": "code",
   "execution_count": null,
   "metadata": {},
   "outputs": [],
   "source": []
  }
 ],
 "metadata": {
  "kernelspec": {
   "display_name": "Python 3",
   "language": "python",
   "name": "python3"
  },
  "language_info": {
   "codemirror_mode": {
    "name": "ipython",
    "version": 3
   },
   "file_extension": ".py",
   "mimetype": "text/x-python",
   "name": "python",
   "nbconvert_exporter": "python",
   "pygments_lexer": "ipython3",
   "version": "3.6.5"
  }
 },
 "nbformat": 4,
 "nbformat_minor": 2
}
