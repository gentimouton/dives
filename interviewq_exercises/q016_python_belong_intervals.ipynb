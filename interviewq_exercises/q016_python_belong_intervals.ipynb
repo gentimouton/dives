{
 "cells": [
  {
   "cell_type": "markdown",
   "metadata": {},
   "source": [
    "# Question 16 - Points within an interval\n",
    "\n",
    "You are given j integer intervals in the format [a,b] \n",
    "(e.g. if j = 2, would get list of 2 intervals [a,b], [c,d] \n",
    " where a, b, c, and d are integer numbers). \n",
    "The absolute value of the coordinates is bound by a value M.\n",
    "\n",
    "Build a Python function that determines whether or not a given point \n",
    "belongs to the maximum number of intervals provided. \n",
    "\n"
   ]
  },
  {
   "cell_type": "code",
   "execution_count": 3,
   "metadata": {},
   "outputs": [],
   "source": [
    "\n",
    "def belong_intervals(a, intervals):\n",
    "    \"\"\"\n",
    "    a: integer\n",
    "    intervals: list of list of 2 integers\n",
    "    return whether i belongs to each of the intervals\n",
    "    \"\"\"\n",
    "    n = len(intervals)\n",
    "    b = [a >= i[0] and a <= i[1] for i in intervals]\n",
    "    return n == sum(b)\n",
    "\n",
    "\n",
    "def test_belong_interval():\n",
    "    intervals = [ [1,3], [2,4], [1,6]]\n",
    "    assert belong_intervals(0, intervals) == False\n",
    "    assert belong_intervals(5, intervals) == False\n",
    "    assert belong_intervals(2, intervals) == True\n",
    "    \n",
    "\n",
    "test_belong_interval()"
   ]
  },
  {
   "cell_type": "code",
   "execution_count": null,
   "metadata": {},
   "outputs": [],
   "source": []
  }
 ],
 "metadata": {
  "kernelspec": {
   "display_name": "Python 3",
   "language": "python",
   "name": "python3"
  },
  "language_info": {
   "codemirror_mode": {
    "name": "ipython",
    "version": 3
   },
   "file_extension": ".py",
   "mimetype": "text/x-python",
   "name": "python",
   "nbconvert_exporter": "python",
   "pygments_lexer": "ipython3",
   "version": "3.6.5"
  }
 },
 "nbformat": 4,
 "nbformat_minor": 2
}
