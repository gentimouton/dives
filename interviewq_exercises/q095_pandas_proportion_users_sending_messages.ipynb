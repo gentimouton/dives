{
 "cells": [
  {
   "cell_type": "markdown",
   "metadata": {},
   "source": [
    "# Question 95 - User messaging\n",
    "Data Analysis Python Pandas Data Manipulation\n",
    "\n",
    "Below is a table schema for a new messaging app. The table contains send/receive message data for the application's users.\n",
    "```\n",
    "table name: user_messaging\n",
    "\n",
    "     time_stamp (integer)             # timestamp, epoch seconds\n",
    "\n",
    "     sender_id (integer)              # id of the message sender\n",
    "\n",
    "     receiver_id (integer)            # id of the message receiver\n",
    "```\n",
    "\n",
    "Question: What fraction of active users communicate with at least 25 unique people on April 2nd, 2018?"
   ]
  },
  {
   "cell_type": "code",
   "execution_count": 3,
   "metadata": {},
   "outputs": [
    {
     "data": {
      "text/plain": [
       "0.5"
      ]
     },
     "execution_count": 3,
     "metadata": {},
     "output_type": "execute_result"
    }
   ],
   "source": [
    "import pandas as pd\n",
    "\n",
    "df = pd.DataFrame({\n",
    "    'ts':[1522640760, 1522638060, 1522627260, 1522670460, 1522671460], \n",
    "    'sender_id':[123,456,123,123,123],\n",
    "    'receiver_id':[456,123,789,234,345]\n",
    "})\n",
    "\n",
    "\n",
    "# for each sender, count number of distinct ppl contacted\n",
    "contacted = df.groupby('sender_id').agg({'receiver_id':pd.Series.nunique})\n",
    "\n",
    "# proportion of sending users sending a message to at least 3 people: 1/2\n",
    "sum(contacted['receiver_id']>=3) / len(contacted)"
   ]
  },
  {
   "cell_type": "code",
   "execution_count": null,
   "metadata": {},
   "outputs": [],
   "source": []
  }
 ],
 "metadata": {
  "kernelspec": {
   "display_name": "Python 3",
   "language": "python",
   "name": "python3"
  },
  "language_info": {
   "codemirror_mode": {
    "name": "ipython",
    "version": 3
   },
   "file_extension": ".py",
   "mimetype": "text/x-python",
   "name": "python",
   "nbconvert_exporter": "python",
   "pygments_lexer": "ipython3",
   "version": "3.6.5"
  }
 },
 "nbformat": 4,
 "nbformat_minor": 2
}
