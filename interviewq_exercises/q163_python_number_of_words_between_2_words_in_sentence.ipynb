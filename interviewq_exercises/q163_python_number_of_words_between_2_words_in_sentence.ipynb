{
 "cells": [
  {
   "cell_type": "markdown",
   "metadata": {},
   "source": [
    "# Counting the distance between words in Python\n",
    "Python String Manipulation\n",
    "\n",
    "Suppose you are given two words, word_1 and word_2, as well as a string containing them, called your_string.\n",
    "\n",
    "Given this, write a function using Python to find the minimum distance between word_1 and word_2. For the context of this question, distance is defined as the number of words between word_1 and word_2.\n",
    "\n",
    "For example, given the following:\n",
    "```\n",
    "Input: your_string = 'the quick rabbit ran through the field with a carrot', word_1 = 'quick', word_2 = 'field'\n",
    "\n",
    "Output: 4\n",
    "#Since there are 4 words between 'quick' and 'field' in our string.\n",
    "```"
   ]
  },
  {
   "cell_type": "code",
   "execution_count": 1,
   "metadata": {},
   "outputs": [
    {
     "name": "stdout",
     "output_type": "stream",
     "text": [
      "tests passed\n"
     ]
    }
   ],
   "source": [
    "def test_get_number_words_between_2_words(f):\n",
    "    assert f('a b c d', 'a', 'd') == 2\n",
    "    assert f('the quick rabbit ran through the field with a carrot', 'quick', 'field') == 4\n",
    "    assert f('a b', 'a', 'b') == 0\n",
    "    print('tests passed')\n",
    "    \n",
    "    \n",
    "def get_number_words_between_2_words(sentence, word1, word2):\n",
    "    words = sentence.split(' ')\n",
    "    dist = words.index(word2) - words.index(word1) - 1\n",
    "    return dist\n",
    "\n",
    "\n",
    "test_get_number_words_between_2_words(get_number_words_between_2_words)"
   ]
  }
 ],
 "metadata": {
  "kernelspec": {
   "display_name": "Python 3",
   "language": "python",
   "name": "python3"
  },
  "language_info": {
   "codemirror_mode": {
    "name": "ipython",
    "version": 3
   },
   "file_extension": ".py",
   "mimetype": "text/x-python",
   "name": "python",
   "nbconvert_exporter": "python",
   "pygments_lexer": "ipython3",
   "version": "3.7.4"
  }
 },
 "nbformat": 4,
 "nbformat_minor": 2
}
