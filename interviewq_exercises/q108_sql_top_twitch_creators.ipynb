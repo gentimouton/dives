{
 "cells": [
  {
   "cell_type": "markdown",
   "metadata": {},
   "source": [
    "# Question 108 - Twitch view times by creators\n",
    "SQL Database Querying\n",
    "\n",
    "Suppose you are working for a company like Twitch.tv. Twitch.tv is a live streaming platform, where creators (e.g. the people creating content on the live streams) can receive donations from viewers.\n",
    "\n",
    "Using the tables below -- write a SQL query to find the top content creators by total watch time, filtering for users who watch the stream on the same day the stream was created.\n",
    "```\n",
    "Table 1: creatorStreams\n",
    "Column Name \tData Type \tDescription\n",
    "creator_id \tinteger \tunique id of content creator\n",
    "stream_id \tinteger \tunique id of stream\n",
    "date \tstring \tformat is \"YYYY-MM-DD\", date of stream session\n",
    "length \tinteger \tlength of streaming session\n",
    "\n",
    "Table 2: viewWatches\n",
    "Column Name \tData Type \tDescription\n",
    "viewer_id \tinteger \tunique id of viewer\n",
    "session_id \tinteger \tunique use session id\n",
    "date \tstring \tformat is \"YYYY-MM-DD\", date of the view\n",
    "stream_id \tinteger \tunique session id of stream\n",
    "mins_viewed \tinteger \ttotal number of the viewer watched the stream \n",
    "```"
   ]
  },
  {
   "cell_type": "markdown",
   "metadata": {},
   "source": [
    "```sql\n",
    "select\n",
    "  creator_id,\n",
    "  sum(mins_viewed) as mv\n",
    "from viewWatches v\n",
    "join creatorStreams c\n",
    "  on c.stream_id = v.stream_id\n",
    "  and c.date = v.date\n",
    "group by 1\n",
    "order by 2 desc\n",
    "\n",
    "```"
   ]
  },
  {
   "cell_type": "code",
   "execution_count": null,
   "metadata": {},
   "outputs": [],
   "source": []
  }
 ],
 "metadata": {
  "kernelspec": {
   "display_name": "Python 3",
   "language": "python",
   "name": "python3"
  },
  "language_info": {
   "codemirror_mode": {
    "name": "ipython",
    "version": 3
   },
   "file_extension": ".py",
   "mimetype": "text/x-python",
   "name": "python",
   "nbconvert_exporter": "python",
   "pygments_lexer": "ipython3",
   "version": "3.7.4"
  }
 },
 "nbformat": 4,
 "nbformat_minor": 2
}
