{
 "cells": [
  {
   "cell_type": "markdown",
   "metadata": {},
   "source": [
    "# Question 122 - Middle matrix sums\n",
    "Python Data Structures Arrays Matrix\n",
    "\n",
    "Given an integer matrix, m, with an odd # dimensions, n x n, (e.g 3 x 3, 5 x 5, etc), find the sum of middle row as well as the middle column.\n",
    "\n",
    "For example:\n",
    "```\n",
    "#Given\n",
    "[[1,2,3],\n",
    "[4,5,6],\n",
    "[7,8,9]]\n",
    "\n",
    "#Your program would output:\n",
    "'Sum middle row =' 15 #(e.g. 4+5+6)\n",
    "'Sum middle column =' 15 #(e.g. 2+5+8)\n",
    "```\n",
    "\n",
    "Solution will be written in Python for premium users."
   ]
  },
  {
   "cell_type": "code",
   "execution_count": 1,
   "metadata": {},
   "outputs": [],
   "source": [
    "def compute_sum_mid_row_col(m):\n",
    "    \"\"\" return sum of m's middle column and m's middle row\n",
    "    assumes m is a square matrix with odd size, eg 3x3 or 5x5 \n",
    "    \"\"\"\n",
    "    i = len(m)//2\n",
    "    mid_row_sum = sum(m[i])\n",
    "    mid_col_sum = sum([row[i] for row in m])\n",
    "    return mid_col_sum, mid_row_sum\n",
    "\n",
    "def test_compute_sum_mid_row_col(f):\n",
    "    m = [[1,2,3], [4,5,6], [7,8,9]]\n",
    "    assert f(m) == (15, 15)\n",
    "    assert f([[5]]) == (5,5)\n",
    "    \n",
    "test_compute_sum_mid_row_col(compute_sum_mid_row_col)\n"
   ]
  }
 ],
 "metadata": {
  "kernelspec": {
   "display_name": "Python 3",
   "language": "python",
   "name": "python3"
  },
  "language_info": {
   "codemirror_mode": {
    "name": "ipython",
    "version": 3
   },
   "file_extension": ".py",
   "mimetype": "text/x-python",
   "name": "python",
   "nbconvert_exporter": "python",
   "pygments_lexer": "ipython3",
   "version": "3.7.4"
  }
 },
 "nbformat": 4,
 "nbformat_minor": 2
}
