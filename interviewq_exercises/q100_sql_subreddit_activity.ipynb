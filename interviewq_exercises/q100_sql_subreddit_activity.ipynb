{
 "cells": [
  {
   "cell_type": "markdown",
   "metadata": {},
   "source": [
    "# Question 100 - Reddit comment activity\n",
    "SQL Database Querying\n",
    "\n",
    "Suppose you're working for Reddit as an analyst. Reddit is trying to optimize its server allocation per subreddit, and you've been tasked with figuring out how much comment activity happens once a post is published.\n",
    "\n",
    "Use your intuition to select a timeframe to query the data as well as how you would want to present this information to the partnering team. The solution will be a SQL query with assumptions that you would need to state if this was asked in an interview. You have the following tables:\n",
    "```\n",
    "Table: posts\n",
    "Column Name \tData Type \tDescription\n",
    "id \tinteger \tid of the post\n",
    "publisher_id \tinteger \tid the user posting\n",
    "score \tinteger \tscore of the post\n",
    "time \tinteger \tpost publish time in unixtime\n",
    "title \tstring \ttitle of the post\n",
    "deleted \tboolean \tis the post deleted?\n",
    "dead \tboolean \tis the post active?\n",
    "subreddit_id \tinteger \tid of the subreddit\n",
    "\n",
    "Table: comments\n",
    "Column Name \tData Type \tDescription\n",
    "id \tinteger \tid of the comment\n",
    "author_id \tinteger \tid of the commenter\n",
    "post_id \tinteger \tid of the post the comment is nested under\n",
    "parent_comment \tinteger \tid of parent comment that comment is nested under\n",
    "deleted \tinteger \tis comment deleted?\n",
    "```\n",
    "Given the above, write a SQL query to highlight comment activity by subreddit. This problem is intended to test how you can think through vague/open-ended questions. "
   ]
  },
  {
   "cell_type": "markdown",
   "metadata": {},
   "source": [
    "```sql\n",
    "select\n",
    "    subreddit_id,\n",
    "    sum(1) as n_comments,\n",
    "    count(distinct p.id) as n_posts,\n",
    "    sum(1) ::float / count(distinct p.id) as comments_per_post\n",
    "from comments c\n",
    "join posts p\n",
    "  on p.id = c.post_id\n",
    "where c.deleted = False\n",
    "group by 1\n",
    "```"
   ]
  },
  {
   "cell_type": "code",
   "execution_count": null,
   "metadata": {},
   "outputs": [],
   "source": []
  }
 ],
 "metadata": {
  "kernelspec": {
   "display_name": "Python 3",
   "language": "python",
   "name": "python3"
  },
  "language_info": {
   "codemirror_mode": {
    "name": "ipython",
    "version": 3
   },
   "file_extension": ".py",
   "mimetype": "text/x-python",
   "name": "python",
   "nbconvert_exporter": "python",
   "pygments_lexer": "ipython3",
   "version": "3.6.5"
  }
 },
 "nbformat": 4,
 "nbformat_minor": 2
}
