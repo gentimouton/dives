{
 "cells": [
  {
   "cell_type": "markdown",
   "metadata": {},
   "source": [
    "# Question 113 - Students in a class\n",
    "Statistics Probability Theory Set Theory\n",
    "\n",
    "In a class of 120 students numbered 1 to 120, all even numbered students opt for Physics, those whose numbers are divisible by 5 opt for Chemistry and those whose numbers are divisible by 7 opt for Math.\n",
    "\n",
    "Given this information, how many opt for none of the three subjects?\n",
    "\n",
    "You can read over set theory [here](https://en.wikipedia.org/wiki/Set_theory)."
   ]
  },
  {
   "cell_type": "markdown",
   "metadata": {},
   "source": [
    "We know:\n",
    "- chance to not opt into Physics: 1/2\n",
    "- chance to not opt into Chemistry: 4/5\n",
    "- chance to not opt into Math: 6/7\n",
    "- all 3 chances are independent\n",
    "\n",
    "Therefore:\n",
    "The chance to be enrolled in neither of the 3 is: 6/7 * 4/5 * 1/2 = 12/35 = .34"
   ]
  }
 ],
 "metadata": {
  "kernelspec": {
   "display_name": "Python 3",
   "language": "python",
   "name": "python3"
  },
  "language_info": {
   "codemirror_mode": {
    "name": "ipython",
    "version": 3
   },
   "file_extension": ".py",
   "mimetype": "text/x-python",
   "name": "python",
   "nbconvert_exporter": "python",
   "pygments_lexer": "ipython3",
   "version": "3.7.4"
  }
 },
 "nbformat": 4,
 "nbformat_minor": 2
}
