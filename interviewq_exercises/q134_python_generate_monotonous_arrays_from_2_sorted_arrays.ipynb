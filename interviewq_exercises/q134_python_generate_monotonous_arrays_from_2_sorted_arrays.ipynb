{
 "cells": [
  {
   "cell_type": "markdown",
   "metadata": {},
   "source": [
    "# Arrays of arrays\n",
    "Python Data Structures Arrays\n",
    "\n",
    "Given two sorted arrays A and B, can you generate all possible sorted arrays such that the first element is taken from A then from B. Your algorithm must follow the rules below:\n",
    "\n",
    "- Array values must increasing\n",
    "- You must always add an element from both A and B. (This will cause arrays will only increase in size by increments of 2)\n",
    "- You cannot add the same element from either A or B more than once.\n",
    "\n",
    "For example:\n",
    "```\n",
    "A = [10, 15, 25, 50]\n",
    "B = [1, 5, 20, 30]\n",
    "\n",
    "# The resulting arrays are:\n",
    "  10, 20 \n",
    "  10, 20, 25, 30\n",
    "  10, 30\n",
    "  15, 20\n",
    "  15, 20, 25, 30\n",
    "  15, 30\n",
    "  25, 30\n",
    "\n",
    "#Note: The last element from A, 50, is not included in the resulting arrays because there no value of B that is >50.\n",
    "```\n",
    "\n",
    "Solution will be written in Python for premium users."
   ]
  },
  {
   "cell_type": "code",
   "execution_count": 1,
   "metadata": {},
   "outputs": [
    {
     "data": {
      "text/plain": [
       "[[0, 1], [0, 1, 2, 3], [0, 3], [2, 3]]"
      ]
     },
     "execution_count": 1,
     "metadata": {},
     "output_type": "execute_result"
    }
   ],
   "source": [
    "from typing import List\n",
    "\n",
    "def generate_increasing_pairs(arr1: List[int], arr2: List[int], min_int: int = None):\n",
    "    \"\"\" arr1 and arr2 are sorted.\n",
    "    Integers in arr1 are strictly increasing (no duplicates). Same in arr2.\n",
    "    For each element e1 from arr1 and e2 > e1 from arr2,\n",
    "    compute all lists from recursion(arr1 from >e1 onward, arr2 from >e2 onward)],\n",
    "    prepend e1 and e2 to each of these lists,\n",
    "    and return this list of lists (which can be []).\n",
    "    \"\"\"\n",
    "    if not arr1 or not arr2: # empty\n",
    "        return []\n",
    "\n",
    "    if min_int is None: # this happens when called the first time, non-recursively\n",
    "        min_int = arr1[0]-1\n",
    "    \n",
    "    valid_arrs = [] # fill this up and return it\n",
    "    \n",
    "    min_j = 0 # index in arr2 where we should start iterating\n",
    "    for i, e1 in enumerate(arr1):\n",
    "        if e1 <= min_int:\n",
    "            continue\n",
    "        for j in range(min_j, len(arr2)):\n",
    "            e2 = arr2[j]\n",
    "            if e2 <= e1:\n",
    "                min_j = j+1\n",
    "                continue                \n",
    "            valid_arrs.append([e1, e2])\n",
    "            for arr in generate_increasing_pairs(arr1[i+1:], arr2[j+1:], e2):\n",
    "                valid_arrs.append([e1, e2] + arr)\n",
    "                \n",
    "    return valid_arrs\n",
    "            \n",
    "            \n",
    "generate_increasing_pairs([0,2],[1,3])\n"
   ]
  },
  {
   "cell_type": "code",
   "execution_count": 2,
   "metadata": {},
   "outputs": [
    {
     "name": "stdout",
     "output_type": "stream",
     "text": [
      "all tests passed\n"
     ]
    }
   ],
   "source": [
    "def test_generate_increasing_pairs(f):\n",
    "    # edge cases\n",
    "    assert f([],[]) == []\n",
    "    assert f([1], [2]) == [[1,2]]\n",
    "    assert f([2], [1]) == []\n",
    "    \n",
    "    # simple test\n",
    "    assert f([0,2],[1,3]) == [[0, 1], [0, 1, 2, 3], [0, 3], [2, 3]]\n",
    "    \n",
    "    # given test\n",
    "    a = [10, 15, 25, 50]\n",
    "    b = [1, 5, 20, 30]\n",
    "    res = [\n",
    "        [10, 20],\n",
    "        [10, 20, 25, 30],\n",
    "        [10, 30],\n",
    "        [15, 20],\n",
    "        [15, 20, 25, 30],\n",
    "        [15, 30],\n",
    "        [25, 30]\n",
    "    ]\n",
    "    assert f(a,b) == res\n",
    "    \n",
    "    print('all tests passed')\n",
    "\n",
    "    \n",
    "test_generate_increasing_pairs(generate_increasing_pairs)"
   ]
  },
  {
   "cell_type": "code",
   "execution_count": null,
   "metadata": {},
   "outputs": [],
   "source": []
  }
 ],
 "metadata": {
  "kernelspec": {
   "display_name": "Python 3",
   "language": "python",
   "name": "python3"
  },
  "language_info": {
   "codemirror_mode": {
    "name": "ipython",
    "version": 3
   },
   "file_extension": ".py",
   "mimetype": "text/x-python",
   "name": "python",
   "nbconvert_exporter": "python",
   "pygments_lexer": "ipython3",
   "version": "3.7.4"
  }
 },
 "nbformat": 4,
 "nbformat_minor": 2
}
