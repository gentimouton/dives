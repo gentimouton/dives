{
 "cells": [
  {
   "cell_type": "markdown",
   "metadata": {},
   "source": [
    "# Question 29 - American Football Scoring\n",
    "\n",
    "There are a few ways we can score in American Football:\n",
    "\n",
    "    1 point - After scoring a touchdown, the team can choose to score a field goal\n",
    "    2 points - (1) after scoring touchdown, a team can choose to score a conversion, when the team attempts to score a secondary touchdown or (2) an uncommon way to score, a safety is score when the opposing team causes the ball to become dead\n",
    "    3 points - If no touchdown is scored on the possession, a team can attempt to make a field goal\n",
    "    6 points - Awarded for a touchdown\n",
    "\n",
    "\n",
    "Given the above, let's assume the potential point values for American Football are:\n",
    "\n",
    "    2 points - safety\n",
    "    3 points - only field goal\n",
    "    6 points - only touchdown\n",
    "    7 points - touchdown + field goal\n",
    "    8 points - touchdown + conversion \n",
    "\n",
    "Given a score value, can you write a function that lists the possible ways the score could have been achieved?\n",
    "For example, if you're given the score value 10, the potential values are:\n",
    "\n",
    "    8 points (touchdown + conversion) + 2 points (safety)\n",
    "    6 points (only touchdown) + 2x2 points (safety)\n",
    "    7 points (touchdown + field goal) + 3 points (only field goal)\n",
    "    5x2 points (safety)\n",
    "    2x2 points (safety) + 2x3 points (only field goal) \n"
   ]
  },
  {
   "cell_type": "code",
   "execution_count": 1,
   "metadata": {},
   "outputs": [
    {
     "data": {
      "text/plain": [
       "[[2, 2, 2, 2, 2],\n",
       " [2, 2, 3, 3],\n",
       " [2, 2, 6],\n",
       " [2, 3, 2, 3],\n",
       " [2, 3, 3, 2],\n",
       " [2, 6, 2],\n",
       " [2, 8],\n",
       " [3, 2, 2, 3],\n",
       " [3, 2, 3, 2],\n",
       " [3, 3, 2, 2],\n",
       " [3, 7],\n",
       " [6, 2, 2],\n",
       " [7, 3],\n",
       " [8, 2]]"
      ]
     },
     "execution_count": 1,
     "metadata": {},
     "output_type": "execute_result"
    }
   ],
   "source": [
    "# baseline recursive\n",
    "# TODO: dynamic prog\n",
    "def find_paths(score, values, path):\n",
    "    \"\"\" Recursively enumerate all possible (ordered) ways to break down score s. \n",
    "    path is the list of previous nodes/values seen.\n",
    "    \"\"\"\n",
    "    if score < 0:\n",
    "        # we were given a path that did not lead to a solution: return no possibility\n",
    "        return [] \n",
    "    elif score == 0:\n",
    "        # bingo: return current path as list, so previous calls can merge it with other paths\n",
    "        return [path] \n",
    "    else:\n",
    "        # for each value, get all possible paths below current node\n",
    "        # use list comprehension [p for p in ...] to merge these paths\n",
    "        return [p for v in values for p in find_paths(score-v, values, path+[v])]\n",
    "\n",
    "def test_find_paths():\n",
    "    assert find_paths(5, [5], []) == [ [5] ]\n",
    "    assert find_paths(5, [6], []) == [ ]\n",
    "    assert find_paths(5, [1,5], []) == [ [1,1,1,1,1], [5] ]\n",
    "    \n",
    "test_find_paths()\n",
    "\n",
    "find_paths(10, [2,3,6,7,8], [])\n"
   ]
  },
  {
   "cell_type": "code",
   "execution_count": null,
   "metadata": {},
   "outputs": [],
   "source": []
  },
  {
   "cell_type": "code",
   "execution_count": null,
   "metadata": {},
   "outputs": [],
   "source": []
  }
 ],
 "metadata": {
  "kernelspec": {
   "display_name": "Python 3",
   "language": "python",
   "name": "python3"
  },
  "language_info": {
   "codemirror_mode": {
    "name": "ipython",
    "version": 3
   },
   "file_extension": ".py",
   "mimetype": "text/x-python",
   "name": "python",
   "nbconvert_exporter": "python",
   "pygments_lexer": "ipython3",
   "version": "3.6.5"
  }
 },
 "nbformat": 4,
 "nbformat_minor": 2
}
