{
 "cells": [
  {
   "cell_type": "markdown",
   "metadata": {},
   "source": [
    "# Question 49 - Skittles from a bag\n",
    "\n",
    "Suppose a bag contains 40 skittles: 16 yellow, 14 red, and 10 orange. You draw 3 skittles at random (without replacement) from the bag. What is the probability that you get 2 skittles of one color and another skittle of a different color?"
   ]
  },
  {
   "cell_type": "code",
   "execution_count": 1,
   "metadata": {},
   "outputs": [
    {
     "data": {
      "text/plain": [
       "0.667786"
      ]
     },
     "execution_count": 1,
     "metadata": {},
     "output_type": "execute_result"
    }
   ],
   "source": [
    "\"\"\" \n",
    "Simulation \n",
    "\"\"\"\n",
    "\n",
    "import numpy as np\n",
    "\n",
    "np.random.seed(1)\n",
    "\n",
    "bag = np.array(['Y']*16 + ['R']*14 + ['O']*10)\n",
    "\n",
    "def trial():\n",
    "    \"\"\" Simulate a draw from bag, \n",
    "    and return if we drew 2 of one color and 1 of another.\n",
    "    \"\"\"\n",
    "    drawn = np.random.choice(bag, 3, replace=False)\n",
    "    return len(np.unique(drawn)) == 2\n",
    "\n",
    "n_trials = 10**6 # this takes a minute to run\n",
    "np.mean([trial() for _ in range(n_trials)])\n"
   ]
  },
  {
   "cell_type": "markdown",
   "metadata": {},
   "source": [
    "Count the occurrences of:\n",
    "```\n",
    "- 1Y 2R = C(16,1) * C(14,2) = 16!/15! * 14!/2/12! = 16 * 14*13/2 = 1456\n",
    "- 1Y 2O = C(16,1) * C(10,2) = 16 * 10*9/2 = 720\n",
    "- 1R 2Y = C(14,1) * C(16,2) = 14 * 16*15/2 = 1680\n",
    "- 1R 2O = C(14,1) * C(10,2) = 14 * 10*9/2 = 630\n",
    "- 1O 2Y = C(10,1) * C(16,2) = 10 * 16*15/2 = 1200\n",
    "- 1O 2R = C(10,1) * C(14,2) = 10 * 14*13/2 = 910\n",
    "total is 6596\n",
    "```\n",
    "\n",
    "total possible occurrences: \n",
    "```\n",
    "C(40,3) = 40!/37!3! = 40*39*38/6 = 9880\n",
    "```\n",
    "\n",
    "chance of 2 of one color and another of a different color: 6596 / 9880 = .6676"
   ]
  },
  {
   "cell_type": "code",
   "execution_count": null,
   "metadata": {},
   "outputs": [],
   "source": []
  }
 ],
 "metadata": {
  "kernelspec": {
   "display_name": "Python 3",
   "language": "python",
   "name": "python3"
  },
  "language_info": {
   "codemirror_mode": {
    "name": "ipython",
    "version": 3
   },
   "file_extension": ".py",
   "mimetype": "text/x-python",
   "name": "python",
   "nbconvert_exporter": "python",
   "pygments_lexer": "ipython3",
   "version": "3.6.5"
  }
 },
 "nbformat": 4,
 "nbformat_minor": 2
}
