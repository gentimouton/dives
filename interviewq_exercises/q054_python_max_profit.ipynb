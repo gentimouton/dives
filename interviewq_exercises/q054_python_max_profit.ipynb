{
 "cells": [
  {
   "cell_type": "markdown",
   "metadata": {},
   "source": [
    "# Question 54 - Sell, sell, sell!\n",
    "\n",
    "Suppose we are given an array of n integers which represent the value of some stock over time. Assuming you are allowed to buy the stock exactly once and sell the stock once, what is the maximum profit you can make? Can you write an algorithm using Python that takes in an array of values and returns the maximum profit?\n",
    "\n",
    "For example, if you are given the following array:\n",
    "\n",
    "2, 7, 1, 8, 2, 8, 14, 25, 14, 0, 4, 5\n",
    "\n",
    "The maximum profit you can make is 24 because you would buy the stock when it's price is 1 and sell when it's 25. Note that we cannot make 25, because the stock is priced at 0 after it is priced at 25 (e.g you can't sell before you buy)."
   ]
  },
  {
   "cell_type": "code",
   "execution_count": 1,
   "metadata": {},
   "outputs": [],
   "source": [
    "def unit_test_max_profit(f):\n",
    "    assert f([2,7,1,8,2,8,14,25,14,0,4,5]) == 24\n",
    "    assert f([2,2]) == 0\n",
    "    assert f([1]) == 0\n",
    "    assert f([5,2,1]) == -1\n",
    "    \n",
    "def max_profit(arr):\n",
    "    \"\"\" naive O(n2) \"\"\"\n",
    "    if len(arr) < 2:\n",
    "        return 0\n",
    "    profit = arr[1] - arr[0]\n",
    "    for i in range(len(arr)):\n",
    "        for j in range(i+1,len(arr)):\n",
    "            profit = max(profit, arr[j]-arr[i])\n",
    "    return profit\n",
    "\n",
    "unit_test_max_profit(max_profit)"
   ]
  },
  {
   "cell_type": "code",
   "execution_count": null,
   "metadata": {},
   "outputs": [],
   "source": []
  }
 ],
 "metadata": {
  "kernelspec": {
   "display_name": "Python 3",
   "language": "python",
   "name": "python3"
  },
  "language_info": {
   "codemirror_mode": {
    "name": "ipython",
    "version": 3
   },
   "file_extension": ".py",
   "mimetype": "text/x-python",
   "name": "python",
   "nbconvert_exporter": "python",
   "pygments_lexer": "ipython3",
   "version": "3.6.5"
  }
 },
 "nbformat": 4,
 "nbformat_minor": 2
}
