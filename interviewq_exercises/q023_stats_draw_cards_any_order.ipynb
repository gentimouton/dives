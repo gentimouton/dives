{
 "cells": [
  {
   "cell_type": "markdown",
   "metadata": {},
   "source": [
    "# Question 23 - Drawing cards from a standard deck, once more\n",
    "\n",
    "Suppose we have a standard (52 card) deck of cards,\n",
    "with an equal share of the cards associated with each \n",
    "of the four \"suits\" (e.g. clubs, spades, diamonds, and hearts). \n",
    "You can read more about a standard card deck here.\n",
    "\n",
    "Question: If you were to draw 3 cards from the deck, one a time,\n",
    "what is the probability that you draw a club, a heart and a diamond \n",
    "in any order? Be sure you can explain your reasoning here using probablity theory."
   ]
  },
  {
   "cell_type": "markdown",
   "metadata": {},
   "source": [
    "Each suit has 13 cards.\n",
    "\n",
    "The chance of drawing the first card as a club, heart, or diamond is 13*3/52.\n",
    "\n",
    "For the second draw, 2 suits remain: 13*2/51.\n",
    "\n",
    "For the last draw, 1 suit: 13/50.\n",
    "\n",
    "Total chance: `13^3 * 3 * 2 / 52 / 51 / 50 = `\n",
    "\n"
   ]
  },
  {
   "cell_type": "code",
   "execution_count": 1,
   "metadata": {},
   "outputs": [
    {
     "data": {
      "text/plain": [
       "0.09941176470588235"
      ]
     },
     "execution_count": 1,
     "metadata": {},
     "output_type": "execute_result"
    }
   ],
   "source": [
    "13**3 * 3 * 2 / 52 / 51 / 50 "
   ]
  },
  {
   "cell_type": "markdown",
   "metadata": {},
   "source": [
    "Another way to look at this:\n",
    "\n",
    "There are `52! / 49! 3! = 52*51*50 / 3*2 = 22100` ways to draw 3 cards from a set of 52.\n",
    "This is our denominator.\n",
    "\n",
    "There are `13*13*13 = 2197` ways to draw 3 cards of 3 different suits.\n"
   ]
  },
  {
   "cell_type": "code",
   "execution_count": 2,
   "metadata": {},
   "outputs": [
    {
     "data": {
      "text/plain": [
       "0.09941176470588235"
      ]
     },
     "execution_count": 2,
     "metadata": {},
     "output_type": "execute_result"
    }
   ],
   "source": [
    "2197/22100"
   ]
  },
  {
   "cell_type": "code",
   "execution_count": null,
   "metadata": {},
   "outputs": [],
   "source": []
  }
 ],
 "metadata": {
  "kernelspec": {
   "display_name": "Python 3",
   "language": "python",
   "name": "python3"
  },
  "language_info": {
   "codemirror_mode": {
    "name": "ipython",
    "version": 3
   },
   "file_extension": ".py",
   "mimetype": "text/x-python",
   "name": "python",
   "nbconvert_exporter": "python",
   "pygments_lexer": "ipython3",
   "version": "3.6.5"
  }
 },
 "nbformat": 4,
 "nbformat_minor": 2
}
