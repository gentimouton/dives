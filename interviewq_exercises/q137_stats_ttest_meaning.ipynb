{
 "cells": [
  {
   "cell_type": "markdown",
   "metadata": {},
   "source": [
    "# Auto component quality\n",
    "Statistics T-test Interpreting P-values\n",
    "\n",
    "Let's say you're working to test product quality for an auto manufacturer, and you run a paired t-test with 700 observations covering the time to failure for a particular vehicle component.\n",
    "\n",
    "The results of your test show that your company's mean quality exceeds your closest competitor by 5 points, with a p-value of 0.02. How would you describe this outcome to a stakeholder? What does this p-value mean exactly?"
   ]
  },
  {
   "cell_type": "markdown",
   "metadata": {},
   "source": [
    "### Answer\n",
    "\n",
    "There's a 2% chance that this 5-point difference is due to chance only.\n",
    "\n",
    "Put differently: Every sample of 700 points is unique, and has a different average time to failure.\n",
    "A p-value quantifies this variability, ie the spread of average time to failure.\n",
    "If we picked 700 random components from our competitor (instead of our own shop),\n",
    "and compared them to the competitor's baseline,\n",
    "then the probability of seeing a difference of 5+ points is 2%.\n",
    "\n"
   ]
  },
  {
   "cell_type": "code",
   "execution_count": null,
   "metadata": {},
   "outputs": [],
   "source": []
  }
 ],
 "metadata": {
  "kernelspec": {
   "display_name": "Python 3",
   "language": "python",
   "name": "python3"
  },
  "language_info": {
   "codemirror_mode": {
    "name": "ipython",
    "version": 3
   },
   "file_extension": ".py",
   "mimetype": "text/x-python",
   "name": "python",
   "nbconvert_exporter": "python",
   "pygments_lexer": "ipython3",
   "version": "3.7.4"
  }
 },
 "nbformat": 4,
 "nbformat_minor": 2
}
