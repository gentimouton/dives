{
 "cells": [
  {
   "cell_type": "markdown",
   "metadata": {},
   "source": [
    "# Multiply array values, return the remainder\n",
    "Python Data Structures Arrays\n",
    "\n",
    "Given an array of varying length containing multiple #s, and a number x. Write a short program in Python find the remainder of the array multiplication divided by x.\n",
    "\n",
    "For example:\n",
    "```\n",
    "#Given the following\n",
    "array = [5,2,4,1,5]\n",
    "x = 6\n",
    "\n",
    "#We would calculate output as such:\n",
    "5*2*4*1*5 = 200 % 6 = 2\n",
    "```"
   ]
  },
  {
   "cell_type": "code",
   "execution_count": 1,
   "metadata": {},
   "outputs": [],
   "source": [
    "def multiply_array_return_remainder(arr, divisor):\n",
    "    product = 1\n",
    "    for e in arr:\n",
    "        product = product * e\n",
    "    return (product % divisor)\n",
    "\n",
    "\n",
    "def test_multiply_array_return_remainder(f):\n",
    "    assert f([5,2,4,1,5], 6) == 2\n",
    "    assert f([1,2,3], 2) == 0\n",
    "\n",
    "    \n",
    "test_multiply_array_return_remainder(multiply_array_return_remainder)\n"
   ]
  },
  {
   "cell_type": "code",
   "execution_count": null,
   "metadata": {},
   "outputs": [],
   "source": []
  }
 ],
 "metadata": {
  "kernelspec": {
   "display_name": "Python 3",
   "language": "python",
   "name": "python3"
  },
  "language_info": {
   "codemirror_mode": {
    "name": "ipython",
    "version": 3
   },
   "file_extension": ".py",
   "mimetype": "text/x-python",
   "name": "python",
   "nbconvert_exporter": "python",
   "pygments_lexer": "ipython3",
   "version": "3.7.4"
  }
 },
 "nbformat": 4,
 "nbformat_minor": 2
}
