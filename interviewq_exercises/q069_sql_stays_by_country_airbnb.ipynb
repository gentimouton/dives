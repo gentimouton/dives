{
 "cells": [
  {
   "cell_type": "markdown",
   "metadata": {},
   "source": [
    "# Question 69 - Airbnb stays by country\n",
    "\n",
    "Suppose you work for Airbnb as an analyst. A team has come to you asking for a ranked list containing total # stays as well as total revenue, split by country. The time frame they're looking for is all stays that began in 2018. You can sort the list in descending order by revenue.\n",
    "\n",
    "The table schemas are provided below. Using SQL, write a query to answer this question.\n",
    "\n",
    "Table: property_location_info\n",
    "```\n",
    "Column Name \tData Type \tDescription\n",
    "property_id \tinteger \tID of the property location\n",
    "country \tstring \tcountry code of the property location\n",
    "city_name \tstring \tname of city (note there can be multiple cities with the same name)\n",
    "subregion_name \tstring \tprovience, state, or subregion name\n",
    "address \tstring \taddress of property location\n",
    "```\n",
    "\n",
    "Table: stays_info\n",
    "```\n",
    "Column Name \tData Type \tDescription\n",
    "guest_id \tinteger \tID of guest\n",
    "property_id \tinteger \tID of the property location\n",
    "host_id \tinteger \tID of the host manging the property\n",
    "revenue \tinteger \tcost of stay for guest in USD\n",
    "date_start \tstring \tstart day of stay, format is \"YYYY-mm-dd\"\n",
    "date_end \tstring \tend day of stay, format is \"YYYY-mm-dd\"\n",
    "stay_length \tinteger \tnumber of days for the stay\n",
    "airbnb_revenue \tinteger \trevenue that Airbnb collected on stay\n",
    "```"
   ]
  },
  {
   "cell_type": "markdown",
   "metadata": {},
   "source": [
    "```sql\n",
    "select\n",
    "  p.country,\n",
    "  sum(airbnb_revenue) as revenue,\n",
    "  count(*) as stays\n",
    "from stays_info s\n",
    "join property_location_info p\n",
    "  on p.property_id = s.property_id\n",
    "where s.date_start >= '2018-01-01'\n",
    "  and s.date_start < '2019-01-01'\n",
    "group by 1\n",
    "```"
   ]
  },
  {
   "cell_type": "code",
   "execution_count": null,
   "metadata": {},
   "outputs": [],
   "source": []
  }
 ],
 "metadata": {
  "kernelspec": {
   "display_name": "Python 3",
   "language": "python",
   "name": "python3"
  },
  "language_info": {
   "codemirror_mode": {
    "name": "ipython",
    "version": 3
   },
   "file_extension": ".py",
   "mimetype": "text/x-python",
   "name": "python",
   "nbconvert_exporter": "python",
   "pygments_lexer": "ipython3",
   "version": "3.6.5"
  }
 },
 "nbformat": 4,
 "nbformat_minor": 2
}
