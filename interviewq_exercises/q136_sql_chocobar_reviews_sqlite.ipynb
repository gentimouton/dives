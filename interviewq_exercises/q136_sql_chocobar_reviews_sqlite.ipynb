{
 "cells": [
  {
   "cell_type": "markdown",
   "metadata": {},
   "source": [
    "# Chocolate Bar Reviews\n",
    "SQL Database Querying Rank Function Window Function External Dataset\n",
    "\n",
    "You have the following [dataset](https://drive.google.com/file/d/1wG27Iex7Ymg2gc-5UdcnXtuhP7aUBSNK/view)\n",
    "of chocolate bar ratings. You can assume you have this data in a table called InternationalChocolateRatings.\n",
    "\n",
    "Can you write a SQL query to summarize the BroadBeanOrigin for US manufactured chocolate bars and provide the number of reviews, average rating, and average cocoa percent?\n",
    "```\n",
    "Column Name in CSV \tColumn Name for SQL \tColumn Type \tShort description\n",
    "Company \tCompany \tstring \tName of the company manufacturing the bar\n",
    "Specific Bean Origin or Bar Name \tSpecificBeanOrigin \tstring \tThe specific geo-region of origin for the bar.\n",
    "REF value \tREFValue \tint \tValue linked to when the review was entered in the database. Higher = more recent.\n",
    "Review Date \tReviewDate \tint \tYear of publication of the review.\n",
    "Cocoa Percent \tCocoaPercent \tdouble \tCocoa percentage (darkness) of the chocolate bar being reviewed.\n",
    "Company Location \tCompanyLocation \tstring \tManufacturer base country.\n",
    "Rating \tRating \tint \tExpert rating for the bar.\n",
    "Bean Type \tBeanType \tstring \tThe variety (breed) of bean used, if provided.\n",
    "Broad Bean Origin \tBroadBeanOrigin \tstring \tThe broad geo-region of origin for the bean.\n",
    "```"
   ]
  },
  {
   "cell_type": "code",
   "execution_count": 1,
   "metadata": {},
   "outputs": [
    {
     "name": "stdout",
     "output_type": "stream",
     "text": [
      "there are 1795 rows in table InternationalChocolateRatings\n",
      "first row: [(0, 'A. Morin', 'Agua Grande', 1876, 2016, '63%', 'France', 3.75, None, 'Sao Tome')]\n"
     ]
    }
   ],
   "source": [
    "import pandas as pd\n",
    "import matplotlib.pyplot as plt\n",
    "from sqlalchemy import create_engine\n",
    "import seaborn as sns\n",
    "\n",
    "# load csv to pandas df\n",
    "filename = 'q136_data_flavors_of_cacao.csv'\n",
    "df = pd.read_csv(filename, encoding='utf-8') # pesky \\xa0\n",
    "# fix column names\n",
    "translation = {ord(ch):'' for ch in ['\\n',' ']} # replace k by v\n",
    "df.columns = [col.translate(translation) for col in df.columns]\n",
    "\n",
    "# build sqlite table\n",
    "engine = create_engine('sqlite://', echo=False)\n",
    "table_name = 'InternationalChocolateRatings'\n",
    "df.to_sql(table_name, con=engine)\n",
    "\n",
    "# query sqlite\n",
    "query = f\"SELECT count(*) FROM {table_name}\"\n",
    "n = engine.execute(query).scalar()# .fetchall()[0][0]\n",
    "print(f'there are {n} rows in table {table_name}')\n",
    "print(\"first row:\", engine.execute(f\"SELECT * FROM {table_name} limit 1\").fetchall())"
   ]
  },
  {
   "cell_type": "code",
   "execution_count": 2,
   "metadata": {},
   "outputs": [
    {
     "data": {
      "text/html": [
       "<div>\n",
       "<style scoped>\n",
       "    .dataframe tbody tr th:only-of-type {\n",
       "        vertical-align: middle;\n",
       "    }\n",
       "\n",
       "    .dataframe tbody tr th {\n",
       "        vertical-align: top;\n",
       "    }\n",
       "\n",
       "    .dataframe thead th {\n",
       "        text-align: right;\n",
       "    }\n",
       "</style>\n",
       "<table border=\"1\" class=\"dataframe\">\n",
       "  <thead>\n",
       "    <tr style=\"text-align: right;\">\n",
       "      <th></th>\n",
       "      <th>BroadBeanOrigin</th>\n",
       "      <th>n_reviews</th>\n",
       "      <th>avg_rating</th>\n",
       "      <th>avg_cocoa_pct</th>\n",
       "    </tr>\n",
       "  </thead>\n",
       "  <tbody>\n",
       "    <tr>\n",
       "      <td>0</td>\n",
       "      <td>Dominican Republic</td>\n",
       "      <td>96</td>\n",
       "      <td>3.169271</td>\n",
       "      <td>72.098958</td>\n",
       "    </tr>\n",
       "    <tr>\n",
       "      <td>1</td>\n",
       "      <td>Peru</td>\n",
       "      <td>76</td>\n",
       "      <td>3.095395</td>\n",
       "      <td>70.723684</td>\n",
       "    </tr>\n",
       "    <tr>\n",
       "      <td>2</td>\n",
       "      <td>Venezuela</td>\n",
       "      <td>73</td>\n",
       "      <td>3.092466</td>\n",
       "      <td>72.356164</td>\n",
       "    </tr>\n",
       "    <tr>\n",
       "      <td>3</td>\n",
       "      <td>Ecuador</td>\n",
       "      <td>71</td>\n",
       "      <td>3.228873</td>\n",
       "      <td>72.640845</td>\n",
       "    </tr>\n",
       "    <tr>\n",
       "      <td>4</td>\n",
       "      <td>Madagascar</td>\n",
       "      <td>57</td>\n",
       "      <td>3.228070</td>\n",
       "      <td>70.947368</td>\n",
       "    </tr>\n",
       "  </tbody>\n",
       "</table>\n",
       "</div>"
      ],
      "text/plain": [
       "      BroadBeanOrigin  n_reviews  avg_rating  avg_cocoa_pct\n",
       "0  Dominican Republic         96    3.169271      72.098958\n",
       "1                Peru         76    3.095395      70.723684\n",
       "2           Venezuela         73    3.092466      72.356164\n",
       "3             Ecuador         71    3.228873      72.640845\n",
       "4          Madagascar         57    3.228070      70.947368"
      ]
     },
     "execution_count": 2,
     "metadata": {},
     "output_type": "execute_result"
    }
   ],
   "source": [
    "query = f\"\"\"\n",
    "select\n",
    "    BroadBeanOrigin,\n",
    "    count(*) as n_reviews,\n",
    "    avg(Rating) as avg_rating,\n",
    "    avg(CocoaPercent) as avg_cocoa_pct    \n",
    "from {table_name}\n",
    "where CompanyLocation = 'U.S.A.'\n",
    "group by 1\n",
    "order by 2 desc\n",
    "\"\"\"\n",
    "\n",
    "# partially execute so we can get column names\n",
    "exec_result = engine.execute(query)\n",
    "cols = exec_result._metadata.keys\n",
    "rows = exec_result.fetchall() \n",
    "df = pd.DataFrame(rows, columns=cols)\n",
    "df.head()"
   ]
  },
  {
   "cell_type": "code",
   "execution_count": 3,
   "metadata": {},
   "outputs": [
    {
     "data": {
      "image/png": "[encoded data removed]",
      "text/plain": [
       "<Figure size 432x288 with 1 Axes>"
      ]
     },
     "metadata": {
      "needs_background": "light"
     },
     "output_type": "display_data"
    }
   ],
   "source": [
    "query = 'n_reviews > 5'\n",
    "ax = sns.regplot(x='avg_cocoa_pct', y=\"avg_rating\", data=df.query(query))"
   ]
  },
  {
   "cell_type": "code",
   "execution_count": null,
   "metadata": {},
   "outputs": [],
   "source": []
  }
 ],
 "metadata": {
  "kernelspec": {
   "display_name": "Python 3",
   "language": "python",
   "name": "python3"
  },
  "language_info": {
   "codemirror_mode": {
    "name": "ipython",
    "version": 3
   },
   "file_extension": ".py",
   "mimetype": "text/x-python",
   "name": "python",
   "nbconvert_exporter": "python",
   "pygments_lexer": "ipython3",
   "version": "3.7.4"
  }
 },
 "nbformat": 4,
 "nbformat_minor": 2
}
