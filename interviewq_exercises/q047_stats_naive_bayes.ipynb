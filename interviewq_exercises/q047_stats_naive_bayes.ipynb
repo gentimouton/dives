{
 "cells": [
  {
   "cell_type": "markdown",
   "metadata": {},
   "source": [
    "# Question 47 - Bayes' Theorem\n",
    "\n",
    "What is Bayes’ Theorem? How is it useful in a machine learning context?"
   ]
  },
  {
   "cell_type": "markdown",
   "metadata": {},
   "source": [
    "Bayes theorem is about conditional probabilities:\n",
    "```\n",
    "p(A|B)*p(B) = p(B|A)*p(A)\n",
    "```\n",
    "\n",
    "Application in ML: \n",
    "[Naive Bayes](https://en.wikipedia.org/wiki/Naive_Bayes_spam_filtering)\n",
    "\n",
    "The classic application of NB is email spam detection.\n",
    "The intuition is that words like \"viagra\" or \"cheap\" are typical in spam, \n",
    "and any message containing them are probably spam.\n",
    "\n",
    "p(spam|word) = p(word|spam) * p(spam) / p(word)\n",
    "\n",
    "Training: \n",
    "- given a corpus of emails (bag of words) and their label (spam/not spam), \n",
    "- compute p(spam),\n",
    "- and compute for each word p(word) and p(word|spam).\n",
    "- for all spam emails, compute score = multiplication of all these p(spam|word) together,\n",
    "- determine threshold as the X percentile score of spam emails (eg X=90th percentile), or when observing a sudden drop.\n",
    "\n",
    "Testing:\n",
    "- when an email arrives,\n",
    "- use formula above to compute for each word in the email p(spam|word),\n",
    "- then compute score = multiplication of all these p(spam|word) together,\n",
    "- if score is above threshold, mark as spam.\n",
    "\n",
    "Notes:\n",
    "- NB assumes that word occurrences are independent of each other, which is typically incorrect.\n",
    "- p(word) and p(word|spam) might be inaccurate for rare words or a biased corpus.\n",
    "- to avoid shrinking floats, when dividing small numbers by other small numbers, use log domain:\n",
    "```\n",
    "log[ p(spam|word1) * ...) ] = log[p(word1|spam)] + log[p(spam)] - log[p(word1)] + ...\n",
    "```\n",
    "\n"
   ]
  },
  {
   "cell_type": "code",
   "execution_count": null,
   "metadata": {},
   "outputs": [],
   "source": []
  }
 ],
 "metadata": {
  "kernelspec": {
   "display_name": "Python 3",
   "language": "python",
   "name": "python3"
  },
  "language_info": {
   "codemirror_mode": {
    "name": "ipython",
    "version": 3
   },
   "file_extension": ".py",
   "mimetype": "text/x-python",
   "name": "python",
   "nbconvert_exporter": "python",
   "pygments_lexer": "ipython3",
   "version": "3.6.5"
  }
 },
 "nbformat": 4,
 "nbformat_minor": 2
}
