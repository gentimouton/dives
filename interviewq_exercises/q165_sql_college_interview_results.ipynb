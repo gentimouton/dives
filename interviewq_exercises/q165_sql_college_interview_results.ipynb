{
 "cells": [
  {
   "cell_type": "markdown",
   "metadata": {},
   "source": [
    "College interview results\n",
    "SQL Database Querying\n",
    "\n",
    "Suppose your team interviews undergraduate candidates across many different colleges. You are provided the following tables, and asked to determine which colleges have the highest pass through rate (number of candidates offered a position / number of candidates interviewed) as well as the colleges with the highest total # of offers. This will help your team prioritize future campus visits and help spread interview load. Write a SQL query to return these two results.\n",
    "\n",
    "Table: candidateColleges\n",
    "\n",
    "```\n",
    "college_id \tcandidate_name\n",
    "123456 \tjohn_smith\n",
    "123456 \tsarah_daniels\n",
    "123457 \ttim_cook\n",
    "123457 \tlisa_perelli\n",
    "123457 \tjenny_west\n",
    "123457 \tkarl_tran\n",
    "123457 \ttammy_turner\n",
    "```\n",
    "\n",
    "Table: candidateInterviews\n",
    "\n",
    "Each row represents a unique interview/candidate, and flags whether or not we extended an offer as well as whether or not the candidate accepted. 1 means the offer was extended, 0 means it was not.\n",
    "```\n",
    "interview_id \tcandidate_name \tflag_offer_extended \tflag_offer_accepted\n",
    "12 \tjohn_smith \t1 \t1\n",
    "22 \tsarah_daniels \t1 \t0\n",
    "23 \ttim_cook \t0 \t0\n",
    "25 \tlisa_perelli \t0 \t0\n",
    "25 \tjenny_west \t1 \t0\n",
    "25 \tkarl_tran \t1 \t1\n",
    "25 \ttammy_turner \t1 \t1\n",
    "```"
   ]
  },
  {
   "cell_type": "markdown",
   "metadata": {},
   "source": [
    "```sql\n",
    "select\n",
    "    college_id,\n",
    "    sum(1) as interviews,\n",
    "    sum(flag_offer_extended) as offers,\n",
    "    sum(flag_offer_extended) ::float / sum(1) as pass_through_rate \n",
    "from candidateInterviews ci\n",
    "join candidateColleges cc\n",
    "    on cc.candidate_name = ci.candidate_name\n",
    "group by 1\n",
    "order by 2 desc\n",
    "```"
   ]
  }
 ],
 "metadata": {
  "kernelspec": {
   "display_name": "Python 3",
   "language": "python",
   "name": "python3"
  },
  "language_info": {
   "codemirror_mode": {
    "name": "ipython",
    "version": 3
   },
   "file_extension": ".py",
   "mimetype": "text/x-python",
   "name": "python",
   "nbconvert_exporter": "python",
   "pygments_lexer": "ipython3",
   "version": "3.7.4"
  }
 },
 "nbformat": 4,
 "nbformat_minor": 2
}
