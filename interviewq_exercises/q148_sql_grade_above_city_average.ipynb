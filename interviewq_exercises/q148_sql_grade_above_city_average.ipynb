{
 "cells": [
  {
   "cell_type": "markdown",
   "metadata": {},
   "source": [
    "# Filtering grades based on city avg, in SQL\n",
    "SQL Database Querying Having Function\n",
    "\n",
    "Given the following table, called 'students', write a SQL query to count the # of students with grades above the Detroit average.\n",
    "```\n",
    "\tage \tcity \tgrade \tname\n",
    "0 \t20 \tDetroit \t88 \tWillard Morris\n",
    "1 \t19 \tDetroit \t95 \tAl Jennings\n",
    "2 \t22 \tNew York \t92 \tOmar Mullins\n",
    "3 \t21 \tSan Francisco \t70 \tSpencer McDaniel\n",
    "```\n"
   ]
  },
  {
   "cell_type": "markdown",
   "metadata": {},
   "source": [
    "```sql\n",
    "with detroit_avg as (\n",
    "select\n",
    "  avg(grade*1.0) as detroit_avg_grade\n",
    "from students \n",
    "where city = 'Detroit'\n",
    ")\n",
    "\n",
    "select\n",
    "  count(*) as n_students_with_grade_above_detroit_avg\n",
    "from students s, detroit_avg a\n",
    "where grade >= a.detroit_avg_grade\n",
    "\n",
    "```"
   ]
  }
 ],
 "metadata": {
  "kernelspec": {
   "display_name": "Python 3",
   "language": "python",
   "name": "python3"
  },
  "language_info": {
   "codemirror_mode": {
    "name": "ipython",
    "version": 3
   },
   "file_extension": ".py",
   "mimetype": "text/x-python",
   "name": "python",
   "nbconvert_exporter": "python",
   "pygments_lexer": "ipython3",
   "version": "3.7.4"
  }
 },
 "nbformat": 4,
 "nbformat_minor": 2
}
