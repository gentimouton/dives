{
 "cells": [
  {
   "cell_type": "markdown",
   "metadata": {},
   "source": [
    "# Question 114 - Reorder an array by x elements in Python\n",
    "Python Data Structures Arrays\n",
    "\n",
    "Given an array of size n, write a function to move x elements from the front to the end of the array.\n",
    "\n",
    "For example:\n",
    "```\n",
    "#Given the following:\n",
    "array = [2,4,6,8,10]\n",
    "x = 3\n",
    "\n",
    "#To shift 3 elements you would return:\n",
    "[8,10,2,4,6]\n",
    "```\n",
    "\n",
    "Solution will be written in Python."
   ]
  },
  {
   "cell_type": "code",
   "execution_count": 1,
   "metadata": {},
   "outputs": [
    {
     "data": {
      "text/plain": [
       "[8, 10, 2, 4, 6]"
      ]
     },
     "execution_count": 1,
     "metadata": {},
     "output_type": "execute_result"
    }
   ],
   "source": [
    "def shift_first_n_elements(arr, n):\n",
    "    \"\"\" shift the first n elements from the front to the end\n",
    "    return new array\n",
    "    \"\"\"\n",
    "    return arr[n:] + arr[:n]\n",
    "    \n",
    "a = [2,4,6,8,10]\n",
    "shift_first_n_elements(a , 3)\n"
   ]
  }
 ],
 "metadata": {
  "kernelspec": {
   "display_name": "Python 3",
   "language": "python",
   "name": "python3"
  },
  "language_info": {
   "codemirror_mode": {
    "name": "ipython",
    "version": 3
   },
   "file_extension": ".py",
   "mimetype": "text/x-python",
   "name": "python",
   "nbconvert_exporter": "python",
   "pygments_lexer": "ipython3",
   "version": "3.7.4"
  }
 },
 "nbformat": 4,
 "nbformat_minor": 2
}
