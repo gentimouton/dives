{
 "cells": [
  {
   "cell_type": "markdown",
   "metadata": {},
   "source": [
    "# Question 97 - Life expectancy, revisited\n",
    "Statistics Probability Theory Conditional Probability\n",
    "\n",
    "Suppose you're analyzing a population of 100,000 people, and you're trying to understand life expectancy. Within this population of 100,000 people, 65% can expect to live to the age of 70, while 25% can expect to live to age 80.\n",
    "\n",
    "Given that a person is already 70, what is the probability that they live to the age 80?\n",
    "\n",
    "Hint: think about conditional probability theory when solving this one."
   ]
  },
  {
   "cell_type": "markdown",
   "metadata": {},
   "source": [
    "- p(70) = .65\n",
    "- p(80) = .25\n",
    "- anyone who reaches 80 has reached 70 before, so p(70|80)=1\n",
    "\n",
    "Bayes: p(80|70) . p(70) = p(80) . p(70|80)\n",
    "\n",
    "So p(80|70) = .25 * 1 / .65 = .38\n"
   ]
  },
  {
   "cell_type": "code",
   "execution_count": null,
   "metadata": {},
   "outputs": [],
   "source": []
  }
 ],
 "metadata": {
  "kernelspec": {
   "display_name": "Python 3",
   "language": "python",
   "name": "python3"
  },
  "language_info": {
   "codemirror_mode": {
    "name": "ipython",
    "version": 3
   },
   "file_extension": ".py",
   "mimetype": "text/x-python",
   "name": "python",
   "nbconvert_exporter": "python",
   "pygments_lexer": "ipython3",
   "version": "3.6.5"
  }
 },
 "nbformat": 4,
 "nbformat_minor": 2
}
