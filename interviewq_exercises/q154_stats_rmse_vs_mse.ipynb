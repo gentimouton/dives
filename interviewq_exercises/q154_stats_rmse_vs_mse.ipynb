{
 "cells": [
  {
   "cell_type": "markdown",
   "metadata": {},
   "source": [
    "# MSE vs. RMSE\n",
    "Statistics Mean Squared Error Root Mean Squared Error\n",
    "\n",
    "Explain what Mean Squared Error (MSE) and Root Mean Squared Error (RMSE) are.\n",
    "\n",
    "What are the similarities between the two? What are the differences? When might you want to use one over the other?"
   ]
  },
  {
   "cell_type": "code",
   "execution_count": 1,
   "metadata": {},
   "outputs": [
    {
     "name": "stdout",
     "output_type": "stream",
     "text": [
      "mse is 2.0\n",
      "rmse is 1.4142135623730951\n"
     ]
    }
   ],
   "source": [
    "import numpy as np\n",
    "\n",
    "arr = np.array([1,2,3,4,5])\n",
    "mu = arr.mean() # this estimator could be anything else than the mean \n",
    "\n",
    "# squared distances to estimator: [4,1,0,1,4]. Mean sq dist = 10/5 = 2\n",
    "mse = np.mean((arr-mu)**2) \n",
    "print(f'mse is {mse}')\n",
    "\n",
    "# RMSE has same unit as the estimator, like stdev.\n",
    "# when the estimator is the mean, RMSE == standard deviation\n",
    "rmse = np.sqrt(mse)\n",
    "print(f'rmse is {rmse}')\n",
    "\n",
    "# both MSE and RMSE are valid error measures for least-square regression (and others).\n",
    "# As a metric to optimize a model, MSE and RMSE will penalize outliers the same. \n",
    "# Mean Average Error, however, will penalize outliers less than MSE or RMSE.\n"
   ]
  }
 ],
 "metadata": {
  "kernelspec": {
   "display_name": "Python 3",
   "language": "python",
   "name": "python3"
  },
  "language_info": {
   "codemirror_mode": {
    "name": "ipython",
    "version": 3
   },
   "file_extension": ".py",
   "mimetype": "text/x-python",
   "name": "python",
   "nbconvert_exporter": "python",
   "pygments_lexer": "ipython3",
   "version": "3.7.4"
  }
 },
 "nbformat": 4,
 "nbformat_minor": 2
}
