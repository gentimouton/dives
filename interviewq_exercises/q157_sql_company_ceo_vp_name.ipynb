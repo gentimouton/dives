{
 "cells": [
  {
   "cell_type": "markdown",
   "metadata": {},
   "source": [
    "# New companies\n",
    "SQL Database Querying\n",
    "\n",
    "Suppose you work for a conglomerate that is constantly acquiring new companies. You're working with the human resource team to understand how many new employees you're taking on. Each of the companies you are acquiring has the following organization structure:\n",
    "> CEO > VP > dir > manager > IC\n",
    "\n",
    "You can assume that you have all this information in the following table:\n",
    "```\n",
    "Table: allCompanyEmployees\n",
    "chief_executive_officer \tvice_president \tdirector \tmanager \tindividual_contributor \tcompany_code\n",
    "johnny \ttammy \tlenny \tpenny \tjim \tabc\n",
    "johnny \ttammy \tlenny \tpenny \ttim \tabc\n",
    "johnny \ttammy \tlenny \tpenny \tpam \tabc\n",
    "michael \tpam \tjerry \tjimmy \ttimmy \tdef\n",
    "```\n",
    "\n",
    "You can also assume that each individual's name is unique in the table for simplicity (similar to an employee ID or user name). Given the table, can you write a SQL query to print the company_code, CEO name (or ID), total number of vice presidents, total number of directors, total number of managers, and total number of individual contributors?"
   ]
  },
  {
   "cell_type": "markdown",
   "metadata": {},
   "source": [
    "```sql\n",
    "select\n",
    "  company_code,\n",
    "  min(chief_executive_office) as ceo,\n",
    "  count(distinct vice_president) as n_vp,\n",
    "  count(distinct director) as n_dir,\n",
    "  count(distinct manager) as n_mgr,\n",
    "  count(distinct individual_contributor) as n_ic,\n",
    "from allCompanyEmployees\n",
    "group by 1\n",
    "\n",
    "```"
   ]
  }
 ],
 "metadata": {
  "kernelspec": {
   "display_name": "Python 3",
   "language": "python",
   "name": "python3"
  },
  "language_info": {
   "codemirror_mode": {
    "name": "ipython",
    "version": 3
   },
   "file_extension": ".py",
   "mimetype": "text/x-python",
   "name": "python",
   "nbconvert_exporter": "python",
   "pygments_lexer": "ipython3",
   "version": "3.7.4"
  }
 },
 "nbformat": 4,
 "nbformat_minor": 2
}
