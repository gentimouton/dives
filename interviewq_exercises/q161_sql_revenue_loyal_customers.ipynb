{
 "cells": [
  {
   "cell_type": "markdown",
   "metadata": {},
   "source": [
    "# Loyal customers\n",
    "SQL Database Querying\n",
    "\n",
    "Suppose you are an analyst for a major US hotel chain which has locations all over the US. Your marketing team is planning a promotion focused around loyal customers, and they are trying to forecast how much revenue the promotion will bring in. However, they need help from you to understand how much revenue comes from \"loyal\" customers to plug into their model.\n",
    "\n",
    "A \"loyal\" customer is defined as:\n",
    "```\n",
    "    having a membership with your company's point system,\n",
    "    meeting either of the below conditions\n",
    "        having > 2 stays at any hotel location\n",
    "        having stayed at 3 different locations \n",
    "```\n",
    "You have a table showing all transactions made in 2017. The schema of the table is below:\n",
    "\n",
    "```\n",
    "Table: customer_transactions\n",
    "Column Name \tData Type \tDescription\n",
    "customer_id \tid \tid of the customer\n",
    "hotel_id \tinteger \tunique id for hotel\n",
    "transaction_id \tinteger \tid of the given transaction\n",
    "first_night \tstring \tfirst night of the stay, column format is \"YYYY-mm-dd\"\n",
    "number_of_nights \tinteger \t# of nights the customer stayed in hotel\n",
    "total_spend \tinteger \ttotal spend for transaction, in USD\n",
    "is_member \tboolean \tindicates if the customer is a member of our points system\n",
    "```\n",
    "\n",
    "Using the information above, write a SQL query to show total revenue from 'loyal' customers."
   ]
  },
  {
   "cell_type": "markdown",
   "metadata": {},
   "source": [
    "```sql\n",
    "with customers_with_at_least_3_stays as (\n",
    "select\n",
    "  customer_id\n",
    "from customer_transactions c\n",
    "group by 1\n",
    "having count(*) > 2 -- > 2 stays at any hotel location\n",
    "  and count(distinct hotel_id) >= 3 -- 3 different locations\n",
    ")\n",
    "\n",
    ", revenue_per_member as (\n",
    "select\n",
    "  customer_id,\n",
    "  sum(total_spend) as revenue\n",
    "from customer_transactions c\n",
    "where is_member = True\n",
    "group by 1\n",
    ")\n",
    "\n",
    "select\n",
    "  sum(revenue) as revenue_from_loyal_customers\n",
    "from customers_with_at_least_3_stays c3\n",
    "join revenue_per_member r\n",
    "  on r.customer_id = c3.customer_id\n",
    "\n",
    "```"
   ]
  },
  {
   "cell_type": "code",
   "execution_count": null,
   "metadata": {},
   "outputs": [],
   "source": []
  }
 ],
 "metadata": {
  "kernelspec": {
   "display_name": "Python 3",
   "language": "python",
   "name": "python3"
  },
  "language_info": {
   "codemirror_mode": {
    "name": "ipython",
    "version": 3
   },
   "file_extension": ".py",
   "mimetype": "text/x-python",
   "name": "python",
   "nbconvert_exporter": "python",
   "pygments_lexer": "ipython3",
   "version": "3.7.4"
  }
 },
 "nbformat": 4,
 "nbformat_minor": 2
}
