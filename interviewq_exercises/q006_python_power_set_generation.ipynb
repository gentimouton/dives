{
 "cells": [
  {
   "cell_type": "code",
   "execution_count": 1,
   "metadata": {},
   "outputs": [
    {
     "data": {
      "text/plain": [
       "{frozenset(),\n",
       " frozenset({2}),\n",
       " frozenset({2, 3}),\n",
       " frozenset({1}),\n",
       " frozenset({1, 2}),\n",
       " frozenset({3}),\n",
       " frozenset({1, 3}),\n",
       " frozenset({1, 2, 3})}"
      ]
     },
     "execution_count": 1,
     "metadata": {},
     "output_type": "execute_result"
    }
   ],
   "source": [
    "# Create a Python function that generates the power set given a set of values. \n",
    "# For example, if you're given the following set:\n",
    "# set = {1, 2, 3}\n",
    "# Your python function should return the corresponding power set:\n",
    "# power set = { {}, {1}, {2}, {3}, {1, 2}, {2, 3}, {1, 3}, {1, 2, 3} }\n",
    "\n",
    "\n",
    "# Note: sets are mutable and can't be hashed, \n",
    "# so return a set of frozensets instead.\n",
    "\n",
    "def test_generate_power_set():\n",
    "    \"\"\" unit tests \"\"\"\n",
    "    in_val = {1,2,3}\n",
    "    out_val = set([\n",
    "        frozenset(), frozenset([1]), \n",
    "        frozenset([2]), frozenset([3]), \n",
    "        frozenset([1, 2]), frozenset([2, 3]), \n",
    "        frozenset([1, 3]), frozenset([1, 2, 3])\n",
    "    ])\n",
    "    assert generate_power_set(in_val) == out_val\n",
    "    in_val = set()\n",
    "    out_val = set([frozenset()])\n",
    "    assert generate_power_set(in_val) == out_val\n",
    "    \n",
    "def generate_power_set(s):\n",
    "    \"\"\" recursively generate all possible subsets of set s.\n",
    "    return a set of frozensets\n",
    "    \"\"\"\n",
    "    if not s:\n",
    "        return set([frozenset()])\n",
    "    e = s.pop()\n",
    "    sets_without_e = generate_power_set(s) \n",
    "    sets_with_e = set([frozenset(ss).union([e]) for ss in sets_without_e])\n",
    "    return sets_without_e.union(sets_with_e)\n",
    "\n",
    "test_generate_power_set()\n",
    "\n",
    "generate_power_set({1,2,3})"
   ]
  }
 ],
 "metadata": {
  "kernelspec": {
   "display_name": "Python 3",
   "language": "python",
   "name": "python3"
  },
  "language_info": {
   "codemirror_mode": {
    "name": "ipython",
    "version": 3
   },
   "file_extension": ".py",
   "mimetype": "text/x-python",
   "name": "python",
   "nbconvert_exporter": "python",
   "pygments_lexer": "ipython3",
   "version": "3.6.5"
  }
 },
 "nbformat": 4,
 "nbformat_minor": 2
}
