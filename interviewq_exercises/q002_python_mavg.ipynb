{
 "cells": [
  {
   "cell_type": "code",
   "execution_count": 1,
   "metadata": {},
   "outputs": [
    {
     "data": {
      "text/plain": [
       "(5.0, 8.7)"
      ]
     },
     "execution_count": 1,
     "metadata": {},
     "output_type": "execute_result"
    }
   ],
   "source": [
    "# given a list of numbers x and a single number n,\n",
    "# write a function to return the minimum and maximum averages of the sequences of n numbers in x \n",
    "# example: f([4,4,4,7,8,9], 3) = (4, 8) \n",
    "# average only sublist exactly n elements, not smaller (on the edges).\n",
    "\n",
    "import pandas as pd\n",
    "import math\n",
    "import numpy as np\n",
    "\n",
    "\n",
    "# test suite\n",
    "def test_solution(f):\n",
    "    \"\"\" pass a function on which to run unit tests \"\"\"\n",
    "    x = [7,4,4,7,8,9]\n",
    "    n = 3\n",
    "    assert f(x,n) == (5,8)\n",
    "\n",
    "\n",
    "# solution 1: using basic python list\n",
    "def min_max_mavg_basic(x, n):\n",
    "    # O(1) in space, O(|x|*n) in time\n",
    "    p = len(x)\n",
    "    if n > p:\n",
    "        return None\n",
    "    ma, mi = -math.inf, math.inf  # a bit ugly\n",
    "    for i in range(p-n+1):\n",
    "        s = sum(x[i:i+n])/n # or integer division //\n",
    "        mi = min(mi, s)\n",
    "        ma = max(ma, s)\n",
    "    return round(mi,1), round(ma,1)\n",
    "\n",
    "x = [7,4,4,7,8,9,9]\n",
    "n = 3\n",
    "\n",
    "test_solution(min_max_mavg_basic)\n",
    "min_max_mavg_basic(x, n)\n"
   ]
  },
  {
   "cell_type": "code",
   "execution_count": 2,
   "metadata": {},
   "outputs": [
    {
     "data": {
      "text/plain": [
       "(5.0, 8.7)"
      ]
     },
     "execution_count": 2,
     "metadata": {},
     "output_type": "execute_result"
    }
   ],
   "source": [
    "\n",
    "# solution 2: numpy \n",
    "def min_max_mavg_np(x,n):\n",
    "    # https://stackoverflow.com/a/22621523\n",
    "    # O(|x|) space and O(|x|*n) time, but probably faster\n",
    "    # another solution is https://stackoverflow.com/a/27681394\n",
    "    # it might be O(|x|) in time, but slightly inaccurate for big arrays of floats\n",
    "    a = np.convolve(x, np.ones((n,))/n, mode='valid')\n",
    "    # valid excludes partial edges\n",
    "    return round(np.min(a),1), round(np.max(a),1)\n",
    "\n",
    "test_solution(min_max_mavg_np)\n",
    "min_max_mavg_np(x,n)"
   ]
  },
  {
   "cell_type": "code",
   "execution_count": 3,
   "metadata": {},
   "outputs": [
    {
     "data": {
      "text/plain": [
       "(5.0, 8.7)"
      ]
     },
     "execution_count": 3,
     "metadata": {},
     "output_type": "execute_result"
    }
   ],
   "source": [
    "# solution 3: panda\n",
    "def min_max_mavg_pd(x,n):\n",
    "    # https://stackoverflow.com/a/30141358\n",
    "    a = pd.Series(x).rolling(window=n).mean().iloc[n-1:].values\n",
    "    return round(a.min(),1), round(a.max(),1)\n",
    "\n",
    "test_solution(min_max_mavg_np)\n",
    "min_max_mavg_pd(x,n)"
   ]
  }
 ],
 "metadata": {
  "kernelspec": {
   "display_name": "Python 3",
   "language": "python",
   "name": "python3"
  },
  "language_info": {
   "codemirror_mode": {
    "name": "ipython",
    "version": 3
   },
   "file_extension": ".py",
   "mimetype": "text/x-python",
   "name": "python",
   "nbconvert_exporter": "python",
   "pygments_lexer": "ipython3",
   "version": "3.6.5"
  }
 },
 "nbformat": 4,
 "nbformat_minor": 2
}
