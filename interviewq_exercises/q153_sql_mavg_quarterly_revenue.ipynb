{
 "cells": [
  {
   "cell_type": "markdown",
   "metadata": {},
   "source": [
    "# Calculating quarterly moving average of revenue in SQL\n",
    "SQL Database Querying Window Function Moving Average\n",
    "\n",
    "Suppose you're working with a large conglomerate and are trying to aggregate revenue across all divisions to highlight the overall trend. The table you're querying off of is called allRevenue, sample schema is shown below.\n",
    "```\n",
    "Table: allRevenue\n",
    "date \trevenue \tdivision\n",
    "2018-01-20 \t15000000 \tchemicals\n",
    "2019-02-21 \t120000 \tagriculture\n",
    "2019-04-09 \t390900 \tpharma\n",
    "```\n",
    "Given the above, can you write a SQL query that calculates 4-quarter rolling average revenue, cut by each quarter? The output query should only have 2 columns: 'quarter' and 'revenue' (where revenue is the trailing 4-quarter average). You can assume you have access to a function similar to [this](https://www.w3schools.com/sql/func_mysql_quarter.asp)."
   ]
  },
  {
   "cell_type": "markdown",
   "metadata": {},
   "source": [
    "```sql\n",
    "\n",
    "with q_rev as (\n",
    "select\n",
    "  quarter(date) as q,\n",
    "  sum(revenue) as rev\n",
    "from allRevenue\n",
    "group by 1\n",
    ")\n",
    "\n",
    "select\n",
    "  q,\n",
    "  rev,\n",
    "  avg(rev) over(order by q rows between 3 preceding and current row) as mavg4_rev\n",
    "from q_rev\n",
    "```"
   ]
  }
 ],
 "metadata": {
  "kernelspec": {
   "display_name": "Python 3",
   "language": "python",
   "name": "python3"
  },
  "language_info": {
   "codemirror_mode": {
    "name": "ipython",
    "version": 3
   },
   "file_extension": ".py",
   "mimetype": "text/x-python",
   "name": "python",
   "nbconvert_exporter": "python",
   "pygments_lexer": "ipython3",
   "version": "3.7.4"
  }
 },
 "nbformat": 4,
 "nbformat_minor": 2
}
