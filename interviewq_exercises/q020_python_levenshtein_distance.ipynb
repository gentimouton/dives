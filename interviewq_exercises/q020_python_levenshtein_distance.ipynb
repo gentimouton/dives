{
 "cells": [
  {
   "cell_type": "markdown",
   "metadata": {},
   "source": [
    "# Question 20 - One edit away\n",
    "\n",
    "Write a function to return a boolean that indicates if two strings are one edit away from being identical. The function should take in 2 strings and return a boolean. The definition of an \"edit\" is as follows:\n",
    "```\n",
    "    Insert one character\n",
    "    Remove one character\n",
    "    Replace one character\n",
    "```\n",
    "A few examples of inputs and the function result are listed below.\n",
    "\n",
    "```\n",
    "    OneEditAway(\"pea\", \"peas\") = True\n",
    "    OneEditAway(\"pea\", \"fleas\") = False\n",
    "    OneEditAway(\"pea\", \"lea\") = True            \n",
    "    OneEditAway(\"pea\", \"seas\") = False\n",
    "```"
   ]
  },
  {
   "cell_type": "code",
   "execution_count": 1,
   "metadata": {},
   "outputs": [],
   "source": [
    "\n",
    "def levenshtein_dist(u, v):\n",
    "    if u == '' or v == '':\n",
    "        return max(len(u), len(v))\n",
    "    return min(\n",
    "        levenshtein_dist(u, v[1:]) + 1, # 'x'+u = v\n",
    "        levenshtein_dist(u[1:], v) + 1, # u = 'x'+v\n",
    "        levenshtein_dist(u[1:], v[1:]) + (0 if u[0] == v[0] else 1) # char matching\n",
    "    )\n",
    "\n",
    "\n",
    "def test_levenshtein_dist():\n",
    "    assert levenshtein_dist('ab','a') == 1\n",
    "    assert levenshtein_dist('ab','ac') == 1\n",
    "    assert levenshtein_dist('ab','zb') == 1\n",
    "    assert levenshtein_dist('ab','ab') == 0\n",
    "    \n",
    "\n",
    "def one_edit_away(s, t):\n",
    "    \"\"\" return true if s and t are levenshtein distance of 1 \n",
    "    \"\"\"\n",
    "    return levenshtein_dist(s,t) == 1\n",
    "\n",
    "def test_one_edit_away():\n",
    "    assert one_edit_away('pea','peas') == True\n",
    "    assert one_edit_away('pea','fleas') == False\n",
    "    assert one_edit_away('pea','lea') == True\n",
    "    assert one_edit_away('pea','seas') == False\n",
    "\n",
    "test_levenshtein_dist()\n",
    "test_one_edit_away()\n"
   ]
  },
  {
   "cell_type": "code",
   "execution_count": null,
   "metadata": {},
   "outputs": [],
   "source": []
  }
 ],
 "metadata": {
  "kernelspec": {
   "display_name": "Python 3",
   "language": "python",
   "name": "python3"
  },
  "language_info": {
   "codemirror_mode": {
    "name": "ipython",
    "version": 3
   },
   "file_extension": ".py",
   "mimetype": "text/x-python",
   "name": "python",
   "nbconvert_exporter": "python",
   "pygments_lexer": "ipython3",
   "version": "3.6.5"
  }
 },
 "nbformat": 4,
 "nbformat_minor": 2
}
