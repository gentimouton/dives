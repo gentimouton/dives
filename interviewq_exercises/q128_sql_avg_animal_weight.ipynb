{
 "cells": [
  {
   "cell_type": "markdown",
   "metadata": {},
   "source": [
    "# Adult animal weights\n",
    "SQL Database Querying\n",
    "\n",
    "Given the following tables, write a SQL query to return the average weight for each adult animal:\n",
    "```\n",
    "table_1\n",
    "\tadult \tanimal \tanimal_id \tsize\n",
    "0 \tFalse \tcat \t1 \tM\n",
    "1 \tTrue \tdog \t2 \tM\n",
    "2 \tFalse \tcat \t3 \tM\n",
    "3 \tFalse \tfish \t4 \tS\n",
    "4 \tTrue \tdog \t5 \tL\n",
    "5 \tTrue \tcat \t6 \tM\n",
    "6 \tTrue \tcat \t7 \tM\n",
    "\n",
    "table_2\n",
    "\tanimal_id \tweight\n",
    "0 \t1 \t8\n",
    "1 \t2 \t10\n",
    "2 \t3 \t11\n",
    "3 \t4 \t1\n",
    "4 \t5 \t20\n",
    "5 \t6 \t12\n",
    "6 \t7 \t12\n",
    "```"
   ]
  },
  {
   "cell_type": "markdown",
   "metadata": {},
   "source": [
    "```sql\n",
    "select\n",
    "  animal,\n",
    "  avg(weight::float) as avg_weight\n",
    "from table_1 a\n",
    "join table_2 w\n",
    "  on a.animal_id = w.animal_id\n",
    "\n",
    "```"
   ]
  },
  {
   "cell_type": "code",
   "execution_count": null,
   "metadata": {},
   "outputs": [],
   "source": []
  }
 ],
 "metadata": {
  "kernelspec": {
   "display_name": "Python 3",
   "language": "python",
   "name": "python3"
  },
  "language_info": {
   "codemirror_mode": {
    "name": "ipython",
    "version": 3
   },
   "file_extension": ".py",
   "mimetype": "text/x-python",
   "name": "python",
   "nbconvert_exporter": "python",
   "pygments_lexer": "ipython3",
   "version": "3.7.4"
  }
 },
 "nbformat": 4,
 "nbformat_minor": 2
}
