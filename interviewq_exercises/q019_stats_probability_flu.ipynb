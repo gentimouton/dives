{
 "cells": [
  {
   "cell_type": "markdown",
   "metadata": {},
   "source": [
    "# Question 19 - New strain of flu\n",
    "\n",
    "You go to see the doctor about a cough you've had for a while.\n",
    "The doctor selects you at random to have a blood test for a new strain of flu,\n",
    "which for the purposes of this exercise we will say is currently suspected to \n",
    "affect 1 in 10,000 people in the US. The test is 99% accurate, in the sense that\n",
    "the probability of a false positive is 1%.\n",
    "\n",
    "The probability of a false negative is zero. You test positive. \n",
    "What is the new probability that you have this strain of flu? "
   ]
  },
  {
   "cell_type": "markdown",
   "metadata": {},
   "source": [
    "- Before the test results, the probability of having the flu was 1/10,000.\n",
    "- After the test results, since the false negative rate is 0, the probability of me having the flu is 99%.\n"
   ]
  },
  {
   "cell_type": "code",
   "execution_count": null,
   "metadata": {},
   "outputs": [],
   "source": []
  }
 ],
 "metadata": {
  "kernelspec": {
   "display_name": "Python 3",
   "language": "python",
   "name": "python3"
  },
  "language_info": {
   "codemirror_mode": {
    "name": "ipython",
    "version": 3
   },
   "file_extension": ".py",
   "mimetype": "text/x-python",
   "name": "python",
   "nbconvert_exporter": "python",
   "pygments_lexer": "ipython3",
   "version": "3.6.5"
  }
 },
 "nbformat": 4,
 "nbformat_minor": 2
}
