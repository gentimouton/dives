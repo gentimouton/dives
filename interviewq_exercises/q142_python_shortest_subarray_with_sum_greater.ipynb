{
 "cells": [
  {
   "cell_type": "markdown",
   "metadata": {},
   "source": [
    "# Smallest subarray with a sum greater than X\n",
    "Python Data Structures Arrays\n",
    "\n",
    "Given an array of integers and a number X, can you find the smallest subarray with sum greater than the given value? If there isn't a possible subarray, print \"Not possible\".\n",
    "\n",
    "For example:\n",
    "```\n",
    "arr[] = [1, 4, 45, 6, 0, 19]\n",
    "x  =  51\n",
    "Output: 3\n",
    "# the array is [4, 45, 6]\n",
    "\n",
    "arr[] = [1, 10, 5, 2, 7]\n",
    "x  = 9\n",
    "Output: 1\n",
    "# the array is [10]\n",
    "```"
   ]
  },
  {
   "cell_type": "code",
   "execution_count": 1,
   "metadata": {},
   "outputs": [],
   "source": [
    "def test_find_shortest_subarray_with_sum_greater(f):\n",
    "    assert f([1,4,45,6,0,19], 51) == [4,45,6]\n",
    "    assert f([1,10,5,2,7], 9) == [10]\n",
    "    assert f([1,2], 4) == []\n",
    "    \n",
    "    \n",
    "def find_shortest_subarray_with_sum_greater(arr, n):\n",
    "    \"\"\"\n",
    "    arr: array has positive integers\n",
    "    n: positive integer\n",
    "    \n",
    "    n2 time complexity\n",
    "    - if sum(arr) < n, return []\n",
    "    - otherwise store whole arr as current solution\n",
    "    - enumerate all possible subarrays\n",
    "    - if given subarray has greater sum, and is shorter than current solution, keep it\n",
    "    \"\"\"\n",
    "    \n",
    "    if sum(arr) <= n:\n",
    "        return []\n",
    "    \n",
    "    shortest_subarr = arr\n",
    "    for i in range(len(arr)):\n",
    "        for j in range(len(arr)+1):\n",
    "            a = arr[i:j]\n",
    "            if sum(a) > n and len(a) < len(shortest_subarr):\n",
    "                shortest_subarr = a\n",
    "            \n",
    "    return shortest_subarr\n",
    "\n",
    "\n",
    "test_find_shortest_subarray_with_sum_greater(\n",
    "    find_shortest_subarray_with_sum_greater\n",
    ")"
   ]
  }
 ],
 "metadata": {
  "kernelspec": {
   "display_name": "Python 3",
   "language": "python",
   "name": "python3"
  },
  "language_info": {
   "codemirror_mode": {
    "name": "ipython",
    "version": 3
   },
   "file_extension": ".py",
   "mimetype": "text/x-python",
   "name": "python",
   "nbconvert_exporter": "python",
   "pygments_lexer": "ipython3",
   "version": "3.7.4"
  }
 },
 "nbformat": 4,
 "nbformat_minor": 2
}
