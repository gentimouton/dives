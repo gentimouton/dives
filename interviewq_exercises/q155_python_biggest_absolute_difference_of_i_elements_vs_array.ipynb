{
 "cells": [
  {
   "cell_type": "markdown",
   "metadata": {},
   "source": [
    "# Calculating max distance between array elements in Python\n",
    "Python Data Structures Arrays\n",
    "\n",
    "Suppose you are given an array of length n. Choose i numbers in the array such that the absolute difference between the sum of your numbers and the sum of remaining numbers is as large as possible. Your function should return the max possible distance between the two sets of numbers.\n",
    "\n",
    "For example:\n",
    "```\n",
    "#Given the following:\n",
    "arr[ ] = [2, 4, 3, 1, 10]\n",
    "i = 2\n",
    "\n",
    "Output: 14\n",
    "```\n",
    "\n",
    "Here, we chose #s 1,2 and the sum of the remaining #s (4,3,10) is 17. Therefore, our output is 17 - 3 = 14.\n"
   ]
  },
  {
   "cell_type": "code",
   "execution_count": 1,
   "metadata": {},
   "outputs": [
    {
     "name": "stdout",
     "output_type": "stream",
     "text": [
      "tests passed\n"
     ]
    }
   ],
   "source": [
    "# we're looking for either the smallest i numbers, or the biggest i.\n",
    "# then compare the sum of these i vs the sum of the array without them.\n",
    "\n",
    "def test_find_i_numbers_with_biggest_abs_diff(f):\n",
    "    assert f([1, 2], 1) == 1\n",
    "    assert f([1], 1) == 1\n",
    "    assert f([],0) == 0 # arguable\n",
    "    assert f([2, 4, 3, 1, 10], 2) == 14\n",
    "    assert f([2, 4, 3, 1, 10], 4) == 18\n",
    "    assert f([9, 1, 1, 1, 10], 2) == 18\n",
    "    \n",
    "    print('tests passed')\n",
    "    \n",
    "    \n",
    "def find_i_numbers_with_biggest_abs_diff(arr, i):\n",
    "    \"\"\"\n",
    "    arr: \n",
    "        array of positive integers (can have dupes and zeros)\n",
    "    i: \n",
    "        positive integer (can be zero)\n",
    "    \"\"\"    \n",
    "\n",
    "    arr = sorted(arr)\n",
    "    mins = arr[:i]\n",
    "    maxs = arr[-i:]\n",
    "    sum_all = sum(arr)\n",
    "    sum_mins = sum(mins)\n",
    "    sum_maxs = sum(maxs)\n",
    "    \n",
    "    res = max(\n",
    "        abs(sum_all - 2 * sum_mins),\n",
    "        abs(sum_all - 2 * sum_maxs)\n",
    "    )\n",
    "\n",
    "    return res\n",
    "\n",
    "\n",
    "test_find_i_numbers_with_biggest_abs_diff(find_i_numbers_with_biggest_abs_diff)"
   ]
  },
  {
   "cell_type": "code",
   "execution_count": null,
   "metadata": {},
   "outputs": [],
   "source": []
  }
 ],
 "metadata": {
  "kernelspec": {
   "display_name": "Python 3",
   "language": "python",
   "name": "python3"
  },
  "language_info": {
   "codemirror_mode": {
    "name": "ipython",
    "version": 3
   },
   "file_extension": ".py",
   "mimetype": "text/x-python",
   "name": "python",
   "nbconvert_exporter": "python",
   "pygments_lexer": "ipython3",
   "version": "3.7.4"
  }
 },
 "nbformat": 4,
 "nbformat_minor": 2
}
