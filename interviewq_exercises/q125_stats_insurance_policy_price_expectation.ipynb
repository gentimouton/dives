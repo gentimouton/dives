{
 "cells": [
  {
   "cell_type": "markdown",
   "metadata": {},
   "source": [
    "# Pricing a life insurance product\n",
    "Statistics Probability Theory Expected Value\n",
    "\n",
    "Suppose you're working for a life insurance company that is trying to price a one year policy for a 24-year old male.\n",
    "\n",
    "If the individual has a .99972 probability of surviving the year, and the payout is `$300,000`, what should the company price the policy at if they want to target an expected value of `$150`?\n"
   ]
  },
  {
   "cell_type": "code",
   "execution_count": 1,
   "metadata": {},
   "outputs": [],
   "source": [
    "p = .99972\n",
    "payout = 300000\n",
    "payout_expectation = (1-p)*payout\n",
    "target_ev = 150\n",
    "policy_price = target_ev + payout_expectation\n",
    "\n",
    "print(f'payout_expectation: {round(payout_expectation)}')\n",
    "print(f'policy_price: {round(policy_price)}')\n"
   ]
  },
  {
   "cell_type": "code",
   "execution_count": null,
   "metadata": {},
   "outputs": [],
   "source": []
  }
 ],
 "metadata": {
  "kernelspec": {
   "display_name": "Python 3",
   "language": "python",
   "name": "python3"
  },
  "language_info": {
   "codemirror_mode": {
    "name": "ipython",
    "version": 3
   },
   "file_extension": ".py",
   "mimetype": "text/x-python",
   "name": "python",
   "nbconvert_exporter": "python",
   "pygments_lexer": "ipython3",
   "version": "3.7.4"
  }
 },
 "nbformat": 4,
 "nbformat_minor": 2
}
