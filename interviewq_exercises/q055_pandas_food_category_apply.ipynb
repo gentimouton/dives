{
 "cells": [
  {
   "cell_type": "markdown",
   "metadata": {},
   "source": [
    "# Question 55 - Categorizing foods\n",
    "\n",
    "You are given the following dataframe and are asked to cateogrize each food into 1 of 3 categories: meat, fruit, or other.\n",
    "```\n",
    "    food \tpounds\n",
    "0 \tbacon \t4.0\n",
    "1 \tSTRAWBERRIES \t3.5\n",
    "2 \tBacon \t7.0\n",
    "3 \tSTRAWBERRIES \t3.0\n",
    "4 \tBACON \t6.0\n",
    "5 \tstrawberries \t9.0\n",
    "6 \tStrawberries \t1.0\n",
    "7 \tpecans \t3.0\n",
    "```\n",
    "\n",
    "Can you add a new column containing the foods' categories to this dataframe using python?"
   ]
  },
  {
   "cell_type": "code",
   "execution_count": 1,
   "metadata": {},
   "outputs": [
    {
     "data": {
      "text/html": [
       "<div>\n",
       "<style scoped>\n",
       "    .dataframe tbody tr th:only-of-type {\n",
       "        vertical-align: middle;\n",
       "    }\n",
       "\n",
       "    .dataframe tbody tr th {\n",
       "        vertical-align: top;\n",
       "    }\n",
       "\n",
       "    .dataframe thead th {\n",
       "        text-align: right;\n",
       "    }\n",
       "</style>\n",
       "<table border=\"1\" class=\"dataframe\">\n",
       "  <thead>\n",
       "    <tr style=\"text-align: right;\">\n",
       "      <th></th>\n",
       "      <th>food</th>\n",
       "      <th>pounds</th>\n",
       "      <th>category</th>\n",
       "    </tr>\n",
       "  </thead>\n",
       "  <tbody>\n",
       "    <tr>\n",
       "      <th>0</th>\n",
       "      <td>bacon</td>\n",
       "      <td>1.0</td>\n",
       "      <td>meat</td>\n",
       "    </tr>\n",
       "    <tr>\n",
       "      <th>1</th>\n",
       "      <td>STRAWBERRIES</td>\n",
       "      <td>1.2</td>\n",
       "      <td>fruit</td>\n",
       "    </tr>\n",
       "    <tr>\n",
       "      <th>2</th>\n",
       "      <td>pecans</td>\n",
       "      <td>5.3</td>\n",
       "      <td>fruit</td>\n",
       "    </tr>\n",
       "    <tr>\n",
       "      <th>3</th>\n",
       "      <td>strawberries</td>\n",
       "      <td>4.9</td>\n",
       "      <td>fruit</td>\n",
       "    </tr>\n",
       "  </tbody>\n",
       "</table>\n",
       "</div>"
      ],
      "text/plain": [
       "           food  pounds category\n",
       "0         bacon     1.0     meat\n",
       "1  STRAWBERRIES     1.2    fruit\n",
       "2        pecans     5.3    fruit\n",
       "3  strawberries     4.9    fruit"
      ]
     },
     "execution_count": 1,
     "metadata": {},
     "output_type": "execute_result"
    }
   ],
   "source": [
    "import pandas as pd\n",
    "df = pd.DataFrame({'food':['bacon','STRAWBERRIES','pecans','strawberries'], 'pounds':[1.0,1.2,5.3,4.9]})\n",
    "\n",
    "food_dict = {\n",
    "    'strawberries': 'fruit',\n",
    "    'pecans': 'fruit',\n",
    "    'bacon': 'meat'\n",
    "}\n",
    "        \n",
    "df['category'] = df.apply(lambda row: food_dict.get(row['food'].lower(), 'other'), axis=1)\n",
    "df"
   ]
  },
  {
   "cell_type": "code",
   "execution_count": null,
   "metadata": {},
   "outputs": [],
   "source": []
  }
 ],
 "metadata": {
  "kernelspec": {
   "display_name": "Python 3",
   "language": "python",
   "name": "python3"
  },
  "language_info": {
   "codemirror_mode": {
    "name": "ipython",
    "version": 3
   },
   "file_extension": ".py",
   "mimetype": "text/x-python",
   "name": "python",
   "nbconvert_exporter": "python",
   "pygments_lexer": "ipython3",
   "version": "3.6.5"
  }
 },
 "nbformat": 4,
 "nbformat_minor": 2
}
