{
 "cells": [
  {
   "cell_type": "markdown",
   "metadata": {},
   "source": [
    "# Length of largest contiguous array\n",
    "Python Data Structures Arrays\n",
    "\n",
    "Given an array of distinct integers, write code to find length of the longest subarray which contains numbers that can be arranged in a continuous sequence.\n",
    "\n",
    "For example:\n",
    "```\n",
    "Input:  arr[] = {10, 12, 11};\n",
    "Output: 3\n",
    "\n",
    "Input:  arr[] = {14, 12, 11, 20};\n",
    "Output: 2\n",
    "\n",
    "Input:  arr[] = {1, 10, 23, 11, 13, 14, 15, 12, 98}\n",
    "Output: 5\n",
    "```"
   ]
  },
  {
   "cell_type": "code",
   "execution_count": 1,
   "metadata": {},
   "outputs": [
    {
     "name": "stdout",
     "output_type": "stream",
     "text": [
      "test_is_contiguous_array passed\n"
     ]
    }
   ],
   "source": [
    "def test_is_contiguous_array(f):\n",
    "    assert f([]) == False\n",
    "    assert f([1]) == True\n",
    "    assert f([2,4,3]) == True\n",
    "    assert f([1,3,4,2]) == True\n",
    "    assert f([1,3,5,2,4]) == True\n",
    "    assert f([4,2,1,8]) == False\n",
    "    assert f([1,8,2,4,3]) == False\n",
    "    print('test_is_contiguous_array passed')\n",
    "\n",
    "    \n",
    "def is_contiguous_array(arr):\n",
    "    \"\"\"\n",
    "    Contiguous array: all its numbers can be arranged in a continuous sequence.\n",
    "    Assume all numbers in array are distinct.\n",
    "    Property of a contiguous array: len() = max - min + 1\n",
    "    \"\"\"\n",
    "    if not arr:\n",
    "        return False\n",
    "    else:\n",
    "        return len(arr) == max(arr) - min(arr) + 1\n",
    "\n",
    "\n",
    "test_is_contiguous_array(is_contiguous_array)\n"
   ]
  },
  {
   "cell_type": "code",
   "execution_count": 2,
   "metadata": {},
   "outputs": [
    {
     "name": "stdout",
     "output_type": "stream",
     "text": [
      "test_find_longest_contiguous_subarray passed\n"
     ]
    }
   ],
   "source": [
    "\n",
    "def test_find_longest_contiguous_subarray(f):\n",
    "    assert f([]) == []\n",
    "    assert f([1]) == [1]\n",
    "    assert f([2,4,3]) == [2,4,3]\n",
    "    assert f([1,3,4,2]) == [1,3,4,2]\n",
    "    assert f([1,3,5,2,4]) == [1,3,5,2,4]\n",
    "    assert f([4,2,1,8]) == [2,1]\n",
    "    assert f([1,8,2,4,3]) == [2,4,3]\n",
    "    assert f([1,2,6,5]) == [1,2]\n",
    "    print('test_find_longest_contiguous_subarray passed')\n",
    "    \n",
    "    \n",
    "def find_longest_contiguous_subarray(arr):\n",
    "    \"\"\"\n",
    "    Algorithm:\n",
    "    - enumerate all subarrays: n2\n",
    "    - find subarray len, min, and max: n\n",
    "    Assume arr has unique integers, no duplicates. \n",
    "    \n",
    "    [2,4,3]     -> [2,4,3]\n",
    "    [1,3,4,2]   -> [1,3,4,2]\n",
    "    [1,3,5,2,4] -> [1,3,5,2,4]\n",
    "    [4,2,1,8]   -> [2,1]\n",
    "    [1,8,2,4,3] -> [2,4,3]\n",
    "    [1,2,6,5]   -> [1,2]         # return first one found\n",
    "    \"\"\"\n",
    "    longest_subarr = [arr[0]] if arr else []\n",
    "    for i in range(len(arr)):\n",
    "        for j in range(i,len(arr)):\n",
    "            subarray = arr[i:j+1] # subarray of at least length 2\n",
    "            if is_contiguous_array(subarray):\n",
    "                if len(subarray) > len(longest_subarr):\n",
    "                    longest_subarr = subarray\n",
    "    return longest_subarr\n",
    "\n",
    "\n",
    "test_find_longest_contiguous_subarray(find_longest_contiguous_subarray)"
   ]
  },
  {
   "cell_type": "code",
   "execution_count": null,
   "metadata": {},
   "outputs": [],
   "source": []
  }
 ],
 "metadata": {
  "kernelspec": {
   "display_name": "Python 3",
   "language": "python",
   "name": "python3"
  },
  "language_info": {
   "codemirror_mode": {
    "name": "ipython",
    "version": 3
   },
   "file_extension": ".py",
   "mimetype": "text/x-python",
   "name": "python",
   "nbconvert_exporter": "python",
   "pygments_lexer": "ipython3",
   "version": "3.7.4"
  }
 },
 "nbformat": 4,
 "nbformat_minor": 2
}
