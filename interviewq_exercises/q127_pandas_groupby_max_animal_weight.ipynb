{
 "cells": [
  {
   "cell_type": "markdown",
   "metadata": {},
   "source": [
    "# Animal classification with python\n",
    "Data Analysis Python Pandas Data Manipulation\n",
    "\n",
    "Given the following dataframe, write code to list the size of the each animal with the highest weight.\n",
    "```\n",
    "\tadult \tanimal \tsize \tweight\n",
    "0 \tFalse \tcat \tM \t8\n",
    "1 \tTrue \tdog \tM \t10\n",
    "2 \tFalse \tcat \tM \t11\n",
    "3 \tFalse \tfish \tS \t1\n",
    "4 \tTrue \tdog \tL \t20\n",
    "5 \tTrue \tcat \tM \t12\n",
    "6 \tTrue \tcat \tM \t12\n",
    "```\n",
    "\n",
    "Format of output should be:\n",
    "```\n",
    "Animal | Size\n",
    "____________\n",
    "\n",
    "Cat | ?\n",
    "\n",
    "Dog | ?\n",
    "\n",
    "Fish | ?\n",
    "```\n",
    "\n",
    "Solution will be written in python for premium users."
   ]
  },
  {
   "cell_type": "code",
   "execution_count": 1,
   "metadata": {},
   "outputs": [
    {
     "data": {
      "text/html": [
       "<div>\n",
       "<style scoped>\n",
       "    .dataframe tbody tr th:only-of-type {\n",
       "        vertical-align: middle;\n",
       "    }\n",
       "\n",
       "    .dataframe tbody tr th {\n",
       "        vertical-align: top;\n",
       "    }\n",
       "\n",
       "    .dataframe thead th {\n",
       "        text-align: right;\n",
       "    }\n",
       "</style>\n",
       "<table border=\"1\" class=\"dataframe\">\n",
       "  <thead>\n",
       "    <tr style=\"text-align: right;\">\n",
       "      <th></th>\n",
       "      <th>weight</th>\n",
       "    </tr>\n",
       "    <tr>\n",
       "      <th>animal</th>\n",
       "      <th></th>\n",
       "    </tr>\n",
       "  </thead>\n",
       "  <tbody>\n",
       "    <tr>\n",
       "      <td>cat</td>\n",
       "      <td>234</td>\n",
       "    </tr>\n",
       "    <tr>\n",
       "      <td>dog</td>\n",
       "      <td>567</td>\n",
       "    </tr>\n",
       "    <tr>\n",
       "      <td>fish</td>\n",
       "      <td>789</td>\n",
       "    </tr>\n",
       "  </tbody>\n",
       "</table>\n",
       "</div>"
      ],
      "text/plain": [
       "        weight\n",
       "animal        \n",
       "cat        234\n",
       "dog        567\n",
       "fish       789"
      ]
     },
     "execution_count": 1,
     "metadata": {},
     "output_type": "execute_result"
    }
   ],
   "source": [
    "import pandas as pd\n",
    "import numpy as np\n",
    "\n",
    "df = pd.DataFrame({\n",
    "    'animal':['cat','dog','fish','cat','dog'], \n",
    "    'weight':[123,456,789,234,567]\n",
    "})\n",
    "\n",
    "df.groupby('animal').agg({'weight':max})"
   ]
  },
  {
   "cell_type": "code",
   "execution_count": null,
   "metadata": {},
   "outputs": [],
   "source": []
  }
 ],
 "metadata": {
  "kernelspec": {
   "display_name": "Python 3",
   "language": "python",
   "name": "python3"
  },
  "language_info": {
   "codemirror_mode": {
    "name": "ipython",
    "version": 3
   },
   "file_extension": ".py",
   "mimetype": "text/x-python",
   "name": "python",
   "nbconvert_exporter": "python",
   "pygments_lexer": "ipython3",
   "version": "3.7.4"
  }
 },
 "nbformat": 4,
 "nbformat_minor": 2
}
