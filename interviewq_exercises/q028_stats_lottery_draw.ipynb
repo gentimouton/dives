{
 "cells": [
  {
   "cell_type": "markdown",
   "metadata": {},
   "source": [
    "# Question 28 - Winning the lottery!\n",
    "\n",
    "Suppose you're trying to figure out your chances of winning the lottery. \n",
    "The specific lottery you're interested in has 49 balls,\n",
    "each showing a single number. \n",
    "To win the jackpot you need to match 6 balls to win (note that order does not matter).\n",
    "\n",
    "What is the probability that you can win the jackpot, given you buy 1 ticket?\n",
    "\n",
    "What if you buy 3 lottery tickets?"
   ]
  },
  {
   "cell_type": "markdown",
   "metadata": {},
   "source": [
    "There are 49! / 6! 43! = 14M possible ways to pick without replacement and in any order 6 balls out of 49.\n",
    "\n",
    "The probability to win, with a single ticket, is 1/14M = 7.14e-8.\n",
    "\n",
    "The probability to lose with 3 tickets is (1 - 1/(49! / 6! 43!) )^3.\n",
    "Winning is 1 minus this, ie 2.15e-7."
   ]
  },
  {
   "cell_type": "code",
   "execution_count": null,
   "metadata": {},
   "outputs": [],
   "source": []
  }
 ],
 "metadata": {
  "kernelspec": {
   "display_name": "Python 3",
   "language": "python",
   "name": "python3"
  },
  "language_info": {
   "codemirror_mode": {
    "name": "ipython",
    "version": 3
   },
   "file_extension": ".py",
   "mimetype": "text/x-python",
   "name": "python",
   "nbconvert_exporter": "python",
   "pygments_lexer": "ipython3",
   "version": "3.6.5"
  }
 },
 "nbformat": 4,
 "nbformat_minor": 2
}
