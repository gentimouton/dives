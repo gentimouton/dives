{
 "cells": [
  {
   "cell_type": "markdown",
   "metadata": {},
   "source": [
    "# Question 25 - Application feedback\n",
    "\n",
    "Your team at Apple released a new feature that collects feedback \n",
    "when an app launches. As part of the Alpha Launch for testing, the \n",
    "feedback consists of 1 question within a dialog box that asks \n",
    "\"Would you like to give {App Name} your credit card number?\",\n",
    "with potential answers being \"Yes\" and \"No\".\n",
    "\n",
    "This data is logged within a table named 'dialogbox_feedback' \n",
    "with the following schema:\n",
    "\n",
    "Table: dialogbox_feedback\n",
    "\n",
    "|Column Name |Data Type |Description|\n",
    "|---|---|---|\n",
    "|time |integer |epoch time of response|\n",
    "|user_id |integer |unique id of user|\n",
    "|app_id |integer |unique id of application|\n",
    "|app_name |string |name of application|\n",
    "|event |string |\"impressed\" when dialog box seen, \"click_yes\" when yes button clicked. No logging when user clicks \"No\".|\n",
    "\n",
    "\n",
    "Question: A Product Manager asked you to give an update on how the Alpha Launch \n",
    "is going. You decide to aggregate (e.g. pivot) the events by each app to \n",
    "provide a quick summary. Write the aggregation using Python (Pandas)."
   ]
  },
  {
   "cell_type": "code",
   "execution_count": 7,
   "metadata": {},
   "outputs": [
    {
     "data": {
      "text/html": [
       "<div>\n",
       "<style scoped>\n",
       "    .dataframe tbody tr th:only-of-type {\n",
       "        vertical-align: middle;\n",
       "    }\n",
       "\n",
       "    .dataframe tbody tr th {\n",
       "        vertical-align: top;\n",
       "    }\n",
       "\n",
       "    .dataframe thead th {\n",
       "        text-align: right;\n",
       "    }\n",
       "</style>\n",
       "<table border=\"1\" class=\"dataframe\">\n",
       "  <thead>\n",
       "    <tr style=\"text-align: right;\">\n",
       "      <th></th>\n",
       "      <th></th>\n",
       "      <th>uniques</th>\n",
       "    </tr>\n",
       "    <tr>\n",
       "      <th>app_id</th>\n",
       "      <th>event</th>\n",
       "      <th></th>\n",
       "    </tr>\n",
       "  </thead>\n",
       "  <tbody>\n",
       "    <tr>\n",
       "      <th rowspan=\"2\" valign=\"top\">1</th>\n",
       "      <th>click_yes</th>\n",
       "      <td>1</td>\n",
       "    </tr>\n",
       "    <tr>\n",
       "      <th>impressed</th>\n",
       "      <td>1</td>\n",
       "    </tr>\n",
       "    <tr>\n",
       "      <th>2</th>\n",
       "      <th>impressed</th>\n",
       "      <td>1</td>\n",
       "    </tr>\n",
       "  </tbody>\n",
       "</table>\n",
       "</div>"
      ],
      "text/plain": [
       "                  uniques\n",
       "app_id event             \n",
       "1      click_yes        1\n",
       "       impressed        1\n",
       "2      impressed        1"
      ]
     },
     "execution_count": 7,
     "metadata": {},
     "output_type": "execute_result"
    }
   ],
   "source": [
    "import pandas as pd\n",
    "\n",
    "df = pd.DataFrame({\n",
    "    \"time\": [1555548916, 1555556916, 1555558916], \n",
    "    \"user_id\": [132456,456789,789123],\n",
    "    \"app_id\": [1,1,2],\n",
    "    \"event\": ['impressed','click_yes','impressed']\n",
    "})\n",
    "\n",
    "df.groupby(['app_id','event']).agg({'user_id':'nunique'}).rename({'user_id':'uniques'}, axis='columns')"
   ]
  },
  {
   "cell_type": "code",
   "execution_count": null,
   "metadata": {},
   "outputs": [],
   "source": []
  }
 ],
 "metadata": {
  "kernelspec": {
   "display_name": "Python 3",
   "language": "python",
   "name": "python3"
  },
  "language_info": {
   "codemirror_mode": {
    "name": "ipython",
    "version": 3
   },
   "file_extension": ".py",
   "mimetype": "text/x-python",
   "name": "python",
   "nbconvert_exporter": "python",
   "pygments_lexer": "ipython3",
   "version": "3.6.5"
  }
 },
 "nbformat": 4,
 "nbformat_minor": 2
}
