{
 "cells": [
  {
   "cell_type": "markdown",
   "metadata": {},
   "source": [
    "# Question 64 - Reddit posts and comments\n",
    "\n",
    "Suppose you're working for Reddit as an analyst. Reddit is trying to optimize its server allocation per subreddit, and you've been tasked with figuring out how much comment activity happens once a post is published.\n",
    "\n",
    "Use your intuition to select a timeframe to query the data as well as how you would want to present this information to the partnering team. The solution will be a SQL query with assumptions that you would need to state if this was asked in an interview. You have the following tables:\n",
    "\n",
    "```\n",
    "Table: posts\n",
    "Column Name \tData Type \tDescription\n",
    "id \tinteger \tid of the post\n",
    "publisher_id \tinteger \tid the user posting\n",
    "score \tinteger \tscore of the post\n",
    "time \tinteger \tpost publish time in unixtime\n",
    "title \tstring \ttitle of the post\n",
    "deleted \tboolean \tis the post deleted?\n",
    "dead \tboolean \tis the post active?\n",
    "subreddit_id \tinteger \tid of the subreddit\n",
    "\n",
    "Table: comments\n",
    "Column Name \tData Type \tDescription\n",
    "id \tinteger \tid of the comment\n",
    "author_id \tinteger \tid of the commenter\n",
    "post_id \tinteger \tid of the post the comment is nested under\n",
    "parent_comment \tinteger \tid of parent comment that comment is nested under\n",
    "deleted \tinteger \tis comment deleted?\n",
    "```\n",
    "\n",
    "Given the above, write a SQL query to highlight comment activity by subreddit. This problem is intended to test how you can think through vague/open-ended questions. "
   ]
  },
  {
   "cell_type": "markdown",
   "metadata": {},
   "source": [
    "step 1: add a timestamp to both tables:\n",
    "```sql\n",
    "select \n",
    "  *,\n",
    "  timestamp 'epoch' + p.\"time\" * interval '1 second' as ts\n",
    "from posts p\n",
    "```\n",
    "\n"
   ]
  },
  {
   "cell_type": "markdown",
   "metadata": {},
   "source": [
    "step 2: plot various metrics against post age, by subreddit\n",
    "\n",
    "```sql\n",
    "\n",
    "select\n",
    "  subreddit_id,\n",
    "  datediff('hours', pow(floor(log(val)), 10))) as hours_since_post,\n",
    "  count(*) as comments,\n",
    "  count(distinct c.author_id) as commenters,\n",
    "  sum(case when parent_comment is not null then 1 else 0 end)::float / sum(1) as pct_comments_nested\n",
    "from posts p\n",
    "join comments c\n",
    "  on c.post_id = p.post_id\n",
    "  and datediff('hours', p.\"ts\", c.\"time\") < 24*7*2 -- comments within 2 weeks after OP\n",
    "where p.ts between '2019-06-01' and '2019-07-01'\n",
    "  and c.ts between '2019-06-01' and '2019-07-01'::timestamp + interval '2 weeks'\n",
    "  and p.deleted = False\n",
    "  and p.dead = False\n",
    "group by 1,2\n",
    "order by 1,2\n",
    "```"
   ]
  },
  {
   "cell_type": "code",
   "execution_count": null,
   "metadata": {},
   "outputs": [],
   "source": []
  }
 ],
 "metadata": {
  "kernelspec": {
   "display_name": "Python 3",
   "language": "python",
   "name": "python3"
  },
  "language_info": {
   "codemirror_mode": {
    "name": "ipython",
    "version": 3
   },
   "file_extension": ".py",
   "mimetype": "text/x-python",
   "name": "python",
   "nbconvert_exporter": "python",
   "pygments_lexer": "ipython3",
   "version": "3.6.5"
  }
 },
 "nbformat": 4,
 "nbformat_minor": 2
}
