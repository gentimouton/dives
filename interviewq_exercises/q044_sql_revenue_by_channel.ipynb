{
 "cells": [
  {
   "cell_type": "markdown",
   "metadata": {},
   "source": [
    "# Question 44 - Joining to get total sales, a SQL problem\n",
    "\n",
    "Suppose you work for a retail company that has a database containing two tables, one called 'orders', and one called 'revenue', as shown below:\n",
    "\n",
    "Orders:\n",
    "```\n",
    "\torder_id \tchannel \tdate \tmonth\n",
    "0 \t1 \tOnline \t2018-09-01 \tSeptember\n",
    "1 \t2 \tOnline \t2018-09-03 \tSeptember\n",
    "2 \t3 \tIn_store \t2018-10-11 \tOctober\n",
    "3 \t4 \tIn_store \t2018-08-21 \tAugust\n",
    "4 \t5 \tOnline \t2018-08-13 \tAugust\n",
    "5 \t6 \tOnline \t2018-10-29 \tOctober\n",
    "```\n",
    "Revenue:\n",
    "```\n",
    "\torder_id \trevenue\n",
    "0 \t1 \t100\n",
    "1 \t2 \t125\n",
    "2 \t3 \t200\n",
    "3 \t4 \t80\n",
    "4 \t5 \t200\n",
    "5 \t6 \t100\n",
    "```\n",
    "\n",
    "Using SQL, write a query to show the total revenue by channel for the months of September and October. Additionally, try to think of the most efficient way to run this query."
   ]
  },
  {
   "cell_type": "markdown",
   "metadata": {},
   "source": [
    "```sql\n",
    "select\n",
    "    channel,\n",
    "    sum(revenue) as rev\n",
    "from orders o\n",
    "join revenue r\n",
    "  on r.order_id = o.order_id\n",
    "where o.month in ('September','October')\n",
    "group by 1\n",
    "```"
   ]
  },
  {
   "cell_type": "code",
   "execution_count": null,
   "metadata": {},
   "outputs": [],
   "source": []
  }
 ],
 "metadata": {
  "kernelspec": {
   "display_name": "Python 3",
   "language": "python",
   "name": "python3"
  },
  "language_info": {
   "codemirror_mode": {
    "name": "ipython",
    "version": 3
   },
   "file_extension": ".py",
   "mimetype": "text/x-python",
   "name": "python",
   "nbconvert_exporter": "python",
   "pygments_lexer": "ipython3",
   "version": "3.6.5"
  }
 },
 "nbformat": 4,
 "nbformat_minor": 2
}
