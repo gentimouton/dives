{
 "cells": [
  {
   "cell_type": "markdown",
   "metadata": {},
   "source": [
    "# Question 120 - Student GPA\n",
    "SQL Database Querying\n",
    "\n",
    "Provided the following tables, write a SQL query to pull the average GPA (grade_point in table) by subject for completed classes.\n",
    "\n",
    "```\n",
    "Table 1: student_classes\n",
    "Column Name \tData Type \tDescription\n",
    "student_id \tinteger \tid of the student\n",
    "class_id \tinteger \twill be a value between 0-12, which corresponds\n",
    "subject \tstring \tsubject the class falls into\n",
    "class_name \tstring \tname of the class\n",
    "complete \tboolean \tindicates if student has completed class\n",
    "\n",
    "Table 2: student_grades\n",
    "Column Name \tData Type \tDescription\n",
    "student_id \tinteger \tid of the student\n",
    "class_id \tinteger \tid of class student is enrolled in\n",
    "grade_point \tinteger \tgrade point achieved, between 0.0 - 4.0 with one decimal increments\n",
    "```"
   ]
  },
  {
   "cell_type": "markdown",
   "metadata": {},
   "source": [
    "```sql\n",
    "\n",
    "select\n",
    "  subject,\n",
    "  avg(grade_point::float) as avg_gpa\n",
    "from student_classes c\n",
    "join student_grades g\n",
    "  on g.student_id = c.student_id\n",
    "  and g.class_id = c.class_id\n",
    "where completed=True\n",
    "group by 1\n",
    "order by 2 desc\n",
    "```"
   ]
  },
  {
   "cell_type": "code",
   "execution_count": null,
   "metadata": {},
   "outputs": [],
   "source": []
  }
 ],
 "metadata": {
  "kernelspec": {
   "display_name": "Python 3",
   "language": "python",
   "name": "python3"
  },
  "language_info": {
   "codemirror_mode": {
    "name": "ipython",
    "version": 3
   },
   "file_extension": ".py",
   "mimetype": "text/x-python",
   "name": "python",
   "nbconvert_exporter": "python",
   "pygments_lexer": "ipython3",
   "version": "3.7.4"
  }
 },
 "nbformat": 4,
 "nbformat_minor": 2
}
