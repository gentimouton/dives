{
 "cells": [
  {
   "cell_type": "markdown",
   "metadata": {},
   "source": [
    "# Question 73 - Testing the toxicity of water\n",
    "\n",
    "Suppose you're trying to measure the Selenium toxicity in your tap water, and obtain the following values for each day:\n",
    "\n",
    "```\n",
    "day \tselenium\n",
    "1 \t0.051\n",
    "2 \t0.0505\n",
    "3 \t0.049\n",
    "4 \t0.0516\n",
    "5 \t0.052\n",
    "6 \t0.0508\n",
    "7 \t0.0506\n",
    "```\n",
    "\n",
    "The maxiumum level for safe drinking water is 0.05 mg/L -- using this as your alpha, does the selenium tap level exceed the legal limit? Hint: you can use a t-test here \n"
   ]
  },
  {
   "cell_type": "markdown",
   "metadata": {},
   "source": [
    "TLDR: Do not drink the water! \n",
    "It's above the safety limit 6 out of 7 days, regardless of significance.\n",
    "\n",
    "Now, safety and legality are two different things. \n",
    "Is the water selenium concentration significantly above the legal threshold of .05mg/L?\n"
   ]
  },
  {
   "cell_type": "code",
   "execution_count": 5,
   "metadata": {},
   "outputs": [
    {
     "name": "stdout",
     "output_type": "stream",
     "text": [
      "delta: 0.0007857142857142854 mg/L; pvalue: 0.07271011867964246\n"
     ]
    }
   ],
   "source": [
    "from scipy.stats import ttest_1samp\n",
    "import numpy as np\n",
    "\n",
    "sample = [.051, .0505, .049, .0516, .052, .0508, .0506]\n",
    "threshold = .05\n",
    "tvalue, pvalue = ttest_1samp(sample, threshold)\n",
    "print('delta:', np.mean(sample)-threshold, 'mg/L; pvalue:', pvalue)"
   ]
  },
  {
   "cell_type": "markdown",
   "metadata": {},
   "source": [
    "p-value is <.1 which is suggestive (but not certain) that the concentration is above threshold."
   ]
  },
  {
   "cell_type": "code",
   "execution_count": null,
   "metadata": {},
   "outputs": [],
   "source": []
  }
 ],
 "metadata": {
  "kernelspec": {
   "display_name": "Python 3",
   "language": "python",
   "name": "python3"
  },
  "language_info": {
   "codemirror_mode": {
    "name": "ipython",
    "version": 3
   },
   "file_extension": ".py",
   "mimetype": "text/x-python",
   "name": "python",
   "nbconvert_exporter": "python",
   "pygments_lexer": "ipython3",
   "version": "3.6.5"
  }
 },
 "nbformat": 4,
 "nbformat_minor": 2
}
