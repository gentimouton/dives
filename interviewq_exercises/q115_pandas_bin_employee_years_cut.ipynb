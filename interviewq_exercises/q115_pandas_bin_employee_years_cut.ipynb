{
 "cells": [
  {
   "cell_type": "markdown",
   "metadata": {},
   "source": [
    "# Question 115 - Binning employee experience levels in Python (Pandas)\n",
    "Data Analysis Python Pandas Numpy Logical Where Operator\n",
    "\n",
    "Below is a snippet from a table that contains information about employees that work at Company XYZ:\n",
    "\n",
    "```\n",
    "employee_name \temployee_id \tdate_joined \tage \tyrs_of_experience\n",
    "Andy \t123456 \t2015-02-15 \t45 \t24\n",
    "Beth \t789456 \t2014-02-15 \t36 \t15\n",
    "Cindy \t654123 \t2017-05-16 \t34 \t14\n",
    "Dale \t963852 \t2018-01-15 \t25 \t4\n",
    "```\n",
    "\n",
    "Company XYZ is looking to create a report that groups the years of experience of its employees into 3 simple categories, with the following bins (inclusive):\n",
    "```\n",
    "    0-5 Low\n",
    "    6-15 Medium\n",
    "    16+ High\n",
    "```\n",
    "Additionally, you can assume the data is clean and there are no employees with negative or non-numerical years of experience.\n",
    "\n",
    "Write code in Python (using Pandas) to create a new column in the dataframe, called 'experience_binned', that groups employees as requested above."
   ]
  },
  {
   "cell_type": "code",
   "execution_count": 1,
   "metadata": {},
   "outputs": [
    {
     "data": {
      "text/html": [
       "<div>\n",
       "<style scoped>\n",
       "    .dataframe tbody tr th:only-of-type {\n",
       "        vertical-align: middle;\n",
       "    }\n",
       "\n",
       "    .dataframe tbody tr th {\n",
       "        vertical-align: top;\n",
       "    }\n",
       "\n",
       "    .dataframe thead th {\n",
       "        text-align: right;\n",
       "    }\n",
       "</style>\n",
       "<table border=\"1\" class=\"dataframe\">\n",
       "  <thead>\n",
       "    <tr style=\"text-align: right;\">\n",
       "      <th></th>\n",
       "      <th>name</th>\n",
       "      <th>id</th>\n",
       "      <th>date</th>\n",
       "      <th>age</th>\n",
       "      <th>exp</th>\n",
       "      <th>exp_binned</th>\n",
       "    </tr>\n",
       "  </thead>\n",
       "  <tbody>\n",
       "    <tr>\n",
       "      <td>0</td>\n",
       "      <td>Andy</td>\n",
       "      <td>123</td>\n",
       "      <td>2015-02-15</td>\n",
       "      <td>45</td>\n",
       "      <td>24</td>\n",
       "      <td>High</td>\n",
       "    </tr>\n",
       "    <tr>\n",
       "      <td>1</td>\n",
       "      <td>Beth</td>\n",
       "      <td>456</td>\n",
       "      <td>2014-02-15</td>\n",
       "      <td>36</td>\n",
       "      <td>15</td>\n",
       "      <td>Medium</td>\n",
       "    </tr>\n",
       "    <tr>\n",
       "      <td>2</td>\n",
       "      <td>Cindy</td>\n",
       "      <td>789</td>\n",
       "      <td>2017-05-16</td>\n",
       "      <td>34</td>\n",
       "      <td>14</td>\n",
       "      <td>Medium</td>\n",
       "    </tr>\n",
       "    <tr>\n",
       "      <td>3</td>\n",
       "      <td>Dale</td>\n",
       "      <td>147</td>\n",
       "      <td>2018-01-15</td>\n",
       "      <td>25</td>\n",
       "      <td>4</td>\n",
       "      <td>Low</td>\n",
       "    </tr>\n",
       "  </tbody>\n",
       "</table>\n",
       "</div>"
      ],
      "text/plain": [
       "    name   id        date  age  exp exp_binned\n",
       "0   Andy  123  2015-02-15   45   24       High\n",
       "1   Beth  456  2014-02-15   36   15     Medium\n",
       "2  Cindy  789  2017-05-16   34   14     Medium\n",
       "3   Dale  147  2018-01-15   25    4        Low"
      ]
     },
     "execution_count": 1,
     "metadata": {},
     "output_type": "execute_result"
    }
   ],
   "source": [
    "import pandas as pd\n",
    "from io import StringIO \n",
    "\n",
    "s = \"\"\"name,id,date,age,exp\n",
    "Andy,123,2015-02-15,45,24\n",
    "Beth,456,2014-02-15,36,15\n",
    "Cindy,789,2017-05-16,34,14\n",
    "Dale,147,2018-01-15,25,4\n",
    "\"\"\"\n",
    "df = pd.read_csv(StringIO(s))\n",
    "df['exp_binned'] = pd.cut(df['exp'],[0,6,16,1000], labels=['Low','Medium','High'])\n",
    "df.head()"
   ]
  },
  {
   "cell_type": "code",
   "execution_count": null,
   "metadata": {},
   "outputs": [],
   "source": []
  }
 ],
 "metadata": {
  "kernelspec": {
   "display_name": "Python 3",
   "language": "python",
   "name": "python3"
  },
  "language_info": {
   "codemirror_mode": {
    "name": "ipython",
    "version": 3
   },
   "file_extension": ".py",
   "mimetype": "text/x-python",
   "name": "python",
   "nbconvert_exporter": "python",
   "pygments_lexer": "ipython3",
   "version": "3.7.4"
  }
 },
 "nbformat": 4,
 "nbformat_minor": 2
}
