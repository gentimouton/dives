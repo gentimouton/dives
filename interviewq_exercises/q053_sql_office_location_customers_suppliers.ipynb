{
 "cells": [
  {
   "cell_type": "markdown",
   "metadata": {},
   "source": [
    "# Question 53 - Planning for a new office location, using SQL\n",
    "\n",
    "Suppose you work for a retail company and have access to two tables:\n",
    "\n",
    "```\n",
    "Customers:\n",
    "customer_id \tcity\n",
    "0 \tNew York\n",
    "1 \tNew York\n",
    "2 \tLos Angeles\n",
    "3 \tJacksonville\n",
    "\n",
    "Suppliers:\n",
    "supplier_id \tcity\n",
    "0 \tOmaha\n",
    "1 \tNew York\n",
    "2 \tSan Francisco\n",
    "3 \tLos Angeles\n",
    "```\n",
    "\n",
    "You've been tasked to find which cities have a strong overlap with both customers and suppliers, as your company explores opening an additional office. Using SQL, write a query to stack rank the frequency of the cities shown across both databases.\n",
    "\n",
    "Your query should return the following elements:\n",
    "\n",
    "    City\n",
    "    # of times city appeared across both tables\n"
   ]
  },
  {
   "cell_type": "markdown",
   "metadata": {},
   "source": [
    "```sql\n",
    "with customers as (\n",
    "select city, count(*) as customers\n",
    "from customers c\n",
    "group by 1\n",
    ")\n",
    ", suppliers as (\n",
    "select city, count(*) as suppliers\n",
    "from suppliers s\n",
    "group by 1\n",
    ")\n",
    "select\n",
    "  s.city,\n",
    "  least(customers,suppliers) as occurrences\n",
    "from suppliers s\n",
    "join customers c\n",
    "  on c.city = s.city\n",
    "order by 2 desc\n",
    "```"
   ]
  },
  {
   "cell_type": "code",
   "execution_count": null,
   "metadata": {},
   "outputs": [],
   "source": []
  }
 ],
 "metadata": {
  "kernelspec": {
   "display_name": "Python 3",
   "language": "python",
   "name": "python3"
  },
  "language_info": {
   "codemirror_mode": {
    "name": "ipython",
    "version": 3
   },
   "file_extension": ".py",
   "mimetype": "text/x-python",
   "name": "python",
   "nbconvert_exporter": "python",
   "pygments_lexer": "ipython3",
   "version": "3.6.5"
  }
 },
 "nbformat": 4,
 "nbformat_minor": 2
}
