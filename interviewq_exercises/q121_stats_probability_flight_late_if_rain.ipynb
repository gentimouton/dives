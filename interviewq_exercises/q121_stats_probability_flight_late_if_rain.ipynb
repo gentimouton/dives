{
 "cells": [
  {
   "cell_type": "markdown",
   "metadata": {},
   "source": [
    "# Question 121 - Rainy flights\n",
    "Statistics Probability Theory Conditional Probability\n",
    "\n",
    "Suppose you're working for an airport, and they hire you to estimate various statitics related to the weather's impact on flight arrival time. You are given the following probabilities:\n",
    "```\n",
    "    P(late, no rain) = 2/20\n",
    "    P(late, rain) = 3/20\n",
    "    P(on time, no rain) = 14/20\n",
    "    P(on time, rain) = 1/20\n",
    "```\n",
    "Given the above, determine the probability a flight will be late if it rains."
   ]
  },
  {
   "cell_type": "markdown",
   "metadata": {},
   "source": [
    "```\n",
    "p(late | rain) \n",
    "  = p(late, rain) / ( p(late, rain) + p(on time, rain) )\n",
    "  = 3 / 4\n",
    "```"
   ]
  }
 ],
 "metadata": {
  "kernelspec": {
   "display_name": "Python 3",
   "language": "python",
   "name": "python3"
  },
  "language_info": {
   "codemirror_mode": {
    "name": "ipython",
    "version": 3
   },
   "file_extension": ".py",
   "mimetype": "text/x-python",
   "name": "python",
   "nbconvert_exporter": "python",
   "pygments_lexer": "ipython3",
   "version": "3.7.4"
  }
 },
 "nbformat": 4,
 "nbformat_minor": 2
}
