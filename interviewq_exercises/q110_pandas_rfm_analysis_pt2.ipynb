{
 "cells": [
  {
   "cell_type": "markdown",
   "metadata": {},
   "source": [
    "# Question 110 - Customer frequency -- a multi-question problem\n",
    "Data Analysis Python Pandas Data Manipulation Data Visualization Histogram External Dataset\n",
    "\n",
    "Given the following [dataset](https://drive.google.com/file/d/1vvnaJ9KErXx2zI47IBytR_tHGijtJBE6/view), \n",
    "classify customer value based on order frequency. You can assign them a score of 1-3, with 1 being least valuable and 3 being most valuable For example, a customer who has made 10 purchases is more valuable than one that has made 2 purchases across the same time period.\n",
    "\n",
    "For more information regarding customer lifetime value you can read [this post](https://www.shopify.com/blog/customer-lifetime-value).\n",
    "\n",
    "The solution will be written in Python for premium users. Note that this question is a part of a series of questions that will build off of each other.\n",
    "\n",
    "See also question 107."
   ]
  },
  {
   "cell_type": "code",
   "execution_count": 1,
   "metadata": {},
   "outputs": [
    {
     "data": {
      "text/html": [
       "<div>\n",
       "<style scoped>\n",
       "    .dataframe tbody tr th:only-of-type {\n",
       "        vertical-align: middle;\n",
       "    }\n",
       "\n",
       "    .dataframe tbody tr th {\n",
       "        vertical-align: top;\n",
       "    }\n",
       "\n",
       "    .dataframe thead th {\n",
       "        text-align: right;\n",
       "    }\n",
       "</style>\n",
       "<table border=\"1\" class=\"dataframe\">\n",
       "  <thead>\n",
       "    <tr style=\"text-align: right;\">\n",
       "      <th></th>\n",
       "      <th>InvoiceNo</th>\n",
       "      <th>StockCode</th>\n",
       "      <th>Description</th>\n",
       "      <th>Quantity</th>\n",
       "      <th>InvoiceDate</th>\n",
       "      <th>UnitPrice</th>\n",
       "      <th>CustomerID</th>\n",
       "      <th>Country</th>\n",
       "    </tr>\n",
       "  </thead>\n",
       "  <tbody>\n",
       "    <tr>\n",
       "      <td>0</td>\n",
       "      <td>536365</td>\n",
       "      <td>85123A</td>\n",
       "      <td>WHITE HANGING HEART T-LIGHT HOLDER</td>\n",
       "      <td>6</td>\n",
       "      <td>2010-12-01 08:26:00</td>\n",
       "      <td>2.55</td>\n",
       "      <td>17850.0</td>\n",
       "      <td>United Kingdom</td>\n",
       "    </tr>\n",
       "    <tr>\n",
       "      <td>1</td>\n",
       "      <td>536365</td>\n",
       "      <td>71053</td>\n",
       "      <td>WHITE METAL LANTERN</td>\n",
       "      <td>6</td>\n",
       "      <td>2010-12-01 08:26:00</td>\n",
       "      <td>3.39</td>\n",
       "      <td>17850.0</td>\n",
       "      <td>United Kingdom</td>\n",
       "    </tr>\n",
       "    <tr>\n",
       "      <td>2</td>\n",
       "      <td>536365</td>\n",
       "      <td>84406B</td>\n",
       "      <td>CREAM CUPID HEARTS COAT HANGER</td>\n",
       "      <td>8</td>\n",
       "      <td>2010-12-01 08:26:00</td>\n",
       "      <td>2.75</td>\n",
       "      <td>17850.0</td>\n",
       "      <td>United Kingdom</td>\n",
       "    </tr>\n",
       "    <tr>\n",
       "      <td>3</td>\n",
       "      <td>536365</td>\n",
       "      <td>84029G</td>\n",
       "      <td>KNITTED UNION FLAG HOT WATER BOTTLE</td>\n",
       "      <td>6</td>\n",
       "      <td>2010-12-01 08:26:00</td>\n",
       "      <td>3.39</td>\n",
       "      <td>17850.0</td>\n",
       "      <td>United Kingdom</td>\n",
       "    </tr>\n",
       "    <tr>\n",
       "      <td>4</td>\n",
       "      <td>536365</td>\n",
       "      <td>84029E</td>\n",
       "      <td>RED WOOLLY HOTTIE WHITE HEART.</td>\n",
       "      <td>6</td>\n",
       "      <td>2010-12-01 08:26:00</td>\n",
       "      <td>3.39</td>\n",
       "      <td>17850.0</td>\n",
       "      <td>United Kingdom</td>\n",
       "    </tr>\n",
       "  </tbody>\n",
       "</table>\n",
       "</div>"
      ],
      "text/plain": [
       "  InvoiceNo StockCode                          Description  Quantity  \\\n",
       "0    536365    85123A   WHITE HANGING HEART T-LIGHT HOLDER         6   \n",
       "1    536365     71053                  WHITE METAL LANTERN         6   \n",
       "2    536365    84406B       CREAM CUPID HEARTS COAT HANGER         8   \n",
       "3    536365    84029G  KNITTED UNION FLAG HOT WATER BOTTLE         6   \n",
       "4    536365    84029E       RED WOOLLY HOTTIE WHITE HEART.         6   \n",
       "\n",
       "          InvoiceDate  UnitPrice  CustomerID         Country  \n",
       "0 2010-12-01 08:26:00       2.55     17850.0  United Kingdom  \n",
       "1 2010-12-01 08:26:00       3.39     17850.0  United Kingdom  \n",
       "2 2010-12-01 08:26:00       2.75     17850.0  United Kingdom  \n",
       "3 2010-12-01 08:26:00       3.39     17850.0  United Kingdom  \n",
       "4 2010-12-01 08:26:00       3.39     17850.0  United Kingdom  "
      ]
     },
     "execution_count": 1,
     "metadata": {},
     "output_type": "execute_result"
    }
   ],
   "source": [
    "import pandas as pd\n",
    "import matplotlib.pyplot as plt\n",
    "import numpy as np\n",
    "import scipy.stats as spstats\n",
    "import seaborn as sns\n",
    "\n",
    "raw_df = pd.read_csv(\n",
    "    'q110_data.csv', \n",
    "#     encoding='ISO-8859-1', \n",
    "    parse_dates=['InvoiceDate']\n",
    ")\n",
    "raw_df.head()"
   ]
  },
  {
   "cell_type": "code",
   "execution_count": 2,
   "metadata": {},
   "outputs": [
    {
     "data": {
      "text/html": [
       "<div>\n",
       "<style scoped>\n",
       "    .dataframe tbody tr th:only-of-type {\n",
       "        vertical-align: middle;\n",
       "    }\n",
       "\n",
       "    .dataframe tbody tr th {\n",
       "        vertical-align: top;\n",
       "    }\n",
       "\n",
       "    .dataframe thead th {\n",
       "        text-align: right;\n",
       "    }\n",
       "</style>\n",
       "<table border=\"1\" class=\"dataframe\">\n",
       "  <thead>\n",
       "    <tr style=\"text-align: right;\">\n",
       "      <th></th>\n",
       "      <th>cid</th>\n",
       "      <th>dt</th>\n",
       "      <th>spend</th>\n",
       "    </tr>\n",
       "  </thead>\n",
       "  <tbody>\n",
       "    <tr>\n",
       "      <td>0</td>\n",
       "      <td>12346</td>\n",
       "      <td>2011-01-18</td>\n",
       "      <td>77183.60</td>\n",
       "    </tr>\n",
       "    <tr>\n",
       "      <td>1</td>\n",
       "      <td>12347</td>\n",
       "      <td>2010-12-07</td>\n",
       "      <td>711.79</td>\n",
       "    </tr>\n",
       "    <tr>\n",
       "      <td>2</td>\n",
       "      <td>12348</td>\n",
       "      <td>2010-12-16</td>\n",
       "      <td>892.80</td>\n",
       "    </tr>\n",
       "    <tr>\n",
       "      <td>3</td>\n",
       "      <td>12356</td>\n",
       "      <td>2011-01-18</td>\n",
       "      <td>2271.62</td>\n",
       "    </tr>\n",
       "    <tr>\n",
       "      <td>4</td>\n",
       "      <td>12359</td>\n",
       "      <td>2011-01-12</td>\n",
       "      <td>547.50</td>\n",
       "    </tr>\n",
       "  </tbody>\n",
       "</table>\n",
       "</div>"
      ],
      "text/plain": [
       "     cid          dt     spend\n",
       "0  12346  2011-01-18  77183.60\n",
       "1  12347  2010-12-07    711.79\n",
       "2  12348  2010-12-16    892.80\n",
       "3  12356  2011-01-18   2271.62\n",
       "4  12359  2011-01-12    547.50"
      ]
     },
     "execution_count": 2,
     "metadata": {},
     "output_type": "execute_result"
    }
   ],
   "source": [
    "# same approach as question 107\n",
    "# clean up and build main dataset\n",
    "raw_df['dt'] = raw_df['InvoiceDate'].dt.date\n",
    "raw_df['spend'] = raw_df['Quantity'] * raw_df['UnitPrice']\n",
    "daily_user_spend_df = (\n",
    "    raw_df\n",
    "    .dropna()\n",
    "    .query('spend>0')\n",
    "    .groupby(['CustomerID','dt'])\n",
    "    .agg({'spend':'sum'})\n",
    "    .reset_index()\n",
    "    .rename({'CustomerID':'cid'},axis='columns')\n",
    ")\n",
    "daily_user_spend_df['cid'] = daily_user_spend_df['cid'].astype('int64')\n",
    "daily_user_spend_df.head()\n"
   ]
  },
  {
   "cell_type": "code",
   "execution_count": 3,
   "metadata": {},
   "outputs": [
    {
     "name": "stdout",
     "output_type": "stream",
     "text": [
      "Timeframe is 2010-12-01 to 2011-01-20\n"
     ]
    }
   ],
   "source": [
    "start_dt, end_dt = daily_user_spend_df['dt'].min(), daily_user_spend_df['dt'].max()\n",
    "print(f'Timeframe is {start_dt} to {end_dt}')"
   ]
  },
  {
   "cell_type": "code",
   "execution_count": 4,
   "metadata": {},
   "outputs": [
    {
     "data": {
      "text/html": [
       "<div>\n",
       "<style scoped>\n",
       "    .dataframe tbody tr th:only-of-type {\n",
       "        vertical-align: middle;\n",
       "    }\n",
       "\n",
       "    .dataframe tbody tr th {\n",
       "        vertical-align: top;\n",
       "    }\n",
       "\n",
       "    .dataframe thead th {\n",
       "        text-align: right;\n",
       "    }\n",
       "</style>\n",
       "<table border=\"1\" class=\"dataframe\">\n",
       "  <thead>\n",
       "    <tr style=\"text-align: right;\">\n",
       "      <th></th>\n",
       "      <th>freq_days</th>\n",
       "      <th>spend</th>\n",
       "      <th>freq_norm</th>\n",
       "      <th>rec</th>\n",
       "    </tr>\n",
       "    <tr>\n",
       "      <th>cid</th>\n",
       "      <th></th>\n",
       "      <th></th>\n",
       "      <th></th>\n",
       "      <th></th>\n",
       "    </tr>\n",
       "  </thead>\n",
       "  <tbody>\n",
       "    <tr>\n",
       "      <td>12346</td>\n",
       "      <td>1</td>\n",
       "      <td>77183.60</td>\n",
       "      <td>0.02</td>\n",
       "      <td>0.039216</td>\n",
       "    </tr>\n",
       "    <tr>\n",
       "      <td>12347</td>\n",
       "      <td>1</td>\n",
       "      <td>711.79</td>\n",
       "      <td>0.02</td>\n",
       "      <td>0.862745</td>\n",
       "    </tr>\n",
       "    <tr>\n",
       "      <td>12348</td>\n",
       "      <td>1</td>\n",
       "      <td>892.80</td>\n",
       "      <td>0.02</td>\n",
       "      <td>0.686275</td>\n",
       "    </tr>\n",
       "    <tr>\n",
       "      <td>12356</td>\n",
       "      <td>1</td>\n",
       "      <td>2271.62</td>\n",
       "      <td>0.02</td>\n",
       "      <td>0.039216</td>\n",
       "    </tr>\n",
       "    <tr>\n",
       "      <td>12359</td>\n",
       "      <td>1</td>\n",
       "      <td>547.50</td>\n",
       "      <td>0.02</td>\n",
       "      <td>0.156863</td>\n",
       "    </tr>\n",
       "  </tbody>\n",
       "</table>\n",
       "</div>"
      ],
      "text/plain": [
       "       freq_days     spend  freq_norm       rec\n",
       "cid                                            \n",
       "12346          1  77183.60       0.02  0.039216\n",
       "12347          1    711.79       0.02  0.862745\n",
       "12348          1    892.80       0.02  0.686275\n",
       "12356          1   2271.62       0.02  0.039216\n",
       "12359          1    547.50       0.02  0.156863"
      ]
     },
     "execution_count": 4,
     "metadata": {},
     "output_type": "execute_result"
    }
   ],
   "source": [
    "# timeframe = [start_dt, end_dt]\n",
    "start_dt, end_dt = daily_user_spend_df['dt'].min(), daily_user_spend_df['dt'].max()\n",
    "span_days = (end_dt - start_dt).days # https://stackoverflow.com/a/45039811\n",
    "\n",
    "# rec: recency in [0,1]. 0 means last seen on end_dt, 1 last seen on start_dt. \n",
    "# freq: frequency in [0,1]. number of days seen during period / period length\n",
    "# spend: total spend over whole period\n",
    "rfm_users_df = daily_user_spend_df.groupby('cid').agg({'dt':['max','count'],'spend':'sum'})\n",
    "rfm_users_df.columns = ['last_dt','freq_days','spend'] # change column names\n",
    "# could use [\"_\".join(x) for x in df.columns.ravel()] instead\n",
    "rfm_users_df['freq_norm'] = rfm_users_df['freq_days'] / span_days # in (0,1], 0 is rare\n",
    "# could divide freq by customer lifespan instead\n",
    "rfm_users_df['rec'] = (end_dt - rfm_users_df['last_dt']).dt.days / (span_days+1) # in [0,1), 0 is recent\n",
    "# span_days+1 so a user who showed up only on 2010-12-01 scores <1\n",
    "rfm_users_df.drop(['last_dt'], axis='columns', inplace=True)\n",
    "rfm_users_df.head()\n"
   ]
  },
  {
   "cell_type": "code",
   "execution_count": 5,
   "metadata": {},
   "outputs": [
    {
     "data": {
      "image/png": "[encoded data removed]",
      "text/plain": [
       "<Figure size 432x288 with 1 Axes>"
      ]
     },
     "metadata": {
      "needs_background": "light"
     },
     "output_type": "display_data"
    }
   ],
   "source": [
    "# option 1: frequency_score = quantile.\n",
    "# won't work because 33 percentile and 66th percentile are equal\n",
    "h = rfm_users_df['freq_days'].hist(cumulative=True, density=1, bins=100, histtype='step', linewidth=3) # x=freq, y=cdf\n",
    "# rfm_users_df['freq_score_1'] = pd.qcut(rfm_users_df['freq'],3,labels=[1,2,3]) # 3 means frequent\n",
    "# rfm_users_df['freq_score_1'].hist()"
   ]
  },
  {
   "cell_type": "code",
   "execution_count": 6,
   "metadata": {},
   "outputs": [
    {
     "data": {
      "text/plain": [
       "<matplotlib.axes._subplots.AxesSubplot at 0x2ad89b45408>"
      ]
     },
     "execution_count": 6,
     "metadata": {},
     "output_type": "execute_result"
    },
    {
     "data": {
      "image/png": "[encoded data removed]",
      "text/plain": [
       "<Figure size 432x288 with 1 Axes>"
      ]
     },
     "metadata": {
      "needs_background": "light"
     },
     "output_type": "display_data"
    }
   ],
   "source": [
    "# option 2: rank of bin, when binning into 3 even segments of frequency\n",
    "# kind of meh: the graph above shows no one will be in the most-recent bucket \n",
    "rfm_users_df['freq_score_2'] = pd.cut(rfm_users_df['freq_days'],3,labels=[1,2,3]) # 3 means recent\n",
    "rfm_users_df['freq_score_2'].hist()"
   ]
  },
  {
   "cell_type": "code",
   "execution_count": 7,
   "metadata": {},
   "outputs": [
    {
     "data": {
      "text/plain": [
       "<matplotlib.axes._subplots.AxesSubplot at 0x2ad8a2e89c8>"
      ]
     },
     "execution_count": 7,
     "metadata": {},
     "output_type": "execute_result"
    },
    {
     "data": {
      "image/png": "[encoded data removed]",
      "text/plain": [
       "<Figure size 432x288 with 1 Axes>"
      ]
     },
     "metadata": {
      "needs_background": "light"
     },
     "output_type": "display_data"
    }
   ],
   "source": [
    "# option 3: custom formula based on CDF\n",
    "# purchased once = 1,\n",
    "# purchased 2-3 times = 2,\n",
    "# purchased 4+ times = 3\n",
    "\n",
    "rule_set = {\n",
    "    1: (rfm_users_df['freq_days'] == 1),\n",
    "    2: (rfm_users_df['freq_days'] >= 2) & (rfm_users_df['freq_days'] <= 3),\n",
    "    3: (rfm_users_df['freq_days'] >= 4),\n",
    "}\n",
    "rfm_users_df['freq_score_3'] = np.select(\n",
    "    list(rule_set.values()), \n",
    "    list(rule_set.keys()),\n",
    "    default=1\n",
    ")\n",
    "\n",
    "rfm_users_df['freq_score_3'].hist()\n"
   ]
  },
  {
   "cell_type": "code",
   "execution_count": 8,
   "metadata": {},
   "outputs": [
    {
     "data": {
      "text/plain": [
       "<matplotlib.axes._subplots.AxesSubplot at 0x2ad8a370488>"
      ]
     },
     "execution_count": 8,
     "metadata": {},
     "output_type": "execute_result"
    },
    {
     "data": {
      "image/png": "[encoded data removed]",
      "text/plain": [
       "<Figure size 432x288 with 1 Axes>"
      ]
     },
     "metadata": {
      "needs_background": "light"
     },
     "output_type": "display_data"
    }
   ],
   "source": [
    "# add recency score\n",
    "# option 3: recency_score = round( 3 * (2^(1-rec)-1) ). \n",
    "# rationale: 1-rec so 0 means ancient, 1 means recent\n",
    "# 2^x-1 makes a 1-day difference between recencies of 1d and 2d bigger, \n",
    "# and between 90d and 91d negligible.\n",
    "# 2^x-1 is valid because it's a bijection from [0,1] to [0,1]\n",
    "rfm_users_df['rec_score_3'] = np.ceil(3* (2**(1-rfm_users_df['rec'])-1)).astype(int)\n",
    "rfm_users_df['rec_score_3'].hist()\n"
   ]
  },
  {
   "cell_type": "code",
   "execution_count": 9,
   "metadata": {},
   "outputs": [
    {
     "data": {
      "text/html": [
       "<div>\n",
       "<style scoped>\n",
       "    .dataframe tbody tr th:only-of-type {\n",
       "        vertical-align: middle;\n",
       "    }\n",
       "\n",
       "    .dataframe tbody tr th {\n",
       "        vertical-align: top;\n",
       "    }\n",
       "\n",
       "    .dataframe thead th {\n",
       "        text-align: right;\n",
       "    }\n",
       "</style>\n",
       "<table border=\"1\" class=\"dataframe\">\n",
       "  <thead>\n",
       "    <tr style=\"text-align: right;\">\n",
       "      <th>freq_score_3</th>\n",
       "      <th>1</th>\n",
       "      <th>2</th>\n",
       "      <th>3</th>\n",
       "    </tr>\n",
       "    <tr>\n",
       "      <th>rec_score_3</th>\n",
       "      <th></th>\n",
       "      <th></th>\n",
       "      <th></th>\n",
       "    </tr>\n",
       "  </thead>\n",
       "  <tbody>\n",
       "    <tr>\n",
       "      <td>1</td>\n",
       "      <td>525</td>\n",
       "      <td>107</td>\n",
       "      <td>3</td>\n",
       "    </tr>\n",
       "    <tr>\n",
       "      <td>2</td>\n",
       "      <td>53</td>\n",
       "      <td>45</td>\n",
       "      <td>4</td>\n",
       "    </tr>\n",
       "    <tr>\n",
       "      <td>3</td>\n",
       "      <td>201</td>\n",
       "      <td>147</td>\n",
       "      <td>54</td>\n",
       "    </tr>\n",
       "  </tbody>\n",
       "</table>\n",
       "</div>"
      ],
      "text/plain": [
       "freq_score_3    1    2   3\n",
       "rec_score_3               \n",
       "1             525  107   3\n",
       "2              53   45   4\n",
       "3             201  147  54"
      ]
     },
     "execution_count": 9,
     "metadata": {},
     "output_type": "execute_result"
    }
   ],
   "source": [
    "pd.crosstab(rfm_users_df['rec_score_3'],rfm_users_df['freq_score_3'])\n",
    "# there are 54 high-recency and high-frequency customers!"
   ]
  },
  {
   "cell_type": "code",
   "execution_count": null,
   "metadata": {},
   "outputs": [],
   "source": []
  }
 ],
 "metadata": {
  "kernelspec": {
   "display_name": "Python 3",
   "language": "python",
   "name": "python3"
  },
  "language_info": {
   "codemirror_mode": {
    "name": "ipython",
    "version": 3
   },
   "file_extension": ".py",
   "mimetype": "text/x-python",
   "name": "python",
   "nbconvert_exporter": "python",
   "pygments_lexer": "ipython3",
   "version": "3.7.4"
  }
 },
 "nbformat": 4,
 "nbformat_minor": 2
}
