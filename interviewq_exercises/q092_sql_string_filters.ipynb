{
 "cells": [
  {
   "cell_type": "markdown",
   "metadata": {},
   "source": [
    "# Question 92 - SQL patterns\n",
    "\n",
    "Suppose you're given the following table, called 'employees':\n",
    "```\n",
    "name \t\tjob_role\n",
    "John \t\tAnalyst\n",
    "Harry \t\tAdministrative Business Partner\n",
    "Sam \t\tSoftware Engineer\n",
    "Tina \t\tAnalyst\n",
    "```\n",
    "\n",
    "To test your SQL skills, create a query that returns the name and job_role of each individual who has either a name that contains the letter 'a' or a job role that ends in the letters 'er'."
   ]
  },
  {
   "cell_type": "markdown",
   "metadata": {},
   "source": [
    "```sql\n",
    "select \n",
    "    name,\n",
    "    job_role\n",
    "from employees \n",
    "where right(job_role,2) = 'er'\n",
    "  and name like '%a%'\n",
    "\n",
    "```"
   ]
  }
 ],
 "metadata": {
  "kernelspec": {
   "display_name": "Python 3",
   "language": "python",
   "name": "python3"
  },
  "language_info": {
   "codemirror_mode": {
    "name": "ipython",
    "version": 3
   },
   "file_extension": ".py",
   "mimetype": "text/x-python",
   "name": "python",
   "nbconvert_exporter": "python",
   "pygments_lexer": "ipython3",
   "version": "3.6.5"
  }
 },
 "nbformat": 4,
 "nbformat_minor": 2
}
