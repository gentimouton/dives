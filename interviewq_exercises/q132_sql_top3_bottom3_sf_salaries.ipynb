{
 "cells": [
  {
   "cell_type": "markdown",
   "metadata": {},
   "source": [
    "# Querying San Francisco Public Worker Salary\n",
    "SQL Database Querying External Dataset\n",
    "\n",
    "You have the following dataset containing salaries for public workers of San Francisco, CA. Let's assume this data is in a table called sf_salaries.\n",
    "\n",
    "Can you write a SQL query to find the top 3 highest paid and bottom 3 lowest paid job titles?\n",
    "```\n",
    "Column Name \tColumn Type \tShort description\n",
    "Id \tint \tThe primary key of this table.\n",
    "EmployeeName \tstring \tThe full name of the employee.\n",
    "JobTitle \tstring \tThe title of the job the person does.\n",
    "BasePay \tdouble \tThe base amount of money the employee earns per year.\n",
    "OvertimePay \tdouble \tThe amount of money earned for the whole year for work done overtime.\n",
    "OtherPay \tstring \tExtra money coming from other activities.\n",
    "Benefits \tstring \t{incomplete data}\n",
    "Totalpay \tdouble \tThe total without benefits.\n",
    "TotalPayBenefits \tdouble \tTotal pay with benefits.\n",
    "Year \tint \tThe year when the money was paid out.\n",
    "Notes \tstring \t{incomplete data}\n",
    "Agency \tstring \tAlways is 'San Francisco'.\n",
    "Status \tstring \t{incomplete data}\n",
    "```"
   ]
  },
  {
   "cell_type": "markdown",
   "metadata": {},
   "source": [
    "```sql\n",
    "with avg_pay as (\n",
    "select\n",
    "    job_title,\n",
    "    avg(BasePay + OvertimePay + OtherPay) as avg_pay,\n",
    "    rank() over(order by avg_pay asc) as pay_rank,\n",
    "    rank() over(order by avg_pay desc) as pay_rank_inverse    \n",
    "from sf_salaries s\n",
    "where year = 2019 -- exclude old job titles, to control for inflation and title deprecations\n",
    "group by 1\n",
    ")\n",
    "\n",
    "select \n",
    "    job_title,\n",
    "    avg_pay,\n",
    "    pay_rank\n",
    "from avg_pay \n",
    "where pay_rank <= 3 \n",
    "    or pay_rank_inverse <= 3\n",
    "order by avg_pay desc\n",
    "```"
   ]
  },
  {
   "cell_type": "code",
   "execution_count": null,
   "metadata": {},
   "outputs": [],
   "source": []
  }
 ],
 "metadata": {
  "kernelspec": {
   "display_name": "Python 3",
   "language": "python",
   "name": "python3"
  },
  "language_info": {
   "codemirror_mode": {
    "name": "ipython",
    "version": 3
   },
   "file_extension": ".py",
   "mimetype": "text/x-python",
   "name": "python",
   "nbconvert_exporter": "python",
   "pygments_lexer": "ipython3",
   "version": "3.7.4"
  }
 },
 "nbformat": 4,
 "nbformat_minor": 2
}
