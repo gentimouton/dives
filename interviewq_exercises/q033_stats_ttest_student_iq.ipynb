{
 "cells": [
  {
   "cell_type": "markdown",
   "metadata": {},
   "source": [
    "# Question 33 - Testing a claim around student intelligence\n",
    "\n",
    "Suppose you're consulting for a school district, and the head of the school district thinks the students have above average intelligence. A random sample of thirty students have a mean IQ score of 112. Is there sufficient evidence to support the head's claim?\n",
    "\n",
    "You can assume the mean IQ score across the population of all students (e.g. including students outside the head's school district) is 100, with a standard deviation of 15. "
   ]
  },
  {
   "cell_type": "code",
   "execution_count": 1,
   "metadata": {},
   "outputs": [
    {
     "name": "stdout",
     "output_type": "stream",
     "text": [
      "0.00017231732326328242\n"
     ]
    }
   ],
   "source": [
    "from scipy import stats\n",
    "import numpy as np\n",
    "\n",
    "mu_school = 112\n",
    "mu_base = 100\n",
    "sd_base = 15 \n",
    "n = 30\n",
    "\n",
    "delta = mu_school - mu_base\n",
    "df = n-1 # n-1 degrees of freedom for unbiased estimator\n",
    "se = sd_base / np.sqrt(df) # assume sample has same variance as pop\n",
    "\n",
    "t = delta / se\n",
    "p = (1 - stats.t.cdf(t, df))*2 # x2 for 2-sided\n",
    "print(p)"
   ]
  },
  {
   "cell_type": "code",
   "execution_count": null,
   "metadata": {},
   "outputs": [],
   "source": []
  }
 ],
 "metadata": {
  "kernelspec": {
   "display_name": "Python 3",
   "language": "python",
   "name": "python3"
  },
  "language_info": {
   "codemirror_mode": {
    "name": "ipython",
    "version": 3
   },
   "file_extension": ".py",
   "mimetype": "text/x-python",
   "name": "python",
   "nbconvert_exporter": "python",
   "pygments_lexer": "ipython3",
   "version": "3.6.5"
  }
 },
 "nbformat": 4,
 "nbformat_minor": 2
}
