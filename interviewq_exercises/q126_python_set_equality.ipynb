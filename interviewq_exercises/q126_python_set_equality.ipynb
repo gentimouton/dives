{
 "cells": [
  {
   "cell_type": "markdown",
   "metadata": {},
   "source": [
    "# Check whether two arrays are equal\n",
    "Python Data Structures Arrays\n",
    "\n",
    "Given two arrays, write a function in vanilla Python (e.g., no libraries) to check whether or not the arrays are equal. You can consider the two arrays equal if both of them contain the same set of elements - the order of elements can differ.\n",
    "\n",
    "For example:\n",
    "```\n",
    "#Given the following:\n",
    "arr1 = [1,5,6,7,8,0]\n",
    "arr2 = [0,5,7,6,8,1]\n",
    "\n",
    "#output = Yes\n",
    "arr3 = [1,5,6,7,8,0]\n",
    "```"
   ]
  },
  {
   "cell_type": "code",
   "execution_count": 1,
   "metadata": {},
   "outputs": [],
   "source": [
    "def array_equal(arr1:list, arr2:list):\n",
    "    \"\"\" test for equality of 2 lists, order can differ \"\"\"\n",
    "    return set(arr1) == set(arr2)\n",
    "\n",
    "def test_array_equal(f):\n",
    "    f([1,2,3], [2,3,1]) == True\n",
    "    f([1,2,3,4], [2,3,1]) == False\n",
    "    f([], []) == True\n",
    "\n",
    "test_array_equal(array_equal)"
   ]
  },
  {
   "cell_type": "code",
   "execution_count": null,
   "metadata": {},
   "outputs": [],
   "source": []
  }
 ],
 "metadata": {
  "kernelspec": {
   "display_name": "Python 3",
   "language": "python",
   "name": "python3"
  },
  "language_info": {
   "codemirror_mode": {
    "name": "ipython",
    "version": 3
   },
   "file_extension": ".py",
   "mimetype": "text/x-python",
   "name": "python",
   "nbconvert_exporter": "python",
   "pygments_lexer": "ipython3",
   "version": "3.7.4"
  }
 },
 "nbformat": 4,
 "nbformat_minor": 2
}
