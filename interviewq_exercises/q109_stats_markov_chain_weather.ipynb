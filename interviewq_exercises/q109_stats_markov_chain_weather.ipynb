{
 "cells": [
  {
   "cell_type": "markdown",
   "metadata": {},
   "source": [
    "# Question 109 - Weather forecasting, a Markov Chain problem\n",
    "Statistics Markov Chain\n",
    "\n",
    "In a particular area, there are 2 types of weather: sunny and rainy. The following is observed across a couple year period.\n",
    "\n",
    "-    The probability of weather staying sunny the following week is 80%.\n",
    "-    The probability of the weather changing from sunny to rainy is 20%.\n",
    "-    The probability of the weather staying rainy from the following week is 70%.\n",
    "-    The probability of weather changing from rainy to sunny over a week is 30%. \n",
    "\n",
    "Given this information, can you create a transition matrix and calculate the steady state vector?\n",
    "\n",
    "If you need a refresher, here is a resource on [Markov Chains](https://en.wikipedia.org/wiki/Markov_chain)."
   ]
  },
  {
   "cell_type": "markdown",
   "metadata": {},
   "source": [
    "```\n",
    "transitions = [ \n",
    "    [.8, .2], \n",
    "    [.3, .7] \n",
    "]\n",
    "```\n",
    "\n",
    "3 equations with 3 unknowns:\n",
    "```\n",
    "a = .8 * a + .3 * b\n",
    "b = .2 * a + .7 * b\n",
    "a + b = 1\n",
    "```\n",
    "\n",
    "The first line gives .2 a = .3 b, or a = 3/2 b.\n",
    "The third line gives 5/2 b = 1, or b = 2/5. \n",
    "Therefore a = 3/5 and b = 2/5.\n",
    "\n",
    "The steady state is 60% chance of sun, 40% chance of rain.\n"
   ]
  },
  {
   "cell_type": "code",
   "execution_count": null,
   "metadata": {},
   "outputs": [],
   "source": []
  }
 ],
 "metadata": {
  "kernelspec": {
   "display_name": "Python 3",
   "language": "python",
   "name": "python3"
  },
  "language_info": {
   "codemirror_mode": {
    "name": "ipython",
    "version": 3
   },
   "file_extension": ".py",
   "mimetype": "text/x-python",
   "name": "python",
   "nbconvert_exporter": "python",
   "pygments_lexer": "ipython3",
   "version": "3.7.4"
  }
 },
 "nbformat": 4,
 "nbformat_minor": 2
}
